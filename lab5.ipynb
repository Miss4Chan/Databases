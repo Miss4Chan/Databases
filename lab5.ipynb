{
    "metadata": {
        "kernelspec": {
            "name": "SQL",
            "display_name": "SQL",
            "language": "sql"
        },
        "language_info": {
            "name": "sql",
            "version": ""
        }
    },
    "nbformat_minor": 2,
    "nbformat": 4,
    "cells": [
        {
            "cell_type": "code",
            "source": [
                "use WideWorldImporters"
            ],
            "metadata": {
                "azdata_cell_guid": "38b39c66-0a5b-4b70-8088-fd2ab7f11773",
                "language": "sql"
            },
            "outputs": [
                {
                    "output_type": "display_data",
                    "data": {
                        "text/html": "Commands completed successfully."
                    },
                    "metadata": {}
                },
                {
                    "output_type": "display_data",
                    "data": {
                        "text/html": "Total execution time: 00:00:00.004"
                    },
                    "metadata": {}
                }
            ],
            "execution_count": 5
        },
        {
            "cell_type": "code",
            "source": [
                "--Find the Customers whose PostalCity=’New York’ (or any city of your choice) and that have the \n",
                "--same number of CustomerTransactions and StockItemTransactions.\n",
                "--bestie ne postoi new york u bazava hahahahahha\n",
                "SELECT *\n",
                "from Sales.Customers cust join Application.Cities c on cust.PostalCityID=c.CityID\n",
                "where c.CityName ='Golf View' and (select COUNT(*) from Warehouse.StockItemTransactions t) = (select COUNT(*) from Sales.CustomerTransactions t)"
            ],
            "metadata": {
                "azdata_cell_guid": "2cc285c0-573c-4082-b319-2b5638292d18",
                "language": "sql",
                "tags": []
            },
            "outputs": [
                {
                    "output_type": "display_data",
                    "data": {
                        "text/html": "(0 rows affected)"
                    },
                    "metadata": {}
                },
                {
                    "output_type": "display_data",
                    "data": {
                        "text/html": "Total execution time: 00:00:00.141"
                    },
                    "metadata": {}
                },
                {
                    "output_type": "execute_result",
                    "execution_count": 23,
                    "data": {
                        "application/vnd.dataresource+json": {
                            "schema": {
                                "fields": [
                                    {
                                        "name": "CustomerID"
                                    },
                                    {
                                        "name": "CustomerName"
                                    },
                                    {
                                        "name": "BillToCustomerID"
                                    },
                                    {
                                        "name": "CustomerCategoryID"
                                    },
                                    {
                                        "name": "BuyingGroupID"
                                    },
                                    {
                                        "name": "PrimaryContactPersonID"
                                    },
                                    {
                                        "name": "AlternateContactPersonID"
                                    },
                                    {
                                        "name": "DeliveryMethodID"
                                    },
                                    {
                                        "name": "DeliveryCityID"
                                    },
                                    {
                                        "name": "PostalCityID"
                                    },
                                    {
                                        "name": "CreditLimit"
                                    },
                                    {
                                        "name": "AccountOpenedDate"
                                    },
                                    {
                                        "name": "StandardDiscountPercentage"
                                    },
                                    {
                                        "name": "IsStatementSent"
                                    },
                                    {
                                        "name": "IsOnCreditHold"
                                    },
                                    {
                                        "name": "PaymentDays"
                                    },
                                    {
                                        "name": "PhoneNumber"
                                    },
                                    {
                                        "name": "FaxNumber"
                                    },
                                    {
                                        "name": "DeliveryRun"
                                    },
                                    {
                                        "name": "RunPosition"
                                    },
                                    {
                                        "name": "WebsiteURL"
                                    },
                                    {
                                        "name": "DeliveryAddressLine1"
                                    },
                                    {
                                        "name": "DeliveryAddressLine2"
                                    },
                                    {
                                        "name": "DeliveryPostalCode"
                                    },
                                    {
                                        "name": "DeliveryLocation"
                                    },
                                    {
                                        "name": "PostalAddressLine1"
                                    },
                                    {
                                        "name": "PostalAddressLine2"
                                    },
                                    {
                                        "name": "PostalPostalCode"
                                    },
                                    {
                                        "name": "LastEditedBy"
                                    },
                                    {
                                        "name": "ValidFrom"
                                    },
                                    {
                                        "name": "ValidTo"
                                    },
                                    {
                                        "name": "CityID"
                                    },
                                    {
                                        "name": "CityName"
                                    },
                                    {
                                        "name": "StateProvinceID"
                                    },
                                    {
                                        "name": "Location"
                                    },
                                    {
                                        "name": "LatestRecordedPopulation"
                                    },
                                    {
                                        "name": "LastEditedBy"
                                    },
                                    {
                                        "name": "ValidFrom"
                                    },
                                    {
                                        "name": "ValidTo"
                                    }
                                ]
                            },
                            "data": []
                        },
                        "text/html": "<table><tr><th>CustomerID</th><th>CustomerName</th><th>BillToCustomerID</th><th>CustomerCategoryID</th><th>BuyingGroupID</th><th>PrimaryContactPersonID</th><th>AlternateContactPersonID</th><th>DeliveryMethodID</th><th>DeliveryCityID</th><th>PostalCityID</th><th>CreditLimit</th><th>AccountOpenedDate</th><th>StandardDiscountPercentage</th><th>IsStatementSent</th><th>IsOnCreditHold</th><th>PaymentDays</th><th>PhoneNumber</th><th>FaxNumber</th><th>DeliveryRun</th><th>RunPosition</th><th>WebsiteURL</th><th>DeliveryAddressLine1</th><th>DeliveryAddressLine2</th><th>DeliveryPostalCode</th><th>DeliveryLocation</th><th>PostalAddressLine1</th><th>PostalAddressLine2</th><th>PostalPostalCode</th><th>LastEditedBy</th><th>ValidFrom</th><th>ValidTo</th><th>CityID</th><th>CityName</th><th>StateProvinceID</th><th>Location</th><th>LatestRecordedPopulation</th><th>LastEditedBy</th><th>ValidFrom</th><th>ValidTo</th></tr></table>"
                    },
                    "metadata": {}
                }
            ],
            "execution_count": 23
        },
        {
            "cell_type": "code",
            "source": [
                "--Find the customers that haven’t had an order with DeliveryMethod=” FedEx” (or any delivery\n",
                "--method of your choice).\n",
                "select cust.CustomerName\n",
                "from Sales.Invoices i join Application.DeliveryMethods dm on i.DeliveryMethodID = dm.DeliveryMethodID and dm.DeliveryMethodName= 'FedEx'\n",
                "right join Sales.Customers cust on i.CustomerID=cust.CustomerID\n",
                "where i.InvoiceID is null"
            ],
            "metadata": {
                "azdata_cell_guid": "3fc0afc1-8d44-40d2-ac09-3d62436cd352",
                "language": "sql",
                "tags": []
            },
            "outputs": [
                {
                    "output_type": "display_data",
                    "data": {
                        "text/html": "(663 rows affected)"
                    },
                    "metadata": {}
                },
                {
                    "output_type": "display_data",
                    "data": {
                        "text/html": "Total execution time: 00:00:00.101"
                    },
                    "metadata": {}
                },
                {
                    "output_type": "execute_result",
                    "execution_count": 16,
                    "data": {
                        "application/vnd.dataresource+json": {
                            "schema": {
                                "fields": [
                                    {
                                        "name": "CustomerName"
                                    }
                                ]
                            },
                            "data": [
                                {
                                    "0": "Wingtip Toys (Cuyamungue, NM)"
                                },
                                {
                                    "0": "Can ozcan"
                                },
                                {
                                    "0": "Tailspin Toys (Ikatan, AK)"
                                },
                                {
                                    "0": "Wingtip Toys (Flomaton, AL)"
                                },
                                {
                                    "0": "Kamila Michnova"
                                },
                                {
                                    "0": "Tailspin Toys (Jemison, AL)"
                                },
                                {
                                    "0": "Wingtip Toys (Chaseley, ND)"
                                },
                                {
                                    "0": "Jitka Necesana"
                                },
                                {
                                    "0": "Nguyen Banh"
                                },
                                {
                                    "0": "Tailspin Toys (Lytle Creek, CA)"
                                },
                                {
                                    "0": "Tailspin Toys (Optimo, NM)"
                                },
                                {
                                    "0": "Wingtip Toys (Head Office)"
                                },
                                {
                                    "0": "Wingtip Toys (Cloquet, MN)"
                                },
                                {
                                    "0": "Satish Mittal"
                                },
                                {
                                    "0": "Tailspin Toys (Sans Souci, SC)"
                                },
                                {
                                    "0": "Wingtip Toys (Lost River, ID)"
                                },
                                {
                                    "0": "Wingtip Toys (Cavendish, VT)"
                                },
                                {
                                    "0": "Tailspin Toys (Bethania, NC)"
                                },
                                {
                                    "0": "Tailspin Toys (Navassa, NC)"
                                },
                                {
                                    "0": "Cosmina Vlad"
                                },
                                {
                                    "0": "Dhanishta Mokkapati"
                                },
                                {
                                    "0": "Abhra Ganguly"
                                },
                                {
                                    "0": "Tailspin Toys (Aspen Park, CO)"
                                },
                                {
                                    "0": "Wingtip Toys (Mooringsport, LA)"
                                },
                                {
                                    "0": "Jayanta Thakur"
                                },
                                {
                                    "0": "Richard Zahradnicek"
                                },
                                {
                                    "0": "Kertu Sokk"
                                },
                                {
                                    "0": "Stefan Selezeanu"
                                },
                                {
                                    "0": "Tailspin Toys (Eulaton, AL)"
                                },
                                {
                                    "0": "Wingtip Toys (Tilleda, WI)"
                                },
                                {
                                    "0": "Wingtip Toys (Goodings Grove, IL)"
                                },
                                {
                                    "0": "Sumati Bhat"
                                },
                                {
                                    "0": "Phoung Cu"
                                },
                                {
                                    "0": "Tailspin Toys (Sinclair, WY)"
                                },
                                {
                                    "0": "Tailspin Toys (San Acacia, NM)"
                                },
                                {
                                    "0": "Wingtip Toys (Yaak, MT)"
                                },
                                {
                                    "0": "Wingtip Toys (Heartwell, NE)"
                                },
                                {
                                    "0": "Rajeev Sandhu"
                                },
                                {
                                    "0": "Harsha Huq"
                                },
                                {
                                    "0": "Wingtip Toys (Universal City, TX)"
                                },
                                {
                                    "0": "Tailspin Toys (Windsor Locks, CT)"
                                },
                                {
                                    "0": "Lana Goransson"
                                },
                                {
                                    "0": "Biju Deb"
                                },
                                {
                                    "0": "Tailspin Toys (Skyway, WA)"
                                },
                                {
                                    "0": "Bijoya Thakur"
                                },
                                {
                                    "0": "Tailspin Toys (Minidoka, ID)"
                                },
                                {
                                    "0": "Wingtip Toys (Glen Ullin, ND)"
                                },
                                {
                                    "0": "Emma Salpa"
                                },
                                {
                                    "0": "Wingtip Toys (Lucasville, OH)"
                                },
                                {
                                    "0": "Wingtip Toys (Elverson, PA)"
                                },
                                {
                                    "0": "Tailspin Toys (Netcong, NJ)"
                                },
                                {
                                    "0": "Tailspin Toys (Batson, TX)"
                                },
                                {
                                    "0": "Tailspin Toys (Heilwood, PA)"
                                },
                                {
                                    "0": "Wingtip Toys (Downingtown, PA)"
                                },
                                {
                                    "0": "Tailspin Toys (South Laguna, CA)"
                                },
                                {
                                    "0": "Tailspin Toys (Donner, LA)"
                                },
                                {
                                    "0": "Suparna Bhattacharya"
                                },
                                {
                                    "0": "Wingtip Toys (Coker, AL)"
                                },
                                {
                                    "0": "Wingtip Toys (Morita, TX)"
                                },
                                {
                                    "0": "Wingtip Toys (White Church, MO)"
                                },
                                {
                                    "0": "Wingtip Toys (East Mountain, TX)"
                                },
                                {
                                    "0": "Tailspin Toys (Victory Gardens, NJ)"
                                },
                                {
                                    "0": "Wingtip Toys (Plata, TX)"
                                },
                                {
                                    "0": "Abel Spirlea"
                                },
                                {
                                    "0": "Alvin Bollinger"
                                },
                                {
                                    "0": "Tailspin Toys (Lesslie, SC)"
                                },
                                {
                                    "0": "Wingtip Toys (Morrison Bluff, AR)"
                                },
                                {
                                    "0": "Chaayaadaevi Sonti"
                                },
                                {
                                    "0": "Melani Ravlen"
                                },
                                {
                                    "0": "Valter Viiding"
                                },
                                {
                                    "0": "Emma Van Zant"
                                },
                                {
                                    "0": "Tailspin Toys (Peeples Valley, AZ)"
                                },
                                {
                                    "0": "Tailspin Toys (Belgreen, AL)"
                                },
                                {
                                    "0": "Tailspin Toys (Sun River, MT)"
                                },
                                {
                                    "0": "Tailspin Toys (Idria, CA)"
                                },
                                {
                                    "0": "Wingtip Toys (Broomtown, AL)"
                                },
                                {
                                    "0": "Chandrashekhar Dasgupta"
                                },
                                {
                                    "0": "Wingtip Toys (Tea, SD)"
                                },
                                {
                                    "0": "Wingtip Toys (Federalsburg, MD)"
                                },
                                {
                                    "0": "Roko Ilic"
                                },
                                {
                                    "0": "Aishwarya Dantuluri"
                                },
                                {
                                    "0": "Tailspin Toys (Lavon, TX)"
                                },
                                {
                                    "0": "Wingtip Toys (Athol Springs, NY)"
                                },
                                {
                                    "0": "Tailspin Toys (Cortaro, AZ)"
                                },
                                {
                                    "0": "Tailspin Toys (Wilkes-Barre, PA)"
                                },
                                {
                                    "0": "Wingtip Toys (Penns Creek, PA)"
                                },
                                {
                                    "0": "Wingtip Toys (Robertsdale, AL)"
                                },
                                {
                                    "0": "Wingtip Toys (Floriston, CA)"
                                },
                                {
                                    "0": "Ratan Poddar"
                                },
                                {
                                    "0": "Tailspin Toys (Vassalboro, ME)"
                                },
                                {
                                    "0": "Wingtip Toys (Mount Summit, IN)"
                                },
                                {
                                    "0": "Sumati Chatterjee"
                                },
                                {
                                    "0": "Arijit Bhuiyan"
                                },
                                {
                                    "0": "Kristi Part"
                                },
                                {
                                    "0": "Hoc Tran"
                                },
                                {
                                    "0": "Eliza Persson"
                                },
                                {
                                    "0": "Marie LeBatelier"
                                },
                                {
                                    "0": "Matteo Cattaneo"
                                },
                                {
                                    "0": "Chin-Sun Chang"
                                },
                                {
                                    "0": "Nadir Seddigh"
                                },
                                {
                                    "0": "Tailspin Toys (Madrone, NM)"
                                },
                                {
                                    "0": "Wingtip Toys (Highland Home, AL)"
                                },
                                {
                                    "0": "Narendra Tickoo"
                                },
                                {
                                    "0": "Tailspin Toys (Madaket, MA)"
                                },
                                {
                                    "0": "Tailspin Toys (Sekiu, WA)"
                                },
                                {
                                    "0": "Wingtip Toys (Bernstein, TX)"
                                },
                                {
                                    "0": "Wingtip Toys (Islip Terrace, NY)"
                                },
                                {
                                    "0": "Shah Alizadeh"
                                },
                                {
                                    "0": "Anca Gogean"
                                },
                                {
                                    "0": "Sylvie Laramee"
                                },
                                {
                                    "0": "Tailspin Toys (Maypearl, TX)"
                                },
                                {
                                    "0": "Wingtip Toys (Marin City, CA)"
                                },
                                {
                                    "0": "Sara Huiting"
                                },
                                {
                                    "0": "Wingtip Toys (Straughn, IN)"
                                },
                                {
                                    "0": "Pinja Jantunen"
                                },
                                {
                                    "0": "Bhadram Kamasamudram"
                                },
                                {
                                    "0": "Tailspin Toys (Francis Mills, NJ)"
                                },
                                {
                                    "0": "Wingtip Toys (Mahaffey, PA)"
                                },
                                {
                                    "0": "Dhaatri Chavva"
                                },
                                {
                                    "0": "Bhagavati Vinjamuri"
                                },
                                {
                                    "0": "Tailspin Toys (Hedrick, IA)"
                                },
                                {
                                    "0": "Wingtip Toys (Jeromesville, OH)"
                                },
                                {
                                    "0": "Shyam Poddar"
                                },
                                {
                                    "0": "Tailspin Toys (Biscay, MN)"
                                },
                                {
                                    "0": "Tailspin Toys (Armstrong Creek, WI)"
                                },
                                {
                                    "0": "Wingtip Toys (Grabill, IN)"
                                },
                                {
                                    "0": "Vedrana Kovacevic"
                                },
                                {
                                    "0": "Tailspin Toys (Slanesville, WV)"
                                },
                                {
                                    "0": "Wingtip Toys (Nichols Hills, OK)"
                                },
                                {
                                    "0": "Dipti Shah"
                                },
                                {
                                    "0": "Tailspin Toys (Mineral Hills, MI)"
                                },
                                {
                                    "0": "Wingtip Toys (Vair, TX)"
                                },
                                {
                                    "0": "Tailspin Toys (Tumacacori, AZ)"
                                },
                                {
                                    "0": "Tailspin Toys (Arbor Vitae, WI)"
                                },
                                {
                                    "0": "Santiago Vera"
                                },
                                {
                                    "0": "Laura Sykorova"
                                },
                                {
                                    "0": "Tailspin Toys (New Lexington, OH)"
                                },
                                {
                                    "0": "Wingtip Toys (Cache, OK)"
                                },
                                {
                                    "0": "Emilie Hrdlickova"
                                },
                                {
                                    "0": "Wingtip Toys (Mauldin, SC)"
                                },
                                {
                                    "0": "Tailspin Toys (Terre du Lac, MO)"
                                },
                                {
                                    "0": "Wingtip Toys (Helotes, TX)"
                                },
                                {
                                    "0": "Tailspin Toys (Stallion Springs, CA)"
                                },
                                {
                                    "0": "Tailspin Toys (Sallyards, KS)"
                                },
                                {
                                    "0": "Tailspin Toys (Jessie, ND)"
                                },
                                {
                                    "0": "Wingtip Toys (Cape Neddick, ME)"
                                },
                                {
                                    "0": "Nada Jovanovic"
                                },
                                {
                                    "0": "Leonardo Folliero"
                                },
                                {
                                    "0": "Tuulikki Linna"
                                },
                                {
                                    "0": "Tailspin Toys (Upper Preston, WA)"
                                },
                                {
                                    "0": "Tailspin Toys (Gum Branch, GA)"
                                },
                                {
                                    "0": "Maryann Huddleston"
                                },
                                {
                                    "0": "Tailspin Toys (El Centro, CA)"
                                },
                                {
                                    "0": "Wingtip Toys (McAdenville, NC)"
                                },
                                {
                                    "0": "Wingtip Toys (Cos Cob, CT)"
                                },
                                {
                                    "0": "Devraj Rao"
                                },
                                {
                                    "0": "Juan Morse"
                                },
                                {
                                    "0": "Wingtip Toys (Keosauqua, IA)"
                                },
                                {
                                    "0": "Wingtip Toys (Coin, IA)"
                                },
                                {
                                    "0": "Wingtip Toys (Beals, ME)"
                                },
                                {
                                    "0": "Ioana Florea"
                                },
                                {
                                    "0": "Yves Belisle"
                                },
                                {
                                    "0": "Maksims Krastins"
                                },
                                {
                                    "0": "Tailspin Toys (Muir, MI)"
                                },
                                {
                                    "0": "Jai Lamble"
                                },
                                {
                                    "0": "Tailspin Toys (Inguadona, MN)"
                                },
                                {
                                    "0": "Tailspin Toys (Buell, MO)"
                                },
                                {
                                    "0": "Tailspin Toys (Teutopolis, IL)"
                                },
                                {
                                    "0": "Wingtip Toys (Dickerson, MD)"
                                },
                                {
                                    "0": "Daakshaayaani Kommineni"
                                },
                                {
                                    "0": "Wingtip Toys (Jamison, IA)"
                                },
                                {
                                    "0": "Leyla Siavashi"
                                },
                                {
                                    "0": "Tailspin Toys (Larose, LA)"
                                },
                                {
                                    "0": "Wingtip Toys (Karthaus, PA)"
                                },
                                {
                                    "0": "Jackson Kolios"
                                },
                                {
                                    "0": "Tailspin Toys (Rockwall, TX)"
                                },
                                {
                                    "0": "Wingtip Toys (East Fultonham, OH)"
                                },
                                {
                                    "0": "Bhaavan Rai"
                                },
                                {
                                    "0": "David safranek"
                                },
                                {
                                    "0": "David Novacek "
                                },
                                {
                                    "0": "Farzana Habibi"
                                },
                                {
                                    "0": "Wingtip Toys (Stanardsville, VA)"
                                },
                                {
                                    "0": "Libuse Kuchtova"
                                },
                                {
                                    "0": "Krishnam Allu"
                                },
                                {
                                    "0": "Wingtip Toys (Bourbonnais, IL)"
                                },
                                {
                                    "0": "Lilli Sokk"
                                },
                                {
                                    "0": "Tai Bach"
                                },
                                {
                                    "0": "Christian Couet"
                                },
                                {
                                    "0": "Tailspin Toys (Dahlia, NM)"
                                },
                                {
                                    "0": "Tailspin Toys (South Euclid, OH)"
                                },
                                {
                                    "0": "Wingtip Toys (Harkers Island, NC)"
                                },
                                {
                                    "0": "Wingtip Toys (Rich Creek, VA)"
                                },
                                {
                                    "0": "Marcela Lucescu"
                                },
                                {
                                    "0": "Wingtip Toys (Naches, WA)"
                                },
                                {
                                    "0": "Darshana Madhunapantula"
                                },
                                {
                                    "0": "Tailspin Toys (Sentinel Butte, ND)"
                                },
                                {
                                    "0": "Wingtip Toys (Ware Shoals, SC)"
                                },
                                {
                                    "0": "Pari Hosseini"
                                },
                                {
                                    "0": "Nasrin Omidzadeh"
                                },
                                {
                                    "0": "Tailspin Toys (Tresckow, PA)"
                                },
                                {
                                    "0": "Tailspin Toys (Bowlus, MN)"
                                },
                                {
                                    "0": "Tailspin Toys (Elrosa, MN)"
                                },
                                {
                                    "0": "Tailspin Toys (Point Roberts, WA)"
                                },
                                {
                                    "0": "Be Trang"
                                },
                                {
                                    "0": "Taj Syme"
                                },
                                {
                                    "0": "Wingtip Toys (Ovilla, TX)"
                                },
                                {
                                    "0": "Johanna Hoornstra"
                                },
                                {
                                    "0": "Ganesh Majumdar"
                                },
                                {
                                    "0": "Tailspin Toys (Wappingers Falls, NY)"
                                },
                                {
                                    "0": "Wingtip Toys (Sunburg, MN)"
                                },
                                {
                                    "0": "Edgar Jogi"
                                },
                                {
                                    "0": "Bhagavateeprasaad Malladi"
                                },
                                {
                                    "0": "Tailspin Toys (Glen Avon, CA)"
                                },
                                {
                                    "0": "Chandana Shasthri"
                                },
                                {
                                    "0": "Tailspin Toys (Mappsburg, VA)"
                                },
                                {
                                    "0": "Tailspin Toys (Hollywood Park, TX)"
                                },
                                {
                                    "0": "Wingtip Toys (Bonner Springs, KS)"
                                },
                                {
                                    "0": "Knut Svensson"
                                },
                                {
                                    "0": "Taneli Riutta"
                                },
                                {
                                    "0": "Tailspin Toys (Big Moose, NY)"
                                },
                                {
                                    "0": "Tailspin Toys (Maple Shade, NJ)"
                                },
                                {
                                    "0": "Wingtip Toys (Truscott, TX)"
                                },
                                {
                                    "0": "Wingtip Toys (Crossroads, NM)"
                                },
                                {
                                    "0": "Wingtip Toys (Ferney, SD)"
                                },
                                {
                                    "0": "Wingtip Toys (Gargatha, VA)"
                                },
                                {
                                    "0": "Tailspin Toys (Hodgdon, ME)"
                                },
                                {
                                    "0": "Tailspin Toys (Airport Drive, MO)"
                                },
                                {
                                    "0": "Tailspin Toys (Sauquoit, NY)"
                                },
                                {
                                    "0": "Wingtip Toys (Silver Plume, CO)"
                                },
                                {
                                    "0": "Wingtip Toys (Connoquenessing, PA)"
                                },
                                {
                                    "0": "Tailspin Toys (Cundiyo, NM)"
                                },
                                {
                                    "0": "Wingtip Toys (Dickworsham, TX)"
                                },
                                {
                                    "0": "Daniella Cavalcante"
                                },
                                {
                                    "0": "Radha Barua"
                                },
                                {
                                    "0": "Mauno Laurila"
                                },
                                {
                                    "0": "Tailspin Toys (Frankewing, TN)"
                                },
                                {
                                    "0": "Tailspin Toys (Amanda Park, WA)"
                                },
                                {
                                    "0": "Wingtip Toys (Towaco, NJ)"
                                },
                                {
                                    "0": "Damodar Shenoy"
                                },
                                {
                                    "0": "Tailspin Toys (Knifley, KY)"
                                },
                                {
                                    "0": "Wingtip Toys (Homer City, PA)"
                                },
                                {
                                    "0": "Ivan Sepulveda"
                                },
                                {
                                    "0": "Lorin Astrom"
                                },
                                {
                                    "0": "Cong Hoa"
                                },
                                {
                                    "0": "Rodrigo Figueiredo"
                                },
                                {
                                    "0": "Tailspin Toys (Corfu, NY)"
                                },
                                {
                                    "0": "Sabine Alksne"
                                },
                                {
                                    "0": "Tailspin Toys (Head Office)"
                                },
                                {
                                    "0": "Tailspin Toys (Hambleton, WV)"
                                },
                                {
                                    "0": "Wingtip Toys (Schererville, IN)"
                                },
                                {
                                    "0": "Wingtip Toys (Idaho City, ID)"
                                },
                                {
                                    "0": "Tailspin Toys (Dundarrach, NC)"
                                },
                                {
                                    "0": "Hai Banh"
                                },
                                {
                                    "0": "Tailspin Toys (Lake Hughes, CA)"
                                },
                                {
                                    "0": "Richard Friar"
                                },
                                {
                                    "0": "Raj Verma"
                                },
                                {
                                    "0": "Tailspin Toys (New Baden, IL)"
                                },
                                {
                                    "0": "Tailspin Toys (Arrow Rock, MO)"
                                },
                                {
                                    "0": "Wingtip Toys (Black Lick, PA)"
                                },
                                {
                                    "0": "Wingtip Toys (Pawlet, VT)"
                                },
                                {
                                    "0": "Bing Han"
                                },
                                {
                                    "0": "Tailspin Toys (Clewiston, FL)"
                                },
                                {
                                    "0": "Wingtip Toys (Bethel Acres, OK)"
                                },
                                {
                                    "0": "Wingtip Toys (Indian Creek, IL)"
                                },
                                {
                                    "0": "Edmee Glissen"
                                },
                                {
                                    "0": "Tailspin Toys (Brown City, MI)"
                                },
                                {
                                    "0": "Wingtip Toys (Claycomo, MO)"
                                },
                                {
                                    "0": "Ebru Erdogan"
                                },
                                {
                                    "0": "Tailspin Toys (Rothsville, PA)"
                                },
                                {
                                    "0": "Wingtip Toys (Miesville, MN)"
                                },
                                {
                                    "0": "Sercan Celik"
                                },
                                {
                                    "0": "Wingtip Toys (Mier, IN)"
                                },
                                {
                                    "0": "Allan Mannik"
                                },
                                {
                                    "0": "Emil Roman"
                                },
                                {
                                    "0": "Wingtip Toys (West Hempstead, NY)"
                                },
                                {
                                    "0": "Daniel Martensson"
                                },
                                {
                                    "0": "Nada Ana Slosar"
                                },
                                {
                                    "0": "Tailspin Toys (Goffstown, NH)"
                                },
                                {
                                    "0": "Tailspin Toys (Koontzville, WA)"
                                },
                                {
                                    "0": "Gayatri Gajula"
                                },
                                {
                                    "0": "Amet Shergill"
                                },
                                {
                                    "0": "Sara Walkky"
                                },
                                {
                                    "0": "Hue Ton"
                                },
                                {
                                    "0": "Wingtip Toys (Boynton, OK)"
                                },
                                {
                                    "0": "Clarissa Manfrin"
                                },
                                {
                                    "0": "Jakub Lukes"
                                },
                                {
                                    "0": "Tailspin Toys (Eastchester, NY)"
                                },
                                {
                                    "0": "Tailspin Toys (Malott, WA)"
                                },
                                {
                                    "0": "Wingtip Toys (Oologah, OK)"
                                },
                                {
                                    "0": "Hee-Young Suh"
                                },
                                {
                                    "0": "Wingtip Toys (Wapiti, WY)"
                                },
                                {
                                    "0": "Surendra Sahu"
                                },
                                {
                                    "0": "Anand Mudaliyar"
                                },
                                {
                                    "0": "Tailspin Toys (Hanoverton, OH)"
                                },
                                {
                                    "0": "Wingtip Toys (Compass Lake, FL)"
                                },
                                {
                                    "0": "Liidia Lepp"
                                },
                                {
                                    "0": "Wingtip Toys (Cylon, WI)"
                                },
                                {
                                    "0": "Manca Hrastovsek"
                                },
                                {
                                    "0": "Tailspin Toys (Aceitunas, PR)"
                                },
                                {
                                    "0": "Wingtip Toys (Necedah, WI)"
                                },
                                {
                                    "0": "Wingtip Toys (Montoya, NM)"
                                },
                                {
                                    "0": "Tailspin Toys (Marcell, MN)"
                                },
                                {
                                    "0": "Wingtip Toys (Isabela, PR)"
                                },
                                {
                                    "0": "Wingtip Toys (Mendoza, TX)"
                                },
                                {
                                    "0": "Agrita Kanepa"
                                },
                                {
                                    "0": "Tailspin Toys (North Crows Nest, IN)"
                                },
                                {
                                    "0": "Tailspin Toys (Wimbledon, ND)"
                                },
                                {
                                    "0": "Tailspin Toys (Lake Erie Beach, NY)"
                                },
                                {
                                    "0": "Wingtip Toys (Haydenville, OH)"
                                },
                                {
                                    "0": "Wingtip Toys (Branson West, MO)"
                                },
                                {
                                    "0": "Tailspin Toys (Fairfield Glade, TN)"
                                },
                                {
                                    "0": "Wingtip Toys (Caton, NY)"
                                },
                                {
                                    "0": "Tailspin Toys (Howells, NE)"
                                },
                                {
                                    "0": "Wingtip Toys (Balko, OK)"
                                },
                                {
                                    "0": "Wingtip Toys (Dacono, CO)"
                                },
                                {
                                    "0": "Drazenka Jelic"
                                },
                                {
                                    "0": "Tailspin Toys (Olivette, MO)"
                                },
                                {
                                    "0": "Tailspin Toys (Tolna, ND)"
                                },
                                {
                                    "0": "Wingtip Toys (Nuangola, PA)"
                                },
                                {
                                    "0": "Wingtip Toys (Huntingburg, IN)"
                                },
                                {
                                    "0": "Wingtip Toys (Oak Point, TX)"
                                },
                                {
                                    "0": "David Jaramillo"
                                },
                                {
                                    "0": "Gabriela Hernandes"
                                },
                                {
                                    "0": "Om Yadav"
                                },
                                {
                                    "0": "Tailspin Toys (Wallagrass, ME)"
                                },
                                {
                                    "0": "Veronika Necesana"
                                },
                                {
                                    "0": "Tailspin Toys (Medicine Lodge, KS)"
                                },
                                {
                                    "0": "Wingtip Toys (Port Hueneme, CA)"
                                },
                                {
                                    "0": "Tailspin Toys (Fishtail, MT)"
                                },
                                {
                                    "0": "Neil Farrelly"
                                },
                                {
                                    "0": "Anil Sarkar"
                                },
                                {
                                    "0": "Tailspin Toys (Statenville, GA)"
                                },
                                {
                                    "0": "Wingtip Toys (Smoot, WY)"
                                },
                                {
                                    "0": "Hanita Nookala"
                                },
                                {
                                    "0": "Tailspin Toys (South La Paloma, TX)"
                                },
                                {
                                    "0": "Wingtip Toys (Paw Paw Lake, MI)"
                                },
                                {
                                    "0": "Tailspin Toys (Topstone, CT)"
                                },
                                {
                                    "0": "Wingtip Toys (Verdery, SC)"
                                },
                                {
                                    "0": "Jack Walker"
                                },
                                {
                                    "0": "Tailspin Toys (King Cove, AK)"
                                },
                                {
                                    "0": "Wingtip Toys (Bokeelia, FL)"
                                },
                                {
                                    "0": "Shi Tu"
                                },
                                {
                                    "0": "Philip Walker"
                                },
                                {
                                    "0": "Chuan Wattanasin"
                                },
                                {
                                    "0": "Tailspin Toys (Premont, TX)"
                                },
                                {
                                    "0": "Bhagavaan Atluri"
                                },
                                {
                                    "0": "Staffan Persson"
                                },
                                {
                                    "0": "Prabodh Nair"
                                },
                                {
                                    "0": "Wingtip Toys (Valhalla, NC)"
                                },
                                {
                                    "0": "Mahavir Sonkar"
                                },
                                {
                                    "0": "Wingtip Toys (Wapinitia, OR)"
                                },
                                {
                                    "0": "Gopalgobinda Sikdar"
                                },
                                {
                                    "0": "Fabrice Cloutier"
                                },
                                {
                                    "0": "Tailspin Toys (Annamoriah, WV)"
                                },
                                {
                                    "0": "Wingtip Toys (Portales, NM)"
                                },
                                {
                                    "0": "Tailspin Toys (North Cowden, TX)"
                                },
                                {
                                    "0": "Agrita Abele"
                                },
                                {
                                    "0": "Tailspin Toys (Page City, KS)"
                                },
                                {
                                    "0": "Wingtip Toys (Edmund, WI)"
                                },
                                {
                                    "0": "Wingtip Toys (Molalla, OR)"
                                },
                                {
                                    "0": "Ajitaab Pakalapati"
                                },
                                {
                                    "0": "Drishti Bose"
                                },
                                {
                                    "0": "Tailspin Toys (Lemeta, AK)"
                                },
                                {
                                    "0": "Isa Hulsegge"
                                },
                                {
                                    "0": "Ian Olofsson"
                                },
                                {
                                    "0": "Valentin Tirlea"
                                },
                                {
                                    "0": "Wingtip Toys (Gilford, NH)"
                                },
                                {
                                    "0": "Wingtip Toys (Frenchburg, KY)"
                                },
                                {
                                    "0": "Bimla PrabhupÄda"
                                },
                                {
                                    "0": "Tailspin Toys (Cokato, MN)"
                                },
                                {
                                    "0": "Tailspin Toys (Ortley Beach, NJ)"
                                },
                                {
                                    "0": "Wingtip Toys (Herlong, CA)"
                                },
                                {
                                    "0": "Volkan senturk"
                                },
                                {
                                    "0": "Tailspin Toys (Avenal, CA)"
                                },
                                {
                                    "0": "Wingtip Toys (Amado, AZ)"
                                },
                                {
                                    "0": "Celica Barajas"
                                },
                                {
                                    "0": "Tailspin Toys (Ekron, KY)"
                                },
                                {
                                    "0": "Wingtip Toys (Plaquemine, LA)"
                                },
                                {
                                    "0": "Rani Ganguly"
                                },
                                {
                                    "0": "Som Mukherjee"
                                },
                                {
                                    "0": "Wingtip Toys (Asher, OK)"
                                },
                                {
                                    "0": "Sointu Savonheimo"
                                },
                                {
                                    "0": "Anna Gyarmathi"
                                },
                                {
                                    "0": "Wingtip Toys (Knights Landing, CA)"
                                },
                                {
                                    "0": "Tailspin Toys (Tomnolen, MS)"
                                },
                                {
                                    "0": "Tailspin Toys (Hiteman, IA)"
                                },
                                {
                                    "0": "Wingtip Toys (North Manitou, MI)"
                                },
                                {
                                    "0": "Wingtip Toys (Palmas del Mar, PR)"
                                },
                                {
                                    "0": "Wingtip Toys (Mayhill, NM)"
                                },
                                {
                                    "0": "Abel Tatarescu"
                                },
                                {
                                    "0": "Wingtip Toys (Plum Branch, SC)"
                                },
                                {
                                    "0": "Malorie Bousquet"
                                },
                                {
                                    "0": "Tailspin Toys (Andrix, CO)"
                                },
                                {
                                    "0": "Wingtip Toys (Cherryplain, NY)"
                                },
                                {
                                    "0": "Tailspin Toys (Stonefort, IL)"
                                },
                                {
                                    "0": "Tailspin Toys (Great Neck Estates, NY)"
                                },
                                {
                                    "0": "Tailspin Toys (Mount Montgomery, NV)"
                                },
                                {
                                    "0": "Wingtip Toys (Hollandsburg, IN)"
                                },
                                {
                                    "0": "Tailspin Toys (Arietta, NY)"
                                },
                                {
                                    "0": "Wingtip Toys (Weld, ME)"
                                },
                                {
                                    "0": "Damodara Trivedi"
                                },
                                {
                                    "0": "Wingtip Toys (Lime Lake, NY)"
                                },
                                {
                                    "0": "Geza Roman"
                                },
                                {
                                    "0": "Nicolo Cattaneo"
                                },
                                {
                                    "0": "Tailspin Toys (Gasport, NY)"
                                },
                                {
                                    "0": "Milinka Zujovic"
                                },
                                {
                                    "0": "Tailspin Toys (Royal City, WA)"
                                },
                                {
                                    "0": "Wingtip Toys (Haycock, AK)"
                                },
                                {
                                    "0": "Tailspin Toys (Antonito, CO)"
                                },
                                {
                                    "0": "Wingtip Toys (Salt Wells, NV)"
                                },
                                {
                                    "0": "Mahmut ozbek"
                                },
                                {
                                    "0": "Wingtip Toys (Morton Grove, IL)"
                                },
                                {
                                    "0": "Tailspin Toys (Guin, AL)"
                                },
                                {
                                    "0": "Tailspin Toys (Baraboo, WI)"
                                },
                                {
                                    "0": "Wingtip Toys (Key Biscayne, FL)"
                                },
                                {
                                    "0": "Miriam House"
                                },
                                {
                                    "0": "Seo-yun Paik"
                                },
                                {
                                    "0": "Wingtip Toys (Marfa, TX)"
                                },
                                {
                                    "0": "Tailspin Toys (Seagraves, TX)"
                                },
                                {
                                    "0": "Wingtip Toys (Obion, TN)"
                                },
                                {
                                    "0": "Aakriti Byrraju"
                                },
                                {
                                    "0": "Tailspin Toys (Orchard Hill, GA)"
                                },
                                {
                                    "0": "Wingtip Toys (Bruceton Mills, WV)"
                                },
                                {
                                    "0": "Anna Mazzanti"
                                },
                                {
                                    "0": "Tailspin Toys (Rafael Capó, PR)"
                                },
                                {
                                    "0": "Wingtip Toys (Corcovado, PR)"
                                },
                                {
                                    "0": "Tomo Vidovic"
                                },
                                {
                                    "0": "Tailspin Toys (Hardeeville, SC)"
                                },
                                {
                                    "0": "Wingtip Toys (Glancy, MS)"
                                },
                                {
                                    "0": "Bala Dixit"
                                },
                                {
                                    "0": "Nils Kaulins"
                                },
                                {
                                    "0": "Arka Chatterjee"
                                },
                                {
                                    "0": "Tailspin Toys (Glen Park, NY)"
                                },
                                {
                                    "0": "Wingtip Toys (Rockwall, TX)"
                                },
                                {
                                    "0": "Leila Carvalho"
                                },
                                {
                                    "0": "Kumar Naicker"
                                },
                                {
                                    "0": "Tailspin Toys (Vidrine, LA)"
                                },
                                {
                                    "0": "Wingtip Toys (Rosa Sánchez, PR)"
                                },
                                {
                                    "0": "Sabine Zalite"
                                },
                                {
                                    "0": "Lakshmi Benipal"
                                },
                                {
                                    "0": "Katerina Hadrabova"
                                },
                                {
                                    "0": "Raghu Sandhu"
                                },
                                {
                                    "0": "Wingtip Toys (Lostine, OR)"
                                },
                                {
                                    "0": "Isidora Morales"
                                },
                                {
                                    "0": "Dinh Mai"
                                },
                                {
                                    "0": "Tailspin Toys (McClave, CO)"
                                },
                                {
                                    "0": "Tailspin Toys (East Portal, CO)"
                                },
                                {
                                    "0": "Tailspin Toys (Ward Ridge, FL)"
                                },
                                {
                                    "0": "Wingtip Toys (Ridgemark, CA)"
                                },
                                {
                                    "0": "Madhu Dwivedi"
                                },
                                {
                                    "0": "Libuse Valentova"
                                },
                                {
                                    "0": "Urve Kasesalu"
                                },
                                {
                                    "0": "Tailspin Toys (Yewed, OK)"
                                },
                                {
                                    "0": "Wingtip Toys (Chetek, WI)"
                                },
                                {
                                    "0": "Dena Glissen"
                                },
                                {
                                    "0": "Wingtip Toys (Licking, MO)"
                                },
                                {
                                    "0": "Jaroslav Fisar"
                                },
                                {
                                    "0": "Wingtip Toys (Cowlington, OK)"
                                },
                                {
                                    "0": "Jay Bhuiyan"
                                },
                                {
                                    "0": "Tailspin Toys (Edgartown, MA)"
                                },
                                {
                                    "0": "Tailspin Toys (Bernie, MO)"
                                },
                                {
                                    "0": "Wingtip Toys (New Laguna, NM)"
                                },
                                {
                                    "0": "Adriana Pena"
                                },
                                {
                                    "0": "Tailspin Toys (La Cueva, NM)"
                                },
                                {
                                    "0": "Wingtip Toys (Rose Tree, PA)"
                                },
                                {
                                    "0": "Ana Florea"
                                },
                                {
                                    "0": "Wingtip Toys (Cadogan, PA)"
                                },
                                {
                                    "0": "Marija Justina Pasek"
                                },
                                {
                                    "0": "Bahaar Asef zade"
                                },
                                {
                                    "0": "Tailspin Toys (Boyden Arbor, SC)"
                                },
                                {
                                    "0": "Tailspin Toys (Diablock, KY)"
                                },
                                {
                                    "0": "Wingtip Toys (Omer, MI)"
                                },
                                {
                                    "0": "Tailspin Toys (Coney Island, MO)"
                                },
                                {
                                    "0": "Tailspin Toys (Hayes Center, NE)"
                                },
                                {
                                    "0": "Tailspin Toys (Dracut, MA)"
                                },
                                {
                                    "0": "Tailspin Toys (Saint Louis Park, MN)"
                                },
                                {
                                    "0": "Wingtip Toys (Sarversville, PA)"
                                },
                                {
                                    "0": "Francisca Laureano"
                                },
                                {
                                    "0": "Tailspin Toys (Nanafalia, AL)"
                                },
                                {
                                    "0": "Tailspin Toys (Fieldbrook, CA)"
                                },
                                {
                                    "0": "Wingtip Toys (Caro, MI)"
                                },
                                {
                                    "0": "Wingtip Toys (Lynne, FL)"
                                },
                                {
                                    "0": "Amarakumaar Gadiyaram"
                                },
                                {
                                    "0": "Vladimir Henzl"
                                },
                                {
                                    "0": "Bishwa Chatterjee"
                                },
                                {
                                    "0": "Baalaamjali Devulapalli"
                                },
                                {
                                    "0": "Tailspin Toys (Severna Park, MD)"
                                },
                                {
                                    "0": "Wingtip Toys (Akhiok, AK)"
                                },
                                {
                                    "0": "Wingtip Toys (Lexington Heights, MI)"
                                },
                                {
                                    "0": "Manjunatha Karnik"
                                },
                                {
                                    "0": "Tailspin Toys (Manahawkin, NJ)"
                                },
                                {
                                    "0": "Tailspin Toys (Sylvanite, MT)"
                                },
                                {
                                    "0": "Wingtip Toys (Pikeview, CO)"
                                },
                                {
                                    "0": "Dominic Davignon"
                                },
                                {
                                    "0": "Debbie Molina"
                                },
                                {
                                    "0": "Daevasree Samavedam"
                                },
                                {
                                    "0": "Tailspin Toys (Trentwood, WA)"
                                },
                                {
                                    "0": "Kumar Kamei"
                                },
                                {
                                    "0": "Tailspin Toys (Good Hart, MI)"
                                },
                                {
                                    "0": "Wingtip Toys (Queen Valley, AZ)"
                                },
                                {
                                    "0": "Emily Whittle"
                                },
                                {
                                    "0": "Tailspin Toys (Cheyenne Wells, CO)"
                                },
                                {
                                    "0": "Wingtip Toys (Willow Valley, AZ)"
                                },
                                {
                                    "0": "Wingtip Toys (Accomac, VA)"
                                },
                                {
                                    "0": "Matyas Sedlar"
                                },
                                {
                                    "0": "Tailspin Toys (Scofield, UT)"
                                },
                                {
                                    "0": "Wingtip Toys (Delray, WV)"
                                },
                                {
                                    "0": "Wingtip Toys (Trout Run, PA)"
                                },
                                {
                                    "0": "Olafs Rozitis"
                                },
                                {
                                    "0": "Tailspin Toys (Furley, KS)"
                                },
                                {
                                    "0": "Wingtip Toys (Stoneboro, PA)"
                                },
                                {
                                    "0": "Wingtip Toys (Lake Ronkonkoma, NY)"
                                },
                                {
                                    "0": "Aleksandrs Riekstins"
                                },
                                {
                                    "0": "Tailspin Toys (Panaca, NV)"
                                },
                                {
                                    "0": "Wingtip Toys (Beekmantown, NY)"
                                },
                                {
                                    "0": "Crina Grasu"
                                },
                                {
                                    "0": "Tailspin Toys (Placer, OR)"
                                },
                                {
                                    "0": "Wingtip Toys (Vamo, FL)"
                                },
                                {
                                    "0": "Daakshaayaani Sankaramanchi"
                                },
                                {
                                    "0": "Victoria Lacusta"
                                },
                                {
                                    "0": "Dhanishta Pullela"
                                },
                                {
                                    "0": "Wingtip Toys (Taft Heights, CA)"
                                },
                                {
                                    "0": "Hana Hlouskova"
                                },
                                {
                                    "0": "Laszlo Gardenier"
                                },
                                {
                                    "0": "Meera Patel"
                                },
                                {
                                    "0": "Amrita Ganguly"
                                },
                                {
                                    "0": "Tailspin Toys (Hahira, GA)"
                                },
                                {
                                    "0": "Wingtip Toys (Orick, CA)"
                                },
                                {
                                    "0": "Nhung Thach"
                                },
                                {
                                    "0": "Tailspin Toys (East Fultonham, OH)"
                                },
                                {
                                    "0": "Annette  Hetu"
                                },
                                {
                                    "0": "Tailspin Toys (Lake Stevens, WA)"
                                },
                                {
                                    "0": "Wingtip Toys (Lytle, TX)"
                                },
                                {
                                    "0": "Wingtip Toys (San Jacinto, CA)"
                                },
                                {
                                    "0": "Alena Kellnerova"
                                },
                                {
                                    "0": "Jibek Juniskyzy"
                                },
                                {
                                    "0": "Mikhail Degtyarev"
                                },
                                {
                                    "0": "Wingtip Toys (Raton, NM)"
                                },
                                {
                                    "0": "Tailspin Toys (Roe Park, NY)"
                                },
                                {
                                    "0": "Elina Kaleja"
                                },
                                {
                                    "0": "Tailspin Toys (East Dailey, WV)"
                                },
                                {
                                    "0": "Wingtip Toys (Bourneville, OH)"
                                },
                                {
                                    "0": "Kalyani Benjaree"
                                },
                                {
                                    "0": "Tailspin Toys (Absecon, NJ)"
                                },
                                {
                                    "0": "Wingtip Toys (Leathersville, GA)"
                                },
                                {
                                    "0": "Wingtip Toys (Munich, ND)"
                                },
                                {
                                    "0": "Tailspin Toys (Orrtanna, PA)"
                                },
                                {
                                    "0": "Wingtip Toys (Bergen Park, CO)"
                                },
                                {
                                    "0": "Durdanah Abbasi"
                                },
                                {
                                    "0": "Tailspin Toys (Eden Valley, MN)"
                                },
                                {
                                    "0": "Liia Orav"
                                },
                                {
                                    "0": "Jasna Cerkez"
                                },
                                {
                                    "0": "Tailspin Toys (Tavares, FL)"
                                },
                                {
                                    "0": "Leyla Asef zade"
                                },
                                {
                                    "0": "Tailspin Toys (Dallardsville, TX)"
                                },
                                {
                                    "0": "Tailspin Toys (Impact, TX)"
                                },
                                {
                                    "0": "Wingtip Toys (Waycross, GA)"
                                },
                                {
                                    "0": "Tailspin Toys (Devault, PA)"
                                },
                                {
                                    "0": "Tailspin Toys (Tierra Verde, FL)"
                                },
                                {
                                    "0": "Wingtip Toys (Ruthsburg, MD)"
                                },
                                {
                                    "0": "Tailspin Toys (Oriole Beach, FL)"
                                },
                                {
                                    "0": "Tailspin Toys (Crary, ND)"
                                },
                                {
                                    "0": "Risto Valbe"
                                },
                                {
                                    "0": "Tailspin Toys (Railroad, PA)"
                                },
                                {
                                    "0": "Wingtip Toys (Shay, PA)"
                                },
                                {
                                    "0": "Wingtip Toys (Saint Landry, LA)"
                                },
                                {
                                    "0": "Ida Celma"
                                },
                                {
                                    "0": "Tailspin Toys (Alstead, NH)"
                                },
                                {
                                    "0": "Tailspin Toys (Kalvesta, KS)"
                                },
                                {
                                    "0": "Shantanu Huq"
                                },
                                {
                                    "0": "Magdalena Michnova"
                                },
                                {
                                    "0": "Baran Jonsson"
                                },
                                {
                                    "0": "Wingtip Toys (Sayner, WI)"
                                },
                                {
                                    "0": "Wingtip Toys (Boalsburg, PA)"
                                },
                                {
                                    "0": "Wingtip Toys (Deeson, MS)"
                                },
                                {
                                    "0": "Akhil Nadar"
                                },
                                {
                                    "0": "Chompoo Atitarn"
                                },
                                {
                                    "0": "Erik Malk"
                                },
                                {
                                    "0": "Tailspin Toys (Manchester Center, VT)"
                                },
                                {
                                    "0": "Wingtip Toys (Alcester, SD)"
                                },
                                {
                                    "0": "Pavel Bogdanov"
                                },
                                {
                                    "0": "Ludmila Smidova"
                                },
                                {
                                    "0": "Tailspin Toys (Magalia, CA)"
                                },
                                {
                                    "0": "Tailspin Toys (Ashtabula, OH)"
                                },
                                {
                                    "0": "Wingtip Toys (Cale, AR)"
                                },
                                {
                                    "0": "Gunnar Lohmus"
                                },
                                {
                                    "0": "Tailspin Toys (Bratenahl, OH)"
                                },
                                {
                                    "0": "Wingtip Toys (Lake Davis, CA)"
                                },
                                {
                                    "0": "Wingtip Toys (West Frostproof, FL)"
                                },
                                {
                                    "0": "Adrian Andreasson"
                                },
                                {
                                    "0": "Caterina Pinto"
                                },
                                {
                                    "0": "Tailspin Toys (McCamey, TX)"
                                },
                                {
                                    "0": "Wingtip Toys (Obetz, OH)"
                                },
                                {
                                    "0": "Jana Fialova"
                                },
                                {
                                    "0": "Isidora Urias"
                                },
                                {
                                    "0": "Alinne Matos"
                                },
                                {
                                    "0": "Ivana Hadrabova"
                                },
                                {
                                    "0": "Gasper Havzija"
                                },
                                {
                                    "0": "Wingtip Toys (Lilbourn, MO)"
                                },
                                {
                                    "0": "Eva Schulteisz"
                                },
                                {
                                    "0": "Wingtip Toys (Tuscaloosa, AL)"
                                },
                                {
                                    "0": "Svetlana Todorovic"
                                },
                                {
                                    "0": "Wingtip Toys (Johnetta, KY)"
                                },
                                {
                                    "0": "Eric Torres"
                                },
                                {
                                    "0": "Tailspin Toys (Cherry Grove Beach, SC)"
                                },
                                {
                                    "0": "Wingtip Toys (Trumansburg, NY)"
                                },
                                {
                                    "0": "Eugen Agafitei"
                                },
                                {
                                    "0": "Tailspin Toys (College Place, WA)"
                                },
                                {
                                    "0": "Wingtip Toys (Baldwin City, KS)"
                                },
                                {
                                    "0": "Aive Petrov"
                                },
                                {
                                    "0": "Tailspin Toys (Gardere, LA)"
                                },
                                {
                                    "0": "Tailspin Toys (Valdese, NC)"
                                },
                                {
                                    "0": "Wingtip Toys (Bozeman Hot Springs, MT)"
                                },
                                {
                                    "0": "Linh Dao"
                                },
                                {
                                    "0": "Wingtip Toys (Marion Junction, AL)"
                                },
                                {
                                    "0": "Ingrida Zeltina"
                                },
                                {
                                    "0": "Luis Saucedo"
                                },
                                {
                                    "0": "Tailspin Toys (North Ridge, NY)"
                                },
                                {
                                    "0": "Tailspin Toys (Astor Park, FL)"
                                },
                                {
                                    "0": "Wingtip Toys (Del Valle, TX)"
                                },
                                {
                                    "0": "Irma Berzina"
                                },
                                {
                                    "0": "Serdar ozCelik"
                                },
                                {
                                    "0": "Tailspin Toys (Indios, PR)"
                                },
                                {
                                    "0": "Amarasimha Vinjamuri"
                                },
                                {
                                    "0": "Tailspin Toys (Kwethluk, AK)"
                                },
                                {
                                    "0": "Olya Izmaylov"
                                },
                                {
                                    "0": "Violetta KlanCisar"
                                },
                                {
                                    "0": "Tailspin Toys (Caselton, NV)"
                                },
                                {
                                    "0": "Wingtip Toys (Philip, SD)"
                                },
                                {
                                    "0": "Camille Authier"
                                },
                                {
                                    "0": "Wingtip Toys (Lowellville, OH)"
                                },
                                {
                                    "0": "Wingtip Toys (Triadelphia, WV)"
                                },
                                {
                                    "0": "Tailspin Toys (Lakemore, OH)"
                                },
                                {
                                    "0": "Wingtip Toys (Liberty Grove, MD)"
                                },
                                {
                                    "0": "Tailspin Toys (Saks, AL)"
                                },
                                {
                                    "0": "Kwanjai Saowaluk"
                                },
                                {
                                    "0": "In-Su Bae"
                                },
                                {
                                    "0": "Tailspin Toys (Long Meadow, MD)"
                                },
                                {
                                    "0": "Wingtip Toys (North Beach Haven, NJ)"
                                },
                                {
                                    "0": "Kristiina Ivanov"
                                },
                                {
                                    "0": "Tailspin Toys (Kerby, OR)"
                                },
                                {
                                    "0": "Wingtip Toys (Griswoldville, GA)"
                                },
                                {
                                    "0": "Wingtip Toys (Bell Acres, PA)"
                                },
                                {
                                    "0": "Tailspin Toys (Carbonville, UT)"
                                },
                                {
                                    "0": "Anindya Ghatak"
                                },
                                {
                                    "0": "Tailspin Toys (Bow Mar, CO)"
                                },
                                {
                                    "0": "Wingtip Toys (Teutopolis, IL)"
                                },
                                {
                                    "0": "Wingtip Toys (Kapa'a, HI)"
                                },
                                {
                                    "0": "Andris Saulitis"
                                },
                                {
                                    "0": "Serdar ozden"
                                },
                                {
                                    "0": "Bhaamini Palagummi"
                                },
                                {
                                    "0": "Tailspin Toys (Imlaystown, NJ)"
                                },
                                {
                                    "0": "Tailspin Toys (Antares, AZ)"
                                },
                                {
                                    "0": "Tailspin Toys (Naples Park, FL)"
                                },
                                {
                                    "0": "Tailspin Toys (Tooele, UT)"
                                },
                                {
                                    "0": "Tailspin Toys (Tunnelhill, PA)"
                                },
                                {
                                    "0": "Wingtip Toys (Dunkerton, IA)"
                                },
                                {
                                    "0": "Joel Carrillo"
                                },
                                {
                                    "0": "Wingtip Toys (Berville, MI)"
                                },
                                {
                                    "0": "Wingtip Toys (Birds, IL)"
                                },
                                {
                                    "0": "Wingtip Toys (Mickleton, NJ)"
                                },
                                {
                                    "0": "Kamala Nishad"
                                },
                                {
                                    "0": "Cuneyt Arslan"
                                }
                            ]
                        },
                        "text/html": "<table><tr><th>CustomerName</th></tr><tr><td>Wingtip Toys (Cuyamungue, NM)</td></tr><tr><td>Can ozcan</td></tr><tr><td>Tailspin Toys (Ikatan, AK)</td></tr><tr><td>Wingtip Toys (Flomaton, AL)</td></tr><tr><td>Kamila Michnova</td></tr><tr><td>Tailspin Toys (Jemison, AL)</td></tr><tr><td>Wingtip Toys (Chaseley, ND)</td></tr><tr><td>Jitka Necesana</td></tr><tr><td>Nguyen Banh</td></tr><tr><td>Tailspin Toys (Lytle Creek, CA)</td></tr><tr><td>Tailspin Toys (Optimo, NM)</td></tr><tr><td>Wingtip Toys (Head Office)</td></tr><tr><td>Wingtip Toys (Cloquet, MN)</td></tr><tr><td>Satish Mittal</td></tr><tr><td>Tailspin Toys (Sans Souci, SC)</td></tr><tr><td>Wingtip Toys (Lost River, ID)</td></tr><tr><td>Wingtip Toys (Cavendish, VT)</td></tr><tr><td>Tailspin Toys (Bethania, NC)</td></tr><tr><td>Tailspin Toys (Navassa, NC)</td></tr><tr><td>Cosmina Vlad</td></tr><tr><td>Dhanishta Mokkapati</td></tr><tr><td>Abhra Ganguly</td></tr><tr><td>Tailspin Toys (Aspen Park, CO)</td></tr><tr><td>Wingtip Toys (Mooringsport, LA)</td></tr><tr><td>Jayanta Thakur</td></tr><tr><td>Richard Zahradnicek</td></tr><tr><td>Kertu Sokk</td></tr><tr><td>Stefan Selezeanu</td></tr><tr><td>Tailspin Toys (Eulaton, AL)</td></tr><tr><td>Wingtip Toys (Tilleda, WI)</td></tr><tr><td>Wingtip Toys (Goodings Grove, IL)</td></tr><tr><td>Sumati Bhat</td></tr><tr><td>Phoung Cu</td></tr><tr><td>Tailspin Toys (Sinclair, WY)</td></tr><tr><td>Tailspin Toys (San Acacia, NM)</td></tr><tr><td>Wingtip Toys (Yaak, MT)</td></tr><tr><td>Wingtip Toys (Heartwell, NE)</td></tr><tr><td>Rajeev Sandhu</td></tr><tr><td>Harsha Huq</td></tr><tr><td>Wingtip Toys (Universal City, TX)</td></tr><tr><td>Tailspin Toys (Windsor Locks, CT)</td></tr><tr><td>Lana Goransson</td></tr><tr><td>Biju Deb</td></tr><tr><td>Tailspin Toys (Skyway, WA)</td></tr><tr><td>Bijoya Thakur</td></tr><tr><td>Tailspin Toys (Minidoka, ID)</td></tr><tr><td>Wingtip Toys (Glen Ullin, ND)</td></tr><tr><td>Emma Salpa</td></tr><tr><td>Wingtip Toys (Lucasville, OH)</td></tr><tr><td>Wingtip Toys (Elverson, PA)</td></tr><tr><td>Tailspin Toys (Netcong, NJ)</td></tr><tr><td>Tailspin Toys (Batson, TX)</td></tr><tr><td>Tailspin Toys (Heilwood, PA)</td></tr><tr><td>Wingtip Toys (Downingtown, PA)</td></tr><tr><td>Tailspin Toys (South Laguna, CA)</td></tr><tr><td>Tailspin Toys (Donner, LA)</td></tr><tr><td>Suparna Bhattacharya</td></tr><tr><td>Wingtip Toys (Coker, AL)</td></tr><tr><td>Wingtip Toys (Morita, TX)</td></tr><tr><td>Wingtip Toys (White Church, MO)</td></tr><tr><td>Wingtip Toys (East Mountain, TX)</td></tr><tr><td>Tailspin Toys (Victory Gardens, NJ)</td></tr><tr><td>Wingtip Toys (Plata, TX)</td></tr><tr><td>Abel Spirlea</td></tr><tr><td>Alvin Bollinger</td></tr><tr><td>Tailspin Toys (Lesslie, SC)</td></tr><tr><td>Wingtip Toys (Morrison Bluff, AR)</td></tr><tr><td>Chaayaadaevi Sonti</td></tr><tr><td>Melani Ravlen</td></tr><tr><td>Valter Viiding</td></tr><tr><td>Emma Van Zant</td></tr><tr><td>Tailspin Toys (Peeples Valley, AZ)</td></tr><tr><td>Tailspin Toys (Belgreen, AL)</td></tr><tr><td>Tailspin Toys (Sun River, MT)</td></tr><tr><td>Tailspin Toys (Idria, CA)</td></tr><tr><td>Wingtip Toys (Broomtown, AL)</td></tr><tr><td>Chandrashekhar Dasgupta</td></tr><tr><td>Wingtip Toys (Tea, SD)</td></tr><tr><td>Wingtip Toys (Federalsburg, MD)</td></tr><tr><td>Roko Ilic</td></tr><tr><td>Aishwarya Dantuluri</td></tr><tr><td>Tailspin Toys (Lavon, TX)</td></tr><tr><td>Wingtip Toys (Athol Springs, NY)</td></tr><tr><td>Tailspin Toys (Cortaro, AZ)</td></tr><tr><td>Tailspin Toys (Wilkes-Barre, PA)</td></tr><tr><td>Wingtip Toys (Penns Creek, PA)</td></tr><tr><td>Wingtip Toys (Robertsdale, AL)</td></tr><tr><td>Wingtip Toys (Floriston, CA)</td></tr><tr><td>Ratan Poddar</td></tr><tr><td>Tailspin Toys (Vassalboro, ME)</td></tr><tr><td>Wingtip Toys (Mount Summit, IN)</td></tr><tr><td>Sumati Chatterjee</td></tr><tr><td>Arijit Bhuiyan</td></tr><tr><td>Kristi Part</td></tr><tr><td>Hoc Tran</td></tr><tr><td>Eliza Persson</td></tr><tr><td>Marie LeBatelier</td></tr><tr><td>Matteo Cattaneo</td></tr><tr><td>Chin-Sun Chang</td></tr><tr><td>Nadir Seddigh</td></tr><tr><td>Tailspin Toys (Madrone, NM)</td></tr><tr><td>Wingtip Toys (Highland Home, AL)</td></tr><tr><td>Narendra Tickoo</td></tr><tr><td>Tailspin Toys (Madaket, MA)</td></tr><tr><td>Tailspin Toys (Sekiu, WA)</td></tr><tr><td>Wingtip Toys (Bernstein, TX)</td></tr><tr><td>Wingtip Toys (Islip Terrace, NY)</td></tr><tr><td>Shah Alizadeh</td></tr><tr><td>Anca Gogean</td></tr><tr><td>Sylvie Laramee</td></tr><tr><td>Tailspin Toys (Maypearl, TX)</td></tr><tr><td>Wingtip Toys (Marin City, CA)</td></tr><tr><td>Sara Huiting</td></tr><tr><td>Wingtip Toys (Straughn, IN)</td></tr><tr><td>Pinja Jantunen</td></tr><tr><td>Bhadram Kamasamudram</td></tr><tr><td>Tailspin Toys (Francis Mills, NJ)</td></tr><tr><td>Wingtip Toys (Mahaffey, PA)</td></tr><tr><td>Dhaatri Chavva</td></tr><tr><td>Bhagavati Vinjamuri</td></tr><tr><td>Tailspin Toys (Hedrick, IA)</td></tr><tr><td>Wingtip Toys (Jeromesville, OH)</td></tr><tr><td>Shyam Poddar</td></tr><tr><td>Tailspin Toys (Biscay, MN)</td></tr><tr><td>Tailspin Toys (Armstrong Creek, WI)</td></tr><tr><td>Wingtip Toys (Grabill, IN)</td></tr><tr><td>Vedrana Kovacevic</td></tr><tr><td>Tailspin Toys (Slanesville, WV)</td></tr><tr><td>Wingtip Toys (Nichols Hills, OK)</td></tr><tr><td>Dipti Shah</td></tr><tr><td>Tailspin Toys (Mineral Hills, MI)</td></tr><tr><td>Wingtip Toys (Vair, TX)</td></tr><tr><td>Tailspin Toys (Tumacacori, AZ)</td></tr><tr><td>Tailspin Toys (Arbor Vitae, WI)</td></tr><tr><td>Santiago Vera</td></tr><tr><td>Laura Sykorova</td></tr><tr><td>Tailspin Toys (New Lexington, OH)</td></tr><tr><td>Wingtip Toys (Cache, OK)</td></tr><tr><td>Emilie Hrdlickova</td></tr><tr><td>Wingtip Toys (Mauldin, SC)</td></tr><tr><td>Tailspin Toys (Terre du Lac, MO)</td></tr><tr><td>Wingtip Toys (Helotes, TX)</td></tr><tr><td>Tailspin Toys (Stallion Springs, CA)</td></tr><tr><td>Tailspin Toys (Sallyards, KS)</td></tr><tr><td>Tailspin Toys (Jessie, ND)</td></tr><tr><td>Wingtip Toys (Cape Neddick, ME)</td></tr><tr><td>Nada Jovanovic</td></tr><tr><td>Leonardo Folliero</td></tr><tr><td>Tuulikki Linna</td></tr><tr><td>Tailspin Toys (Upper Preston, WA)</td></tr><tr><td>Tailspin Toys (Gum Branch, GA)</td></tr><tr><td>Maryann Huddleston</td></tr><tr><td>Tailspin Toys (El Centro, CA)</td></tr><tr><td>Wingtip Toys (McAdenville, NC)</td></tr><tr><td>Wingtip Toys (Cos Cob, CT)</td></tr><tr><td>Devraj Rao</td></tr><tr><td>Juan Morse</td></tr><tr><td>Wingtip Toys (Keosauqua, IA)</td></tr><tr><td>Wingtip Toys (Coin, IA)</td></tr><tr><td>Wingtip Toys (Beals, ME)</td></tr><tr><td>Ioana Florea</td></tr><tr><td>Yves Belisle</td></tr><tr><td>Maksims Krastins</td></tr><tr><td>Tailspin Toys (Muir, MI)</td></tr><tr><td>Jai Lamble</td></tr><tr><td>Tailspin Toys (Inguadona, MN)</td></tr><tr><td>Tailspin Toys (Buell, MO)</td></tr><tr><td>Tailspin Toys (Teutopolis, IL)</td></tr><tr><td>Wingtip Toys (Dickerson, MD)</td></tr><tr><td>Daakshaayaani Kommineni</td></tr><tr><td>Wingtip Toys (Jamison, IA)</td></tr><tr><td>Leyla Siavashi</td></tr><tr><td>Tailspin Toys (Larose, LA)</td></tr><tr><td>Wingtip Toys (Karthaus, PA)</td></tr><tr><td>Jackson Kolios</td></tr><tr><td>Tailspin Toys (Rockwall, TX)</td></tr><tr><td>Wingtip Toys (East Fultonham, OH)</td></tr><tr><td>Bhaavan Rai</td></tr><tr><td>David safranek</td></tr><tr><td>David Novacek </td></tr><tr><td>Farzana Habibi</td></tr><tr><td>Wingtip Toys (Stanardsville, VA)</td></tr><tr><td>Libuse Kuchtova</td></tr><tr><td>Krishnam Allu</td></tr><tr><td>Wingtip Toys (Bourbonnais, IL)</td></tr><tr><td>Lilli Sokk</td></tr><tr><td>Tai Bach</td></tr><tr><td>Christian Couet</td></tr><tr><td>Tailspin Toys (Dahlia, NM)</td></tr><tr><td>Tailspin Toys (South Euclid, OH)</td></tr><tr><td>Wingtip Toys (Harkers Island, NC)</td></tr><tr><td>Wingtip Toys (Rich Creek, VA)</td></tr><tr><td>Marcela Lucescu</td></tr><tr><td>Wingtip Toys (Naches, WA)</td></tr><tr><td>Darshana Madhunapantula</td></tr><tr><td>Tailspin Toys (Sentinel Butte, ND)</td></tr><tr><td>Wingtip Toys (Ware Shoals, SC)</td></tr><tr><td>Pari Hosseini</td></tr><tr><td>Nasrin Omidzadeh</td></tr><tr><td>Tailspin Toys (Tresckow, PA)</td></tr><tr><td>Tailspin Toys (Bowlus, MN)</td></tr><tr><td>Tailspin Toys (Elrosa, MN)</td></tr><tr><td>Tailspin Toys (Point Roberts, WA)</td></tr><tr><td>Be Trang</td></tr><tr><td>Taj Syme</td></tr><tr><td>Wingtip Toys (Ovilla, TX)</td></tr><tr><td>Johanna Hoornstra</td></tr><tr><td>Ganesh Majumdar</td></tr><tr><td>Tailspin Toys (Wappingers Falls, NY)</td></tr><tr><td>Wingtip Toys (Sunburg, MN)</td></tr><tr><td>Edgar Jogi</td></tr><tr><td>Bhagavateeprasaad Malladi</td></tr><tr><td>Tailspin Toys (Glen Avon, CA)</td></tr><tr><td>Chandana Shasthri</td></tr><tr><td>Tailspin Toys (Mappsburg, VA)</td></tr><tr><td>Tailspin Toys (Hollywood Park, TX)</td></tr><tr><td>Wingtip Toys (Bonner Springs, KS)</td></tr><tr><td>Knut Svensson</td></tr><tr><td>Taneli Riutta</td></tr><tr><td>Tailspin Toys (Big Moose, NY)</td></tr><tr><td>Tailspin Toys (Maple Shade, NJ)</td></tr><tr><td>Wingtip Toys (Truscott, TX)</td></tr><tr><td>Wingtip Toys (Crossroads, NM)</td></tr><tr><td>Wingtip Toys (Ferney, SD)</td></tr><tr><td>Wingtip Toys (Gargatha, VA)</td></tr><tr><td>Tailspin Toys (Hodgdon, ME)</td></tr><tr><td>Tailspin Toys (Airport Drive, MO)</td></tr><tr><td>Tailspin Toys (Sauquoit, NY)</td></tr><tr><td>Wingtip Toys (Silver Plume, CO)</td></tr><tr><td>Wingtip Toys (Connoquenessing, PA)</td></tr><tr><td>Tailspin Toys (Cundiyo, NM)</td></tr><tr><td>Wingtip Toys (Dickworsham, TX)</td></tr><tr><td>Daniella Cavalcante</td></tr><tr><td>Radha Barua</td></tr><tr><td>Mauno Laurila</td></tr><tr><td>Tailspin Toys (Frankewing, TN)</td></tr><tr><td>Tailspin Toys (Amanda Park, WA)</td></tr><tr><td>Wingtip Toys (Towaco, NJ)</td></tr><tr><td>Damodar Shenoy</td></tr><tr><td>Tailspin Toys (Knifley, KY)</td></tr><tr><td>Wingtip Toys (Homer City, PA)</td></tr><tr><td>Ivan Sepulveda</td></tr><tr><td>Lorin Astrom</td></tr><tr><td>Cong Hoa</td></tr><tr><td>Rodrigo Figueiredo</td></tr><tr><td>Tailspin Toys (Corfu, NY)</td></tr><tr><td>Sabine Alksne</td></tr><tr><td>Tailspin Toys (Head Office)</td></tr><tr><td>Tailspin Toys (Hambleton, WV)</td></tr><tr><td>Wingtip Toys (Schererville, IN)</td></tr><tr><td>Wingtip Toys (Idaho City, ID)</td></tr><tr><td>Tailspin Toys (Dundarrach, NC)</td></tr><tr><td>Hai Banh</td></tr><tr><td>Tailspin Toys (Lake Hughes, CA)</td></tr><tr><td>Richard Friar</td></tr><tr><td>Raj Verma</td></tr><tr><td>Tailspin Toys (New Baden, IL)</td></tr><tr><td>Tailspin Toys (Arrow Rock, MO)</td></tr><tr><td>Wingtip Toys (Black Lick, PA)</td></tr><tr><td>Wingtip Toys (Pawlet, VT)</td></tr><tr><td>Bing Han</td></tr><tr><td>Tailspin Toys (Clewiston, FL)</td></tr><tr><td>Wingtip Toys (Bethel Acres, OK)</td></tr><tr><td>Wingtip Toys (Indian Creek, IL)</td></tr><tr><td>Edmee Glissen</td></tr><tr><td>Tailspin Toys (Brown City, MI)</td></tr><tr><td>Wingtip Toys (Claycomo, MO)</td></tr><tr><td>Ebru Erdogan</td></tr><tr><td>Tailspin Toys (Rothsville, PA)</td></tr><tr><td>Wingtip Toys (Miesville, MN)</td></tr><tr><td>Sercan Celik</td></tr><tr><td>Wingtip Toys (Mier, IN)</td></tr><tr><td>Allan Mannik</td></tr><tr><td>Emil Roman</td></tr><tr><td>Wingtip Toys (West Hempstead, NY)</td></tr><tr><td>Daniel Martensson</td></tr><tr><td>Nada Ana Slosar</td></tr><tr><td>Tailspin Toys (Goffstown, NH)</td></tr><tr><td>Tailspin Toys (Koontzville, WA)</td></tr><tr><td>Gayatri Gajula</td></tr><tr><td>Amet Shergill</td></tr><tr><td>Sara Walkky</td></tr><tr><td>Hue Ton</td></tr><tr><td>Wingtip Toys (Boynton, OK)</td></tr><tr><td>Clarissa Manfrin</td></tr><tr><td>Jakub Lukes</td></tr><tr><td>Tailspin Toys (Eastchester, NY)</td></tr><tr><td>Tailspin Toys (Malott, WA)</td></tr><tr><td>Wingtip Toys (Oologah, OK)</td></tr><tr><td>Hee-Young Suh</td></tr><tr><td>Wingtip Toys (Wapiti, WY)</td></tr><tr><td>Surendra Sahu</td></tr><tr><td>Anand Mudaliyar</td></tr><tr><td>Tailspin Toys (Hanoverton, OH)</td></tr><tr><td>Wingtip Toys (Compass Lake, FL)</td></tr><tr><td>Liidia Lepp</td></tr><tr><td>Wingtip Toys (Cylon, WI)</td></tr><tr><td>Manca Hrastovsek</td></tr><tr><td>Tailspin Toys (Aceitunas, PR)</td></tr><tr><td>Wingtip Toys (Necedah, WI)</td></tr><tr><td>Wingtip Toys (Montoya, NM)</td></tr><tr><td>Tailspin Toys (Marcell, MN)</td></tr><tr><td>Wingtip Toys (Isabela, PR)</td></tr><tr><td>Wingtip Toys (Mendoza, TX)</td></tr><tr><td>Agrita Kanepa</td></tr><tr><td>Tailspin Toys (North Crows Nest, IN)</td></tr><tr><td>Tailspin Toys (Wimbledon, ND)</td></tr><tr><td>Tailspin Toys (Lake Erie Beach, NY)</td></tr><tr><td>Wingtip Toys (Haydenville, OH)</td></tr><tr><td>Wingtip Toys (Branson West, MO)</td></tr><tr><td>Tailspin Toys (Fairfield Glade, TN)</td></tr><tr><td>Wingtip Toys (Caton, NY)</td></tr><tr><td>Tailspin Toys (Howells, NE)</td></tr><tr><td>Wingtip Toys (Balko, OK)</td></tr><tr><td>Wingtip Toys (Dacono, CO)</td></tr><tr><td>Drazenka Jelic</td></tr><tr><td>Tailspin Toys (Olivette, MO)</td></tr><tr><td>Tailspin Toys (Tolna, ND)</td></tr><tr><td>Wingtip Toys (Nuangola, PA)</td></tr><tr><td>Wingtip Toys (Huntingburg, IN)</td></tr><tr><td>Wingtip Toys (Oak Point, TX)</td></tr><tr><td>David Jaramillo</td></tr><tr><td>Gabriela Hernandes</td></tr><tr><td>Om Yadav</td></tr><tr><td>Tailspin Toys (Wallagrass, ME)</td></tr><tr><td>Veronika Necesana</td></tr><tr><td>Tailspin Toys (Medicine Lodge, KS)</td></tr><tr><td>Wingtip Toys (Port Hueneme, CA)</td></tr><tr><td>Tailspin Toys (Fishtail, MT)</td></tr><tr><td>Neil Farrelly</td></tr><tr><td>Anil Sarkar</td></tr><tr><td>Tailspin Toys (Statenville, GA)</td></tr><tr><td>Wingtip Toys (Smoot, WY)</td></tr><tr><td>Hanita Nookala</td></tr><tr><td>Tailspin Toys (South La Paloma, TX)</td></tr><tr><td>Wingtip Toys (Paw Paw Lake, MI)</td></tr><tr><td>Tailspin Toys (Topstone, CT)</td></tr><tr><td>Wingtip Toys (Verdery, SC)</td></tr><tr><td>Jack Walker</td></tr><tr><td>Tailspin Toys (King Cove, AK)</td></tr><tr><td>Wingtip Toys (Bokeelia, FL)</td></tr><tr><td>Shi Tu</td></tr><tr><td>Philip Walker</td></tr><tr><td>Chuan Wattanasin</td></tr><tr><td>Tailspin Toys (Premont, TX)</td></tr><tr><td>Bhagavaan Atluri</td></tr><tr><td>Staffan Persson</td></tr><tr><td>Prabodh Nair</td></tr><tr><td>Wingtip Toys (Valhalla, NC)</td></tr><tr><td>Mahavir Sonkar</td></tr><tr><td>Wingtip Toys (Wapinitia, OR)</td></tr><tr><td>Gopalgobinda Sikdar</td></tr><tr><td>Fabrice Cloutier</td></tr><tr><td>Tailspin Toys (Annamoriah, WV)</td></tr><tr><td>Wingtip Toys (Portales, NM)</td></tr><tr><td>Tailspin Toys (North Cowden, TX)</td></tr><tr><td>Agrita Abele</td></tr><tr><td>Tailspin Toys (Page City, KS)</td></tr><tr><td>Wingtip Toys (Edmund, WI)</td></tr><tr><td>Wingtip Toys (Molalla, OR)</td></tr><tr><td>Ajitaab Pakalapati</td></tr><tr><td>Drishti Bose</td></tr><tr><td>Tailspin Toys (Lemeta, AK)</td></tr><tr><td>Isa Hulsegge</td></tr><tr><td>Ian Olofsson</td></tr><tr><td>Valentin Tirlea</td></tr><tr><td>Wingtip Toys (Gilford, NH)</td></tr><tr><td>Wingtip Toys (Frenchburg, KY)</td></tr><tr><td>Bimla PrabhupÄda</td></tr><tr><td>Tailspin Toys (Cokato, MN)</td></tr><tr><td>Tailspin Toys (Ortley Beach, NJ)</td></tr><tr><td>Wingtip Toys (Herlong, CA)</td></tr><tr><td>Volkan senturk</td></tr><tr><td>Tailspin Toys (Avenal, CA)</td></tr><tr><td>Wingtip Toys (Amado, AZ)</td></tr><tr><td>Celica Barajas</td></tr><tr><td>Tailspin Toys (Ekron, KY)</td></tr><tr><td>Wingtip Toys (Plaquemine, LA)</td></tr><tr><td>Rani Ganguly</td></tr><tr><td>Som Mukherjee</td></tr><tr><td>Wingtip Toys (Asher, OK)</td></tr><tr><td>Sointu Savonheimo</td></tr><tr><td>Anna Gyarmathi</td></tr><tr><td>Wingtip Toys (Knights Landing, CA)</td></tr><tr><td>Tailspin Toys (Tomnolen, MS)</td></tr><tr><td>Tailspin Toys (Hiteman, IA)</td></tr><tr><td>Wingtip Toys (North Manitou, MI)</td></tr><tr><td>Wingtip Toys (Palmas del Mar, PR)</td></tr><tr><td>Wingtip Toys (Mayhill, NM)</td></tr><tr><td>Abel Tatarescu</td></tr><tr><td>Wingtip Toys (Plum Branch, SC)</td></tr><tr><td>Malorie Bousquet</td></tr><tr><td>Tailspin Toys (Andrix, CO)</td></tr><tr><td>Wingtip Toys (Cherryplain, NY)</td></tr><tr><td>Tailspin Toys (Stonefort, IL)</td></tr><tr><td>Tailspin Toys (Great Neck Estates, NY)</td></tr><tr><td>Tailspin Toys (Mount Montgomery, NV)</td></tr><tr><td>Wingtip Toys (Hollandsburg, IN)</td></tr><tr><td>Tailspin Toys (Arietta, NY)</td></tr><tr><td>Wingtip Toys (Weld, ME)</td></tr><tr><td>Damodara Trivedi</td></tr><tr><td>Wingtip Toys (Lime Lake, NY)</td></tr><tr><td>Geza Roman</td></tr><tr><td>Nicolo Cattaneo</td></tr><tr><td>Tailspin Toys (Gasport, NY)</td></tr><tr><td>Milinka Zujovic</td></tr><tr><td>Tailspin Toys (Royal City, WA)</td></tr><tr><td>Wingtip Toys (Haycock, AK)</td></tr><tr><td>Tailspin Toys (Antonito, CO)</td></tr><tr><td>Wingtip Toys (Salt Wells, NV)</td></tr><tr><td>Mahmut ozbek</td></tr><tr><td>Wingtip Toys (Morton Grove, IL)</td></tr><tr><td>Tailspin Toys (Guin, AL)</td></tr><tr><td>Tailspin Toys (Baraboo, WI)</td></tr><tr><td>Wingtip Toys (Key Biscayne, FL)</td></tr><tr><td>Miriam House</td></tr><tr><td>Seo-yun Paik</td></tr><tr><td>Wingtip Toys (Marfa, TX)</td></tr><tr><td>Tailspin Toys (Seagraves, TX)</td></tr><tr><td>Wingtip Toys (Obion, TN)</td></tr><tr><td>Aakriti Byrraju</td></tr><tr><td>Tailspin Toys (Orchard Hill, GA)</td></tr><tr><td>Wingtip Toys (Bruceton Mills, WV)</td></tr><tr><td>Anna Mazzanti</td></tr><tr><td>Tailspin Toys (Rafael Capó, PR)</td></tr><tr><td>Wingtip Toys (Corcovado, PR)</td></tr><tr><td>Tomo Vidovic</td></tr><tr><td>Tailspin Toys (Hardeeville, SC)</td></tr><tr><td>Wingtip Toys (Glancy, MS)</td></tr><tr><td>Bala Dixit</td></tr><tr><td>Nils Kaulins</td></tr><tr><td>Arka Chatterjee</td></tr><tr><td>Tailspin Toys (Glen Park, NY)</td></tr><tr><td>Wingtip Toys (Rockwall, TX)</td></tr><tr><td>Leila Carvalho</td></tr><tr><td>Kumar Naicker</td></tr><tr><td>Tailspin Toys (Vidrine, LA)</td></tr><tr><td>Wingtip Toys (Rosa Sánchez, PR)</td></tr><tr><td>Sabine Zalite</td></tr><tr><td>Lakshmi Benipal</td></tr><tr><td>Katerina Hadrabova</td></tr><tr><td>Raghu Sandhu</td></tr><tr><td>Wingtip Toys (Lostine, OR)</td></tr><tr><td>Isidora Morales</td></tr><tr><td>Dinh Mai</td></tr><tr><td>Tailspin Toys (McClave, CO)</td></tr><tr><td>Tailspin Toys (East Portal, CO)</td></tr><tr><td>Tailspin Toys (Ward Ridge, FL)</td></tr><tr><td>Wingtip Toys (Ridgemark, CA)</td></tr><tr><td>Madhu Dwivedi</td></tr><tr><td>Libuse Valentova</td></tr><tr><td>Urve Kasesalu</td></tr><tr><td>Tailspin Toys (Yewed, OK)</td></tr><tr><td>Wingtip Toys (Chetek, WI)</td></tr><tr><td>Dena Glissen</td></tr><tr><td>Wingtip Toys (Licking, MO)</td></tr><tr><td>Jaroslav Fisar</td></tr><tr><td>Wingtip Toys (Cowlington, OK)</td></tr><tr><td>Jay Bhuiyan</td></tr><tr><td>Tailspin Toys (Edgartown, MA)</td></tr><tr><td>Tailspin Toys (Bernie, MO)</td></tr><tr><td>Wingtip Toys (New Laguna, NM)</td></tr><tr><td>Adriana Pena</td></tr><tr><td>Tailspin Toys (La Cueva, NM)</td></tr><tr><td>Wingtip Toys (Rose Tree, PA)</td></tr><tr><td>Ana Florea</td></tr><tr><td>Wingtip Toys (Cadogan, PA)</td></tr><tr><td>Marija Justina Pasek</td></tr><tr><td>Bahaar Asef zade</td></tr><tr><td>Tailspin Toys (Boyden Arbor, SC)</td></tr><tr><td>Tailspin Toys (Diablock, KY)</td></tr><tr><td>Wingtip Toys (Omer, MI)</td></tr><tr><td>Tailspin Toys (Coney Island, MO)</td></tr><tr><td>Tailspin Toys (Hayes Center, NE)</td></tr><tr><td>Tailspin Toys (Dracut, MA)</td></tr><tr><td>Tailspin Toys (Saint Louis Park, MN)</td></tr><tr><td>Wingtip Toys (Sarversville, PA)</td></tr><tr><td>Francisca Laureano</td></tr><tr><td>Tailspin Toys (Nanafalia, AL)</td></tr><tr><td>Tailspin Toys (Fieldbrook, CA)</td></tr><tr><td>Wingtip Toys (Caro, MI)</td></tr><tr><td>Wingtip Toys (Lynne, FL)</td></tr><tr><td>Amarakumaar Gadiyaram</td></tr><tr><td>Vladimir Henzl</td></tr><tr><td>Bishwa Chatterjee</td></tr><tr><td>Baalaamjali Devulapalli</td></tr><tr><td>Tailspin Toys (Severna Park, MD)</td></tr><tr><td>Wingtip Toys (Akhiok, AK)</td></tr><tr><td>Wingtip Toys (Lexington Heights, MI)</td></tr><tr><td>Manjunatha Karnik</td></tr><tr><td>Tailspin Toys (Manahawkin, NJ)</td></tr><tr><td>Tailspin Toys (Sylvanite, MT)</td></tr><tr><td>Wingtip Toys (Pikeview, CO)</td></tr><tr><td>Dominic Davignon</td></tr><tr><td>Debbie Molina</td></tr><tr><td>Daevasree Samavedam</td></tr><tr><td>Tailspin Toys (Trentwood, WA)</td></tr><tr><td>Kumar Kamei</td></tr><tr><td>Tailspin Toys (Good Hart, MI)</td></tr><tr><td>Wingtip Toys (Queen Valley, AZ)</td></tr><tr><td>Emily Whittle</td></tr><tr><td>Tailspin Toys (Cheyenne Wells, CO)</td></tr><tr><td>Wingtip Toys (Willow Valley, AZ)</td></tr><tr><td>Wingtip Toys (Accomac, VA)</td></tr><tr><td>Matyas Sedlar</td></tr><tr><td>Tailspin Toys (Scofield, UT)</td></tr><tr><td>Wingtip Toys (Delray, WV)</td></tr><tr><td>Wingtip Toys (Trout Run, PA)</td></tr><tr><td>Olafs Rozitis</td></tr><tr><td>Tailspin Toys (Furley, KS)</td></tr><tr><td>Wingtip Toys (Stoneboro, PA)</td></tr><tr><td>Wingtip Toys (Lake Ronkonkoma, NY)</td></tr><tr><td>Aleksandrs Riekstins</td></tr><tr><td>Tailspin Toys (Panaca, NV)</td></tr><tr><td>Wingtip Toys (Beekmantown, NY)</td></tr><tr><td>Crina Grasu</td></tr><tr><td>Tailspin Toys (Placer, OR)</td></tr><tr><td>Wingtip Toys (Vamo, FL)</td></tr><tr><td>Daakshaayaani Sankaramanchi</td></tr><tr><td>Victoria Lacusta</td></tr><tr><td>Dhanishta Pullela</td></tr><tr><td>Wingtip Toys (Taft Heights, CA)</td></tr><tr><td>Hana Hlouskova</td></tr><tr><td>Laszlo Gardenier</td></tr><tr><td>Meera Patel</td></tr><tr><td>Amrita Ganguly</td></tr><tr><td>Tailspin Toys (Hahira, GA)</td></tr><tr><td>Wingtip Toys (Orick, CA)</td></tr><tr><td>Nhung Thach</td></tr><tr><td>Tailspin Toys (East Fultonham, OH)</td></tr><tr><td>Annette  Hetu</td></tr><tr><td>Tailspin Toys (Lake Stevens, WA)</td></tr><tr><td>Wingtip Toys (Lytle, TX)</td></tr><tr><td>Wingtip Toys (San Jacinto, CA)</td></tr><tr><td>Alena Kellnerova</td></tr><tr><td>Jibek Juniskyzy</td></tr><tr><td>Mikhail Degtyarev</td></tr><tr><td>Wingtip Toys (Raton, NM)</td></tr><tr><td>Tailspin Toys (Roe Park, NY)</td></tr><tr><td>Elina Kaleja</td></tr><tr><td>Tailspin Toys (East Dailey, WV)</td></tr><tr><td>Wingtip Toys (Bourneville, OH)</td></tr><tr><td>Kalyani Benjaree</td></tr><tr><td>Tailspin Toys (Absecon, NJ)</td></tr><tr><td>Wingtip Toys (Leathersville, GA)</td></tr><tr><td>Wingtip Toys (Munich, ND)</td></tr><tr><td>Tailspin Toys (Orrtanna, PA)</td></tr><tr><td>Wingtip Toys (Bergen Park, CO)</td></tr><tr><td>Durdanah Abbasi</td></tr><tr><td>Tailspin Toys (Eden Valley, MN)</td></tr><tr><td>Liia Orav</td></tr><tr><td>Jasna Cerkez</td></tr><tr><td>Tailspin Toys (Tavares, FL)</td></tr><tr><td>Leyla Asef zade</td></tr><tr><td>Tailspin Toys (Dallardsville, TX)</td></tr><tr><td>Tailspin Toys (Impact, TX)</td></tr><tr><td>Wingtip Toys (Waycross, GA)</td></tr><tr><td>Tailspin Toys (Devault, PA)</td></tr><tr><td>Tailspin Toys (Tierra Verde, FL)</td></tr><tr><td>Wingtip Toys (Ruthsburg, MD)</td></tr><tr><td>Tailspin Toys (Oriole Beach, FL)</td></tr><tr><td>Tailspin Toys (Crary, ND)</td></tr><tr><td>Risto Valbe</td></tr><tr><td>Tailspin Toys (Railroad, PA)</td></tr><tr><td>Wingtip Toys (Shay, PA)</td></tr><tr><td>Wingtip Toys (Saint Landry, LA)</td></tr><tr><td>Ida Celma</td></tr><tr><td>Tailspin Toys (Alstead, NH)</td></tr><tr><td>Tailspin Toys (Kalvesta, KS)</td></tr><tr><td>Shantanu Huq</td></tr><tr><td>Magdalena Michnova</td></tr><tr><td>Baran Jonsson</td></tr><tr><td>Wingtip Toys (Sayner, WI)</td></tr><tr><td>Wingtip Toys (Boalsburg, PA)</td></tr><tr><td>Wingtip Toys (Deeson, MS)</td></tr><tr><td>Akhil Nadar</td></tr><tr><td>Chompoo Atitarn</td></tr><tr><td>Erik Malk</td></tr><tr><td>Tailspin Toys (Manchester Center, VT)</td></tr><tr><td>Wingtip Toys (Alcester, SD)</td></tr><tr><td>Pavel Bogdanov</td></tr><tr><td>Ludmila Smidova</td></tr><tr><td>Tailspin Toys (Magalia, CA)</td></tr><tr><td>Tailspin Toys (Ashtabula, OH)</td></tr><tr><td>Wingtip Toys (Cale, AR)</td></tr><tr><td>Gunnar Lohmus</td></tr><tr><td>Tailspin Toys (Bratenahl, OH)</td></tr><tr><td>Wingtip Toys (Lake Davis, CA)</td></tr><tr><td>Wingtip Toys (West Frostproof, FL)</td></tr><tr><td>Adrian Andreasson</td></tr><tr><td>Caterina Pinto</td></tr><tr><td>Tailspin Toys (McCamey, TX)</td></tr><tr><td>Wingtip Toys (Obetz, OH)</td></tr><tr><td>Jana Fialova</td></tr><tr><td>Isidora Urias</td></tr><tr><td>Alinne Matos</td></tr><tr><td>Ivana Hadrabova</td></tr><tr><td>Gasper Havzija</td></tr><tr><td>Wingtip Toys (Lilbourn, MO)</td></tr><tr><td>Eva Schulteisz</td></tr><tr><td>Wingtip Toys (Tuscaloosa, AL)</td></tr><tr><td>Svetlana Todorovic</td></tr><tr><td>Wingtip Toys (Johnetta, KY)</td></tr><tr><td>Eric Torres</td></tr><tr><td>Tailspin Toys (Cherry Grove Beach, SC)</td></tr><tr><td>Wingtip Toys (Trumansburg, NY)</td></tr><tr><td>Eugen Agafitei</td></tr><tr><td>Tailspin Toys (College Place, WA)</td></tr><tr><td>Wingtip Toys (Baldwin City, KS)</td></tr><tr><td>Aive Petrov</td></tr><tr><td>Tailspin Toys (Gardere, LA)</td></tr><tr><td>Tailspin Toys (Valdese, NC)</td></tr><tr><td>Wingtip Toys (Bozeman Hot Springs, MT)</td></tr><tr><td>Linh Dao</td></tr><tr><td>Wingtip Toys (Marion Junction, AL)</td></tr><tr><td>Ingrida Zeltina</td></tr><tr><td>Luis Saucedo</td></tr><tr><td>Tailspin Toys (North Ridge, NY)</td></tr><tr><td>Tailspin Toys (Astor Park, FL)</td></tr><tr><td>Wingtip Toys (Del Valle, TX)</td></tr><tr><td>Irma Berzina</td></tr><tr><td>Serdar ozCelik</td></tr><tr><td>Tailspin Toys (Indios, PR)</td></tr><tr><td>Amarasimha Vinjamuri</td></tr><tr><td>Tailspin Toys (Kwethluk, AK)</td></tr><tr><td>Olya Izmaylov</td></tr><tr><td>Violetta KlanCisar</td></tr><tr><td>Tailspin Toys (Caselton, NV)</td></tr><tr><td>Wingtip Toys (Philip, SD)</td></tr><tr><td>Camille Authier</td></tr><tr><td>Wingtip Toys (Lowellville, OH)</td></tr><tr><td>Wingtip Toys (Triadelphia, WV)</td></tr><tr><td>Tailspin Toys (Lakemore, OH)</td></tr><tr><td>Wingtip Toys (Liberty Grove, MD)</td></tr><tr><td>Tailspin Toys (Saks, AL)</td></tr><tr><td>Kwanjai Saowaluk</td></tr><tr><td>In-Su Bae</td></tr><tr><td>Tailspin Toys (Long Meadow, MD)</td></tr><tr><td>Wingtip Toys (North Beach Haven, NJ)</td></tr><tr><td>Kristiina Ivanov</td></tr><tr><td>Tailspin Toys (Kerby, OR)</td></tr><tr><td>Wingtip Toys (Griswoldville, GA)</td></tr><tr><td>Wingtip Toys (Bell Acres, PA)</td></tr><tr><td>Tailspin Toys (Carbonville, UT)</td></tr><tr><td>Anindya Ghatak</td></tr><tr><td>Tailspin Toys (Bow Mar, CO)</td></tr><tr><td>Wingtip Toys (Teutopolis, IL)</td></tr><tr><td>Wingtip Toys (Kapa'a, HI)</td></tr><tr><td>Andris Saulitis</td></tr><tr><td>Serdar ozden</td></tr><tr><td>Bhaamini Palagummi</td></tr><tr><td>Tailspin Toys (Imlaystown, NJ)</td></tr><tr><td>Tailspin Toys (Antares, AZ)</td></tr><tr><td>Tailspin Toys (Naples Park, FL)</td></tr><tr><td>Tailspin Toys (Tooele, UT)</td></tr><tr><td>Tailspin Toys (Tunnelhill, PA)</td></tr><tr><td>Wingtip Toys (Dunkerton, IA)</td></tr><tr><td>Joel Carrillo</td></tr><tr><td>Wingtip Toys (Berville, MI)</td></tr><tr><td>Wingtip Toys (Birds, IL)</td></tr><tr><td>Wingtip Toys (Mickleton, NJ)</td></tr><tr><td>Kamala Nishad</td></tr><tr><td>Cuneyt Arslan</td></tr></table>"
                    },
                    "metadata": {}
                }
            ],
            "execution_count": 16
        },
        {
            "cell_type": "code",
            "source": [
                "--Find the People that are employees (IsEmploye=TRUE) and are a Primary or Alternate Contact\n",
                "--Person for less than 3 customers.\n",
                "with countA as\n",
                "(select c.AlternateContactPersonID, count(*) countAlternatePerson\n",
                "from WideWorldImporters.Application.People p \n",
                "join WideWorldImporters.Sales.Customers c on c.AlternateContactPersonID = p.PersonID\n",
                "group by c.AlternateContactPersonID),\n",
                "countP as\n",
                "(select c.PrimaryContactPersonID, count(*) countPrimaryPerson\n",
                "from WideWorldImporters.Application.People p \n",
                "join WideWorldImporters.Sales.Customers c on c.PrimaryContactPersonID = p.PersonID\n",
                "group by c.PrimaryContactPersonID)\n",
                "select * from countP"
            ],
            "metadata": {
                "azdata_cell_guid": "dde68129-42d0-4bff-968a-1a9425afd529",
                "language": "sql"
            },
            "outputs": [
                {
                    "output_type": "display_data",
                    "data": {
                        "text/html": "(663 rows affected)"
                    },
                    "metadata": {}
                },
                {
                    "output_type": "display_data",
                    "data": {
                        "text/html": "Total execution time: 00:00:00.139"
                    },
                    "metadata": {}
                },
                {
                    "output_type": "execute_result",
                    "execution_count": 31,
                    "data": {
                        "application/vnd.dataresource+json": {
                            "schema": {
                                "fields": [
                                    {
                                        "name": "PrimaryContactPersonID"
                                    },
                                    {
                                        "name": "countPrimaryPerson"
                                    }
                                ]
                            },
                            "data": [
                                {
                                    "0": "1001",
                                    "1": "1"
                                },
                                {
                                    "0": "1003",
                                    "1": "1"
                                },
                                {
                                    "0": "1005",
                                    "1": "1"
                                },
                                {
                                    "0": "1007",
                                    "1": "1"
                                },
                                {
                                    "0": "1009",
                                    "1": "1"
                                },
                                {
                                    "0": "1011",
                                    "1": "1"
                                },
                                {
                                    "0": "1013",
                                    "1": "1"
                                },
                                {
                                    "0": "1015",
                                    "1": "1"
                                },
                                {
                                    "0": "1017",
                                    "1": "1"
                                },
                                {
                                    "0": "1019",
                                    "1": "1"
                                },
                                {
                                    "0": "1021",
                                    "1": "1"
                                },
                                {
                                    "0": "1023",
                                    "1": "1"
                                },
                                {
                                    "0": "1025",
                                    "1": "1"
                                },
                                {
                                    "0": "1027",
                                    "1": "1"
                                },
                                {
                                    "0": "1029",
                                    "1": "1"
                                },
                                {
                                    "0": "1031",
                                    "1": "1"
                                },
                                {
                                    "0": "1033",
                                    "1": "1"
                                },
                                {
                                    "0": "1035",
                                    "1": "1"
                                },
                                {
                                    "0": "1037",
                                    "1": "1"
                                },
                                {
                                    "0": "1039",
                                    "1": "1"
                                },
                                {
                                    "0": "1041",
                                    "1": "1"
                                },
                                {
                                    "0": "1043",
                                    "1": "1"
                                },
                                {
                                    "0": "1045",
                                    "1": "1"
                                },
                                {
                                    "0": "1047",
                                    "1": "1"
                                },
                                {
                                    "0": "1049",
                                    "1": "1"
                                },
                                {
                                    "0": "1051",
                                    "1": "1"
                                },
                                {
                                    "0": "1053",
                                    "1": "1"
                                },
                                {
                                    "0": "1055",
                                    "1": "1"
                                },
                                {
                                    "0": "1057",
                                    "1": "1"
                                },
                                {
                                    "0": "1059",
                                    "1": "1"
                                },
                                {
                                    "0": "1061",
                                    "1": "1"
                                },
                                {
                                    "0": "1063",
                                    "1": "1"
                                },
                                {
                                    "0": "1065",
                                    "1": "1"
                                },
                                {
                                    "0": "1067",
                                    "1": "1"
                                },
                                {
                                    "0": "1069",
                                    "1": "1"
                                },
                                {
                                    "0": "1071",
                                    "1": "1"
                                },
                                {
                                    "0": "1073",
                                    "1": "1"
                                },
                                {
                                    "0": "1075",
                                    "1": "1"
                                },
                                {
                                    "0": "1077",
                                    "1": "1"
                                },
                                {
                                    "0": "1079",
                                    "1": "1"
                                },
                                {
                                    "0": "1081",
                                    "1": "1"
                                },
                                {
                                    "0": "1083",
                                    "1": "1"
                                },
                                {
                                    "0": "1085",
                                    "1": "1"
                                },
                                {
                                    "0": "1087",
                                    "1": "1"
                                },
                                {
                                    "0": "1089",
                                    "1": "1"
                                },
                                {
                                    "0": "1091",
                                    "1": "1"
                                },
                                {
                                    "0": "1093",
                                    "1": "1"
                                },
                                {
                                    "0": "1095",
                                    "1": "1"
                                },
                                {
                                    "0": "1097",
                                    "1": "1"
                                },
                                {
                                    "0": "1099",
                                    "1": "1"
                                },
                                {
                                    "0": "1101",
                                    "1": "1"
                                },
                                {
                                    "0": "1103",
                                    "1": "1"
                                },
                                {
                                    "0": "1105",
                                    "1": "1"
                                },
                                {
                                    "0": "1107",
                                    "1": "1"
                                },
                                {
                                    "0": "1109",
                                    "1": "1"
                                },
                                {
                                    "0": "1111",
                                    "1": "1"
                                },
                                {
                                    "0": "1113",
                                    "1": "1"
                                },
                                {
                                    "0": "1115",
                                    "1": "1"
                                },
                                {
                                    "0": "1117",
                                    "1": "1"
                                },
                                {
                                    "0": "1119",
                                    "1": "1"
                                },
                                {
                                    "0": "1121",
                                    "1": "1"
                                },
                                {
                                    "0": "1123",
                                    "1": "1"
                                },
                                {
                                    "0": "1125",
                                    "1": "1"
                                },
                                {
                                    "0": "1127",
                                    "1": "1"
                                },
                                {
                                    "0": "1129",
                                    "1": "1"
                                },
                                {
                                    "0": "1131",
                                    "1": "1"
                                },
                                {
                                    "0": "1133",
                                    "1": "1"
                                },
                                {
                                    "0": "1135",
                                    "1": "1"
                                },
                                {
                                    "0": "1137",
                                    "1": "1"
                                },
                                {
                                    "0": "1139",
                                    "1": "1"
                                },
                                {
                                    "0": "1141",
                                    "1": "1"
                                },
                                {
                                    "0": "1143",
                                    "1": "1"
                                },
                                {
                                    "0": "1145",
                                    "1": "1"
                                },
                                {
                                    "0": "1147",
                                    "1": "1"
                                },
                                {
                                    "0": "1149",
                                    "1": "1"
                                },
                                {
                                    "0": "1151",
                                    "1": "1"
                                },
                                {
                                    "0": "1153",
                                    "1": "1"
                                },
                                {
                                    "0": "1155",
                                    "1": "1"
                                },
                                {
                                    "0": "1157",
                                    "1": "1"
                                },
                                {
                                    "0": "1159",
                                    "1": "1"
                                },
                                {
                                    "0": "1161",
                                    "1": "1"
                                },
                                {
                                    "0": "1163",
                                    "1": "1"
                                },
                                {
                                    "0": "1165",
                                    "1": "1"
                                },
                                {
                                    "0": "1167",
                                    "1": "1"
                                },
                                {
                                    "0": "1169",
                                    "1": "1"
                                },
                                {
                                    "0": "1171",
                                    "1": "1"
                                },
                                {
                                    "0": "1173",
                                    "1": "1"
                                },
                                {
                                    "0": "1175",
                                    "1": "1"
                                },
                                {
                                    "0": "1177",
                                    "1": "1"
                                },
                                {
                                    "0": "1179",
                                    "1": "1"
                                },
                                {
                                    "0": "1181",
                                    "1": "1"
                                },
                                {
                                    "0": "1183",
                                    "1": "1"
                                },
                                {
                                    "0": "1185",
                                    "1": "1"
                                },
                                {
                                    "0": "1187",
                                    "1": "1"
                                },
                                {
                                    "0": "1189",
                                    "1": "1"
                                },
                                {
                                    "0": "1191",
                                    "1": "1"
                                },
                                {
                                    "0": "1193",
                                    "1": "1"
                                },
                                {
                                    "0": "1195",
                                    "1": "1"
                                },
                                {
                                    "0": "1197",
                                    "1": "1"
                                },
                                {
                                    "0": "1199",
                                    "1": "1"
                                },
                                {
                                    "0": "1201",
                                    "1": "1"
                                },
                                {
                                    "0": "1203",
                                    "1": "1"
                                },
                                {
                                    "0": "1205",
                                    "1": "1"
                                },
                                {
                                    "0": "1207",
                                    "1": "1"
                                },
                                {
                                    "0": "1209",
                                    "1": "1"
                                },
                                {
                                    "0": "1211",
                                    "1": "1"
                                },
                                {
                                    "0": "1213",
                                    "1": "1"
                                },
                                {
                                    "0": "1215",
                                    "1": "1"
                                },
                                {
                                    "0": "1217",
                                    "1": "1"
                                },
                                {
                                    "0": "1219",
                                    "1": "1"
                                },
                                {
                                    "0": "1221",
                                    "1": "1"
                                },
                                {
                                    "0": "1223",
                                    "1": "1"
                                },
                                {
                                    "0": "1225",
                                    "1": "1"
                                },
                                {
                                    "0": "1227",
                                    "1": "1"
                                },
                                {
                                    "0": "1229",
                                    "1": "1"
                                },
                                {
                                    "0": "1231",
                                    "1": "1"
                                },
                                {
                                    "0": "1233",
                                    "1": "1"
                                },
                                {
                                    "0": "1235",
                                    "1": "1"
                                },
                                {
                                    "0": "1237",
                                    "1": "1"
                                },
                                {
                                    "0": "1239",
                                    "1": "1"
                                },
                                {
                                    "0": "1241",
                                    "1": "1"
                                },
                                {
                                    "0": "1243",
                                    "1": "1"
                                },
                                {
                                    "0": "1245",
                                    "1": "1"
                                },
                                {
                                    "0": "1247",
                                    "1": "1"
                                },
                                {
                                    "0": "1249",
                                    "1": "1"
                                },
                                {
                                    "0": "1251",
                                    "1": "1"
                                },
                                {
                                    "0": "1253",
                                    "1": "1"
                                },
                                {
                                    "0": "1255",
                                    "1": "1"
                                },
                                {
                                    "0": "1257",
                                    "1": "1"
                                },
                                {
                                    "0": "1259",
                                    "1": "1"
                                },
                                {
                                    "0": "1261",
                                    "1": "1"
                                },
                                {
                                    "0": "1263",
                                    "1": "1"
                                },
                                {
                                    "0": "1265",
                                    "1": "1"
                                },
                                {
                                    "0": "1267",
                                    "1": "1"
                                },
                                {
                                    "0": "1269",
                                    "1": "1"
                                },
                                {
                                    "0": "1271",
                                    "1": "1"
                                },
                                {
                                    "0": "1273",
                                    "1": "1"
                                },
                                {
                                    "0": "1275",
                                    "1": "1"
                                },
                                {
                                    "0": "1277",
                                    "1": "1"
                                },
                                {
                                    "0": "1279",
                                    "1": "1"
                                },
                                {
                                    "0": "1281",
                                    "1": "1"
                                },
                                {
                                    "0": "1283",
                                    "1": "1"
                                },
                                {
                                    "0": "1285",
                                    "1": "1"
                                },
                                {
                                    "0": "1287",
                                    "1": "1"
                                },
                                {
                                    "0": "1289",
                                    "1": "1"
                                },
                                {
                                    "0": "1291",
                                    "1": "1"
                                },
                                {
                                    "0": "1293",
                                    "1": "1"
                                },
                                {
                                    "0": "1295",
                                    "1": "1"
                                },
                                {
                                    "0": "1297",
                                    "1": "1"
                                },
                                {
                                    "0": "1299",
                                    "1": "1"
                                },
                                {
                                    "0": "1301",
                                    "1": "1"
                                },
                                {
                                    "0": "1303",
                                    "1": "1"
                                },
                                {
                                    "0": "1305",
                                    "1": "1"
                                },
                                {
                                    "0": "1307",
                                    "1": "1"
                                },
                                {
                                    "0": "1309",
                                    "1": "1"
                                },
                                {
                                    "0": "1311",
                                    "1": "1"
                                },
                                {
                                    "0": "1313",
                                    "1": "1"
                                },
                                {
                                    "0": "1315",
                                    "1": "1"
                                },
                                {
                                    "0": "1317",
                                    "1": "1"
                                },
                                {
                                    "0": "1319",
                                    "1": "1"
                                },
                                {
                                    "0": "1321",
                                    "1": "1"
                                },
                                {
                                    "0": "1323",
                                    "1": "1"
                                },
                                {
                                    "0": "1325",
                                    "1": "1"
                                },
                                {
                                    "0": "1327",
                                    "1": "1"
                                },
                                {
                                    "0": "1329",
                                    "1": "1"
                                },
                                {
                                    "0": "1331",
                                    "1": "1"
                                },
                                {
                                    "0": "1333",
                                    "1": "1"
                                },
                                {
                                    "0": "1335",
                                    "1": "1"
                                },
                                {
                                    "0": "1337",
                                    "1": "1"
                                },
                                {
                                    "0": "1339",
                                    "1": "1"
                                },
                                {
                                    "0": "1341",
                                    "1": "1"
                                },
                                {
                                    "0": "1343",
                                    "1": "1"
                                },
                                {
                                    "0": "1345",
                                    "1": "1"
                                },
                                {
                                    "0": "1347",
                                    "1": "1"
                                },
                                {
                                    "0": "1349",
                                    "1": "1"
                                },
                                {
                                    "0": "1351",
                                    "1": "1"
                                },
                                {
                                    "0": "1353",
                                    "1": "1"
                                },
                                {
                                    "0": "1355",
                                    "1": "1"
                                },
                                {
                                    "0": "1357",
                                    "1": "1"
                                },
                                {
                                    "0": "1359",
                                    "1": "1"
                                },
                                {
                                    "0": "1361",
                                    "1": "1"
                                },
                                {
                                    "0": "1363",
                                    "1": "1"
                                },
                                {
                                    "0": "1365",
                                    "1": "1"
                                },
                                {
                                    "0": "1367",
                                    "1": "1"
                                },
                                {
                                    "0": "1369",
                                    "1": "1"
                                },
                                {
                                    "0": "1371",
                                    "1": "1"
                                },
                                {
                                    "0": "1373",
                                    "1": "1"
                                },
                                {
                                    "0": "1375",
                                    "1": "1"
                                },
                                {
                                    "0": "1377",
                                    "1": "1"
                                },
                                {
                                    "0": "1379",
                                    "1": "1"
                                },
                                {
                                    "0": "1381",
                                    "1": "1"
                                },
                                {
                                    "0": "1383",
                                    "1": "1"
                                },
                                {
                                    "0": "1385",
                                    "1": "1"
                                },
                                {
                                    "0": "1387",
                                    "1": "1"
                                },
                                {
                                    "0": "1389",
                                    "1": "1"
                                },
                                {
                                    "0": "1391",
                                    "1": "1"
                                },
                                {
                                    "0": "1393",
                                    "1": "1"
                                },
                                {
                                    "0": "1395",
                                    "1": "1"
                                },
                                {
                                    "0": "1397",
                                    "1": "1"
                                },
                                {
                                    "0": "1399",
                                    "1": "1"
                                },
                                {
                                    "0": "1401",
                                    "1": "1"
                                },
                                {
                                    "0": "2001",
                                    "1": "1"
                                },
                                {
                                    "0": "2003",
                                    "1": "1"
                                },
                                {
                                    "0": "2005",
                                    "1": "1"
                                },
                                {
                                    "0": "2007",
                                    "1": "1"
                                },
                                {
                                    "0": "2009",
                                    "1": "1"
                                },
                                {
                                    "0": "2011",
                                    "1": "1"
                                },
                                {
                                    "0": "2013",
                                    "1": "1"
                                },
                                {
                                    "0": "2015",
                                    "1": "1"
                                },
                                {
                                    "0": "2017",
                                    "1": "1"
                                },
                                {
                                    "0": "2019",
                                    "1": "1"
                                },
                                {
                                    "0": "2021",
                                    "1": "1"
                                },
                                {
                                    "0": "2023",
                                    "1": "1"
                                },
                                {
                                    "0": "2025",
                                    "1": "1"
                                },
                                {
                                    "0": "2027",
                                    "1": "1"
                                },
                                {
                                    "0": "2029",
                                    "1": "1"
                                },
                                {
                                    "0": "2031",
                                    "1": "1"
                                },
                                {
                                    "0": "2033",
                                    "1": "1"
                                },
                                {
                                    "0": "2035",
                                    "1": "1"
                                },
                                {
                                    "0": "2037",
                                    "1": "1"
                                },
                                {
                                    "0": "2039",
                                    "1": "1"
                                },
                                {
                                    "0": "2041",
                                    "1": "1"
                                },
                                {
                                    "0": "2043",
                                    "1": "1"
                                },
                                {
                                    "0": "2045",
                                    "1": "1"
                                },
                                {
                                    "0": "2047",
                                    "1": "1"
                                },
                                {
                                    "0": "2049",
                                    "1": "1"
                                },
                                {
                                    "0": "2051",
                                    "1": "1"
                                },
                                {
                                    "0": "2053",
                                    "1": "1"
                                },
                                {
                                    "0": "2055",
                                    "1": "1"
                                },
                                {
                                    "0": "2057",
                                    "1": "1"
                                },
                                {
                                    "0": "2059",
                                    "1": "1"
                                },
                                {
                                    "0": "2061",
                                    "1": "1"
                                },
                                {
                                    "0": "2063",
                                    "1": "1"
                                },
                                {
                                    "0": "2065",
                                    "1": "1"
                                },
                                {
                                    "0": "2067",
                                    "1": "1"
                                },
                                {
                                    "0": "2069",
                                    "1": "1"
                                },
                                {
                                    "0": "2071",
                                    "1": "1"
                                },
                                {
                                    "0": "2073",
                                    "1": "1"
                                },
                                {
                                    "0": "2075",
                                    "1": "1"
                                },
                                {
                                    "0": "2077",
                                    "1": "1"
                                },
                                {
                                    "0": "2079",
                                    "1": "1"
                                },
                                {
                                    "0": "2081",
                                    "1": "1"
                                },
                                {
                                    "0": "2083",
                                    "1": "1"
                                },
                                {
                                    "0": "2085",
                                    "1": "1"
                                },
                                {
                                    "0": "2087",
                                    "1": "1"
                                },
                                {
                                    "0": "2089",
                                    "1": "1"
                                },
                                {
                                    "0": "2091",
                                    "1": "1"
                                },
                                {
                                    "0": "2093",
                                    "1": "1"
                                },
                                {
                                    "0": "2095",
                                    "1": "1"
                                },
                                {
                                    "0": "2097",
                                    "1": "1"
                                },
                                {
                                    "0": "2099",
                                    "1": "1"
                                },
                                {
                                    "0": "2101",
                                    "1": "1"
                                },
                                {
                                    "0": "2103",
                                    "1": "1"
                                },
                                {
                                    "0": "2105",
                                    "1": "1"
                                },
                                {
                                    "0": "2107",
                                    "1": "1"
                                },
                                {
                                    "0": "2109",
                                    "1": "1"
                                },
                                {
                                    "0": "2111",
                                    "1": "1"
                                },
                                {
                                    "0": "2113",
                                    "1": "1"
                                },
                                {
                                    "0": "2115",
                                    "1": "1"
                                },
                                {
                                    "0": "2117",
                                    "1": "1"
                                },
                                {
                                    "0": "2119",
                                    "1": "1"
                                },
                                {
                                    "0": "2121",
                                    "1": "1"
                                },
                                {
                                    "0": "2123",
                                    "1": "1"
                                },
                                {
                                    "0": "2125",
                                    "1": "1"
                                },
                                {
                                    "0": "2127",
                                    "1": "1"
                                },
                                {
                                    "0": "2129",
                                    "1": "1"
                                },
                                {
                                    "0": "2131",
                                    "1": "1"
                                },
                                {
                                    "0": "2133",
                                    "1": "1"
                                },
                                {
                                    "0": "2135",
                                    "1": "1"
                                },
                                {
                                    "0": "2137",
                                    "1": "1"
                                },
                                {
                                    "0": "2139",
                                    "1": "1"
                                },
                                {
                                    "0": "2141",
                                    "1": "1"
                                },
                                {
                                    "0": "2143",
                                    "1": "1"
                                },
                                {
                                    "0": "2145",
                                    "1": "1"
                                },
                                {
                                    "0": "2147",
                                    "1": "1"
                                },
                                {
                                    "0": "2149",
                                    "1": "1"
                                },
                                {
                                    "0": "2151",
                                    "1": "1"
                                },
                                {
                                    "0": "2153",
                                    "1": "1"
                                },
                                {
                                    "0": "2155",
                                    "1": "1"
                                },
                                {
                                    "0": "2157",
                                    "1": "1"
                                },
                                {
                                    "0": "2159",
                                    "1": "1"
                                },
                                {
                                    "0": "2161",
                                    "1": "1"
                                },
                                {
                                    "0": "2163",
                                    "1": "1"
                                },
                                {
                                    "0": "2165",
                                    "1": "1"
                                },
                                {
                                    "0": "2167",
                                    "1": "1"
                                },
                                {
                                    "0": "2169",
                                    "1": "1"
                                },
                                {
                                    "0": "2171",
                                    "1": "1"
                                },
                                {
                                    "0": "2173",
                                    "1": "1"
                                },
                                {
                                    "0": "2175",
                                    "1": "1"
                                },
                                {
                                    "0": "2177",
                                    "1": "1"
                                },
                                {
                                    "0": "2179",
                                    "1": "1"
                                },
                                {
                                    "0": "2181",
                                    "1": "1"
                                },
                                {
                                    "0": "2183",
                                    "1": "1"
                                },
                                {
                                    "0": "2185",
                                    "1": "1"
                                },
                                {
                                    "0": "2187",
                                    "1": "1"
                                },
                                {
                                    "0": "2189",
                                    "1": "1"
                                },
                                {
                                    "0": "2191",
                                    "1": "1"
                                },
                                {
                                    "0": "2193",
                                    "1": "1"
                                },
                                {
                                    "0": "2195",
                                    "1": "1"
                                },
                                {
                                    "0": "2197",
                                    "1": "1"
                                },
                                {
                                    "0": "2199",
                                    "1": "1"
                                },
                                {
                                    "0": "2201",
                                    "1": "1"
                                },
                                {
                                    "0": "2203",
                                    "1": "1"
                                },
                                {
                                    "0": "2205",
                                    "1": "1"
                                },
                                {
                                    "0": "2207",
                                    "1": "1"
                                },
                                {
                                    "0": "2209",
                                    "1": "1"
                                },
                                {
                                    "0": "2211",
                                    "1": "1"
                                },
                                {
                                    "0": "2213",
                                    "1": "1"
                                },
                                {
                                    "0": "2215",
                                    "1": "1"
                                },
                                {
                                    "0": "2217",
                                    "1": "1"
                                },
                                {
                                    "0": "2219",
                                    "1": "1"
                                },
                                {
                                    "0": "2221",
                                    "1": "1"
                                },
                                {
                                    "0": "2223",
                                    "1": "1"
                                },
                                {
                                    "0": "2225",
                                    "1": "1"
                                },
                                {
                                    "0": "2227",
                                    "1": "1"
                                },
                                {
                                    "0": "2229",
                                    "1": "1"
                                },
                                {
                                    "0": "2231",
                                    "1": "1"
                                },
                                {
                                    "0": "2233",
                                    "1": "1"
                                },
                                {
                                    "0": "2235",
                                    "1": "1"
                                },
                                {
                                    "0": "2237",
                                    "1": "1"
                                },
                                {
                                    "0": "2239",
                                    "1": "1"
                                },
                                {
                                    "0": "2241",
                                    "1": "1"
                                },
                                {
                                    "0": "2243",
                                    "1": "1"
                                },
                                {
                                    "0": "2245",
                                    "1": "1"
                                },
                                {
                                    "0": "2247",
                                    "1": "1"
                                },
                                {
                                    "0": "2249",
                                    "1": "1"
                                },
                                {
                                    "0": "2251",
                                    "1": "1"
                                },
                                {
                                    "0": "2253",
                                    "1": "1"
                                },
                                {
                                    "0": "2255",
                                    "1": "1"
                                },
                                {
                                    "0": "2257",
                                    "1": "1"
                                },
                                {
                                    "0": "2259",
                                    "1": "1"
                                },
                                {
                                    "0": "2261",
                                    "1": "1"
                                },
                                {
                                    "0": "2263",
                                    "1": "1"
                                },
                                {
                                    "0": "2265",
                                    "1": "1"
                                },
                                {
                                    "0": "2267",
                                    "1": "1"
                                },
                                {
                                    "0": "2269",
                                    "1": "1"
                                },
                                {
                                    "0": "2271",
                                    "1": "1"
                                },
                                {
                                    "0": "2273",
                                    "1": "1"
                                },
                                {
                                    "0": "2275",
                                    "1": "1"
                                },
                                {
                                    "0": "2277",
                                    "1": "1"
                                },
                                {
                                    "0": "2279",
                                    "1": "1"
                                },
                                {
                                    "0": "2281",
                                    "1": "1"
                                },
                                {
                                    "0": "2283",
                                    "1": "1"
                                },
                                {
                                    "0": "2285",
                                    "1": "1"
                                },
                                {
                                    "0": "2287",
                                    "1": "1"
                                },
                                {
                                    "0": "2289",
                                    "1": "1"
                                },
                                {
                                    "0": "2291",
                                    "1": "1"
                                },
                                {
                                    "0": "2293",
                                    "1": "1"
                                },
                                {
                                    "0": "2295",
                                    "1": "1"
                                },
                                {
                                    "0": "2297",
                                    "1": "1"
                                },
                                {
                                    "0": "2299",
                                    "1": "1"
                                },
                                {
                                    "0": "2301",
                                    "1": "1"
                                },
                                {
                                    "0": "2303",
                                    "1": "1"
                                },
                                {
                                    "0": "2305",
                                    "1": "1"
                                },
                                {
                                    "0": "2307",
                                    "1": "1"
                                },
                                {
                                    "0": "2309",
                                    "1": "1"
                                },
                                {
                                    "0": "2311",
                                    "1": "1"
                                },
                                {
                                    "0": "2313",
                                    "1": "1"
                                },
                                {
                                    "0": "2315",
                                    "1": "1"
                                },
                                {
                                    "0": "2317",
                                    "1": "1"
                                },
                                {
                                    "0": "2319",
                                    "1": "1"
                                },
                                {
                                    "0": "2321",
                                    "1": "1"
                                },
                                {
                                    "0": "2323",
                                    "1": "1"
                                },
                                {
                                    "0": "2325",
                                    "1": "1"
                                },
                                {
                                    "0": "2327",
                                    "1": "1"
                                },
                                {
                                    "0": "2329",
                                    "1": "1"
                                },
                                {
                                    "0": "2331",
                                    "1": "1"
                                },
                                {
                                    "0": "2333",
                                    "1": "1"
                                },
                                {
                                    "0": "2335",
                                    "1": "1"
                                },
                                {
                                    "0": "2337",
                                    "1": "1"
                                },
                                {
                                    "0": "2339",
                                    "1": "1"
                                },
                                {
                                    "0": "2341",
                                    "1": "1"
                                },
                                {
                                    "0": "2343",
                                    "1": "1"
                                },
                                {
                                    "0": "2345",
                                    "1": "1"
                                },
                                {
                                    "0": "2347",
                                    "1": "1"
                                },
                                {
                                    "0": "2349",
                                    "1": "1"
                                },
                                {
                                    "0": "2351",
                                    "1": "1"
                                },
                                {
                                    "0": "2353",
                                    "1": "1"
                                },
                                {
                                    "0": "2355",
                                    "1": "1"
                                },
                                {
                                    "0": "2357",
                                    "1": "1"
                                },
                                {
                                    "0": "2359",
                                    "1": "1"
                                },
                                {
                                    "0": "2361",
                                    "1": "1"
                                },
                                {
                                    "0": "2363",
                                    "1": "1"
                                },
                                {
                                    "0": "2365",
                                    "1": "1"
                                },
                                {
                                    "0": "2367",
                                    "1": "1"
                                },
                                {
                                    "0": "2369",
                                    "1": "1"
                                },
                                {
                                    "0": "2371",
                                    "1": "1"
                                },
                                {
                                    "0": "2373",
                                    "1": "1"
                                },
                                {
                                    "0": "2375",
                                    "1": "1"
                                },
                                {
                                    "0": "2377",
                                    "1": "1"
                                },
                                {
                                    "0": "2379",
                                    "1": "1"
                                },
                                {
                                    "0": "2381",
                                    "1": "1"
                                },
                                {
                                    "0": "2383",
                                    "1": "1"
                                },
                                {
                                    "0": "2385",
                                    "1": "1"
                                },
                                {
                                    "0": "2387",
                                    "1": "1"
                                },
                                {
                                    "0": "2389",
                                    "1": "1"
                                },
                                {
                                    "0": "2391",
                                    "1": "1"
                                },
                                {
                                    "0": "2393",
                                    "1": "1"
                                },
                                {
                                    "0": "2395",
                                    "1": "1"
                                },
                                {
                                    "0": "2397",
                                    "1": "1"
                                },
                                {
                                    "0": "2399",
                                    "1": "1"
                                },
                                {
                                    "0": "2401",
                                    "1": "1"
                                },
                                {
                                    "0": "3001",
                                    "1": "1"
                                },
                                {
                                    "0": "3002",
                                    "1": "1"
                                },
                                {
                                    "0": "3003",
                                    "1": "1"
                                },
                                {
                                    "0": "3004",
                                    "1": "1"
                                },
                                {
                                    "0": "3005",
                                    "1": "1"
                                },
                                {
                                    "0": "3006",
                                    "1": "1"
                                },
                                {
                                    "0": "3007",
                                    "1": "1"
                                },
                                {
                                    "0": "3008",
                                    "1": "1"
                                },
                                {
                                    "0": "3009",
                                    "1": "1"
                                },
                                {
                                    "0": "3010",
                                    "1": "1"
                                },
                                {
                                    "0": "3011",
                                    "1": "1"
                                },
                                {
                                    "0": "3012",
                                    "1": "1"
                                },
                                {
                                    "0": "3013",
                                    "1": "1"
                                },
                                {
                                    "0": "3014",
                                    "1": "1"
                                },
                                {
                                    "0": "3015",
                                    "1": "1"
                                },
                                {
                                    "0": "3016",
                                    "1": "1"
                                },
                                {
                                    "0": "3017",
                                    "1": "1"
                                },
                                {
                                    "0": "3018",
                                    "1": "1"
                                },
                                {
                                    "0": "3019",
                                    "1": "1"
                                },
                                {
                                    "0": "3020",
                                    "1": "1"
                                },
                                {
                                    "0": "3021",
                                    "1": "1"
                                },
                                {
                                    "0": "3022",
                                    "1": "1"
                                },
                                {
                                    "0": "3023",
                                    "1": "1"
                                },
                                {
                                    "0": "3024",
                                    "1": "1"
                                },
                                {
                                    "0": "3025",
                                    "1": "1"
                                },
                                {
                                    "0": "3026",
                                    "1": "1"
                                },
                                {
                                    "0": "3027",
                                    "1": "1"
                                },
                                {
                                    "0": "3028",
                                    "1": "1"
                                },
                                {
                                    "0": "3029",
                                    "1": "1"
                                },
                                {
                                    "0": "3030",
                                    "1": "1"
                                },
                                {
                                    "0": "3031",
                                    "1": "1"
                                },
                                {
                                    "0": "3032",
                                    "1": "1"
                                },
                                {
                                    "0": "3033",
                                    "1": "1"
                                },
                                {
                                    "0": "3034",
                                    "1": "1"
                                },
                                {
                                    "0": "3035",
                                    "1": "1"
                                },
                                {
                                    "0": "3036",
                                    "1": "1"
                                },
                                {
                                    "0": "3037",
                                    "1": "1"
                                },
                                {
                                    "0": "3038",
                                    "1": "1"
                                },
                                {
                                    "0": "3039",
                                    "1": "1"
                                },
                                {
                                    "0": "3040",
                                    "1": "1"
                                },
                                {
                                    "0": "3041",
                                    "1": "1"
                                },
                                {
                                    "0": "3042",
                                    "1": "1"
                                },
                                {
                                    "0": "3043",
                                    "1": "1"
                                },
                                {
                                    "0": "3044",
                                    "1": "1"
                                },
                                {
                                    "0": "3045",
                                    "1": "1"
                                },
                                {
                                    "0": "3046",
                                    "1": "1"
                                },
                                {
                                    "0": "3047",
                                    "1": "1"
                                },
                                {
                                    "0": "3048",
                                    "1": "1"
                                },
                                {
                                    "0": "3049",
                                    "1": "1"
                                },
                                {
                                    "0": "3050",
                                    "1": "1"
                                },
                                {
                                    "0": "3051",
                                    "1": "1"
                                },
                                {
                                    "0": "3052",
                                    "1": "1"
                                },
                                {
                                    "0": "3053",
                                    "1": "1"
                                },
                                {
                                    "0": "3054",
                                    "1": "1"
                                },
                                {
                                    "0": "3055",
                                    "1": "1"
                                },
                                {
                                    "0": "3056",
                                    "1": "1"
                                },
                                {
                                    "0": "3057",
                                    "1": "1"
                                },
                                {
                                    "0": "3058",
                                    "1": "1"
                                },
                                {
                                    "0": "3059",
                                    "1": "1"
                                },
                                {
                                    "0": "3060",
                                    "1": "1"
                                },
                                {
                                    "0": "3061",
                                    "1": "1"
                                },
                                {
                                    "0": "3062",
                                    "1": "1"
                                },
                                {
                                    "0": "3063",
                                    "1": "1"
                                },
                                {
                                    "0": "3064",
                                    "1": "1"
                                },
                                {
                                    "0": "3065",
                                    "1": "1"
                                },
                                {
                                    "0": "3066",
                                    "1": "1"
                                },
                                {
                                    "0": "3067",
                                    "1": "1"
                                },
                                {
                                    "0": "3068",
                                    "1": "1"
                                },
                                {
                                    "0": "3069",
                                    "1": "1"
                                },
                                {
                                    "0": "3070",
                                    "1": "1"
                                },
                                {
                                    "0": "3071",
                                    "1": "1"
                                },
                                {
                                    "0": "3072",
                                    "1": "1"
                                },
                                {
                                    "0": "3073",
                                    "1": "1"
                                },
                                {
                                    "0": "3074",
                                    "1": "1"
                                },
                                {
                                    "0": "3075",
                                    "1": "1"
                                },
                                {
                                    "0": "3076",
                                    "1": "1"
                                },
                                {
                                    "0": "3077",
                                    "1": "1"
                                },
                                {
                                    "0": "3078",
                                    "1": "1"
                                },
                                {
                                    "0": "3079",
                                    "1": "1"
                                },
                                {
                                    "0": "3080",
                                    "1": "1"
                                },
                                {
                                    "0": "3081",
                                    "1": "1"
                                },
                                {
                                    "0": "3082",
                                    "1": "1"
                                },
                                {
                                    "0": "3083",
                                    "1": "1"
                                },
                                {
                                    "0": "3084",
                                    "1": "1"
                                },
                                {
                                    "0": "3085",
                                    "1": "1"
                                },
                                {
                                    "0": "3086",
                                    "1": "1"
                                },
                                {
                                    "0": "3087",
                                    "1": "1"
                                },
                                {
                                    "0": "3088",
                                    "1": "1"
                                },
                                {
                                    "0": "3089",
                                    "1": "1"
                                },
                                {
                                    "0": "3090",
                                    "1": "1"
                                },
                                {
                                    "0": "3091",
                                    "1": "1"
                                },
                                {
                                    "0": "3092",
                                    "1": "1"
                                },
                                {
                                    "0": "3093",
                                    "1": "1"
                                },
                                {
                                    "0": "3094",
                                    "1": "1"
                                },
                                {
                                    "0": "3095",
                                    "1": "1"
                                },
                                {
                                    "0": "3096",
                                    "1": "1"
                                },
                                {
                                    "0": "3097",
                                    "1": "1"
                                },
                                {
                                    "0": "3098",
                                    "1": "1"
                                },
                                {
                                    "0": "3099",
                                    "1": "1"
                                },
                                {
                                    "0": "3100",
                                    "1": "1"
                                },
                                {
                                    "0": "3101",
                                    "1": "1"
                                },
                                {
                                    "0": "3102",
                                    "1": "1"
                                },
                                {
                                    "0": "3103",
                                    "1": "1"
                                },
                                {
                                    "0": "3104",
                                    "1": "1"
                                },
                                {
                                    "0": "3105",
                                    "1": "1"
                                },
                                {
                                    "0": "3106",
                                    "1": "1"
                                },
                                {
                                    "0": "3107",
                                    "1": "1"
                                },
                                {
                                    "0": "3108",
                                    "1": "1"
                                },
                                {
                                    "0": "3109",
                                    "1": "1"
                                },
                                {
                                    "0": "3110",
                                    "1": "1"
                                },
                                {
                                    "0": "3111",
                                    "1": "1"
                                },
                                {
                                    "0": "3112",
                                    "1": "1"
                                },
                                {
                                    "0": "3113",
                                    "1": "1"
                                },
                                {
                                    "0": "3114",
                                    "1": "1"
                                },
                                {
                                    "0": "3115",
                                    "1": "1"
                                },
                                {
                                    "0": "3116",
                                    "1": "1"
                                },
                                {
                                    "0": "3117",
                                    "1": "1"
                                },
                                {
                                    "0": "3118",
                                    "1": "1"
                                },
                                {
                                    "0": "3119",
                                    "1": "1"
                                },
                                {
                                    "0": "3120",
                                    "1": "1"
                                },
                                {
                                    "0": "3121",
                                    "1": "1"
                                },
                                {
                                    "0": "3122",
                                    "1": "1"
                                },
                                {
                                    "0": "3123",
                                    "1": "1"
                                },
                                {
                                    "0": "3124",
                                    "1": "1"
                                },
                                {
                                    "0": "3125",
                                    "1": "1"
                                },
                                {
                                    "0": "3126",
                                    "1": "1"
                                },
                                {
                                    "0": "3127",
                                    "1": "1"
                                },
                                {
                                    "0": "3128",
                                    "1": "1"
                                },
                                {
                                    "0": "3129",
                                    "1": "1"
                                },
                                {
                                    "0": "3130",
                                    "1": "1"
                                },
                                {
                                    "0": "3131",
                                    "1": "1"
                                },
                                {
                                    "0": "3132",
                                    "1": "1"
                                },
                                {
                                    "0": "3133",
                                    "1": "1"
                                },
                                {
                                    "0": "3134",
                                    "1": "1"
                                },
                                {
                                    "0": "3135",
                                    "1": "1"
                                },
                                {
                                    "0": "3136",
                                    "1": "1"
                                },
                                {
                                    "0": "3137",
                                    "1": "1"
                                },
                                {
                                    "0": "3138",
                                    "1": "1"
                                },
                                {
                                    "0": "3139",
                                    "1": "1"
                                },
                                {
                                    "0": "3140",
                                    "1": "1"
                                },
                                {
                                    "0": "3141",
                                    "1": "1"
                                },
                                {
                                    "0": "3142",
                                    "1": "1"
                                },
                                {
                                    "0": "3143",
                                    "1": "1"
                                },
                                {
                                    "0": "3144",
                                    "1": "1"
                                },
                                {
                                    "0": "3145",
                                    "1": "1"
                                },
                                {
                                    "0": "3146",
                                    "1": "1"
                                },
                                {
                                    "0": "3147",
                                    "1": "1"
                                },
                                {
                                    "0": "3148",
                                    "1": "1"
                                },
                                {
                                    "0": "3149",
                                    "1": "1"
                                },
                                {
                                    "0": "3150",
                                    "1": "1"
                                },
                                {
                                    "0": "3151",
                                    "1": "1"
                                },
                                {
                                    "0": "3152",
                                    "1": "1"
                                },
                                {
                                    "0": "3153",
                                    "1": "1"
                                },
                                {
                                    "0": "3154",
                                    "1": "1"
                                },
                                {
                                    "0": "3155",
                                    "1": "1"
                                },
                                {
                                    "0": "3156",
                                    "1": "1"
                                },
                                {
                                    "0": "3157",
                                    "1": "1"
                                },
                                {
                                    "0": "3158",
                                    "1": "1"
                                },
                                {
                                    "0": "3159",
                                    "1": "1"
                                },
                                {
                                    "0": "3160",
                                    "1": "1"
                                },
                                {
                                    "0": "3161",
                                    "1": "1"
                                },
                                {
                                    "0": "3162",
                                    "1": "1"
                                },
                                {
                                    "0": "3163",
                                    "1": "1"
                                },
                                {
                                    "0": "3164",
                                    "1": "1"
                                },
                                {
                                    "0": "3165",
                                    "1": "1"
                                },
                                {
                                    "0": "3166",
                                    "1": "1"
                                },
                                {
                                    "0": "3167",
                                    "1": "1"
                                },
                                {
                                    "0": "3168",
                                    "1": "1"
                                },
                                {
                                    "0": "3169",
                                    "1": "1"
                                },
                                {
                                    "0": "3170",
                                    "1": "1"
                                },
                                {
                                    "0": "3171",
                                    "1": "1"
                                },
                                {
                                    "0": "3172",
                                    "1": "1"
                                },
                                {
                                    "0": "3173",
                                    "1": "1"
                                },
                                {
                                    "0": "3174",
                                    "1": "1"
                                },
                                {
                                    "0": "3175",
                                    "1": "1"
                                },
                                {
                                    "0": "3176",
                                    "1": "1"
                                },
                                {
                                    "0": "3177",
                                    "1": "1"
                                },
                                {
                                    "0": "3178",
                                    "1": "1"
                                },
                                {
                                    "0": "3179",
                                    "1": "1"
                                },
                                {
                                    "0": "3180",
                                    "1": "1"
                                },
                                {
                                    "0": "3181",
                                    "1": "1"
                                },
                                {
                                    "0": "3182",
                                    "1": "1"
                                },
                                {
                                    "0": "3183",
                                    "1": "1"
                                },
                                {
                                    "0": "3184",
                                    "1": "1"
                                },
                                {
                                    "0": "3185",
                                    "1": "1"
                                },
                                {
                                    "0": "3186",
                                    "1": "1"
                                },
                                {
                                    "0": "3187",
                                    "1": "1"
                                },
                                {
                                    "0": "3188",
                                    "1": "1"
                                },
                                {
                                    "0": "3189",
                                    "1": "1"
                                },
                                {
                                    "0": "3190",
                                    "1": "1"
                                },
                                {
                                    "0": "3191",
                                    "1": "1"
                                },
                                {
                                    "0": "3192",
                                    "1": "1"
                                },
                                {
                                    "0": "3193",
                                    "1": "1"
                                },
                                {
                                    "0": "3194",
                                    "1": "1"
                                },
                                {
                                    "0": "3195",
                                    "1": "1"
                                },
                                {
                                    "0": "3196",
                                    "1": "1"
                                },
                                {
                                    "0": "3197",
                                    "1": "1"
                                },
                                {
                                    "0": "3198",
                                    "1": "1"
                                },
                                {
                                    "0": "3199",
                                    "1": "1"
                                },
                                {
                                    "0": "3200",
                                    "1": "1"
                                },
                                {
                                    "0": "3201",
                                    "1": "1"
                                },
                                {
                                    "0": "3202",
                                    "1": "1"
                                },
                                {
                                    "0": "3203",
                                    "1": "1"
                                },
                                {
                                    "0": "3204",
                                    "1": "1"
                                },
                                {
                                    "0": "3205",
                                    "1": "1"
                                },
                                {
                                    "0": "3206",
                                    "1": "1"
                                },
                                {
                                    "0": "3207",
                                    "1": "1"
                                },
                                {
                                    "0": "3208",
                                    "1": "1"
                                },
                                {
                                    "0": "3209",
                                    "1": "1"
                                },
                                {
                                    "0": "3210",
                                    "1": "1"
                                },
                                {
                                    "0": "3211",
                                    "1": "1"
                                },
                                {
                                    "0": "3212",
                                    "1": "1"
                                },
                                {
                                    "0": "3213",
                                    "1": "1"
                                },
                                {
                                    "0": "3214",
                                    "1": "1"
                                },
                                {
                                    "0": "3215",
                                    "1": "1"
                                },
                                {
                                    "0": "3216",
                                    "1": "1"
                                },
                                {
                                    "0": "3217",
                                    "1": "1"
                                },
                                {
                                    "0": "3218",
                                    "1": "1"
                                },
                                {
                                    "0": "3219",
                                    "1": "1"
                                },
                                {
                                    "0": "3220",
                                    "1": "1"
                                },
                                {
                                    "0": "3221",
                                    "1": "1"
                                },
                                {
                                    "0": "3222",
                                    "1": "1"
                                },
                                {
                                    "0": "3223",
                                    "1": "1"
                                },
                                {
                                    "0": "3224",
                                    "1": "1"
                                },
                                {
                                    "0": "3225",
                                    "1": "1"
                                },
                                {
                                    "0": "3226",
                                    "1": "1"
                                },
                                {
                                    "0": "3227",
                                    "1": "1"
                                },
                                {
                                    "0": "3228",
                                    "1": "1"
                                },
                                {
                                    "0": "3229",
                                    "1": "1"
                                },
                                {
                                    "0": "3230",
                                    "1": "1"
                                },
                                {
                                    "0": "3231",
                                    "1": "1"
                                },
                                {
                                    "0": "3232",
                                    "1": "1"
                                },
                                {
                                    "0": "3233",
                                    "1": "1"
                                },
                                {
                                    "0": "3234",
                                    "1": "1"
                                },
                                {
                                    "0": "3235",
                                    "1": "1"
                                },
                                {
                                    "0": "3236",
                                    "1": "1"
                                },
                                {
                                    "0": "3237",
                                    "1": "1"
                                },
                                {
                                    "0": "3238",
                                    "1": "1"
                                },
                                {
                                    "0": "3239",
                                    "1": "1"
                                },
                                {
                                    "0": "3240",
                                    "1": "1"
                                },
                                {
                                    "0": "3241",
                                    "1": "1"
                                },
                                {
                                    "0": "3242",
                                    "1": "1"
                                },
                                {
                                    "0": "3243",
                                    "1": "1"
                                },
                                {
                                    "0": "3244",
                                    "1": "1"
                                },
                                {
                                    "0": "3245",
                                    "1": "1"
                                },
                                {
                                    "0": "3246",
                                    "1": "1"
                                },
                                {
                                    "0": "3247",
                                    "1": "1"
                                },
                                {
                                    "0": "3248",
                                    "1": "1"
                                },
                                {
                                    "0": "3249",
                                    "1": "1"
                                },
                                {
                                    "0": "3250",
                                    "1": "1"
                                },
                                {
                                    "0": "3251",
                                    "1": "1"
                                },
                                {
                                    "0": "3252",
                                    "1": "1"
                                },
                                {
                                    "0": "3253",
                                    "1": "1"
                                },
                                {
                                    "0": "3254",
                                    "1": "1"
                                },
                                {
                                    "0": "3255",
                                    "1": "1"
                                },
                                {
                                    "0": "3256",
                                    "1": "1"
                                },
                                {
                                    "0": "3257",
                                    "1": "1"
                                },
                                {
                                    "0": "3258",
                                    "1": "1"
                                },
                                {
                                    "0": "3259",
                                    "1": "1"
                                },
                                {
                                    "0": "3260",
                                    "1": "1"
                                },
                                {
                                    "0": "3261",
                                    "1": "1"
                                }
                            ]
                        },
                        "text/html": "<table><tr><th>PrimaryContactPersonID</th><th>countPrimaryPerson</th></tr><tr><td>1001</td><td>1</td></tr><tr><td>1003</td><td>1</td></tr><tr><td>1005</td><td>1</td></tr><tr><td>1007</td><td>1</td></tr><tr><td>1009</td><td>1</td></tr><tr><td>1011</td><td>1</td></tr><tr><td>1013</td><td>1</td></tr><tr><td>1015</td><td>1</td></tr><tr><td>1017</td><td>1</td></tr><tr><td>1019</td><td>1</td></tr><tr><td>1021</td><td>1</td></tr><tr><td>1023</td><td>1</td></tr><tr><td>1025</td><td>1</td></tr><tr><td>1027</td><td>1</td></tr><tr><td>1029</td><td>1</td></tr><tr><td>1031</td><td>1</td></tr><tr><td>1033</td><td>1</td></tr><tr><td>1035</td><td>1</td></tr><tr><td>1037</td><td>1</td></tr><tr><td>1039</td><td>1</td></tr><tr><td>1041</td><td>1</td></tr><tr><td>1043</td><td>1</td></tr><tr><td>1045</td><td>1</td></tr><tr><td>1047</td><td>1</td></tr><tr><td>1049</td><td>1</td></tr><tr><td>1051</td><td>1</td></tr><tr><td>1053</td><td>1</td></tr><tr><td>1055</td><td>1</td></tr><tr><td>1057</td><td>1</td></tr><tr><td>1059</td><td>1</td></tr><tr><td>1061</td><td>1</td></tr><tr><td>1063</td><td>1</td></tr><tr><td>1065</td><td>1</td></tr><tr><td>1067</td><td>1</td></tr><tr><td>1069</td><td>1</td></tr><tr><td>1071</td><td>1</td></tr><tr><td>1073</td><td>1</td></tr><tr><td>1075</td><td>1</td></tr><tr><td>1077</td><td>1</td></tr><tr><td>1079</td><td>1</td></tr><tr><td>1081</td><td>1</td></tr><tr><td>1083</td><td>1</td></tr><tr><td>1085</td><td>1</td></tr><tr><td>1087</td><td>1</td></tr><tr><td>1089</td><td>1</td></tr><tr><td>1091</td><td>1</td></tr><tr><td>1093</td><td>1</td></tr><tr><td>1095</td><td>1</td></tr><tr><td>1097</td><td>1</td></tr><tr><td>1099</td><td>1</td></tr><tr><td>1101</td><td>1</td></tr><tr><td>1103</td><td>1</td></tr><tr><td>1105</td><td>1</td></tr><tr><td>1107</td><td>1</td></tr><tr><td>1109</td><td>1</td></tr><tr><td>1111</td><td>1</td></tr><tr><td>1113</td><td>1</td></tr><tr><td>1115</td><td>1</td></tr><tr><td>1117</td><td>1</td></tr><tr><td>1119</td><td>1</td></tr><tr><td>1121</td><td>1</td></tr><tr><td>1123</td><td>1</td></tr><tr><td>1125</td><td>1</td></tr><tr><td>1127</td><td>1</td></tr><tr><td>1129</td><td>1</td></tr><tr><td>1131</td><td>1</td></tr><tr><td>1133</td><td>1</td></tr><tr><td>1135</td><td>1</td></tr><tr><td>1137</td><td>1</td></tr><tr><td>1139</td><td>1</td></tr><tr><td>1141</td><td>1</td></tr><tr><td>1143</td><td>1</td></tr><tr><td>1145</td><td>1</td></tr><tr><td>1147</td><td>1</td></tr><tr><td>1149</td><td>1</td></tr><tr><td>1151</td><td>1</td></tr><tr><td>1153</td><td>1</td></tr><tr><td>1155</td><td>1</td></tr><tr><td>1157</td><td>1</td></tr><tr><td>1159</td><td>1</td></tr><tr><td>1161</td><td>1</td></tr><tr><td>1163</td><td>1</td></tr><tr><td>1165</td><td>1</td></tr><tr><td>1167</td><td>1</td></tr><tr><td>1169</td><td>1</td></tr><tr><td>1171</td><td>1</td></tr><tr><td>1173</td><td>1</td></tr><tr><td>1175</td><td>1</td></tr><tr><td>1177</td><td>1</td></tr><tr><td>1179</td><td>1</td></tr><tr><td>1181</td><td>1</td></tr><tr><td>1183</td><td>1</td></tr><tr><td>1185</td><td>1</td></tr><tr><td>1187</td><td>1</td></tr><tr><td>1189</td><td>1</td></tr><tr><td>1191</td><td>1</td></tr><tr><td>1193</td><td>1</td></tr><tr><td>1195</td><td>1</td></tr><tr><td>1197</td><td>1</td></tr><tr><td>1199</td><td>1</td></tr><tr><td>1201</td><td>1</td></tr><tr><td>1203</td><td>1</td></tr><tr><td>1205</td><td>1</td></tr><tr><td>1207</td><td>1</td></tr><tr><td>1209</td><td>1</td></tr><tr><td>1211</td><td>1</td></tr><tr><td>1213</td><td>1</td></tr><tr><td>1215</td><td>1</td></tr><tr><td>1217</td><td>1</td></tr><tr><td>1219</td><td>1</td></tr><tr><td>1221</td><td>1</td></tr><tr><td>1223</td><td>1</td></tr><tr><td>1225</td><td>1</td></tr><tr><td>1227</td><td>1</td></tr><tr><td>1229</td><td>1</td></tr><tr><td>1231</td><td>1</td></tr><tr><td>1233</td><td>1</td></tr><tr><td>1235</td><td>1</td></tr><tr><td>1237</td><td>1</td></tr><tr><td>1239</td><td>1</td></tr><tr><td>1241</td><td>1</td></tr><tr><td>1243</td><td>1</td></tr><tr><td>1245</td><td>1</td></tr><tr><td>1247</td><td>1</td></tr><tr><td>1249</td><td>1</td></tr><tr><td>1251</td><td>1</td></tr><tr><td>1253</td><td>1</td></tr><tr><td>1255</td><td>1</td></tr><tr><td>1257</td><td>1</td></tr><tr><td>1259</td><td>1</td></tr><tr><td>1261</td><td>1</td></tr><tr><td>1263</td><td>1</td></tr><tr><td>1265</td><td>1</td></tr><tr><td>1267</td><td>1</td></tr><tr><td>1269</td><td>1</td></tr><tr><td>1271</td><td>1</td></tr><tr><td>1273</td><td>1</td></tr><tr><td>1275</td><td>1</td></tr><tr><td>1277</td><td>1</td></tr><tr><td>1279</td><td>1</td></tr><tr><td>1281</td><td>1</td></tr><tr><td>1283</td><td>1</td></tr><tr><td>1285</td><td>1</td></tr><tr><td>1287</td><td>1</td></tr><tr><td>1289</td><td>1</td></tr><tr><td>1291</td><td>1</td></tr><tr><td>1293</td><td>1</td></tr><tr><td>1295</td><td>1</td></tr><tr><td>1297</td><td>1</td></tr><tr><td>1299</td><td>1</td></tr><tr><td>1301</td><td>1</td></tr><tr><td>1303</td><td>1</td></tr><tr><td>1305</td><td>1</td></tr><tr><td>1307</td><td>1</td></tr><tr><td>1309</td><td>1</td></tr><tr><td>1311</td><td>1</td></tr><tr><td>1313</td><td>1</td></tr><tr><td>1315</td><td>1</td></tr><tr><td>1317</td><td>1</td></tr><tr><td>1319</td><td>1</td></tr><tr><td>1321</td><td>1</td></tr><tr><td>1323</td><td>1</td></tr><tr><td>1325</td><td>1</td></tr><tr><td>1327</td><td>1</td></tr><tr><td>1329</td><td>1</td></tr><tr><td>1331</td><td>1</td></tr><tr><td>1333</td><td>1</td></tr><tr><td>1335</td><td>1</td></tr><tr><td>1337</td><td>1</td></tr><tr><td>1339</td><td>1</td></tr><tr><td>1341</td><td>1</td></tr><tr><td>1343</td><td>1</td></tr><tr><td>1345</td><td>1</td></tr><tr><td>1347</td><td>1</td></tr><tr><td>1349</td><td>1</td></tr><tr><td>1351</td><td>1</td></tr><tr><td>1353</td><td>1</td></tr><tr><td>1355</td><td>1</td></tr><tr><td>1357</td><td>1</td></tr><tr><td>1359</td><td>1</td></tr><tr><td>1361</td><td>1</td></tr><tr><td>1363</td><td>1</td></tr><tr><td>1365</td><td>1</td></tr><tr><td>1367</td><td>1</td></tr><tr><td>1369</td><td>1</td></tr><tr><td>1371</td><td>1</td></tr><tr><td>1373</td><td>1</td></tr><tr><td>1375</td><td>1</td></tr><tr><td>1377</td><td>1</td></tr><tr><td>1379</td><td>1</td></tr><tr><td>1381</td><td>1</td></tr><tr><td>1383</td><td>1</td></tr><tr><td>1385</td><td>1</td></tr><tr><td>1387</td><td>1</td></tr><tr><td>1389</td><td>1</td></tr><tr><td>1391</td><td>1</td></tr><tr><td>1393</td><td>1</td></tr><tr><td>1395</td><td>1</td></tr><tr><td>1397</td><td>1</td></tr><tr><td>1399</td><td>1</td></tr><tr><td>1401</td><td>1</td></tr><tr><td>2001</td><td>1</td></tr><tr><td>2003</td><td>1</td></tr><tr><td>2005</td><td>1</td></tr><tr><td>2007</td><td>1</td></tr><tr><td>2009</td><td>1</td></tr><tr><td>2011</td><td>1</td></tr><tr><td>2013</td><td>1</td></tr><tr><td>2015</td><td>1</td></tr><tr><td>2017</td><td>1</td></tr><tr><td>2019</td><td>1</td></tr><tr><td>2021</td><td>1</td></tr><tr><td>2023</td><td>1</td></tr><tr><td>2025</td><td>1</td></tr><tr><td>2027</td><td>1</td></tr><tr><td>2029</td><td>1</td></tr><tr><td>2031</td><td>1</td></tr><tr><td>2033</td><td>1</td></tr><tr><td>2035</td><td>1</td></tr><tr><td>2037</td><td>1</td></tr><tr><td>2039</td><td>1</td></tr><tr><td>2041</td><td>1</td></tr><tr><td>2043</td><td>1</td></tr><tr><td>2045</td><td>1</td></tr><tr><td>2047</td><td>1</td></tr><tr><td>2049</td><td>1</td></tr><tr><td>2051</td><td>1</td></tr><tr><td>2053</td><td>1</td></tr><tr><td>2055</td><td>1</td></tr><tr><td>2057</td><td>1</td></tr><tr><td>2059</td><td>1</td></tr><tr><td>2061</td><td>1</td></tr><tr><td>2063</td><td>1</td></tr><tr><td>2065</td><td>1</td></tr><tr><td>2067</td><td>1</td></tr><tr><td>2069</td><td>1</td></tr><tr><td>2071</td><td>1</td></tr><tr><td>2073</td><td>1</td></tr><tr><td>2075</td><td>1</td></tr><tr><td>2077</td><td>1</td></tr><tr><td>2079</td><td>1</td></tr><tr><td>2081</td><td>1</td></tr><tr><td>2083</td><td>1</td></tr><tr><td>2085</td><td>1</td></tr><tr><td>2087</td><td>1</td></tr><tr><td>2089</td><td>1</td></tr><tr><td>2091</td><td>1</td></tr><tr><td>2093</td><td>1</td></tr><tr><td>2095</td><td>1</td></tr><tr><td>2097</td><td>1</td></tr><tr><td>2099</td><td>1</td></tr><tr><td>2101</td><td>1</td></tr><tr><td>2103</td><td>1</td></tr><tr><td>2105</td><td>1</td></tr><tr><td>2107</td><td>1</td></tr><tr><td>2109</td><td>1</td></tr><tr><td>2111</td><td>1</td></tr><tr><td>2113</td><td>1</td></tr><tr><td>2115</td><td>1</td></tr><tr><td>2117</td><td>1</td></tr><tr><td>2119</td><td>1</td></tr><tr><td>2121</td><td>1</td></tr><tr><td>2123</td><td>1</td></tr><tr><td>2125</td><td>1</td></tr><tr><td>2127</td><td>1</td></tr><tr><td>2129</td><td>1</td></tr><tr><td>2131</td><td>1</td></tr><tr><td>2133</td><td>1</td></tr><tr><td>2135</td><td>1</td></tr><tr><td>2137</td><td>1</td></tr><tr><td>2139</td><td>1</td></tr><tr><td>2141</td><td>1</td></tr><tr><td>2143</td><td>1</td></tr><tr><td>2145</td><td>1</td></tr><tr><td>2147</td><td>1</td></tr><tr><td>2149</td><td>1</td></tr><tr><td>2151</td><td>1</td></tr><tr><td>2153</td><td>1</td></tr><tr><td>2155</td><td>1</td></tr><tr><td>2157</td><td>1</td></tr><tr><td>2159</td><td>1</td></tr><tr><td>2161</td><td>1</td></tr><tr><td>2163</td><td>1</td></tr><tr><td>2165</td><td>1</td></tr><tr><td>2167</td><td>1</td></tr><tr><td>2169</td><td>1</td></tr><tr><td>2171</td><td>1</td></tr><tr><td>2173</td><td>1</td></tr><tr><td>2175</td><td>1</td></tr><tr><td>2177</td><td>1</td></tr><tr><td>2179</td><td>1</td></tr><tr><td>2181</td><td>1</td></tr><tr><td>2183</td><td>1</td></tr><tr><td>2185</td><td>1</td></tr><tr><td>2187</td><td>1</td></tr><tr><td>2189</td><td>1</td></tr><tr><td>2191</td><td>1</td></tr><tr><td>2193</td><td>1</td></tr><tr><td>2195</td><td>1</td></tr><tr><td>2197</td><td>1</td></tr><tr><td>2199</td><td>1</td></tr><tr><td>2201</td><td>1</td></tr><tr><td>2203</td><td>1</td></tr><tr><td>2205</td><td>1</td></tr><tr><td>2207</td><td>1</td></tr><tr><td>2209</td><td>1</td></tr><tr><td>2211</td><td>1</td></tr><tr><td>2213</td><td>1</td></tr><tr><td>2215</td><td>1</td></tr><tr><td>2217</td><td>1</td></tr><tr><td>2219</td><td>1</td></tr><tr><td>2221</td><td>1</td></tr><tr><td>2223</td><td>1</td></tr><tr><td>2225</td><td>1</td></tr><tr><td>2227</td><td>1</td></tr><tr><td>2229</td><td>1</td></tr><tr><td>2231</td><td>1</td></tr><tr><td>2233</td><td>1</td></tr><tr><td>2235</td><td>1</td></tr><tr><td>2237</td><td>1</td></tr><tr><td>2239</td><td>1</td></tr><tr><td>2241</td><td>1</td></tr><tr><td>2243</td><td>1</td></tr><tr><td>2245</td><td>1</td></tr><tr><td>2247</td><td>1</td></tr><tr><td>2249</td><td>1</td></tr><tr><td>2251</td><td>1</td></tr><tr><td>2253</td><td>1</td></tr><tr><td>2255</td><td>1</td></tr><tr><td>2257</td><td>1</td></tr><tr><td>2259</td><td>1</td></tr><tr><td>2261</td><td>1</td></tr><tr><td>2263</td><td>1</td></tr><tr><td>2265</td><td>1</td></tr><tr><td>2267</td><td>1</td></tr><tr><td>2269</td><td>1</td></tr><tr><td>2271</td><td>1</td></tr><tr><td>2273</td><td>1</td></tr><tr><td>2275</td><td>1</td></tr><tr><td>2277</td><td>1</td></tr><tr><td>2279</td><td>1</td></tr><tr><td>2281</td><td>1</td></tr><tr><td>2283</td><td>1</td></tr><tr><td>2285</td><td>1</td></tr><tr><td>2287</td><td>1</td></tr><tr><td>2289</td><td>1</td></tr><tr><td>2291</td><td>1</td></tr><tr><td>2293</td><td>1</td></tr><tr><td>2295</td><td>1</td></tr><tr><td>2297</td><td>1</td></tr><tr><td>2299</td><td>1</td></tr><tr><td>2301</td><td>1</td></tr><tr><td>2303</td><td>1</td></tr><tr><td>2305</td><td>1</td></tr><tr><td>2307</td><td>1</td></tr><tr><td>2309</td><td>1</td></tr><tr><td>2311</td><td>1</td></tr><tr><td>2313</td><td>1</td></tr><tr><td>2315</td><td>1</td></tr><tr><td>2317</td><td>1</td></tr><tr><td>2319</td><td>1</td></tr><tr><td>2321</td><td>1</td></tr><tr><td>2323</td><td>1</td></tr><tr><td>2325</td><td>1</td></tr><tr><td>2327</td><td>1</td></tr><tr><td>2329</td><td>1</td></tr><tr><td>2331</td><td>1</td></tr><tr><td>2333</td><td>1</td></tr><tr><td>2335</td><td>1</td></tr><tr><td>2337</td><td>1</td></tr><tr><td>2339</td><td>1</td></tr><tr><td>2341</td><td>1</td></tr><tr><td>2343</td><td>1</td></tr><tr><td>2345</td><td>1</td></tr><tr><td>2347</td><td>1</td></tr><tr><td>2349</td><td>1</td></tr><tr><td>2351</td><td>1</td></tr><tr><td>2353</td><td>1</td></tr><tr><td>2355</td><td>1</td></tr><tr><td>2357</td><td>1</td></tr><tr><td>2359</td><td>1</td></tr><tr><td>2361</td><td>1</td></tr><tr><td>2363</td><td>1</td></tr><tr><td>2365</td><td>1</td></tr><tr><td>2367</td><td>1</td></tr><tr><td>2369</td><td>1</td></tr><tr><td>2371</td><td>1</td></tr><tr><td>2373</td><td>1</td></tr><tr><td>2375</td><td>1</td></tr><tr><td>2377</td><td>1</td></tr><tr><td>2379</td><td>1</td></tr><tr><td>2381</td><td>1</td></tr><tr><td>2383</td><td>1</td></tr><tr><td>2385</td><td>1</td></tr><tr><td>2387</td><td>1</td></tr><tr><td>2389</td><td>1</td></tr><tr><td>2391</td><td>1</td></tr><tr><td>2393</td><td>1</td></tr><tr><td>2395</td><td>1</td></tr><tr><td>2397</td><td>1</td></tr><tr><td>2399</td><td>1</td></tr><tr><td>2401</td><td>1</td></tr><tr><td>3001</td><td>1</td></tr><tr><td>3002</td><td>1</td></tr><tr><td>3003</td><td>1</td></tr><tr><td>3004</td><td>1</td></tr><tr><td>3005</td><td>1</td></tr><tr><td>3006</td><td>1</td></tr><tr><td>3007</td><td>1</td></tr><tr><td>3008</td><td>1</td></tr><tr><td>3009</td><td>1</td></tr><tr><td>3010</td><td>1</td></tr><tr><td>3011</td><td>1</td></tr><tr><td>3012</td><td>1</td></tr><tr><td>3013</td><td>1</td></tr><tr><td>3014</td><td>1</td></tr><tr><td>3015</td><td>1</td></tr><tr><td>3016</td><td>1</td></tr><tr><td>3017</td><td>1</td></tr><tr><td>3018</td><td>1</td></tr><tr><td>3019</td><td>1</td></tr><tr><td>3020</td><td>1</td></tr><tr><td>3021</td><td>1</td></tr><tr><td>3022</td><td>1</td></tr><tr><td>3023</td><td>1</td></tr><tr><td>3024</td><td>1</td></tr><tr><td>3025</td><td>1</td></tr><tr><td>3026</td><td>1</td></tr><tr><td>3027</td><td>1</td></tr><tr><td>3028</td><td>1</td></tr><tr><td>3029</td><td>1</td></tr><tr><td>3030</td><td>1</td></tr><tr><td>3031</td><td>1</td></tr><tr><td>3032</td><td>1</td></tr><tr><td>3033</td><td>1</td></tr><tr><td>3034</td><td>1</td></tr><tr><td>3035</td><td>1</td></tr><tr><td>3036</td><td>1</td></tr><tr><td>3037</td><td>1</td></tr><tr><td>3038</td><td>1</td></tr><tr><td>3039</td><td>1</td></tr><tr><td>3040</td><td>1</td></tr><tr><td>3041</td><td>1</td></tr><tr><td>3042</td><td>1</td></tr><tr><td>3043</td><td>1</td></tr><tr><td>3044</td><td>1</td></tr><tr><td>3045</td><td>1</td></tr><tr><td>3046</td><td>1</td></tr><tr><td>3047</td><td>1</td></tr><tr><td>3048</td><td>1</td></tr><tr><td>3049</td><td>1</td></tr><tr><td>3050</td><td>1</td></tr><tr><td>3051</td><td>1</td></tr><tr><td>3052</td><td>1</td></tr><tr><td>3053</td><td>1</td></tr><tr><td>3054</td><td>1</td></tr><tr><td>3055</td><td>1</td></tr><tr><td>3056</td><td>1</td></tr><tr><td>3057</td><td>1</td></tr><tr><td>3058</td><td>1</td></tr><tr><td>3059</td><td>1</td></tr><tr><td>3060</td><td>1</td></tr><tr><td>3061</td><td>1</td></tr><tr><td>3062</td><td>1</td></tr><tr><td>3063</td><td>1</td></tr><tr><td>3064</td><td>1</td></tr><tr><td>3065</td><td>1</td></tr><tr><td>3066</td><td>1</td></tr><tr><td>3067</td><td>1</td></tr><tr><td>3068</td><td>1</td></tr><tr><td>3069</td><td>1</td></tr><tr><td>3070</td><td>1</td></tr><tr><td>3071</td><td>1</td></tr><tr><td>3072</td><td>1</td></tr><tr><td>3073</td><td>1</td></tr><tr><td>3074</td><td>1</td></tr><tr><td>3075</td><td>1</td></tr><tr><td>3076</td><td>1</td></tr><tr><td>3077</td><td>1</td></tr><tr><td>3078</td><td>1</td></tr><tr><td>3079</td><td>1</td></tr><tr><td>3080</td><td>1</td></tr><tr><td>3081</td><td>1</td></tr><tr><td>3082</td><td>1</td></tr><tr><td>3083</td><td>1</td></tr><tr><td>3084</td><td>1</td></tr><tr><td>3085</td><td>1</td></tr><tr><td>3086</td><td>1</td></tr><tr><td>3087</td><td>1</td></tr><tr><td>3088</td><td>1</td></tr><tr><td>3089</td><td>1</td></tr><tr><td>3090</td><td>1</td></tr><tr><td>3091</td><td>1</td></tr><tr><td>3092</td><td>1</td></tr><tr><td>3093</td><td>1</td></tr><tr><td>3094</td><td>1</td></tr><tr><td>3095</td><td>1</td></tr><tr><td>3096</td><td>1</td></tr><tr><td>3097</td><td>1</td></tr><tr><td>3098</td><td>1</td></tr><tr><td>3099</td><td>1</td></tr><tr><td>3100</td><td>1</td></tr><tr><td>3101</td><td>1</td></tr><tr><td>3102</td><td>1</td></tr><tr><td>3103</td><td>1</td></tr><tr><td>3104</td><td>1</td></tr><tr><td>3105</td><td>1</td></tr><tr><td>3106</td><td>1</td></tr><tr><td>3107</td><td>1</td></tr><tr><td>3108</td><td>1</td></tr><tr><td>3109</td><td>1</td></tr><tr><td>3110</td><td>1</td></tr><tr><td>3111</td><td>1</td></tr><tr><td>3112</td><td>1</td></tr><tr><td>3113</td><td>1</td></tr><tr><td>3114</td><td>1</td></tr><tr><td>3115</td><td>1</td></tr><tr><td>3116</td><td>1</td></tr><tr><td>3117</td><td>1</td></tr><tr><td>3118</td><td>1</td></tr><tr><td>3119</td><td>1</td></tr><tr><td>3120</td><td>1</td></tr><tr><td>3121</td><td>1</td></tr><tr><td>3122</td><td>1</td></tr><tr><td>3123</td><td>1</td></tr><tr><td>3124</td><td>1</td></tr><tr><td>3125</td><td>1</td></tr><tr><td>3126</td><td>1</td></tr><tr><td>3127</td><td>1</td></tr><tr><td>3128</td><td>1</td></tr><tr><td>3129</td><td>1</td></tr><tr><td>3130</td><td>1</td></tr><tr><td>3131</td><td>1</td></tr><tr><td>3132</td><td>1</td></tr><tr><td>3133</td><td>1</td></tr><tr><td>3134</td><td>1</td></tr><tr><td>3135</td><td>1</td></tr><tr><td>3136</td><td>1</td></tr><tr><td>3137</td><td>1</td></tr><tr><td>3138</td><td>1</td></tr><tr><td>3139</td><td>1</td></tr><tr><td>3140</td><td>1</td></tr><tr><td>3141</td><td>1</td></tr><tr><td>3142</td><td>1</td></tr><tr><td>3143</td><td>1</td></tr><tr><td>3144</td><td>1</td></tr><tr><td>3145</td><td>1</td></tr><tr><td>3146</td><td>1</td></tr><tr><td>3147</td><td>1</td></tr><tr><td>3148</td><td>1</td></tr><tr><td>3149</td><td>1</td></tr><tr><td>3150</td><td>1</td></tr><tr><td>3151</td><td>1</td></tr><tr><td>3152</td><td>1</td></tr><tr><td>3153</td><td>1</td></tr><tr><td>3154</td><td>1</td></tr><tr><td>3155</td><td>1</td></tr><tr><td>3156</td><td>1</td></tr><tr><td>3157</td><td>1</td></tr><tr><td>3158</td><td>1</td></tr><tr><td>3159</td><td>1</td></tr><tr><td>3160</td><td>1</td></tr><tr><td>3161</td><td>1</td></tr><tr><td>3162</td><td>1</td></tr><tr><td>3163</td><td>1</td></tr><tr><td>3164</td><td>1</td></tr><tr><td>3165</td><td>1</td></tr><tr><td>3166</td><td>1</td></tr><tr><td>3167</td><td>1</td></tr><tr><td>3168</td><td>1</td></tr><tr><td>3169</td><td>1</td></tr><tr><td>3170</td><td>1</td></tr><tr><td>3171</td><td>1</td></tr><tr><td>3172</td><td>1</td></tr><tr><td>3173</td><td>1</td></tr><tr><td>3174</td><td>1</td></tr><tr><td>3175</td><td>1</td></tr><tr><td>3176</td><td>1</td></tr><tr><td>3177</td><td>1</td></tr><tr><td>3178</td><td>1</td></tr><tr><td>3179</td><td>1</td></tr><tr><td>3180</td><td>1</td></tr><tr><td>3181</td><td>1</td></tr><tr><td>3182</td><td>1</td></tr><tr><td>3183</td><td>1</td></tr><tr><td>3184</td><td>1</td></tr><tr><td>3185</td><td>1</td></tr><tr><td>3186</td><td>1</td></tr><tr><td>3187</td><td>1</td></tr><tr><td>3188</td><td>1</td></tr><tr><td>3189</td><td>1</td></tr><tr><td>3190</td><td>1</td></tr><tr><td>3191</td><td>1</td></tr><tr><td>3192</td><td>1</td></tr><tr><td>3193</td><td>1</td></tr><tr><td>3194</td><td>1</td></tr><tr><td>3195</td><td>1</td></tr><tr><td>3196</td><td>1</td></tr><tr><td>3197</td><td>1</td></tr><tr><td>3198</td><td>1</td></tr><tr><td>3199</td><td>1</td></tr><tr><td>3200</td><td>1</td></tr><tr><td>3201</td><td>1</td></tr><tr><td>3202</td><td>1</td></tr><tr><td>3203</td><td>1</td></tr><tr><td>3204</td><td>1</td></tr><tr><td>3205</td><td>1</td></tr><tr><td>3206</td><td>1</td></tr><tr><td>3207</td><td>1</td></tr><tr><td>3208</td><td>1</td></tr><tr><td>3209</td><td>1</td></tr><tr><td>3210</td><td>1</td></tr><tr><td>3211</td><td>1</td></tr><tr><td>3212</td><td>1</td></tr><tr><td>3213</td><td>1</td></tr><tr><td>3214</td><td>1</td></tr><tr><td>3215</td><td>1</td></tr><tr><td>3216</td><td>1</td></tr><tr><td>3217</td><td>1</td></tr><tr><td>3218</td><td>1</td></tr><tr><td>3219</td><td>1</td></tr><tr><td>3220</td><td>1</td></tr><tr><td>3221</td><td>1</td></tr><tr><td>3222</td><td>1</td></tr><tr><td>3223</td><td>1</td></tr><tr><td>3224</td><td>1</td></tr><tr><td>3225</td><td>1</td></tr><tr><td>3226</td><td>1</td></tr><tr><td>3227</td><td>1</td></tr><tr><td>3228</td><td>1</td></tr><tr><td>3229</td><td>1</td></tr><tr><td>3230</td><td>1</td></tr><tr><td>3231</td><td>1</td></tr><tr><td>3232</td><td>1</td></tr><tr><td>3233</td><td>1</td></tr><tr><td>3234</td><td>1</td></tr><tr><td>3235</td><td>1</td></tr><tr><td>3236</td><td>1</td></tr><tr><td>3237</td><td>1</td></tr><tr><td>3238</td><td>1</td></tr><tr><td>3239</td><td>1</td></tr><tr><td>3240</td><td>1</td></tr><tr><td>3241</td><td>1</td></tr><tr><td>3242</td><td>1</td></tr><tr><td>3243</td><td>1</td></tr><tr><td>3244</td><td>1</td></tr><tr><td>3245</td><td>1</td></tr><tr><td>3246</td><td>1</td></tr><tr><td>3247</td><td>1</td></tr><tr><td>3248</td><td>1</td></tr><tr><td>3249</td><td>1</td></tr><tr><td>3250</td><td>1</td></tr><tr><td>3251</td><td>1</td></tr><tr><td>3252</td><td>1</td></tr><tr><td>3253</td><td>1</td></tr><tr><td>3254</td><td>1</td></tr><tr><td>3255</td><td>1</td></tr><tr><td>3256</td><td>1</td></tr><tr><td>3257</td><td>1</td></tr><tr><td>3258</td><td>1</td></tr><tr><td>3259</td><td>1</td></tr><tr><td>3260</td><td>1</td></tr><tr><td>3261</td><td>1</td></tr></table>"
                    },
                    "metadata": {}
                }
            ],
            "execution_count": 31
        },
        {
            "cell_type": "code",
            "source": [
                "--Update these people from the previous requirement, so that the\n",
                "--People.IsPermitedToLogon=FALSE."
            ],
            "metadata": {
                "azdata_cell_guid": "9a1b7452-0897-4162-9d68-6e9192ede62f",
                "language": "sql"
            },
            "outputs": [],
            "execution_count": null
        },
        {
            "cell_type": "code",
            "source": [
                "--Find the number of different customers for each DeliveryMethod based on the Invoices table. \n",
                "-- count(DISTINCT)\n",
                "SELECT count(DISTINCT i.CustomerID) NumOfCust,i.DeliveryMethodID from Sales.Invoices i GROUP BY i.DeliveryMethodID "
            ],
            "metadata": {
                "azdata_cell_guid": "095c08f2-733c-4c15-ae57-a0ce9c43e3ef",
                "language": "sql",
                "tags": []
            },
            "outputs": [
                {
                    "output_type": "display_data",
                    "data": {
                        "text/html": "(1 row affected)"
                    },
                    "metadata": {}
                },
                {
                    "output_type": "display_data",
                    "data": {
                        "text/html": "Total execution time: 00:00:00.092"
                    },
                    "metadata": {}
                },
                {
                    "output_type": "execute_result",
                    "execution_count": 5,
                    "data": {
                        "application/vnd.dataresource+json": {
                            "schema": {
                                "fields": [
                                    {
                                        "name": "NumOfCust"
                                    },
                                    {
                                        "name": "DeliveryMethodID"
                                    }
                                ]
                            },
                            "data": [
                                {
                                    "0": "663",
                                    "1": "3"
                                }
                            ]
                        },
                        "text/html": "<table><tr><th>NumOfCust</th><th>DeliveryMethodID</th></tr><tr><td>663</td><td>3</td></tr></table>"
                    },
                    "metadata": {}
                }
            ],
            "execution_count": 5
        },
        {
            "cell_type": "code",
            "source": [
                "--Find the DeliveryMethodName of the most popular DeliveryMethod (the one which was used in\n",
                "--the highest number of Invoices).\n",
                "--max(count()) --cant do arggregate in aggregate \n",
                "--with mostPopular as\n",
                "--(select count(*) c,dm.DeliveryMethodName from Sales.Invoices i join Application.DeliveryMethods dm on i.DeliveryMethodID=dm.DeliveryMethodID GROUP BY dm.DeliveryMethodName)\n",
                "--select top 1 mostPopular.DeliveryMethodName from mostPopular\n",
                "--RABOTI I OVA\n",
                "\n",
                "-- 6. Find the DeliveryMethodName of the most popular DeliveryMethod (the one which was used in the highest number of Invoices).\n",
                "with mostPopular as (select ROW_NUMBER() over (order by count(i.DeliveryMethodID) desc) rowOfTable,DeliveryMethodName, count(*) countOfCustomers\n",
                "from WideWorldImporters.Sales.Invoices i join WideWorldImporters.Application.DeliveryMethods dm on dm.DeliveryMethodID = i.DeliveryMethodID \n",
                "group by dm.DeliveryMethodName)\n",
                "select * from mostPopular mp where mp.rowOfTable = 1"
            ],
            "metadata": {
                "azdata_cell_guid": "c5cce184-b472-4d47-9fea-54faec3abf62",
                "language": "sql"
            },
            "outputs": [
                {
                    "output_type": "display_data",
                    "data": {
                        "text/html": "(1 row affected)"
                    },
                    "metadata": {}
                },
                {
                    "output_type": "display_data",
                    "data": {
                        "text/html": "Total execution time: 00:00:00.055"
                    },
                    "metadata": {}
                },
                {
                    "output_type": "execute_result",
                    "execution_count": 31,
                    "data": {
                        "application/vnd.dataresource+json": {
                            "schema": {
                                "fields": [
                                    {
                                        "name": "rowOfTable"
                                    },
                                    {
                                        "name": "DeliveryMethodName"
                                    },
                                    {
                                        "name": "countOfCustomers"
                                    }
                                ]
                            },
                            "data": [
                                {
                                    "0": "1",
                                    "1": "Delivery Van",
                                    "2": "70510"
                                }
                            ]
                        },
                        "text/html": "<table><tr><th>rowOfTable</th><th>DeliveryMethodName</th><th>countOfCustomers</th></tr><tr><td>1</td><td>Delivery Van</td><td>70510</td></tr></table>"
                    },
                    "metadata": {}
                }
            ],
            "execution_count": 31
        },
        {
            "cell_type": "code",
            "source": [
                "--For the CustomerCategory “Corporate Clients” (or any category of your choice), find the\n",
                "--FullName of all SalesPersons and the number of Orders in which they received the order.\n",
                "\n",
                "--c.CustomerID,cc.CustomerCategoryName,i.InvoiceID,p.FullName \n",
                "select count(*) c, p.FullName from Sales.CustomerCategories cc join\n",
                "Sales.Customers c on cc.CustomerCategoryID = c.CustomerCategoryID \n",
                "and cc.CustomerCategoryName='Gift Store' join Sales.Invoices i on i.CustomerID=c.CustomerID join \n",
                "Application.People p on i.SalespersonPersonID=p.PersonID GROUP BY p.FullName"
            ],
            "metadata": {
                "azdata_cell_guid": "72eabfc5-0e06-4cfd-a042-e79c36b69aff",
                "language": "sql",
                "tags": []
            },
            "outputs": [
                {
                    "output_type": "display_data",
                    "data": {
                        "text/html": "(10 rows affected)"
                    },
                    "metadata": {}
                },
                {
                    "output_type": "display_data",
                    "data": {
                        "text/html": "Total execution time: 00:00:00.201"
                    },
                    "metadata": {}
                },
                {
                    "output_type": "execute_result",
                    "metadata": {},
                    "execution_count": 25,
                    "data": {
                        "application/vnd.dataresource+json": {
                            "schema": {
                                "fields": [
                                    {
                                        "name": "c"
                                    },
                                    {
                                        "name": "FullName"
                                    }
                                ]
                            },
                            "data": [
                                {
                                    "0": "496",
                                    "1": "Jack Potter"
                                },
                                {
                                    "0": "492",
                                    "1": "Anthony Grosse"
                                },
                                {
                                    "0": "523",
                                    "1": "Lily Code"
                                },
                                {
                                    "0": "463",
                                    "1": "Hudson Hollinworth"
                                },
                                {
                                    "0": "495",
                                    "1": "Hudson Onslow"
                                },
                                {
                                    "0": "521",
                                    "1": "Kayla Woodcock"
                                },
                                {
                                    "0": "451",
                                    "1": "Sophia Hinton"
                                },
                                {
                                    "0": "442",
                                    "1": "Taj Shand"
                                },
                                {
                                    "0": "519",
                                    "1": "Archer Lamble"
                                },
                                {
                                    "0": "495",
                                    "1": "Amy Trefl"
                                }
                            ]
                        },
                        "text/html": [
                            "<table>",
                            "<tr><th>c</th><th>FullName</th></tr>",
                            "<tr><td>496</td><td>Jack Potter</td></tr>",
                            "<tr><td>492</td><td>Anthony Grosse</td></tr>",
                            "<tr><td>523</td><td>Lily Code</td></tr>",
                            "<tr><td>463</td><td>Hudson Hollinworth</td></tr>",
                            "<tr><td>495</td><td>Hudson Onslow</td></tr>",
                            "<tr><td>521</td><td>Kayla Woodcock</td></tr>",
                            "<tr><td>451</td><td>Sophia Hinton</td></tr>",
                            "<tr><td>442</td><td>Taj Shand</td></tr>",
                            "<tr><td>519</td><td>Archer Lamble</td></tr>",
                            "<tr><td>495</td><td>Amy Trefl</td></tr>",
                            "</table>"
                        ]
                    }
                }
            ],
            "execution_count": 25
        },
        {
            "cell_type": "code",
            "source": [
                "--For each DeliveryCity, DeliveryMethod, TransactionType, PaymentMethod, find the number of\n",
                "--CustomerTransactions and sum of TransactionAmount.\n",
                ""
            ],
            "metadata": {
                "azdata_cell_guid": "3029920f-f878-4643-b820-e6057932593b",
                "language": "sql",
                "tags": []
            },
            "outputs": [],
            "execution_count": null
        },
        {
            "cell_type": "code",
            "source": [
                "--For each DeliveryCity, DeliveryMethod, TransactionType, PaymentMethod, find the average\n",
                "--number of CustomerTransactions and average sum of TransactionAmount per Order. Create a\n",
                "--view for this report."
            ],
            "metadata": {
                "azdata_cell_guid": "c775d984-a918-4bbc-9e45-f5dfdd8c619f",
                "language": "sql"
            },
            "outputs": [],
            "execution_count": null
        },
        {
            "cell_type": "code",
            "source": [
                "-- Find the CustomerCategories that have at least one customer which had less than 100\n",
                "--StockItemTransactions. \n",
                "with countStockItemTransactions\n",
                "as (select s.CustomerID, count(*) countOfTransactions from Warehouse.StockItemTransactions s\n",
                "group by CustomerID)\n",
                "select distinct cc.CustomerCategoryName from countStockItemTransactions csit \n",
                "join Sales.Customers c on c.CustomerID = csit.CustomerID join Sales.CustomerCategories cc on c.CustomerCategoryId = cc.CustomerCategoryID\n",
                "where csit.countOfTransactions < 100"
            ],
            "metadata": {
                "azdata_cell_guid": "c58cd083-ade5-4a5d-875c-f6ff921df057",
                "language": "sql"
            },
            "outputs": [
                {
                    "output_type": "display_data",
                    "data": {
                        "text/html": "(4 rows affected)"
                    },
                    "metadata": {}
                },
                {
                    "output_type": "display_data",
                    "data": {
                        "text/html": "Total execution time: 00:00:00.053"
                    },
                    "metadata": {}
                },
                {
                    "output_type": "execute_result",
                    "metadata": {},
                    "execution_count": 32,
                    "data": {
                        "application/vnd.dataresource+json": {
                            "schema": {
                                "fields": [
                                    {
                                        "name": "CustomerCategoryName"
                                    }
                                ]
                            },
                            "data": [
                                {
                                    "0": "Supermarket"
                                },
                                {
                                    "0": "Gift Store"
                                },
                                {
                                    "0": "Computer Store"
                                },
                                {
                                    "0": "Corporate"
                                }
                            ]
                        },
                        "text/html": [
                            "<table>",
                            "<tr><th>CustomerCategoryName</th></tr>",
                            "<tr><td>Supermarket</td></tr>",
                            "<tr><td>Gift Store</td></tr>",
                            "<tr><td>Computer Store</td></tr>",
                            "<tr><td>Corporate</td></tr>",
                            "</table>"
                        ]
                    }
                }
            ],
            "execution_count": 32
        },
        {
            "cell_type": "code",
            "source": [
                "--Find the Invoices where the products have been sold (SalespersonPersonID) by the same person\n",
                "--that has packed the package (PakcedByPersonID) and the PO Box of the customer is smaller\n",
                "--than 1000."
            ],
            "metadata": {
                "azdata_cell_guid": "28d44e24-4d98-43f5-9a93-c3b939444d19",
                "language": "sql"
            },
            "outputs": [],
            "execution_count": null
        }
    ]
}