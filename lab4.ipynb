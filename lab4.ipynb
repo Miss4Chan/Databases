{
    "metadata": {
        "kernelspec": {
            "name": "SQL",
            "display_name": "SQL",
            "language": "sql"
        },
        "language_info": {
            "name": "sql",
            "version": ""
        }
    },
    "nbformat_minor": 2,
    "nbformat": 4,
    "cells": [
        {
            "cell_type": "code",
            "source": [
                "USE hw4"
            ],
            "metadata": {
                "azdata_cell_guid": "f8d30ac9-83a9-4c9f-b215-2cbeadc58b26",
                "language": "sql"
            },
            "outputs": [
                {
                    "output_type": "display_data",
                    "data": {
                        "text/html": "Commands completed successfully."
                    },
                    "metadata": {}
                },
                {
                    "output_type": "display_data",
                    "data": {
                        "text/html": "Total execution time: 00:00:00.010"
                    },
                    "metadata": {}
                }
            ],
            "execution_count": 2
        },
        {
            "cell_type": "code",
            "source": [
                "ALTER TABLE Consultants ADD FOREIGN KEY (ConsultantPostalCode) REFERENCES PostalCode(PostalCodeID)"
            ],
            "metadata": {
                "azdata_cell_guid": "e3cb3e58-579f-46d3-b8a6-22c07c4ffcbb",
                "language": "sql"
            },
            "outputs": [
                {
                    "output_type": "display_data",
                    "data": {
                        "text/html": "Commands completed successfully."
                    },
                    "metadata": {}
                },
                {
                    "output_type": "display_data",
                    "data": {
                        "text/html": "Total execution time: 00:00:00.050"
                    },
                    "metadata": {}
                }
            ],
            "execution_count": 3
        },
        {
            "cell_type": "code",
            "source": [
                "ALTER TABLE Orders ADD FOREIGN KEY (ConsultantID) REFERENCES Consultants(ConsultantID)"
            ],
            "metadata": {
                "language": "sql",
                "azdata_cell_guid": "cde5d424-b9c3-47c2-b79f-eba13f3da5a9"
            },
            "outputs": [
                {
                    "output_type": "display_data",
                    "data": {
                        "text/html": "Commands completed successfully."
                    },
                    "metadata": {}
                },
                {
                    "output_type": "display_data",
                    "data": {
                        "text/html": "Total execution time: 00:00:00.053"
                    },
                    "metadata": {}
                }
            ],
            "execution_count": 4
        },
        {
            "cell_type": "code",
            "source": [
                "ALTER TABLE Products ADD FOREIGN KEY (SupplierID) REFERENCES Suppliers(SupplierID)\n",
                "ALTER TABLE Products ADD FOREIGN KEY(CategoryID) REFERENCES Categories(CategoryID)"
            ],
            "metadata": {
                "azdata_cell_guid": "7550bf56-d3b8-486c-bbd9-2431549cd90d",
                "language": "sql"
            },
            "outputs": [
                {
                    "output_type": "display_data",
                    "data": {
                        "text/html": "Commands completed successfully."
                    },
                    "metadata": {}
                },
                {
                    "output_type": "display_data",
                    "data": {
                        "text/html": "Total execution time: 00:00:00.038"
                    },
                    "metadata": {}
                }
            ],
            "execution_count": 5
        },
        {
            "cell_type": "code",
            "source": [
                "ALTER TABLE OrderDetails ADD FOREIGN KEY (ProductID) REFERENCES Products(ProductID)\n",
                "ALTER TABLE OrderDetails ADD FOREIGN KEY (OrderID) REFERENCES Orders(OrderID)"
            ],
            "metadata": {
                "azdata_cell_guid": "5e4da6db-9c76-4fce-ba40-0ac6283e72ca",
                "language": "sql"
            },
            "outputs": [
                {
                    "output_type": "display_data",
                    "data": {
                        "text/html": "Commands completed successfully."
                    },
                    "metadata": {}
                },
                {
                    "output_type": "display_data",
                    "data": {
                        "text/html": "Total execution time: 00:00:00.036"
                    },
                    "metadata": {}
                }
            ],
            "execution_count": 6
        },
        {
            "cell_type": "code",
            "source": [
                "--Show the consultants with name starting with the character “P” -- Last Name\n",
                "SELECT * FROM Consultants WHERE ConsultantName LIKE 'P%'"
            ],
            "metadata": {
                "azdata_cell_guid": "3032b4a4-7411-4aae-b7a5-214524866ba7",
                "language": "sql"
            },
            "outputs": [
                {
                    "output_type": "display_data",
                    "data": {
                        "text/html": "(4 rows affected)"
                    },
                    "metadata": {}
                },
                {
                    "output_type": "display_data",
                    "data": {
                        "text/html": "Total execution time: 00:00:00.011"
                    },
                    "metadata": {}
                },
                {
                    "output_type": "execute_result",
                    "execution_count": 9,
                    "data": {
                        "application/vnd.dataresource+json": {
                            "schema": {
                                "fields": [
                                    {
                                        "name": "ConsultantID"
                                    },
                                    {
                                        "name": "ConsultantName"
                                    },
                                    {
                                        "name": "ConsultantAdress"
                                    },
                                    {
                                        "name": "ConsultantPhone"
                                    },
                                    {
                                        "name": "ConsultantPostalCode"
                                    }
                                ]
                            },
                            "data": [
                                {
                                    "0": "89002",
                                    "1": "Popeska Marija",
                                    "2": "Kuzman Josifovski 29",
                                    "3": "022-246-078",
                                    "4": "1000"
                                },
                                {
                                    "0": "89054",
                                    "1": "Pantekovska Emilija",
                                    "2": "Goce Delcev 74",
                                    "3": "047-589-363",
                                    "4": "4000"
                                },
                                {
                                    "0": "89075",
                                    "1": "Petkovska Biljana",
                                    "2": "Licka 4",
                                    "3": "032-380-330",
                                    "4": "1420"
                                },
                                {
                                    "0": "89155",
                                    "1": "Prlickov Nenad",
                                    "2": "Simeon Kavrakirov 65",
                                    "3": "034-334-589",
                                    "4": "1480"
                                }
                            ]
                        },
                        "text/html": "<table><tr><th>ConsultantID</th><th>ConsultantName</th><th>ConsultantAdress</th><th>ConsultantPhone</th><th>ConsultantPostalCode</th></tr><tr><td>89002</td><td>Popeska Marija</td><td>Kuzman Josifovski 29</td><td>022-246-078</td><td>1000</td></tr><tr><td>89054</td><td>Pantekovska Emilija</td><td>Goce Delcev 74</td><td>047-589-363</td><td>4000</td></tr><tr><td>89075</td><td>Petkovska Biljana</td><td>Licka 4</td><td>032-380-330</td><td>1420</td></tr><tr><td>89155</td><td>Prlickov Nenad</td><td>Simeon Kavrakirov 65</td><td>034-334-589</td><td>1480</td></tr></table>"
                    },
                    "metadata": {}
                }
            ],
            "execution_count": 9
        },
        {
            "cell_type": "code",
            "source": [
                "--Show the consultants that have a last name ending in “ska” and a first name starting with “M”.\n",
                "SELECT * FROM Consultants WHERE ConsultantName LIKE '%ska M%'"
            ],
            "metadata": {
                "azdata_cell_guid": "5a7529ee-fb2a-48b1-aad6-a4144e89324b",
                "language": "sql"
            },
            "outputs": [
                {
                    "output_type": "display_data",
                    "data": {
                        "text/html": "(3 rows affected)"
                    },
                    "metadata": {}
                },
                {
                    "output_type": "display_data",
                    "data": {
                        "text/html": "Total execution time: 00:00:00.009"
                    },
                    "metadata": {}
                },
                {
                    "output_type": "execute_result",
                    "execution_count": 10,
                    "data": {
                        "application/vnd.dataresource+json": {
                            "schema": {
                                "fields": [
                                    {
                                        "name": "ConsultantID"
                                    },
                                    {
                                        "name": "ConsultantName"
                                    },
                                    {
                                        "name": "ConsultantAdress"
                                    },
                                    {
                                        "name": "ConsultantPhone"
                                    },
                                    {
                                        "name": "ConsultantPostalCode"
                                    }
                                ]
                            },
                            "data": [
                                {
                                    "0": "89002",
                                    "1": "Popeska Marija",
                                    "2": "Kuzman Josifovski 29",
                                    "3": "022-246-078",
                                    "4": "1000"
                                },
                                {
                                    "0": "89100",
                                    "1": "Nikolovska Marina",
                                    "2": "Jane Sandanski 3",
                                    "3": "022-450-901",
                                    "4": "1000"
                                },
                                {
                                    "0": "89203",
                                    "1": "Trpenoska Milica",
                                    "2": "Mosa Pijade 5/14",
                                    "3": "045-459-367",
                                    "4": "1230"
                                }
                            ]
                        },
                        "text/html": "<table><tr><th>ConsultantID</th><th>ConsultantName</th><th>ConsultantAdress</th><th>ConsultantPhone</th><th>ConsultantPostalCode</th></tr><tr><td>89002</td><td>Popeska Marija</td><td>Kuzman Josifovski 29</td><td>022-246-078</td><td>1000</td></tr><tr><td>89100</td><td>Nikolovska Marina</td><td>Jane Sandanski 3</td><td>022-450-901</td><td>1000</td></tr><tr><td>89203</td><td>Trpenoska Milica</td><td>Mosa Pijade 5/14</td><td>045-459-367</td><td>1230</td></tr></table>"
                    },
                    "metadata": {}
                }
            ],
            "execution_count": 10
        },
        {
            "cell_type": "code",
            "source": [
                "--Show the consultants whose first name has exactly 5 characters. You can use the LIKE operatoror or the LEN function.\n",
                "SELECT * FROM Consultants WHERE ConsultantName LIKE '% _____'"
            ],
            "metadata": {
                "azdata_cell_guid": "0c3e64dc-b2cd-49e2-82ab-4b2d531268c4",
                "language": "sql",
                "tags": []
            },
            "outputs": [
                {
                    "output_type": "display_data",
                    "data": {
                        "text/html": "(5 rows affected)"
                    },
                    "metadata": {}
                },
                {
                    "output_type": "display_data",
                    "data": {
                        "text/html": "Total execution time: 00:00:00.041"
                    },
                    "metadata": {}
                },
                {
                    "output_type": "execute_result",
                    "metadata": {},
                    "execution_count": 5,
                    "data": {
                        "application/vnd.dataresource+json": {
                            "schema": {
                                "fields": [
                                    {
                                        "name": "ConsultantID"
                                    },
                                    {
                                        "name": "ConsultantName"
                                    },
                                    {
                                        "name": "ConsultantAdress"
                                    },
                                    {
                                        "name": "ConsultantPhone"
                                    },
                                    {
                                        "name": "ConsultantPostalCode"
                                    }
                                ]
                            },
                            "data": [
                                {
                                    "0": "89093",
                                    "1": "Krstevski Ivica",
                                    "2": "Anastas Mitrev 5",
                                    "3": "046-238-353",
                                    "4": "9330"
                                },
                                {
                                    "0": "89155",
                                    "1": "Prlickov Nenad",
                                    "2": "Simeon Kavrakirov 65",
                                    "3": "034-334-589",
                                    "4": "1480"
                                },
                                {
                                    "0": "89445",
                                    "1": "Efremoski Goran",
                                    "2": "Krali Marko 96",
                                    "3": "048-412-995",
                                    "4": "1500"
                                },
                                {
                                    "0": "89555",
                                    "1": "Stojanovski Filip",
                                    "2": "Ilindenska 35",
                                    "3": "022-235-600",
                                    "4": "1000"
                                },
                                {
                                    "0": "89600",
                                    "1": "Avramoska Tanja",
                                    "2": "Elpida Karamandi 5",
                                    "3": "043-221-209",
                                    "4": "3000"
                                }
                            ]
                        },
                        "text/html": [
                            "<table>",
                            "<tr><th>ConsultantID</th><th>ConsultantName</th><th>ConsultantAdress</th><th>ConsultantPhone</th><th>ConsultantPostalCode</th></tr>",
                            "<tr><td>89093</td><td>Krstevski Ivica</td><td>Anastas Mitrev 5</td><td>046-238-353</td><td>9330</td></tr>",
                            "<tr><td>89155</td><td>Prlickov Nenad</td><td>Simeon Kavrakirov 65</td><td>034-334-589</td><td>1480</td></tr>",
                            "<tr><td>89445</td><td>Efremoski Goran</td><td>Krali Marko 96</td><td>048-412-995</td><td>1500</td></tr>",
                            "<tr><td>89555</td><td>Stojanovski Filip</td><td>Ilindenska 35</td><td>022-235-600</td><td>1000</td></tr>",
                            "<tr><td>89600</td><td>Avramoska Tanja</td><td>Elpida Karamandi 5</td><td>043-221-209</td><td>3000</td></tr>",
                            "</table>"
                        ]
                    }
                }
            ],
            "execution_count": 5
        },
        {
            "cell_type": "code",
            "source": [
                "--Show the consultants whose first name has at least 5 characters.\n",
                "SELECT * FROM Consultants WHERE ConsultantName LIKE '% _____%'"
            ],
            "metadata": {
                "azdata_cell_guid": "aa7f823f-d87a-4f2a-a959-8fb4d6b18a6d",
                "language": "sql"
            },
            "outputs": [
                {
                    "output_type": "display_data",
                    "data": {
                        "text/html": "(11 rows affected)"
                    },
                    "metadata": {}
                },
                {
                    "output_type": "display_data",
                    "data": {
                        "text/html": "Total execution time: 00:00:00.018"
                    },
                    "metadata": {}
                },
                {
                    "output_type": "execute_result",
                    "metadata": {},
                    "execution_count": 6,
                    "data": {
                        "application/vnd.dataresource+json": {
                            "schema": {
                                "fields": [
                                    {
                                        "name": "ConsultantID"
                                    },
                                    {
                                        "name": "ConsultantName"
                                    },
                                    {
                                        "name": "ConsultantAdress"
                                    },
                                    {
                                        "name": "ConsultantPhone"
                                    },
                                    {
                                        "name": "ConsultantPostalCode"
                                    }
                                ]
                            },
                            "data": [
                                {
                                    "0": "89002",
                                    "1": "Popeska Marija",
                                    "2": "Kuzman Josifovski 29",
                                    "3": "022-246-078",
                                    "4": "1000"
                                },
                                {
                                    "0": "89054",
                                    "1": "Pantekovska Emilija",
                                    "2": "Goce Delcev 74",
                                    "3": "047-589-363",
                                    "4": "4000"
                                },
                                {
                                    "0": "89075",
                                    "1": "Petkovska Biljana",
                                    "2": "Licka 4",
                                    "3": "032-380-330",
                                    "4": "1420"
                                },
                                {
                                    "0": "89093",
                                    "1": "Krstevski Ivica",
                                    "2": "Anastas Mitrev 5",
                                    "3": "046-238-353",
                                    "4": "9330"
                                },
                                {
                                    "0": "89100",
                                    "1": "Nikolovska Marina",
                                    "2": "Jane Sandanski 3",
                                    "3": "022-450-901",
                                    "4": "1000"
                                },
                                {
                                    "0": "89155",
                                    "1": "Prlickov Nenad",
                                    "2": "Simeon Kavrakirov 65",
                                    "3": "034-334-589",
                                    "4": "1480"
                                },
                                {
                                    "0": "89203",
                                    "1": "Trpenoska Milica",
                                    "2": "Mosa Pijade 5/14",
                                    "3": "045-459-367",
                                    "4": "1230"
                                },
                                {
                                    "0": "89445",
                                    "1": "Efremoski Goran",
                                    "2": "Krali Marko 96",
                                    "3": "048-412-995",
                                    "4": "1500"
                                },
                                {
                                    "0": "89555",
                                    "1": "Stojanovski Filip",
                                    "2": "Ilindenska 35",
                                    "3": "022-235-600",
                                    "4": "1000"
                                },
                                {
                                    "0": "89600",
                                    "1": "Avramoska Tanja",
                                    "2": "Elpida Karamandi 5",
                                    "3": "043-221-209",
                                    "4": "3000"
                                },
                                {
                                    "0": "89744",
                                    "1": "Naumova Nevena",
                                    "2": "Slavco Stojmenski 98",
                                    "3": "032-340-555",
                                    "4": "1500"
                                }
                            ]
                        },
                        "text/html": [
                            "<table>",
                            "<tr><th>ConsultantID</th><th>ConsultantName</th><th>ConsultantAdress</th><th>ConsultantPhone</th><th>ConsultantPostalCode</th></tr>",
                            "<tr><td>89002</td><td>Popeska Marija</td><td>Kuzman Josifovski 29</td><td>022-246-078</td><td>1000</td></tr>",
                            "<tr><td>89054</td><td>Pantekovska Emilija</td><td>Goce Delcev 74</td><td>047-589-363</td><td>4000</td></tr>",
                            "<tr><td>89075</td><td>Petkovska Biljana</td><td>Licka 4</td><td>032-380-330</td><td>1420</td></tr>",
                            "<tr><td>89093</td><td>Krstevski Ivica</td><td>Anastas Mitrev 5</td><td>046-238-353</td><td>9330</td></tr>",
                            "<tr><td>89100</td><td>Nikolovska Marina</td><td>Jane Sandanski 3</td><td>022-450-901</td><td>1000</td></tr>",
                            "<tr><td>89155</td><td>Prlickov Nenad</td><td>Simeon Kavrakirov 65</td><td>034-334-589</td><td>1480</td></tr>",
                            "<tr><td>89203</td><td>Trpenoska Milica</td><td>Mosa Pijade 5/14</td><td>045-459-367</td><td>1230</td></tr>",
                            "<tr><td>89445</td><td>Efremoski Goran</td><td>Krali Marko 96</td><td>048-412-995</td><td>1500</td></tr>",
                            "<tr><td>89555</td><td>Stojanovski Filip</td><td>Ilindenska 35</td><td>022-235-600</td><td>1000</td></tr>",
                            "<tr><td>89600</td><td>Avramoska Tanja</td><td>Elpida Karamandi 5</td><td>043-221-209</td><td>3000</td></tr>",
                            "<tr><td>89744</td><td>Naumova Nevena</td><td>Slavco Stojmenski 98</td><td>032-340-555</td><td>1500</td></tr>",
                            "</table>"
                        ]
                    }
                }
            ],
            "execution_count": 6
        },
        {
            "cell_type": "code",
            "source": [
                "--Show the products that have a name consisted of at least 2 words.\n",
                "SELECT p.ProductName\n",
                "FROM Products as p\n",
                "WHERE len(trim(p.ProductName))-len(replace(p.ProductName,' ','')) >=1"
            ],
            "metadata": {
                "azdata_cell_guid": "2eec6519-d54d-4c32-8b3d-f632de0a6068",
                "language": "sql"
            },
            "outputs": [
                {
                    "output_type": "display_data",
                    "data": {
                        "text/html": "(17 rows affected)"
                    },
                    "metadata": {}
                },
                {
                    "output_type": "display_data",
                    "data": {
                        "text/html": "Total execution time: 00:00:00.034"
                    },
                    "metadata": {}
                },
                {
                    "output_type": "execute_result",
                    "metadata": {},
                    "execution_count": 65,
                    "data": {
                        "application/vnd.dataresource+json": {
                            "schema": {
                                "fields": [
                                    {
                                        "name": "ProductName"
                                    }
                                ]
                            },
                            "data": [
                                {
                                    "0": "Royal Velvet"
                                },
                                {
                                    "0": "Time Reversing"
                                },
                                {
                                    "0": "Cotton Candy"
                                },
                                {
                                    "0": "Crushed Berries"
                                },
                                {
                                    "0": "Precious Spice"
                                },
                                {
                                    "0": "Baby Beige"
                                },
                                {
                                    "0": "Golden Bronze"
                                },
                                {
                                    "0": "Swedish Care"
                                },
                                {
                                    "0": "Oriflame Oil Control"
                                },
                                {
                                    "0": "Oriflame Skin Care"
                                },
                                {
                                    "0": "Time Prevent"
                                },
                                {
                                    "0": "Black Cherries"
                                },
                                {
                                    "0": "Passion Red"
                                },
                                {
                                    "0": "Very Berry"
                                },
                                {
                                    "0": "Cover Haze"
                                },
                                {
                                    "0": "Natural Summer"
                                },
                                {
                                    "0": "Mid Summer"
                                }
                            ]
                        },
                        "text/html": [
                            "<table>",
                            "<tr><th>ProductName</th></tr>",
                            "<tr><td>Royal Velvet</td></tr>",
                            "<tr><td>Time Reversing</td></tr>",
                            "<tr><td>Cotton Candy</td></tr>",
                            "<tr><td>Crushed Berries</td></tr>",
                            "<tr><td>Precious Spice</td></tr>",
                            "<tr><td>Baby Beige</td></tr>",
                            "<tr><td>Golden Bronze</td></tr>",
                            "<tr><td>Swedish Care</td></tr>",
                            "<tr><td>Oriflame Oil Control</td></tr>",
                            "<tr><td>Oriflame Skin Care</td></tr>",
                            "<tr><td>Time Prevent</td></tr>",
                            "<tr><td>Black Cherries</td></tr>",
                            "<tr><td>Passion Red</td></tr>",
                            "<tr><td>Very Berry</td></tr>",
                            "<tr><td>Cover Haze</td></tr>",
                            "<tr><td>Natural Summer</td></tr>",
                            "<tr><td>Mid Summer</td></tr>",
                            "</table>"
                        ]
                    }
                }
            ],
            "execution_count": 65
        },
        {
            "cell_type": "code",
            "source": [
                "--Show the products that have a name consisted of exactly 2 words.\n",
                "SELECT p.ProductName\n",
                "FROM Products as p\n",
                "WHERE len(trim(p.ProductName))-len(replace(p.ProductName,' ','')) = 1"
            ],
            "metadata": {
                "azdata_cell_guid": "a7d11e8e-1eaa-4fa6-8d08-72bd66753cb0",
                "language": "sql"
            },
            "outputs": [
                {
                    "output_type": "display_data",
                    "data": {
                        "text/html": "(15 rows affected)"
                    },
                    "metadata": {}
                },
                {
                    "output_type": "display_data",
                    "data": {
                        "text/html": "Total execution time: 00:00:00.027"
                    },
                    "metadata": {}
                },
                {
                    "output_type": "execute_result",
                    "metadata": {},
                    "execution_count": 64,
                    "data": {
                        "application/vnd.dataresource+json": {
                            "schema": {
                                "fields": [
                                    {
                                        "name": "ProductName"
                                    }
                                ]
                            },
                            "data": [
                                {
                                    "0": "Royal Velvet"
                                },
                                {
                                    "0": "Time Reversing"
                                },
                                {
                                    "0": "Cotton Candy"
                                },
                                {
                                    "0": "Crushed Berries"
                                },
                                {
                                    "0": "Precious Spice"
                                },
                                {
                                    "0": "Baby Beige"
                                },
                                {
                                    "0": "Golden Bronze"
                                },
                                {
                                    "0": "Swedish Care"
                                },
                                {
                                    "0": "Time Prevent"
                                },
                                {
                                    "0": "Black Cherries"
                                },
                                {
                                    "0": "Passion Red"
                                },
                                {
                                    "0": "Very Berry"
                                },
                                {
                                    "0": "Cover Haze"
                                },
                                {
                                    "0": "Natural Summer"
                                },
                                {
                                    "0": "Mid Summer"
                                }
                            ]
                        },
                        "text/html": [
                            "<table>",
                            "<tr><th>ProductName</th></tr>",
                            "<tr><td>Royal Velvet</td></tr>",
                            "<tr><td>Time Reversing</td></tr>",
                            "<tr><td>Cotton Candy</td></tr>",
                            "<tr><td>Crushed Berries</td></tr>",
                            "<tr><td>Precious Spice</td></tr>",
                            "<tr><td>Baby Beige</td></tr>",
                            "<tr><td>Golden Bronze</td></tr>",
                            "<tr><td>Swedish Care</td></tr>",
                            "<tr><td>Time Prevent</td></tr>",
                            "<tr><td>Black Cherries</td></tr>",
                            "<tr><td>Passion Red</td></tr>",
                            "<tr><td>Very Berry</td></tr>",
                            "<tr><td>Cover Haze</td></tr>",
                            "<tr><td>Natural Summer</td></tr>",
                            "<tr><td>Mid Summer</td></tr>",
                            "</table>"
                        ]
                    }
                }
            ],
            "execution_count": 64
        },
        {
            "cell_type": "code",
            "source": [
                "--Show the products that contain the letter “D” in lowercase or uppercase.\n",
                "SELECT * FROM Products WHERE ProductName LIKE '%D%' or ProductName LIKE '%d%'"
            ],
            "metadata": {
                "azdata_cell_guid": "2626abff-e91d-496e-80c2-9d84f54db349",
                "language": "sql"
            },
            "outputs": [
                {
                    "output_type": "display_data",
                    "data": {
                        "text/html": "(13 rows affected)"
                    },
                    "metadata": {}
                },
                {
                    "output_type": "display_data",
                    "data": {
                        "text/html": "Total execution time: 00:00:00.041"
                    },
                    "metadata": {}
                },
                {
                    "output_type": "execute_result",
                    "metadata": {},
                    "execution_count": 8,
                    "data": {
                        "application/vnd.dataresource+json": {
                            "schema": {
                                "fields": [
                                    {
                                        "name": "ProductID"
                                    },
                                    {
                                        "name": "ProductName"
                                    },
                                    {
                                        "name": "ProductPrice"
                                    },
                                    {
                                        "name": "ProductPoints"
                                    },
                                    {
                                        "name": "QuantityPerProduct"
                                    },
                                    {
                                        "name": "SupplierID"
                                    },
                                    {
                                        "name": "CategoryID"
                                    }
                                ]
                            },
                            "data": [
                                {
                                    "0": "4262",
                                    "1": "Cotton Candy",
                                    "2": "299",
                                    "3": "20",
                                    "4": "50 pieces x 4 g.",
                                    "5": "1",
                                    "6": "3"
                                },
                                {
                                    "0": "4265",
                                    "1": "Crushed Berries",
                                    "2": "299",
                                    "3": "20",
                                    "4": "50 pieces x 4 g.",
                                    "5": "1",
                                    "6": "3"
                                },
                                {
                                    "0": "4288",
                                    "1": "Golden Bronze",
                                    "2": "219",
                                    "3": "15",
                                    "4": "50 piees x 4 g.",
                                    "5": "1",
                                    "6": "3"
                                },
                                {
                                    "0": "4823",
                                    "1": "Swedish Care",
                                    "2": "499",
                                    "3": "25",
                                    "4": "100 boxes",
                                    "5": "2",
                                    "6": "2"
                                },
                                {
                                    "0": "6581",
                                    "1": "Dumson",
                                    "2": "199",
                                    "3": "15",
                                    "4": "30 bottles x 7 ml.",
                                    "5": "3",
                                    "6": "4"
                                },
                                {
                                    "0": "6582",
                                    "1": "Passion Red",
                                    "2": "199",
                                    "3": "15",
                                    "4": "30 bottles x 7 ml.",
                                    "5": "3",
                                    "6": "4"
                                },
                                {
                                    "0": "6587",
                                    "1": "Diva",
                                    "2": "199",
                                    "3": "15",
                                    "4": "30 bottles x 7 ml.",
                                    "5": "3",
                                    "6": "4"
                                },
                                {
                                    "0": "7013",
                                    "1": "Solliden",
                                    "2": "1299",
                                    "3": "32",
                                    "4": "50 bottles x 75 ml.",
                                    "5": "4",
                                    "6": "1"
                                },
                                {
                                    "0": "7190",
                                    "1": "Indulgence",
                                    "2": "1099",
                                    "3": "30",
                                    "4": "50 bottles x 50 ml.",
                                    "5": "4",
                                    "6": "1"
                                },
                                {
                                    "0": "7192",
                                    "1": "Mid Summer",
                                    "2": "1169",
                                    "3": "30",
                                    "4": "50 bottles x 75 ml.",
                                    "5": "4",
                                    "6": "1"
                                },
                                {
                                    "0": "7537",
                                    "1": "Giordani",
                                    "2": "949",
                                    "3": "28",
                                    "4": "50 bottles x 75 ml.",
                                    "5": "4",
                                    "6": "1"
                                },
                                {
                                    "0": "7543",
                                    "1": "Devine",
                                    "2": "1249",
                                    "3": "32",
                                    "4": "50 bottles x 50 ml.",
                                    "5": "4",
                                    "6": "1"
                                },
                                {
                                    "0": "8037",
                                    "1": "DeMarco",
                                    "2": "829",
                                    "3": "28",
                                    "4": "50 bottles x 100ml.",
                                    "5": "4",
                                    "6": "1"
                                }
                            ]
                        },
                        "text/html": [
                            "<table>",
                            "<tr><th>ProductID</th><th>ProductName</th><th>ProductPrice</th><th>ProductPoints</th><th>QuantityPerProduct</th><th>SupplierID</th><th>CategoryID</th></tr>",
                            "<tr><td>4262</td><td>Cotton Candy</td><td>299</td><td>20</td><td>50 pieces x 4 g.</td><td>1</td><td>3</td></tr>",
                            "<tr><td>4265</td><td>Crushed Berries</td><td>299</td><td>20</td><td>50 pieces x 4 g.</td><td>1</td><td>3</td></tr>",
                            "<tr><td>4288</td><td>Golden Bronze</td><td>219</td><td>15</td><td>50 piees x 4 g.</td><td>1</td><td>3</td></tr>",
                            "<tr><td>4823</td><td>Swedish Care</td><td>499</td><td>25</td><td>100 boxes</td><td>2</td><td>2</td></tr>",
                            "<tr><td>6581</td><td>Dumson</td><td>199</td><td>15</td><td>30 bottles x 7 ml.</td><td>3</td><td>4</td></tr>",
                            "<tr><td>6582</td><td>Passion Red</td><td>199</td><td>15</td><td>30 bottles x 7 ml.</td><td>3</td><td>4</td></tr>",
                            "<tr><td>6587</td><td>Diva</td><td>199</td><td>15</td><td>30 bottles x 7 ml.</td><td>3</td><td>4</td></tr>",
                            "<tr><td>7013</td><td>Solliden</td><td>1299</td><td>32</td><td>50 bottles x 75 ml.</td><td>4</td><td>1</td></tr>",
                            "<tr><td>7190</td><td>Indulgence</td><td>1099</td><td>30</td><td>50 bottles x 50 ml.</td><td>4</td><td>1</td></tr>",
                            "<tr><td>7192</td><td>Mid Summer</td><td>1169</td><td>30</td><td>50 bottles x 75 ml.</td><td>4</td><td>1</td></tr>",
                            "<tr><td>7537</td><td>Giordani</td><td>949</td><td>28</td><td>50 bottles x 75 ml.</td><td>4</td><td>1</td></tr>",
                            "<tr><td>7543</td><td>Devine</td><td>1249</td><td>32</td><td>50 bottles x 50 ml.</td><td>4</td><td>1</td></tr>",
                            "<tr><td>8037</td><td>DeMarco</td><td>829</td><td>28</td><td>50 bottles x 100ml.</td><td>4</td><td>1</td></tr>",
                            "</table>"
                        ]
                    }
                }
            ],
            "execution_count": 8
        },
        {
            "cell_type": "code",
            "source": [
                "--Show the names of the products that were never ordered.\n",
                "SELECT ProductName FROM Products WHERE ProductID not in (SELECT ProductID FROM OrderDetails)"
            ],
            "metadata": {
                "azdata_cell_guid": "31cb88f6-09c4-4593-8a31-30cead03db2d",
                "language": "sql"
            },
            "outputs": [
                {
                    "output_type": "display_data",
                    "data": {
                        "text/html": "(15 rows affected)"
                    },
                    "metadata": {}
                },
                {
                    "output_type": "display_data",
                    "data": {
                        "text/html": "Total execution time: 00:00:00.018"
                    },
                    "metadata": {}
                },
                {
                    "output_type": "execute_result",
                    "metadata": {},
                    "execution_count": 14,
                    "data": {
                        "application/vnd.dataresource+json": {
                            "schema": {
                                "fields": [
                                    {
                                        "name": "ProductName"
                                    }
                                ]
                            },
                            "data": [
                                {
                                    "0": "Cotton Candy"
                                },
                                {
                                    "0": "Crushed Berries"
                                },
                                {
                                    "0": "Caramel"
                                },
                                {
                                    "0": "Golden Bronze"
                                },
                                {
                                    "0": "Time Prevent"
                                },
                                {
                                    "0": "Very Berry"
                                },
                                {
                                    "0": "Natural Summer"
                                },
                                {
                                    "0": "Diva"
                                },
                                {
                                    "0": "Solliden"
                                },
                                {
                                    "0": "Elvie"
                                },
                                {
                                    "0": "Moon"
                                },
                                {
                                    "0": "Mid Summer"
                                },
                                {
                                    "0": "Eclipse"
                                },
                                {
                                    "0": "Giordani"
                                },
                                {
                                    "0": "Rebel"
                                }
                            ]
                        },
                        "text/html": [
                            "<table>",
                            "<tr><th>ProductName</th></tr>",
                            "<tr><td>Cotton Candy</td></tr>",
                            "<tr><td>Crushed Berries</td></tr>",
                            "<tr><td>Caramel</td></tr>",
                            "<tr><td>Golden Bronze</td></tr>",
                            "<tr><td>Time Prevent</td></tr>",
                            "<tr><td>Very Berry</td></tr>",
                            "<tr><td>Natural Summer</td></tr>",
                            "<tr><td>Diva</td></tr>",
                            "<tr><td>Solliden</td></tr>",
                            "<tr><td>Elvie</td></tr>",
                            "<tr><td>Moon</td></tr>",
                            "<tr><td>Mid Summer</td></tr>",
                            "<tr><td>Eclipse</td></tr>",
                            "<tr><td>Giordani</td></tr>",
                            "<tr><td>Rebel</td></tr>",
                            "</table>"
                        ]
                    }
                }
            ],
            "execution_count": 14
        },
        {
            "cell_type": "code",
            "source": [
                "--Show the id and the sum of amount for each order.\n",
                "SELECT od.OrderId,sum(p.ProductPrice * od.Quantity) FROM OrderDetails od JOIN Products p ON od.ProductID = p.ProductID GROUP BY od.OrderID"
            ],
            "metadata": {
                "azdata_cell_guid": "44a59fce-2fdb-4067-a1ec-8665d8a5c2cd",
                "language": "sql"
            },
            "outputs": [
                {
                    "output_type": "display_data",
                    "data": {
                        "text/html": "(15 rows affected)"
                    },
                    "metadata": {}
                },
                {
                    "output_type": "display_data",
                    "data": {
                        "text/html": "Total execution time: 00:00:00.017"
                    },
                    "metadata": {}
                },
                {
                    "output_type": "execute_result",
                    "metadata": {},
                    "execution_count": 22,
                    "data": {
                        "application/vnd.dataresource+json": {
                            "schema": {
                                "fields": [
                                    {
                                        "name": "OrderId"
                                    },
                                    {
                                        "name": "(No column name)"
                                    }
                                ]
                            },
                            "data": [
                                {
                                    "0": "1",
                                    "1": "716900"
                                },
                                {
                                    "0": "2",
                                    "1": "131700"
                                },
                                {
                                    "0": "3",
                                    "1": "329400"
                                },
                                {
                                    "0": "4",
                                    "1": "135800"
                                },
                                {
                                    "0": "5",
                                    "1": "116900"
                                },
                                {
                                    "0": "6",
                                    "1": "101600"
                                },
                                {
                                    "0": "7",
                                    "1": "343700"
                                },
                                {
                                    "0": "8",
                                    "1": "287700"
                                },
                                {
                                    "0": "9",
                                    "1": "99800"
                                },
                                {
                                    "0": "10",
                                    "1": "679300"
                                },
                                {
                                    "0": "11",
                                    "1": "119400"
                                },
                                {
                                    "0": "12",
                                    "1": "146700"
                                },
                                {
                                    "0": "13",
                                    "1": "224700"
                                },
                                {
                                    "0": "14",
                                    "1": "375400"
                                },
                                {
                                    "0": "15",
                                    "1": "249500"
                                }
                            ]
                        },
                        "text/html": [
                            "<table>",
                            "<tr><th>OrderId</th><th>(No column name)</th></tr>",
                            "<tr><td>1</td><td>716900</td></tr>",
                            "<tr><td>2</td><td>131700</td></tr>",
                            "<tr><td>3</td><td>329400</td></tr>",
                            "<tr><td>4</td><td>135800</td></tr>",
                            "<tr><td>5</td><td>116900</td></tr>",
                            "<tr><td>6</td><td>101600</td></tr>",
                            "<tr><td>7</td><td>343700</td></tr>",
                            "<tr><td>8</td><td>287700</td></tr>",
                            "<tr><td>9</td><td>99800</td></tr>",
                            "<tr><td>10</td><td>679300</td></tr>",
                            "<tr><td>11</td><td>119400</td></tr>",
                            "<tr><td>12</td><td>146700</td></tr>",
                            "<tr><td>13</td><td>224700</td></tr>",
                            "<tr><td>14</td><td>375400</td></tr>",
                            "<tr><td>15</td><td>249500</td></tr>",
                            "</table>"
                        ]
                    }
                }
            ],
            "execution_count": 22
        },
        {
            "cell_type": "code",
            "source": [
                "--Show the id of each product and the number of orders in which it is included.\n",
                "SELECT p.ProductID,count(od.OrderID) Number_Of_Orders FROM Products p LEFT OUTER JOIN OrderDetails od ON od.ProductID = p.ProductID GROUP BY p.ProductID"
            ],
            "metadata": {
                "azdata_cell_guid": "a86a9cd7-5391-41d4-8301-ae12aaaecff1",
                "language": "sql"
            },
            "outputs": [
                {
                    "output_type": "display_data",
                    "data": {
                        "text/html": "Warning: Null value is eliminated by an aggregate or other SET operation."
                    },
                    "metadata": {}
                },
                {
                    "output_type": "display_data",
                    "data": {
                        "text/html": "(36 rows affected)"
                    },
                    "metadata": {}
                },
                {
                    "output_type": "display_data",
                    "data": {
                        "text/html": "Total execution time: 00:00:00.035"
                    },
                    "metadata": {}
                },
                {
                    "output_type": "execute_result",
                    "metadata": {},
                    "execution_count": 25,
                    "data": {
                        "application/vnd.dataresource+json": {
                            "schema": {
                                "fields": [
                                    {
                                        "name": "ProductID"
                                    },
                                    {
                                        "name": "Number_Of_Orders"
                                    }
                                ]
                            },
                            "data": [
                                {
                                    "0": "1120",
                                    "1": "1"
                                },
                                {
                                    "0": "1136",
                                    "1": "1"
                                },
                                {
                                    "0": "4262",
                                    "1": "0"
                                },
                                {
                                    "0": "4265",
                                    "1": "0"
                                },
                                {
                                    "0": "4266",
                                    "1": "2"
                                },
                                {
                                    "0": "4286",
                                    "1": "2"
                                },
                                {
                                    "0": "4287",
                                    "1": "0"
                                },
                                {
                                    "0": "4288",
                                    "1": "0"
                                },
                                {
                                    "0": "4823",
                                    "1": "1"
                                },
                                {
                                    "0": "4880",
                                    "1": "1"
                                },
                                {
                                    "0": "4899",
                                    "1": "2"
                                },
                                {
                                    "0": "4921",
                                    "1": "0"
                                },
                                {
                                    "0": "6580",
                                    "1": "1"
                                },
                                {
                                    "0": "6581",
                                    "1": "1"
                                },
                                {
                                    "0": "6582",
                                    "1": "1"
                                },
                                {
                                    "0": "6583",
                                    "1": "0"
                                },
                                {
                                    "0": "6584",
                                    "1": "1"
                                },
                                {
                                    "0": "6585",
                                    "1": "0"
                                },
                                {
                                    "0": "6587",
                                    "1": "0"
                                },
                                {
                                    "0": "7013",
                                    "1": "0"
                                },
                                {
                                    "0": "7041",
                                    "1": "1"
                                },
                                {
                                    "0": "7088",
                                    "1": "0"
                                },
                                {
                                    "0": "7110",
                                    "1": "1"
                                },
                                {
                                    "0": "7151",
                                    "1": "0"
                                },
                                {
                                    "0": "7190",
                                    "1": "1"
                                },
                                {
                                    "0": "7192",
                                    "1": "0"
                                },
                                {
                                    "0": "7421",
                                    "1": "1"
                                },
                                {
                                    "0": "7474",
                                    "1": "1"
                                },
                                {
                                    "0": "7526",
                                    "1": "1"
                                },
                                {
                                    "0": "7527",
                                    "1": "0"
                                },
                                {
                                    "0": "7537",
                                    "1": "0"
                                },
                                {
                                    "0": "7543",
                                    "1": "2"
                                },
                                {
                                    "0": "7558",
                                    "1": "1"
                                },
                                {
                                    "0": "8037",
                                    "1": "1"
                                },
                                {
                                    "0": "8120",
                                    "1": "0"
                                },
                                {
                                    "0": "8150",
                                    "1": "2"
                                }
                            ]
                        },
                        "text/html": [
                            "<table>",
                            "<tr><th>ProductID</th><th>Number_Of_Orders</th></tr>",
                            "<tr><td>1120</td><td>1</td></tr>",
                            "<tr><td>1136</td><td>1</td></tr>",
                            "<tr><td>4262</td><td>0</td></tr>",
                            "<tr><td>4265</td><td>0</td></tr>",
                            "<tr><td>4266</td><td>2</td></tr>",
                            "<tr><td>4286</td><td>2</td></tr>",
                            "<tr><td>4287</td><td>0</td></tr>",
                            "<tr><td>4288</td><td>0</td></tr>",
                            "<tr><td>4823</td><td>1</td></tr>",
                            "<tr><td>4880</td><td>1</td></tr>",
                            "<tr><td>4899</td><td>2</td></tr>",
                            "<tr><td>4921</td><td>0</td></tr>",
                            "<tr><td>6580</td><td>1</td></tr>",
                            "<tr><td>6581</td><td>1</td></tr>",
                            "<tr><td>6582</td><td>1</td></tr>",
                            "<tr><td>6583</td><td>0</td></tr>",
                            "<tr><td>6584</td><td>1</td></tr>",
                            "<tr><td>6585</td><td>0</td></tr>",
                            "<tr><td>6587</td><td>0</td></tr>",
                            "<tr><td>7013</td><td>0</td></tr>",
                            "<tr><td>7041</td><td>1</td></tr>",
                            "<tr><td>7088</td><td>0</td></tr>",
                            "<tr><td>7110</td><td>1</td></tr>",
                            "<tr><td>7151</td><td>0</td></tr>",
                            "<tr><td>7190</td><td>1</td></tr>",
                            "<tr><td>7192</td><td>0</td></tr>",
                            "<tr><td>7421</td><td>1</td></tr>",
                            "<tr><td>7474</td><td>1</td></tr>",
                            "<tr><td>7526</td><td>1</td></tr>",
                            "<tr><td>7527</td><td>0</td></tr>",
                            "<tr><td>7537</td><td>0</td></tr>",
                            "<tr><td>7543</td><td>2</td></tr>",
                            "<tr><td>7558</td><td>1</td></tr>",
                            "<tr><td>8037</td><td>1</td></tr>",
                            "<tr><td>8120</td><td>0</td></tr>",
                            "<tr><td>8150</td><td>2</td></tr>",
                            "</table>"
                        ]
                    }
                }
            ],
            "execution_count": 25
        },
        {
            "cell_type": "code",
            "source": [
                "--Show all product details for products that were ordered at least twice (i.e. that appear in 2\n",
                "--different orders).\n",
                "CREATE VIEW nums AS SELECT p.ProductID,count(od.OrderID) Number_Of_Orders FROM Products p LEFT OUTER JOIN OrderDetails od ON od.ProductID = p.ProductID GROUP BY p.ProductID"
            ],
            "metadata": {
                "azdata_cell_guid": "13cea9c6-da7f-4825-a9f9-59d1820bc71c",
                "language": "sql"
            },
            "outputs": [
                {
                    "output_type": "display_data",
                    "data": {
                        "text/html": "Commands completed successfully."
                    },
                    "metadata": {}
                },
                {
                    "output_type": "display_data",
                    "data": {
                        "text/html": "Total execution time: 00:00:00.063"
                    },
                    "metadata": {}
                }
            ],
            "execution_count": 34
        },
        {
            "cell_type": "code",
            "source": [
                "SELECT p.* FROM Products p JOIN nums n ON n.ProductID=p.ProductID WHERE Number_Of_Orders>=2"
            ],
            "metadata": {
                "language": "sql",
                "azdata_cell_guid": "10920171-515b-4321-8e24-ac065a6419cf"
            },
            "outputs": [
                {
                    "output_type": "display_data",
                    "data": {
                        "text/html": "Warning: Null value is eliminated by an aggregate or other SET operation."
                    },
                    "metadata": {}
                },
                {
                    "output_type": "display_data",
                    "data": {
                        "text/html": "(5 rows affected)"
                    },
                    "metadata": {}
                },
                {
                    "output_type": "display_data",
                    "data": {
                        "text/html": "Total execution time: 00:00:00.018"
                    },
                    "metadata": {}
                },
                {
                    "output_type": "execute_result",
                    "metadata": {},
                    "execution_count": 39,
                    "data": {
                        "application/vnd.dataresource+json": {
                            "schema": {
                                "fields": [
                                    {
                                        "name": "ProductID"
                                    },
                                    {
                                        "name": "ProductName"
                                    },
                                    {
                                        "name": "ProductPrice"
                                    },
                                    {
                                        "name": "ProductPoints"
                                    },
                                    {
                                        "name": "QuantityPerProduct"
                                    },
                                    {
                                        "name": "SupplierID"
                                    },
                                    {
                                        "name": "CategoryID"
                                    }
                                ]
                            },
                            "data": [
                                {
                                    "0": "4266",
                                    "1": "Precious Spice",
                                    "2": "299",
                                    "3": "20",
                                    "4": "50 pieces x 4 g.",
                                    "5": "1",
                                    "6": "3"
                                },
                                {
                                    "0": "4286",
                                    "1": "Baby Beige",
                                    "2": "219",
                                    "3": "15",
                                    "4": "50 pieces x 4 g.",
                                    "5": "1",
                                    "6": "3"
                                },
                                {
                                    "0": "4899",
                                    "1": "Oriflame Skin Care",
                                    "2": "159",
                                    "3": "20",
                                    "4": "100 boxes",
                                    "5": "2",
                                    "6": "2"
                                },
                                {
                                    "0": "7543",
                                    "1": "Devine",
                                    "2": "1249",
                                    "3": "32",
                                    "4": "50 bottles x 50 ml.",
                                    "5": "4",
                                    "6": "1"
                                },
                                {
                                    "0": "8150",
                                    "1": "Glacier",
                                    "2": "799",
                                    "3": "23",
                                    "4": "50 bottles x 75 ml.",
                                    "5": "4",
                                    "6": "1"
                                }
                            ]
                        },
                        "text/html": [
                            "<table>",
                            "<tr><th>ProductID</th><th>ProductName</th><th>ProductPrice</th><th>ProductPoints</th><th>QuantityPerProduct</th><th>SupplierID</th><th>CategoryID</th></tr>",
                            "<tr><td>4266</td><td>Precious Spice</td><td>299</td><td>20</td><td>50 pieces x 4 g.</td><td>1</td><td>3</td></tr>",
                            "<tr><td>4286</td><td>Baby Beige</td><td>219</td><td>15</td><td>50 pieces x 4 g.</td><td>1</td><td>3</td></tr>",
                            "<tr><td>4899</td><td>Oriflame Skin Care</td><td>159</td><td>20</td><td>100 boxes</td><td>2</td><td>2</td></tr>",
                            "<tr><td>7543</td><td>Devine</td><td>1249</td><td>32</td><td>50 bottles x 50 ml.</td><td>4</td><td>1</td></tr>",
                            "<tr><td>8150</td><td>Glacier</td><td>799</td><td>23</td><td>50 bottles x 75 ml.</td><td>4</td><td>1</td></tr>",
                            "</table>"
                        ]
                    }
                }
            ],
            "execution_count": 39
        },
        {
            "cell_type": "code",
            "source": [
                "--Show the total profit of each consultant separately.\n",
                "SELECT o.ConsultantID,sum(p.ProductPrice * od.Quantity) Profit FROM OrderDetails od \n",
                "JOIN Orders o ON od.OrderID=o.OrderID\n",
                "JOIN Products p ON p.ProductID=od.ProductID\n",
                "GROUP BY o.ConsultantID"
            ],
            "metadata": {
                "azdata_cell_guid": "e23de636-0913-4910-bd2e-34f89b1358b2",
                "language": "sql"
            },
            "outputs": [
                {
                    "output_type": "display_data",
                    "data": {
                        "text/html": "(12 rows affected)"
                    },
                    "metadata": {}
                },
                {
                    "output_type": "display_data",
                    "data": {
                        "text/html": "Total execution time: 00:00:00.036"
                    },
                    "metadata": {}
                },
                {
                    "output_type": "execute_result",
                    "metadata": {},
                    "execution_count": 48,
                    "data": {
                        "application/vnd.dataresource+json": {
                            "schema": {
                                "fields": [
                                    {
                                        "name": "ConsultantID"
                                    },
                                    {
                                        "name": "Profit"
                                    }
                                ]
                            },
                            "data": [
                                {
                                    "0": "89002",
                                    "1": "135800"
                                },
                                {
                                    "0": "89054",
                                    "1": "116900"
                                },
                                {
                                    "0": "89075",
                                    "1": "101600"
                                },
                                {
                                    "0": "89091",
                                    "1": "568400"
                                },
                                {
                                    "0": "89093",
                                    "1": "537200"
                                },
                                {
                                    "0": "89100",
                                    "1": "99800"
                                },
                                {
                                    "0": "89155",
                                    "1": "679300"
                                },
                                {
                                    "0": "89203",
                                    "1": "119400"
                                },
                                {
                                    "0": "89445",
                                    "1": "329400"
                                },
                                {
                                    "0": "89555",
                                    "1": "131700"
                                },
                                {
                                    "0": "89600",
                                    "1": "1092300"
                                },
                                {
                                    "0": "89744",
                                    "1": "146700"
                                }
                            ]
                        },
                        "text/html": [
                            "<table>",
                            "<tr><th>ConsultantID</th><th>Profit</th></tr>",
                            "<tr><td>89002</td><td>135800</td></tr>",
                            "<tr><td>89054</td><td>116900</td></tr>",
                            "<tr><td>89075</td><td>101600</td></tr>",
                            "<tr><td>89091</td><td>568400</td></tr>",
                            "<tr><td>89093</td><td>537200</td></tr>",
                            "<tr><td>89100</td><td>99800</td></tr>",
                            "<tr><td>89155</td><td>679300</td></tr>",
                            "<tr><td>89203</td><td>119400</td></tr>",
                            "<tr><td>89445</td><td>329400</td></tr>",
                            "<tr><td>89555</td><td>131700</td></tr>",
                            "<tr><td>89600</td><td>1092300</td></tr>",
                            "<tr><td>89744</td><td>146700</td></tr>",
                            "</table>"
                        ]
                    }
                }
            ],
            "execution_count": 48
        },
        {
            "cell_type": "code",
            "source": [
                "--Show the names of the products which are not part of the Perfume \n",
                "--category but have higher price than at least one perfume (a product that is in the Perfume category).\n",
                "SELECT min(p.ProductPrice) FROM Products p JOIN Categories c ON p.CategoryID=c.CategoryID WHERE c.CategoryName='Perfumes'"
            ],
            "metadata": {
                "azdata_cell_guid": "3326fd98-686b-4a12-a75e-5119a6443f70",
                "language": "sql"
            },
            "outputs": [
                {
                    "output_type": "display_data",
                    "data": {
                        "text/html": "(1 row affected)"
                    },
                    "metadata": {}
                },
                {
                    "output_type": "display_data",
                    "data": {
                        "text/html": "Total execution time: 00:00:00.018"
                    },
                    "metadata": {}
                },
                {
                    "output_type": "execute_result",
                    "metadata": {},
                    "execution_count": 51,
                    "data": {
                        "application/vnd.dataresource+json": {
                            "schema": {
                                "fields": [
                                    {
                                        "name": "(No column name)"
                                    }
                                ]
                            },
                            "data": [
                                {
                                    "0": "509"
                                }
                            ]
                        },
                        "text/html": [
                            "<table>",
                            "<tr><th>(No column name)</th></tr>",
                            "<tr><td>509</td></tr>",
                            "</table>"
                        ]
                    }
                }
            ],
            "execution_count": 51
        },
        {
            "cell_type": "code",
            "source": [
                "SELECT p.* FROM Products p JOIN Categories c ON p.CategoryID=c.CategoryID WHERE \n",
                "(p.ProductPrice> (SELECT min(p.ProductPrice) FROM Products p JOIN Categories c ON p.CategoryID=c.CategoryID \n",
                "WHERE c.CategoryName='Perfumes') and c.CategoryName!='Perfumes')"
            ],
            "metadata": {
                "language": "sql",
                "azdata_cell_guid": "161f05ae-2db0-439e-8d28-b0e5024bfd32",
                "tags": []
            },
            "outputs": [
                {
                    "output_type": "display_data",
                    "data": {
                        "text/html": "(2 rows affected)"
                    },
                    "metadata": {}
                },
                {
                    "output_type": "display_data",
                    "data": {
                        "text/html": "Total execution time: 00:00:00.042"
                    },
                    "metadata": {}
                },
                {
                    "output_type": "execute_result",
                    "metadata": {},
                    "execution_count": 62,
                    "data": {
                        "application/vnd.dataresource+json": {
                            "schema": {
                                "fields": [
                                    {
                                        "name": "ProductID"
                                    },
                                    {
                                        "name": "ProductName"
                                    },
                                    {
                                        "name": "ProductPrice"
                                    },
                                    {
                                        "name": "ProductPoints"
                                    },
                                    {
                                        "name": "QuantityPerProduct"
                                    },
                                    {
                                        "name": "SupplierID"
                                    },
                                    {
                                        "name": "CategoryID"
                                    }
                                ]
                            },
                            "data": [
                                {
                                    "0": "1120",
                                    "1": "Royal Velvet",
                                    "2": "749",
                                    "3": "28",
                                    "4": "100 boxes",
                                    "5": "2",
                                    "6": "2"
                                },
                                {
                                    "0": "1136",
                                    "1": "Time Reversing",
                                    "2": "1199",
                                    "3": "30",
                                    "4": "100 boxes",
                                    "5": "2",
                                    "6": "2"
                                }
                            ]
                        },
                        "text/html": [
                            "<table>",
                            "<tr><th>ProductID</th><th>ProductName</th><th>ProductPrice</th><th>ProductPoints</th><th>QuantityPerProduct</th><th>SupplierID</th><th>CategoryID</th></tr>",
                            "<tr><td>1120</td><td>Royal Velvet</td><td>749</td><td>28</td><td>100 boxes</td><td>2</td><td>2</td></tr>",
                            "<tr><td>1136</td><td>Time Reversing</td><td>1199</td><td>30</td><td>100 boxes</td><td>2</td><td>2</td></tr>",
                            "</table>"
                        ]
                    }
                }
            ],
            "execution_count": 62
        },
        {
            "cell_type": "code",
            "source": [
                "--Calculate the average profit of all consultants (average of the total profit per consultant). AMERICA EXPLAIN??\n",
                "SELECT avg(p.ProductPrice * od.Quantity) Profit FROM OrderDetails od \n",
                "JOIN Orders o ON od.OrderID=o.OrderID\n",
                "JOIN Products p ON p.ProductID=od.ProductID"
            ],
            "metadata": {
                "azdata_cell_guid": "a95948ec-a3a9-47e2-af1f-5788fcb6c15a",
                "language": "sql",
                "tags": []
            },
            "outputs": [
                {
                    "output_type": "display_data",
                    "data": {
                        "text/html": "(1 row affected)"
                    },
                    "metadata": {}
                },
                {
                    "output_type": "display_data",
                    "data": {
                        "text/html": "Total execution time: 00:00:00.014"
                    },
                    "metadata": {}
                },
                {
                    "output_type": "execute_result",
                    "metadata": {},
                    "execution_count": 71,
                    "data": {
                        "application/vnd.dataresource+json": {
                            "schema": {
                                "fields": [
                                    {
                                        "name": "Profit"
                                    }
                                ]
                            },
                            "data": [
                                {
                                    "0": "156096,15384615384"
                                }
                            ]
                        },
                        "text/html": [
                            "<table>",
                            "<tr><th>Profit</th></tr>",
                            "<tr><td>156096,15384615384</td></tr>",
                            "</table>"
                        ]
                    }
                }
            ],
            "execution_count": 71
        },
        {
            "cell_type": "code",
            "source": [
                "--Calculate the average sum of all orders - OVA E ISTO SO TOA NAD????\n",
                "SELECT avg(p.ProductPrice*od.Quantity) FROM OrderDetails od JOIN Products p ON od.ProductID=p.ProductID"
            ],
            "metadata": {
                "azdata_cell_guid": "ac53e6f3-2171-4bbb-ad5e-b2120a5ac001",
                "language": "sql"
            },
            "outputs": [
                {
                    "output_type": "display_data",
                    "data": {
                        "text/html": "(1 row affected)"
                    },
                    "metadata": {}
                },
                {
                    "output_type": "display_data",
                    "data": {
                        "text/html": "Total execution time: 00:00:00.056"
                    },
                    "metadata": {}
                },
                {
                    "output_type": "execute_result",
                    "metadata": {},
                    "execution_count": 74,
                    "data": {
                        "application/vnd.dataresource+json": {
                            "schema": {
                                "fields": [
                                    {
                                        "name": "(No column name)"
                                    }
                                ]
                            },
                            "data": [
                                {
                                    "0": "156096,15384615384"
                                }
                            ]
                        },
                        "text/html": [
                            "<table>",
                            "<tr><th>(No column name)</th></tr>",
                            "<tr><td>156096,15384615384</td></tr>",
                            "</table>"
                        ]
                    }
                }
            ],
            "execution_count": 74
        },
        {
            "cell_type": "code",
            "source": [
                "--Calculate the average number of products per order\n",
                "SELECT avg(od.Quantity) FROM OrderDetails od"
            ],
            "metadata": {
                "azdata_cell_guid": "a8401ba7-6e67-4f89-ac9f-3f575fb3fff7",
                "language": "sql"
            },
            "outputs": [
                {
                    "output_type": "display_data",
                    "data": {
                        "text/html": "(1 row affected)"
                    },
                    "metadata": {}
                },
                {
                    "output_type": "display_data",
                    "data": {
                        "text/html": "Total execution time: 00:00:00.013"
                    },
                    "metadata": {}
                },
                {
                    "output_type": "execute_result",
                    "metadata": {},
                    "execution_count": 76,
                    "data": {
                        "application/vnd.dataresource+json": {
                            "schema": {
                                "fields": [
                                    {
                                        "name": "(No column name)"
                                    }
                                ]
                            },
                            "data": [
                                {
                                    "0": "250"
                                }
                            ]
                        },
                        "text/html": [
                            "<table>",
                            "<tr><th>(No column name)</th></tr>",
                            "<tr><td>250</td></tr>",
                            "</table>"
                        ]
                    }
                }
            ],
            "execution_count": 76
        },
        {
            "cell_type": "code",
            "source": [
                "--Find the most expensive product, the number of orders it appears in, and the number of consultants that have sold it.\n",
                "-- Then display the names of the consultants that have ever sold it.\n",
                "--Most expensive product ne e nikad narachan this is the best u can get\n",
                "SELECT TOP 1 p.* FROM OrderDetails od INNER JOIN Products p ON od.ProductID=p.ProductID ORDER BY p.ProductPrice DESC\n",
                ""
            ],
            "metadata": {
                "azdata_cell_guid": "18f018b4-13c3-4982-a530-5e82017c6b83",
                "language": "sql",
                "tags": []
            },
            "outputs": [
                {
                    "output_type": "display_data",
                    "data": {
                        "text/html": "(1 row affected)"
                    },
                    "metadata": {}
                },
                {
                    "output_type": "display_data",
                    "data": {
                        "text/html": "Total execution time: 00:00:00.033"
                    },
                    "metadata": {}
                },
                {
                    "output_type": "execute_result",
                    "metadata": {},
                    "execution_count": 86,
                    "data": {
                        "application/vnd.dataresource+json": {
                            "schema": {
                                "fields": [
                                    {
                                        "name": "ProductID"
                                    },
                                    {
                                        "name": "ProductName"
                                    },
                                    {
                                        "name": "ProductPrice"
                                    },
                                    {
                                        "name": "ProductPoints"
                                    },
                                    {
                                        "name": "QuantityPerProduct"
                                    },
                                    {
                                        "name": "SupplierID"
                                    },
                                    {
                                        "name": "CategoryID"
                                    }
                                ]
                            },
                            "data": [
                                {
                                    "0": "7543",
                                    "1": "Devine",
                                    "2": "1249",
                                    "3": "32",
                                    "4": "50 bottles x 50 ml.",
                                    "5": "4",
                                    "6": "1"
                                }
                            ]
                        },
                        "text/html": [
                            "<table>",
                            "<tr><th>ProductID</th><th>ProductName</th><th>ProductPrice</th><th>ProductPoints</th><th>QuantityPerProduct</th><th>SupplierID</th><th>CategoryID</th></tr>",
                            "<tr><td>7543</td><td>Devine</td><td>1249</td><td>32</td><td>50 bottles x 50 ml.</td><td>4</td><td>1</td></tr>",
                            "</table>"
                        ]
                    }
                }
            ],
            "execution_count": 86
        },
        {
            "cell_type": "code",
            "source": [
                "CREATE VIEW mostExpensiveProdOrder AS SELECT * FROM OrderDetails od WHERE(od.ProductID = (SELECT TOP 1 p.ProductID FROM OrderDetails od INNER JOIN Products p ON od.ProductID=p.ProductID ORDER BY p.ProductPrice DESC))"
            ],
            "metadata": {
                "azdata_cell_guid": "e529a5c7-2dd7-463f-b741-0ab339f5dc7c",
                "language": "sql"
            },
            "outputs": [
                {
                    "output_type": "display_data",
                    "data": {
                        "text/html": "Commands completed successfully."
                    },
                    "metadata": {}
                },
                {
                    "output_type": "display_data",
                    "data": {
                        "text/html": "Total execution time: 00:00:00.034"
                    },
                    "metadata": {}
                }
            ],
            "execution_count": 89
        },
        {
            "cell_type": "code",
            "source": [
                "SELECT * FROM mostExpensiveProdOrder"
            ],
            "metadata": {
                "azdata_cell_guid": "2366a2f3-9496-4e1f-b291-c2cead6894a8",
                "language": "sql"
            },
            "outputs": [
                {
                    "output_type": "display_data",
                    "data": {
                        "text/html": "(2 rows affected)"
                    },
                    "metadata": {}
                },
                {
                    "output_type": "display_data",
                    "data": {
                        "text/html": "Total execution time: 00:00:00.058"
                    },
                    "metadata": {}
                },
                {
                    "output_type": "execute_result",
                    "metadata": {},
                    "execution_count": 92,
                    "data": {
                        "application/vnd.dataresource+json": {
                            "schema": {
                                "fields": [
                                    {
                                        "name": "ProductID"
                                    },
                                    {
                                        "name": "OrderID"
                                    },
                                    {
                                        "name": "Quantity"
                                    }
                                ]
                            },
                            "data": [
                                {
                                    "0": "7543",
                                    "1": "3",
                                    "2": "200"
                                },
                                {
                                    "0": "7543",
                                    "1": "7",
                                    "2": "200"
                                }
                            ]
                        },
                        "text/html": [
                            "<table>",
                            "<tr><th>ProductID</th><th>OrderID</th><th>Quantity</th></tr>",
                            "<tr><td>7543</td><td>3</td><td>200</td></tr>",
                            "<tr><td>7543</td><td>7</td><td>200</td></tr>",
                            "</table>"
                        ]
                    }
                }
            ],
            "execution_count": 92
        },
        {
            "cell_type": "code",
            "source": [
                "CREATE VIEW consNames AS SELECT c.ConsultantName FROM mostExpensiveProdOrder m JOIN Orders o ON o.OrderID=m.OrderID JOIN Consultants c ON c.ConsultantID = o.ConsultantID"
            ],
            "metadata": {
                "azdata_cell_guid": "7a7f4377-376a-422c-af97-ffbaddf6dff0",
                "language": "sql"
            },
            "outputs": [
                {
                    "output_type": "display_data",
                    "data": {
                        "text/html": "Commands completed successfully."
                    },
                    "metadata": {}
                },
                {
                    "output_type": "display_data",
                    "data": {
                        "text/html": "Total execution time: 00:00:00.054"
                    },
                    "metadata": {}
                }
            ],
            "execution_count": 97
        },
        {
            "cell_type": "code",
            "source": [
                "SELECT DISTINCT * FROM consNames"
            ],
            "metadata": {
                "azdata_cell_guid": "456df6ab-8e1b-4108-a878-8e49912b1645",
                "language": "sql"
            },
            "outputs": [
                {
                    "output_type": "display_data",
                    "data": {
                        "text/html": "(2 rows affected)"
                    },
                    "metadata": {}
                },
                {
                    "output_type": "display_data",
                    "data": {
                        "text/html": "Total execution time: 00:00:00.159"
                    },
                    "metadata": {}
                },
                {
                    "output_type": "execute_result",
                    "metadata": {},
                    "execution_count": 104,
                    "data": {
                        "application/vnd.dataresource+json": {
                            "schema": {
                                "fields": [
                                    {
                                        "name": "ConsultantName"
                                    }
                                ]
                            },
                            "data": [
                                {
                                    "0": "Efremoski Goran"
                                },
                                {
                                    "0": "Lazarova Nina"
                                }
                            ]
                        },
                        "text/html": [
                            "<table>",
                            "<tr><th>ConsultantName</th></tr>",
                            "<tr><td>Efremoski Goran</td></tr>",
                            "<tr><td>Lazarova Nina</td></tr>",
                            "</table>"
                        ]
                    }
                }
            ],
            "execution_count": 104
        },
        {
            "cell_type": "code",
            "source": [
                "SELECT count(c.ConsultantName) Nums FROM consNames c"
            ],
            "metadata": {
                "azdata_cell_guid": "5ac545b1-e906-4301-908c-401d556d7cef",
                "language": "sql"
            },
            "outputs": [
                {
                    "output_type": "display_data",
                    "data": {
                        "text/html": "(1 row affected)"
                    },
                    "metadata": {}
                },
                {
                    "output_type": "display_data",
                    "data": {
                        "text/html": "Total execution time: 00:00:00.033"
                    },
                    "metadata": {}
                },
                {
                    "output_type": "execute_result",
                    "metadata": {},
                    "execution_count": 103,
                    "data": {
                        "application/vnd.dataresource+json": {
                            "schema": {
                                "fields": [
                                    {
                                        "name": "Nums"
                                    }
                                ]
                            },
                            "data": [
                                {
                                    "0": "2"
                                }
                            ]
                        },
                        "text/html": [
                            "<table>",
                            "<tr><th>Nums</th></tr>",
                            "<tr><td>2</td></tr>",
                            "</table>"
                        ]
                    }
                }
            ],
            "execution_count": 103
        }
    ]
}