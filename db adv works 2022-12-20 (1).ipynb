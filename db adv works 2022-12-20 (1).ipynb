{
    "metadata": {
        "kernelspec": {
            "name": "SQL",
            "display_name": "SQL",
            "language": "sql"
        },
        "language_info": {
            "name": "sql",
            "version": ""
        }
    },
    "nbformat_minor": 2,
    "nbformat": 4,
    "cells": [
        {
            "cell_type": "code",
            "source": [
                "with c as (select ProductID, avg(LineTotal) avg_line_total\n",
                "from Sales.SalesOrderDetail\n",
                "group by ProductID)\n",
                "select sod.ProductID, sum(sod.LineTotal) total_LineTotal,\n",
                "    count(sod.SalesOrderID) num_orders,\n",
                "    count(distinct sod.SalesOrderID) num_distinct_orders,\n",
                "    sum(sod.OrderQty) total_items\n",
                "from Sales.SalesOrderDetail sod\n",
                "    join c on sod.ProductID=c.ProductID and sod.LineTotal>avg_line_total\n",
                "group by sod.ProductID;\n",
                "\n",
                "\n",
                ""
            ],
            "metadata": {
                "azdata_cell_guid": "cd50deb1-8944-4422-93d9-c1765f05cc69",
                "language": "sql"
            },
            "outputs": [
                {
                    "output_type": "error",
                    "ename": "",
                    "evalue": "Msg 208, Level 16, State 1, Line 1\nInvalid object name 'Sales.SalesOrderDetail'.",
                    "traceback": []
                },
                {
                    "output_type": "display_data",
                    "data": {
                        "text/html": "Total execution time: 00:00:00.012"
                    },
                    "metadata": {}
                }
            ],
            "execution_count": 10
        },
        {
            "cell_type": "code",
            "source": [
                "use AdventureWorks2019;"
            ],
            "metadata": {
                "azdata_cell_guid": "c8f87e8c-d77c-4f98-907c-dfdc254f436f",
                "language": "sql"
            },
            "outputs": [
                {
                    "output_type": "display_data",
                    "data": {
                        "text/html": "Commands completed successfully."
                    },
                    "metadata": {}
                },
                {
                    "output_type": "display_data",
                    "data": {
                        "text/html": "Total execution time: 00:00:00.003"
                    },
                    "metadata": {}
                }
            ],
            "execution_count": 3
        },
        {
            "cell_type": "code",
            "source": [
                "-- find the product which was sold in most orders (or most items of it were sold)\n",
                "\n",
                "\n",
                "with c as (\n",
                "select sod.ProductID, sum(sod.LineTotal) total_LineTotal,\n",
                "    count(sod.SalesOrderID) num_orders,\n",
                "    count(distinct sod.SalesOrderID) num_distinct_orders,\n",
                "    sum(sod.OrderQty) total_items\n",
                "from Sales.SalesOrderDetail sod\n",
                "group by sod.ProductID)\n",
                ",t as (\n",
                "    select top 1 ProductId, num_distinct_orders\n",
                "    from c\n",
                "    order by num_distinct_orders desc\n",
                ")\n",
                "select\n",
                "    -- c.*, \n",
                "    t.num_distinct_orders,\n",
                "    p.*\n",
                "from t join Production.Product p on t.ProductID=p.ProductID\n",
                "-- join c on c.ProductId=t.productId\n",
                ";\n",
                "\n",
                "-- how many orders it was sold in and what are the product details\n",
                "    -- join c on sod.ProductID=c.ProductID and sod.LineTotal>avg_line_total\n",
                "\n",
                ""
            ],
            "metadata": {
                "azdata_cell_guid": "507fb689-198d-4b56-a941-bbbd1ccc650c",
                "language": "sql"
            },
            "outputs": [
                {
                    "output_type": "display_data",
                    "data": {
                        "text/html": "(1 row affected)"
                    },
                    "metadata": {}
                },
                {
                    "output_type": "display_data",
                    "data": {
                        "text/html": "Total execution time: 00:00:00.059"
                    },
                    "metadata": {}
                },
                {
                    "output_type": "execute_result",
                    "metadata": {},
                    "execution_count": 6,
                    "data": {
                        "application/vnd.dataresource+json": {
                            "schema": {
                                "fields": [
                                    {
                                        "name": "num_distinct_orders"
                                    },
                                    {
                                        "name": "ProductID"
                                    },
                                    {
                                        "name": "Name"
                                    },
                                    {
                                        "name": "ProductNumber"
                                    },
                                    {
                                        "name": "MakeFlag"
                                    },
                                    {
                                        "name": "FinishedGoodsFlag"
                                    },
                                    {
                                        "name": "Color"
                                    },
                                    {
                                        "name": "SafetyStockLevel"
                                    },
                                    {
                                        "name": "ReorderPoint"
                                    },
                                    {
                                        "name": "StandardCost"
                                    },
                                    {
                                        "name": "ListPrice"
                                    },
                                    {
                                        "name": "Size"
                                    },
                                    {
                                        "name": "SizeUnitMeasureCode"
                                    },
                                    {
                                        "name": "WeightUnitMeasureCode"
                                    },
                                    {
                                        "name": "Weight"
                                    },
                                    {
                                        "name": "DaysToManufacture"
                                    },
                                    {
                                        "name": "ProductLine"
                                    },
                                    {
                                        "name": "Class"
                                    },
                                    {
                                        "name": "Style"
                                    },
                                    {
                                        "name": "ProductSubcategoryID"
                                    },
                                    {
                                        "name": "ProductModelID"
                                    },
                                    {
                                        "name": "SellStartDate"
                                    },
                                    {
                                        "name": "SellEndDate"
                                    },
                                    {
                                        "name": "DiscontinuedDate"
                                    },
                                    {
                                        "name": "rowguid"
                                    },
                                    {
                                        "name": "ModifiedDate"
                                    }
                                ]
                            },
                            "data": [
                                {
                                    "0": "4688",
                                    "1": "870",
                                    "2": "Water Bottle - 30 oz.",
                                    "3": "WB-H098",
                                    "4": "0",
                                    "5": "1",
                                    "6": "NULL",
                                    "7": "4",
                                    "8": "3",
                                    "9": "1.8663",
                                    "10": "4.99",
                                    "11": "NULL",
                                    "12": "NULL",
                                    "13": "NULL",
                                    "14": "NULL",
                                    "15": "0",
                                    "16": "S ",
                                    "17": "NULL",
                                    "18": "NULL",
                                    "19": "28",
                                    "20": "111",
                                    "21": "2013-05-30 00:00:00.000",
                                    "22": "NULL",
                                    "23": "NULL",
                                    "24": "834e8d1a-69a7-4c42-8b68-fa08d9ec9e5b",
                                    "25": "2014-02-08 10:01:36.827"
                                }
                            ]
                        },
                        "text/html": [
                            "<table>",
                            "<tr><th>num_distinct_orders</th><th>ProductID</th><th>Name</th><th>ProductNumber</th><th>MakeFlag</th><th>FinishedGoodsFlag</th><th>Color</th><th>SafetyStockLevel</th><th>ReorderPoint</th><th>StandardCost</th><th>ListPrice</th><th>Size</th><th>SizeUnitMeasureCode</th><th>WeightUnitMeasureCode</th><th>Weight</th><th>DaysToManufacture</th><th>ProductLine</th><th>Class</th><th>Style</th><th>ProductSubcategoryID</th><th>ProductModelID</th><th>SellStartDate</th><th>SellEndDate</th><th>DiscontinuedDate</th><th>rowguid</th><th>ModifiedDate</th></tr>",
                            "<tr><td>4688</td><td>870</td><td>Water Bottle - 30 oz.</td><td>WB-H098</td><td>0</td><td>1</td><td>NULL</td><td>4</td><td>3</td><td>1.8663</td><td>4.99</td><td>NULL</td><td>NULL</td><td>NULL</td><td>NULL</td><td>0</td><td>S </td><td>NULL</td><td>NULL</td><td>28</td><td>111</td><td>2013-05-30 00:00:00.000</td><td>NULL</td><td>NULL</td><td>834e8d1a-69a7-4c42-8b68-fa08d9ec9e5b</td><td>2014-02-08 10:01:36.827</td></tr>",
                            "</table>"
                        ]
                    }
                }
            ],
            "execution_count": 6
        },
        {
            "cell_type": "code",
            "source": [
                "with cte as (\n",
                "select sod.ProductID, sum(sod.LineTotal) total_LineTotal,\n",
                "    count(sod.SalesOrderID) num_orders,\n",
                "    count(distinct sod.SalesOrderID) num_distinct_orders,\n",
                "    sum(sod.OrderQty) total_items\n",
                "from Sales.SalesOrderDetail sod\n",
                "group by sod.ProductID)\n",
                ",b as (\n",
                "select cte.*,\n",
                "    ROW_NUMBER() over (order by num_orders desc, total_items desc, total_LineTotal desc, ProductID) rn\n",
                "from cte\n",
                ")\n",
                "select b.*, p.*\n",
                "from b\n",
                "join Production.Product p on b.ProductID=p.ProductID\n",
                "where b.rn>=2 and b.rn<10;\n",
                "-- select\n",
                "--     -- c.*, \n",
                "--     t.num_distinct_orders,\n",
                "--     p.*\n",
                "-- from t join Production.Product p on t.ProductID=p.ProductID\n",
                "-- -- join c on c.ProductId=t.productId\n",
                "-- ;"
            ],
            "metadata": {
                "azdata_cell_guid": "dacb8141-3e62-438f-aed7-04db3b59b170",
                "language": "sql"
            },
            "outputs": [
                {
                    "output_type": "display_data",
                    "data": {
                        "text/html": "(8 rows affected)"
                    },
                    "metadata": {}
                },
                {
                    "output_type": "display_data",
                    "data": {
                        "text/html": "Total execution time: 00:00:00.135"
                    },
                    "metadata": {}
                },
                {
                    "output_type": "execute_result",
                    "metadata": {},
                    "execution_count": 16,
                    "data": {
                        "application/vnd.dataresource+json": {
                            "schema": {
                                "fields": [
                                    {
                                        "name": "ProductID"
                                    },
                                    {
                                        "name": "total_LineTotal"
                                    },
                                    {
                                        "name": "num_orders"
                                    },
                                    {
                                        "name": "num_distinct_orders"
                                    },
                                    {
                                        "name": "total_items"
                                    },
                                    {
                                        "name": "rn"
                                    },
                                    {
                                        "name": "ProductID"
                                    },
                                    {
                                        "name": "Name"
                                    },
                                    {
                                        "name": "ProductNumber"
                                    },
                                    {
                                        "name": "MakeFlag"
                                    },
                                    {
                                        "name": "FinishedGoodsFlag"
                                    },
                                    {
                                        "name": "Color"
                                    },
                                    {
                                        "name": "SafetyStockLevel"
                                    },
                                    {
                                        "name": "ReorderPoint"
                                    },
                                    {
                                        "name": "StandardCost"
                                    },
                                    {
                                        "name": "ListPrice"
                                    },
                                    {
                                        "name": "Size"
                                    },
                                    {
                                        "name": "SizeUnitMeasureCode"
                                    },
                                    {
                                        "name": "WeightUnitMeasureCode"
                                    },
                                    {
                                        "name": "Weight"
                                    },
                                    {
                                        "name": "DaysToManufacture"
                                    },
                                    {
                                        "name": "ProductLine"
                                    },
                                    {
                                        "name": "Class"
                                    },
                                    {
                                        "name": "Style"
                                    },
                                    {
                                        "name": "ProductSubcategoryID"
                                    },
                                    {
                                        "name": "ProductModelID"
                                    },
                                    {
                                        "name": "SellStartDate"
                                    },
                                    {
                                        "name": "SellEndDate"
                                    },
                                    {
                                        "name": "DiscontinuedDate"
                                    },
                                    {
                                        "name": "rowguid"
                                    },
                                    {
                                        "name": "ModifiedDate"
                                    }
                                ]
                            },
                            "data": [
                                {
                                    "0": "712",
                                    "1": "51229.445623",
                                    "2": "3382",
                                    "3": "3382",
                                    "4": "8311",
                                    "5": "2",
                                    "6": "712",
                                    "7": "AWC Logo Cap",
                                    "8": "CA-1098",
                                    "9": "0",
                                    "10": "1",
                                    "11": "Multi",
                                    "12": "4",
                                    "13": "3",
                                    "14": "6.9223",
                                    "15": "8.99",
                                    "16": "NULL",
                                    "17": "NULL",
                                    "18": "NULL",
                                    "19": "NULL",
                                    "20": "0",
                                    "21": "S ",
                                    "22": "NULL",
                                    "23": "U ",
                                    "24": "19",
                                    "25": "2",
                                    "26": "2011-05-31 00:00:00.000",
                                    "27": "NULL",
                                    "28": "NULL",
                                    "29": "b9ede243-a6f4-4629-b1d4-ffe1aedc6de7",
                                    "30": "2014-02-08 10:01:36.827"
                                },
                                {
                                    "0": "873",
                                    "1": "8232.597632",
                                    "2": "3354",
                                    "3": "3354",
                                    "4": "3865",
                                    "5": "3",
                                    "6": "873",
                                    "7": "Patch Kit/8 Patches",
                                    "8": "PK-7098",
                                    "9": "0",
                                    "10": "1",
                                    "11": "NULL",
                                    "12": "4",
                                    "13": "3",
                                    "14": "0.8565",
                                    "15": "2.29",
                                    "16": "NULL",
                                    "17": "NULL",
                                    "18": "NULL",
                                    "19": "NULL",
                                    "20": "0",
                                    "21": "S ",
                                    "22": "NULL",
                                    "23": "NULL",
                                    "24": "37",
                                    "25": "114",
                                    "26": "2013-05-30 00:00:00.000",
                                    "27": "NULL",
                                    "28": "NULL",
                                    "29": "36e638e4-68df-411b-930a-daad57221aa6",
                                    "30": "2014-02-08 10:01:36.827"
                                },
                                {
                                    "0": "921",
                                    "1": "15444.050000",
                                    "2": "3095",
                                    "3": "3095",
                                    "4": "3095",
                                    "5": "4",
                                    "6": "921",
                                    "7": "Mountain Tire Tube",
                                    "8": "TT-M928",
                                    "9": "0",
                                    "10": "1",
                                    "11": "NULL",
                                    "12": "500",
                                    "13": "375",
                                    "14": "1.8663",
                                    "15": "4.99",
                                    "16": "NULL",
                                    "17": "NULL",
                                    "18": "NULL",
                                    "19": "NULL",
                                    "20": "0",
                                    "21": "M ",
                                    "22": "NULL",
                                    "23": "NULL",
                                    "24": "37",
                                    "25": "92",
                                    "26": "2013-05-30 00:00:00.000",
                                    "27": "NULL",
                                    "28": "NULL",
                                    "29": "01a8c3fc-ed52-458e-a634-d5b6e2accfed",
                                    "30": "2014-02-08 10:01:36.827"
                                },
                                {
                                    "0": "711",
                                    "1": "165406.617049",
                                    "2": "3090",
                                    "3": "3090",
                                    "4": "6743",
                                    "5": "5",
                                    "6": "711",
                                    "7": "Sport-100 Helmet, Blue",
                                    "8": "HL-U509-B",
                                    "9": "0",
                                    "10": "1",
                                    "11": "Blue",
                                    "12": "4",
                                    "13": "3",
                                    "14": "13.0863",
                                    "15": "34.99",
                                    "16": "NULL",
                                    "17": "NULL",
                                    "18": "NULL",
                                    "19": "NULL",
                                    "20": "0",
                                    "21": "S ",
                                    "22": "NULL",
                                    "23": "NULL",
                                    "24": "31",
                                    "25": "33",
                                    "26": "2011-05-31 00:00:00.000",
                                    "27": "NULL",
                                    "28": "NULL",
                                    "29": "fd7c0858-4179-48c2-865b-abd5dfc7bc1d",
                                    "30": "2014-02-08 10:01:36.827"
                                },
                                {
                                    "0": "707",
                                    "1": "157772.394392",
                                    "2": "3083",
                                    "3": "3083",
                                    "4": "6266",
                                    "5": "6",
                                    "6": "707",
                                    "7": "Sport-100 Helmet, Red",
                                    "8": "HL-U509-R",
                                    "9": "0",
                                    "10": "1",
                                    "11": "Red",
                                    "12": "4",
                                    "13": "3",
                                    "14": "13.0863",
                                    "15": "34.99",
                                    "16": "NULL",
                                    "17": "NULL",
                                    "18": "NULL",
                                    "19": "NULL",
                                    "20": "0",
                                    "21": "S ",
                                    "22": "NULL",
                                    "23": "NULL",
                                    "24": "31",
                                    "25": "33",
                                    "26": "2011-05-31 00:00:00.000",
                                    "27": "NULL",
                                    "28": "NULL",
                                    "29": "2e1ef41a-c08a-4ff6-8ada-bde58b64a712",
                                    "30": "2014-02-08 10:01:36.827"
                                },
                                {
                                    "0": "708",
                                    "1": "160869.517836",
                                    "2": "3007",
                                    "3": "3007",
                                    "4": "6532",
                                    "5": "7",
                                    "6": "708",
                                    "7": "Sport-100 Helmet, Black",
                                    "8": "HL-U509",
                                    "9": "0",
                                    "10": "1",
                                    "11": "Black",
                                    "12": "4",
                                    "13": "3",
                                    "14": "13.0863",
                                    "15": "34.99",
                                    "16": "NULL",
                                    "17": "NULL",
                                    "18": "NULL",
                                    "19": "NULL",
                                    "20": "0",
                                    "21": "S ",
                                    "22": "NULL",
                                    "23": "NULL",
                                    "24": "31",
                                    "25": "33",
                                    "26": "2011-05-31 00:00:00.000",
                                    "27": "NULL",
                                    "28": "NULL",
                                    "29": "a25a44fb-c2de-4268-958f-110b8d7621e2",
                                    "30": "2014-02-08 10:01:36.827"
                                },
                                {
                                    "0": "922",
                                    "1": "9480.240000",
                                    "2": "2376",
                                    "3": "2376",
                                    "4": "2376",
                                    "5": "8",
                                    "6": "922",
                                    "7": "Road Tire Tube",
                                    "8": "TT-R982",
                                    "9": "0",
                                    "10": "1",
                                    "11": "NULL",
                                    "12": "500",
                                    "13": "375",
                                    "14": "1.4923",
                                    "15": "3.99",
                                    "16": "NULL",
                                    "17": "NULL",
                                    "18": "NULL",
                                    "19": "NULL",
                                    "20": "0",
                                    "21": "R ",
                                    "22": "NULL",
                                    "23": "NULL",
                                    "24": "37",
                                    "25": "93",
                                    "26": "2013-05-30 00:00:00.000",
                                    "27": "NULL",
                                    "28": "NULL",
                                    "29": "ea442bd7-f69b-42d9-aa71-95e10b648f52",
                                    "30": "2014-02-08 10:01:36.827"
                                },
                                {
                                    "0": "878",
                                    "1": "46619.580000",
                                    "2": "2121",
                                    "3": "2121",
                                    "4": "2121",
                                    "5": "9",
                                    "6": "878",
                                    "7": "Fender Set - Mountain",
                                    "8": "FE-6654",
                                    "9": "0",
                                    "10": "1",
                                    "11": "NULL",
                                    "12": "4",
                                    "13": "3",
                                    "14": "8.2205",
                                    "15": "21.98",
                                    "16": "NULL",
                                    "17": "NULL",
                                    "18": "NULL",
                                    "19": "NULL",
                                    "20": "0",
                                    "21": "M ",
                                    "22": "NULL",
                                    "23": "NULL",
                                    "24": "30",
                                    "25": "121",
                                    "26": "2013-05-30 00:00:00.000",
                                    "27": "NULL",
                                    "28": "NULL",
                                    "29": "e6e76c7f-c145-4cad-a9e8-b1e4e845a2c0",
                                    "30": "2014-02-08 10:01:36.827"
                                }
                            ]
                        },
                        "text/html": [
                            "<table>",
                            "<tr><th>ProductID</th><th>total_LineTotal</th><th>num_orders</th><th>num_distinct_orders</th><th>total_items</th><th>rn</th><th>ProductID</th><th>Name</th><th>ProductNumber</th><th>MakeFlag</th><th>FinishedGoodsFlag</th><th>Color</th><th>SafetyStockLevel</th><th>ReorderPoint</th><th>StandardCost</th><th>ListPrice</th><th>Size</th><th>SizeUnitMeasureCode</th><th>WeightUnitMeasureCode</th><th>Weight</th><th>DaysToManufacture</th><th>ProductLine</th><th>Class</th><th>Style</th><th>ProductSubcategoryID</th><th>ProductModelID</th><th>SellStartDate</th><th>SellEndDate</th><th>DiscontinuedDate</th><th>rowguid</th><th>ModifiedDate</th></tr>",
                            "<tr><td>712</td><td>51229.445623</td><td>3382</td><td>3382</td><td>8311</td><td>2</td><td>712</td><td>AWC Logo Cap</td><td>CA-1098</td><td>0</td><td>1</td><td>Multi</td><td>4</td><td>3</td><td>6.9223</td><td>8.99</td><td>NULL</td><td>NULL</td><td>NULL</td><td>NULL</td><td>0</td><td>S </td><td>NULL</td><td>U </td><td>19</td><td>2</td><td>2011-05-31 00:00:00.000</td><td>NULL</td><td>NULL</td><td>b9ede243-a6f4-4629-b1d4-ffe1aedc6de7</td><td>2014-02-08 10:01:36.827</td></tr>",
                            "<tr><td>873</td><td>8232.597632</td><td>3354</td><td>3354</td><td>3865</td><td>3</td><td>873</td><td>Patch Kit/8 Patches</td><td>PK-7098</td><td>0</td><td>1</td><td>NULL</td><td>4</td><td>3</td><td>0.8565</td><td>2.29</td><td>NULL</td><td>NULL</td><td>NULL</td><td>NULL</td><td>0</td><td>S </td><td>NULL</td><td>NULL</td><td>37</td><td>114</td><td>2013-05-30 00:00:00.000</td><td>NULL</td><td>NULL</td><td>36e638e4-68df-411b-930a-daad57221aa6</td><td>2014-02-08 10:01:36.827</td></tr>",
                            "<tr><td>921</td><td>15444.050000</td><td>3095</td><td>3095</td><td>3095</td><td>4</td><td>921</td><td>Mountain Tire Tube</td><td>TT-M928</td><td>0</td><td>1</td><td>NULL</td><td>500</td><td>375</td><td>1.8663</td><td>4.99</td><td>NULL</td><td>NULL</td><td>NULL</td><td>NULL</td><td>0</td><td>M </td><td>NULL</td><td>NULL</td><td>37</td><td>92</td><td>2013-05-30 00:00:00.000</td><td>NULL</td><td>NULL</td><td>01a8c3fc-ed52-458e-a634-d5b6e2accfed</td><td>2014-02-08 10:01:36.827</td></tr>",
                            "<tr><td>711</td><td>165406.617049</td><td>3090</td><td>3090</td><td>6743</td><td>5</td><td>711</td><td>Sport-100 Helmet, Blue</td><td>HL-U509-B</td><td>0</td><td>1</td><td>Blue</td><td>4</td><td>3</td><td>13.0863</td><td>34.99</td><td>NULL</td><td>NULL</td><td>NULL</td><td>NULL</td><td>0</td><td>S </td><td>NULL</td><td>NULL</td><td>31</td><td>33</td><td>2011-05-31 00:00:00.000</td><td>NULL</td><td>NULL</td><td>fd7c0858-4179-48c2-865b-abd5dfc7bc1d</td><td>2014-02-08 10:01:36.827</td></tr>",
                            "<tr><td>707</td><td>157772.394392</td><td>3083</td><td>3083</td><td>6266</td><td>6</td><td>707</td><td>Sport-100 Helmet, Red</td><td>HL-U509-R</td><td>0</td><td>1</td><td>Red</td><td>4</td><td>3</td><td>13.0863</td><td>34.99</td><td>NULL</td><td>NULL</td><td>NULL</td><td>NULL</td><td>0</td><td>S </td><td>NULL</td><td>NULL</td><td>31</td><td>33</td><td>2011-05-31 00:00:00.000</td><td>NULL</td><td>NULL</td><td>2e1ef41a-c08a-4ff6-8ada-bde58b64a712</td><td>2014-02-08 10:01:36.827</td></tr>",
                            "<tr><td>708</td><td>160869.517836</td><td>3007</td><td>3007</td><td>6532</td><td>7</td><td>708</td><td>Sport-100 Helmet, Black</td><td>HL-U509</td><td>0</td><td>1</td><td>Black</td><td>4</td><td>3</td><td>13.0863</td><td>34.99</td><td>NULL</td><td>NULL</td><td>NULL</td><td>NULL</td><td>0</td><td>S </td><td>NULL</td><td>NULL</td><td>31</td><td>33</td><td>2011-05-31 00:00:00.000</td><td>NULL</td><td>NULL</td><td>a25a44fb-c2de-4268-958f-110b8d7621e2</td><td>2014-02-08 10:01:36.827</td></tr>",
                            "<tr><td>922</td><td>9480.240000</td><td>2376</td><td>2376</td><td>2376</td><td>8</td><td>922</td><td>Road Tire Tube</td><td>TT-R982</td><td>0</td><td>1</td><td>NULL</td><td>500</td><td>375</td><td>1.4923</td><td>3.99</td><td>NULL</td><td>NULL</td><td>NULL</td><td>NULL</td><td>0</td><td>R </td><td>NULL</td><td>NULL</td><td>37</td><td>93</td><td>2013-05-30 00:00:00.000</td><td>NULL</td><td>NULL</td><td>ea442bd7-f69b-42d9-aa71-95e10b648f52</td><td>2014-02-08 10:01:36.827</td></tr>",
                            "<tr><td>878</td><td>46619.580000</td><td>2121</td><td>2121</td><td>2121</td><td>9</td><td>878</td><td>Fender Set - Mountain</td><td>FE-6654</td><td>0</td><td>1</td><td>NULL</td><td>4</td><td>3</td><td>8.2205</td><td>21.98</td><td>NULL</td><td>NULL</td><td>NULL</td><td>NULL</td><td>0</td><td>M </td><td>NULL</td><td>NULL</td><td>30</td><td>121</td><td>2013-05-30 00:00:00.000</td><td>NULL</td><td>NULL</td><td>e6e76c7f-c145-4cad-a9e8-b1e4e845a2c0</td><td>2014-02-08 10:01:36.827</td></tr>",
                            "</table>"
                        ]
                    }
                }
            ],
            "execution_count": 16
        },
        {
            "cell_type": "code",
            "source": [
                "CREATE TABLE #table1\n",
                "(ID INT, Value VARCHAR(10))\n",
                "INSERT INTO #Table1 (ID, Value)\n",
                "VALUES (1,'First'),\n",
                "          (2,'Second'),\n",
                "          (3,'Third'),\n",
                "          (4,'Forth'),\n",
                "(5,'Fifth')\n",
                ";\n",
                "\n",
                "CREATE TABLE #table2\n",
                "(ID INT, Value VARCHAR(10))\n",
                "INSERT INTO #Table2 (ID, Value)\n",
                "VALUES (1,'First'),\n",
                "          (2,'Second'),\n",
                "          (3,'Third'),\n",
                "          (6,'Sixth'),\n",
                "          (7,'Seventh'),\n",
                "          (8,'Eighth')\n",
                ";\n",
                "GO\n",
                "GO \n",
                "SELECT *\n",
                "FROM #Table1\n",
                "SELECT * FROM #Table2"
            ],
            "metadata": {
                "azdata_cell_guid": "31c52c50-c4f6-4993-a182-f3bd61204ceb",
                "language": "sql"
            },
            "outputs": [
                {
                    "output_type": "display_data",
                    "data": {
                        "text/html": "(5 rows affected)"
                    },
                    "metadata": {}
                },
                {
                    "output_type": "display_data",
                    "data": {
                        "text/html": "(6 rows affected)"
                    },
                    "metadata": {}
                },
                {
                    "output_type": "display_data",
                    "data": {
                        "text/html": "(5 rows affected)"
                    },
                    "metadata": {}
                },
                {
                    "output_type": "display_data",
                    "data": {
                        "text/html": "(6 rows affected)"
                    },
                    "metadata": {}
                },
                {
                    "output_type": "display_data",
                    "data": {
                        "text/html": "Total execution time: 00:00:00.018"
                    },
                    "metadata": {}
                },
                {
                    "output_type": "execute_result",
                    "execution_count": 1,
                    "data": {
                        "application/vnd.dataresource+json": {
                            "schema": {
                                "fields": [
                                    {
                                        "name": "ID"
                                    },
                                    {
                                        "name": "Value"
                                    }
                                ]
                            },
                            "data": [
                                {
                                    "0": "1",
                                    "1": "First"
                                },
                                {
                                    "0": "2",
                                    "1": "Second"
                                },
                                {
                                    "0": "3",
                                    "1": "Third"
                                },
                                {
                                    "0": "4",
                                    "1": "Forth"
                                },
                                {
                                    "0": "5",
                                    "1": "Fifth"
                                }
                            ]
                        },
                        "text/html": "<table><tr><th>ID</th><th>Value</th></tr><tr><td>1</td><td>First</td></tr><tr><td>2</td><td>Second</td></tr><tr><td>3</td><td>Third</td></tr><tr><td>4</td><td>Forth</td></tr><tr><td>5</td><td>Fifth</td></tr></table>"
                    },
                    "metadata": {}
                },
                {
                    "output_type": "execute_result",
                    "execution_count": 1,
                    "data": {
                        "application/vnd.dataresource+json": {
                            "schema": {
                                "fields": [
                                    {
                                        "name": "ID"
                                    },
                                    {
                                        "name": "Value"
                                    }
                                ]
                            },
                            "data": [
                                {
                                    "0": "1",
                                    "1": "First"
                                },
                                {
                                    "0": "2",
                                    "1": "Second"
                                },
                                {
                                    "0": "3",
                                    "1": "Third"
                                },
                                {
                                    "0": "6",
                                    "1": "Sixth"
                                },
                                {
                                    "0": "7",
                                    "1": "Seventh"
                                },
                                {
                                    "0": "8",
                                    "1": "Eighth"
                                }
                            ]
                        },
                        "text/html": "<table><tr><th>ID</th><th>Value</th></tr><tr><td>1</td><td>First</td></tr><tr><td>2</td><td>Second</td></tr><tr><td>3</td><td>Third</td></tr><tr><td>6</td><td>Sixth</td></tr><tr><td>7</td><td>Seventh</td></tr><tr><td>8</td><td>Eighth</td></tr></table>"
                    },
                    "metadata": {}
                }
            ],
            "execution_count": 1
        },
        {
            "cell_type": "code",
            "source": [
                "SELECT t1.Id T1_Id, t2.Id T2_Id\n",
                "from #Table1 t1 \n",
                "    left join #Table2 t2 on t1.Id=t2.Id"
            ],
            "metadata": {
                "azdata_cell_guid": "159fdccc-e176-47e6-94ec-70db473485f0",
                "language": "sql"
            },
            "outputs": [
                {
                    "output_type": "display_data",
                    "data": {
                        "text/html": "(5 rows affected)"
                    },
                    "metadata": {}
                },
                {
                    "output_type": "display_data",
                    "data": {
                        "text/html": "Total execution time: 00:00:00.020"
                    },
                    "metadata": {}
                },
                {
                    "output_type": "execute_result",
                    "execution_count": 3,
                    "data": {
                        "application/vnd.dataresource+json": {
                            "schema": {
                                "fields": [
                                    {
                                        "name": "T1_Id"
                                    },
                                    {
                                        "name": "T2_Id"
                                    }
                                ]
                            },
                            "data": [
                                {
                                    "0": "1",
                                    "1": "1"
                                },
                                {
                                    "0": "2",
                                    "1": "2"
                                },
                                {
                                    "0": "3",
                                    "1": "3"
                                },
                                {
                                    "0": "4",
                                    "1": "NULL"
                                },
                                {
                                    "0": "5",
                                    "1": "NULL"
                                }
                            ]
                        },
                        "text/html": "<table><tr><th>T1_Id</th><th>T2_Id</th></tr><tr><td>1</td><td>1</td></tr><tr><td>2</td><td>2</td></tr><tr><td>3</td><td>3</td></tr><tr><td>4</td><td>NULL</td></tr><tr><td>5</td><td>NULL</td></tr></table>"
                    },
                    "metadata": {}
                }
            ],
            "execution_count": 3
        },
        {
            "cell_type": "code",
            "source": [
                "SELECT t1.Id T1_Id, t2.Id T2_Id\n",
                "from #Table1 t1 \n",
                "    right join #Table2 t2 on t1.Id=t2.Id"
            ],
            "metadata": {
                "language": "sql",
                "azdata_cell_guid": "4cb9669c-add6-4140-8251-859e0e7c5ee2"
            },
            "outputs": [
                {
                    "output_type": "display_data",
                    "data": {
                        "text/html": "(6 rows affected)"
                    },
                    "metadata": {}
                },
                {
                    "output_type": "display_data",
                    "data": {
                        "text/html": "Total execution time: 00:00:00.007"
                    },
                    "metadata": {}
                },
                {
                    "output_type": "execute_result",
                    "execution_count": 5,
                    "data": {
                        "application/vnd.dataresource+json": {
                            "schema": {
                                "fields": [
                                    {
                                        "name": "T1_Id"
                                    },
                                    {
                                        "name": "T2_Id"
                                    }
                                ]
                            },
                            "data": [
                                {
                                    "0": "1",
                                    "1": "1"
                                },
                                {
                                    "0": "2",
                                    "1": "2"
                                },
                                {
                                    "0": "3",
                                    "1": "3"
                                },
                                {
                                    "0": "NULL",
                                    "1": "6"
                                },
                                {
                                    "0": "NULL",
                                    "1": "7"
                                },
                                {
                                    "0": "NULL",
                                    "1": "8"
                                }
                            ]
                        },
                        "text/html": "<table><tr><th>T1_Id</th><th>T2_Id</th></tr><tr><td>1</td><td>1</td></tr><tr><td>2</td><td>2</td></tr><tr><td>3</td><td>3</td></tr><tr><td>NULL</td><td>6</td></tr><tr><td>NULL</td><td>7</td></tr><tr><td>NULL</td><td>8</td></tr></table>"
                    },
                    "metadata": {}
                }
            ],
            "execution_count": 5
        },
        {
            "cell_type": "code",
            "source": [
                "SELECT t1.Id T1_Id, t2.Id T2_Id\n",
                "from #Table1 t1 \n",
                "    left join #Table2 t2 on t1.Id=t2.Id\n",
                "where t2.Id is null"
            ],
            "metadata": {
                "language": "sql",
                "azdata_cell_guid": "128d0161-38e0-4b45-9c50-2ff74a0d14d7"
            },
            "outputs": [
                {
                    "output_type": "display_data",
                    "data": {
                        "text/html": "(2 rows affected)"
                    },
                    "metadata": {}
                },
                {
                    "output_type": "display_data",
                    "data": {
                        "text/html": "Total execution time: 00:00:00.015"
                    },
                    "metadata": {}
                },
                {
                    "output_type": "execute_result",
                    "execution_count": 6,
                    "data": {
                        "application/vnd.dataresource+json": {
                            "schema": {
                                "fields": [
                                    {
                                        "name": "T1_Id"
                                    },
                                    {
                                        "name": "T2_Id"
                                    }
                                ]
                            },
                            "data": [
                                {
                                    "0": "4",
                                    "1": "NULL"
                                },
                                {
                                    "0": "5",
                                    "1": "NULL"
                                }
                            ]
                        },
                        "text/html": "<table><tr><th>T1_Id</th><th>T2_Id</th></tr><tr><td>4</td><td>NULL</td></tr><tr><td>5</td><td>NULL</td></tr></table>"
                    },
                    "metadata": {}
                }
            ],
            "execution_count": 6
        },
        {
            "cell_type": "code",
            "source": [
                "SELECT t1.Id T1_Id, t2.Id T2_Id\n",
                "from #Table1 t1 \n",
                "    right join #Table2 t2 on t1.Id=t2.Id\n",
                "where t1.Id is null"
            ],
            "metadata": {
                "language": "sql",
                "azdata_cell_guid": "a4cef8ae-28f8-4d75-873f-a87fdb211df0"
            },
            "outputs": [
                {
                    "output_type": "display_data",
                    "data": {
                        "text/html": "(3 rows affected)"
                    },
                    "metadata": {}
                },
                {
                    "output_type": "display_data",
                    "data": {
                        "text/html": "Total execution time: 00:00:00.013"
                    },
                    "metadata": {}
                },
                {
                    "output_type": "execute_result",
                    "execution_count": 7,
                    "data": {
                        "application/vnd.dataresource+json": {
                            "schema": {
                                "fields": [
                                    {
                                        "name": "T1_Id"
                                    },
                                    {
                                        "name": "T2_Id"
                                    }
                                ]
                            },
                            "data": [
                                {
                                    "0": "NULL",
                                    "1": "6"
                                },
                                {
                                    "0": "NULL",
                                    "1": "7"
                                },
                                {
                                    "0": "NULL",
                                    "1": "8"
                                }
                            ]
                        },
                        "text/html": "<table><tr><th>T1_Id</th><th>T2_Id</th></tr><tr><td>NULL</td><td>6</td></tr><tr><td>NULL</td><td>7</td></tr><tr><td>NULL</td><td>8</td></tr></table>"
                    },
                    "metadata": {}
                }
            ],
            "execution_count": 7
        }
    ]
}