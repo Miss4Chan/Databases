{
    "metadata": {
        "kernelspec": {
            "name": "SQL",
            "display_name": "SQL",
            "language": "sql"
        },
        "language_info": {
            "name": "sql",
            "version": ""
        }
    },
    "nbformat_minor": 2,
    "nbformat": 4,
    "cells": [
        {
            "cell_type": "code",
            "source": [
                "create DATABASE MobileOperatorManagement"
            ],
            "metadata": {
                "azdata_cell_guid": "74c7232a-b673-4d2f-9f20-144deca837d1",
                "language": "sql"
            },
            "outputs": [
                {
                    "output_type": "display_data",
                    "data": {
                        "text/html": "Commands completed successfully."
                    },
                    "metadata": {}
                },
                {
                    "output_type": "display_data",
                    "data": {
                        "text/html": "Total execution time: 00:00:00.695"
                    },
                    "metadata": {}
                }
            ],
            "execution_count": 1
        },
        {
            "cell_type": "code",
            "source": [
                "use MobileOperatorManagement"
            ],
            "metadata": {
                "language": "sql",
                "azdata_cell_guid": "e22cf81e-02aa-4d06-9750-9301ae9deb81"
            },
            "outputs": [
                {
                    "output_type": "display_data",
                    "data": {
                        "text/html": "Commands completed successfully."
                    },
                    "metadata": {}
                },
                {
                    "output_type": "display_data",
                    "data": {
                        "text/html": "Total execution time: 00:00:00.008"
                    },
                    "metadata": {}
                }
            ],
            "execution_count": 2
        },
        {
            "cell_type": "code",
            "source": [
                "create TABLE Client\n",
                "(\n",
                "    id int IDENTITY PRIMARY KEY,\n",
                "    SSN NVARCHAR(30) not null,\n",
                "    ClientCity NVARCHAR(30) not null,\n",
                "    ClientStreet NVARCHAR(30) not null,\n",
                "    ClientNumber int not null,\n",
                "    ClientType NVARCHAR(30) not null,\n",
                ");"
            ],
            "metadata": {
                "azdata_cell_guid": "8f1cb25a-3160-475b-8a6e-38d7d2b904d4",
                "language": "sql"
            },
            "outputs": [
                {
                    "output_type": "display_data",
                    "data": {
                        "text/html": "Commands completed successfully."
                    },
                    "metadata": {}
                },
                {
                    "output_type": "display_data",
                    "data": {
                        "text/html": "Total execution time: 00:00:00.045"
                    },
                    "metadata": {}
                }
            ],
            "execution_count": 3
        },
        {
            "cell_type": "code",
            "source": [
                "create TABLE MobileOperator\n",
                "(\n",
                "    id int IDENTITY PRIMARY KEY,\n",
                "    MobileOperatorName NVARCHAR(30) not null,\n",
                "    MobileOperatorDescription NVARCHAR(30) not null,\n",
                ");"
            ],
            "metadata": {
                "language": "sql",
                "azdata_cell_guid": "f21d5027-9adf-4990-92a8-eb8673913eba"
            },
            "outputs": [
                {
                    "output_type": "display_data",
                    "data": {
                        "text/html": "Commands completed successfully."
                    },
                    "metadata": {}
                },
                {
                    "output_type": "display_data",
                    "data": {
                        "text/html": "Total execution time: 00:00:00.010"
                    },
                    "metadata": {}
                }
            ],
            "execution_count": 4
        },
        {
            "cell_type": "code",
            "source": [
                "create TABLE MobilePlan\n",
                "(\n",
                "    id int IDENTITY PRIMARY KEY,\n",
                "    MobileOperatorId int not null REFERENCES MobileOperator(id),\n",
                "    PlanName NVARCHAR(30) not null,\n",
                "    PlanDescription NVARCHAR(30) not null,\n",
                ");"
            ],
            "metadata": {
                "language": "sql",
                "azdata_cell_guid": "013eddb1-685c-4185-b2aa-db55111b71e0"
            },
            "outputs": [
                {
                    "output_type": "display_data",
                    "data": {
                        "text/html": "Commands completed successfully."
                    },
                    "metadata": {}
                },
                {
                    "output_type": "display_data",
                    "data": {
                        "text/html": "Total execution time: 00:00:00.032"
                    },
                    "metadata": {}
                }
            ],
            "execution_count": 5
        },
        {
            "cell_type": "code",
            "source": [
                "create TABLE AdditionalService\n",
                "(\n",
                "    id int IDENTITY PRIMARY KEY,\n",
                "    AdditionalServiceName NVARCHAR(30) not null,\n",
                ");"
            ],
            "metadata": {
                "language": "sql",
                "azdata_cell_guid": "fd7512db-e523-406d-bab5-b76ed7dd1752"
            },
            "outputs": [
                {
                    "output_type": "display_data",
                    "data": {
                        "text/html": "Commands completed successfully."
                    },
                    "metadata": {}
                },
                {
                    "output_type": "display_data",
                    "data": {
                        "text/html": "Total execution time: 00:00:00.010"
                    },
                    "metadata": {}
                }
            ],
            "execution_count": 6
        },
        {
            "cell_type": "code",
            "source": [
                "create TABLE TelephoneNumber \n",
                "(\n",
                "    id int IDENTITY PRIMARY KEY,\n",
                "    ClientId int not null REFERENCES Client(id),\n",
                "    TelephoneNumber NVARCHAR(30) not null,\n",
                ");"
            ],
            "metadata": {
                "language": "sql",
                "azdata_cell_guid": "01d26377-ce21-46a6-adbb-e579a2880523"
            },
            "outputs": [
                {
                    "output_type": "display_data",
                    "data": {
                        "text/html": "Commands completed successfully."
                    },
                    "metadata": {}
                },
                {
                    "output_type": "display_data",
                    "data": {
                        "text/html": "Total execution time: 00:00:00.010"
                    },
                    "metadata": {}
                }
            ],
            "execution_count": 7
        },
        {
            "cell_type": "code",
            "source": [
                "create TABLE NumberPlan\n",
                "(\n",
                "    id int IDENTITY PRIMARY KEY,\n",
                "    PlanId int not null REFERENCES MobilePlan(id),\n",
                "    TelephoneNumberId int not null REFERENCES TelephoneNumber(id),\n",
                "    NumberPlanName NVARCHAR(30) not null,\n",
                "    NumberPlanDescription NVARCHAR(30) not null,\n",
                ");"
            ],
            "metadata": {
                "language": "sql",
                "azdata_cell_guid": "783a229b-3be0-4260-bb1f-6084097bea10"
            },
            "outputs": [
                {
                    "output_type": "display_data",
                    "data": {
                        "text/html": "Commands completed successfully."
                    },
                    "metadata": {}
                },
                {
                    "output_type": "display_data",
                    "data": {
                        "text/html": "Total execution time: 00:00:00.013"
                    },
                    "metadata": {}
                }
            ],
            "execution_count": 9
        },
        {
            "cell_type": "code",
            "source": [
                "create TABLE Agreement\n",
                "(\n",
                "    id int IDENTITY PRIMARY KEY,\n",
                "    ClientId int not null REFERENCES Client(id),\n",
                "    MobileOperatorId int not null REFERENCES MobileOperator(id),\n",
                "    TelephoneNumberId int not null REFERENCES TelephoneNumber(id),\n",
                "    AgreementDate datetime not null DEFAULT GETUTCDATE(),\n",
                ");"
            ],
            "metadata": {
                "language": "sql",
                "azdata_cell_guid": "2bc8c34c-59dd-4ccf-b824-9b722d187bf3",
                "tags": []
            },
            "outputs": [
                {
                    "output_type": "error",
                    "ename": "",
                    "evalue": "Msg 2714, Level 16, State 6, Line 1\nThere is already an object named 'Agreement' in the database.",
                    "traceback": []
                },
                {
                    "output_type": "display_data",
                    "data": {
                        "text/html": "Total execution time: 00:00:00.018"
                    },
                    "metadata": {}
                }
            ],
            "execution_count": 11
        },
        {
            "cell_type": "code",
            "source": [
                "alter TABLE Client ADD UNIQUE(SSN)"
            ],
            "metadata": {
                "language": "sql",
                "azdata_cell_guid": "3f376989-56c1-414a-8aa8-52dbc8631546"
            },
            "outputs": [
                {
                    "output_type": "display_data",
                    "data": {
                        "text/html": "Commands completed successfully."
                    },
                    "metadata": {}
                },
                {
                    "output_type": "display_data",
                    "data": {
                        "text/html": "Total execution time: 00:00:00.068"
                    },
                    "metadata": {}
                }
            ],
            "execution_count": 15
        },
        {
            "cell_type": "code",
            "source": [
                "alter TABLE MobileOperator ADD CONSTRAINT MobileOperatorName_Check CHECK (MobileOperatorName in ('T-Mobile','Vip.One') AND MobileOperatorName!=' ' AND len(MobileOperatorName)>0)"
            ],
            "metadata": {
                "language": "sql",
                "azdata_cell_guid": "16c35cf5-26ca-48ac-8299-c0254ac3e824"
            },
            "outputs": [
                {
                    "output_type": "display_data",
                    "data": {
                        "text/html": "Commands completed successfully."
                    },
                    "metadata": {}
                },
                {
                    "output_type": "display_data",
                    "data": {
                        "text/html": "Total execution time: 00:00:00.029"
                    },
                    "metadata": {}
                }
            ],
            "execution_count": 17
        },
        {
            "cell_type": "code",
            "source": [
                "alter TABLE TelephoneNumber ADD UNIQUE(TelephoneNumber)"
            ],
            "metadata": {
                "language": "sql",
                "azdata_cell_guid": "07693e5c-3465-4ff4-a3e1-0ea7df0ba1c6"
            },
            "outputs": [
                {
                    "output_type": "display_data",
                    "data": {
                        "text/html": "Commands completed successfully."
                    },
                    "metadata": {}
                },
                {
                    "output_type": "display_data",
                    "data": {
                        "text/html": "Total execution time: 00:00:00.008"
                    },
                    "metadata": {}
                }
            ],
            "execution_count": 18
        },
        {
            "cell_type": "code",
            "source": [
                "alter TABLE TelephoneNumber ADD CONSTRAINT TelephoneNumberStartWithZero CHECK(TelephoneNumber LIKE '0%')"
            ],
            "metadata": {
                "language": "sql",
                "azdata_cell_guid": "47fd156d-fc7d-4bcb-90c8-d8a85949c72e"
            },
            "outputs": [
                {
                    "output_type": "display_data",
                    "data": {
                        "text/html": "Commands completed successfully."
                    },
                    "metadata": {}
                },
                {
                    "output_type": "display_data",
                    "data": {
                        "text/html": "Total execution time: 00:00:00.009"
                    },
                    "metadata": {}
                }
            ],
            "execution_count": 19
        },
        {
            "cell_type": "code",
            "source": [
                "alter TABLE Agreement DROP CONSTRAINT FK__Agreement__Mobil__46E78A0C\n",
                ""
            ],
            "metadata": {
                "language": "sql",
                "azdata_cell_guid": "915991f8-44d0-49a0-a512-694ec61e630c"
            },
            "outputs": [
                {
                    "output_type": "display_data",
                    "data": {
                        "text/html": "Commands completed successfully."
                    },
                    "metadata": {}
                },
                {
                    "output_type": "display_data",
                    "data": {
                        "text/html": "Total execution time: 00:00:00.019"
                    },
                    "metadata": {}
                }
            ],
            "execution_count": 3
        },
        {
            "cell_type": "code",
            "source": [
                "alter TABLE Agreement DROP COLUMN MobileOperatorId"
            ],
            "metadata": {
                "language": "sql",
                "azdata_cell_guid": "bc4069dd-1d19-4551-88d8-66a32145a56b"
            },
            "outputs": [
                {
                    "output_type": "display_data",
                    "data": {
                        "text/html": "Commands completed successfully."
                    },
                    "metadata": {}
                },
                {
                    "output_type": "display_data",
                    "data": {
                        "text/html": "Total execution time: 00:00:00.014"
                    },
                    "metadata": {}
                }
            ],
            "execution_count": 4
        },
        {
            "cell_type": "code",
            "source": [
                "alter TABLE Agreement ADD MobileOperatorId int not null REFERENCES MobileOperator(id) ON DELETE CASCADE"
            ],
            "metadata": {
                "language": "sql",
                "azdata_cell_guid": "0920103c-e938-42b0-a4cb-2996fd769012"
            },
            "outputs": [
                {
                    "output_type": "display_data",
                    "data": {
                        "text/html": "Commands completed successfully."
                    },
                    "metadata": {}
                },
                {
                    "output_type": "display_data",
                    "data": {
                        "text/html": "Total execution time: 00:00:00.016"
                    },
                    "metadata": {}
                }
            ],
            "execution_count": 5
        },
        {
            "cell_type": "code",
            "source": [
                "alter TABLE MobilePlan DROP CONSTRAINT FK__MobilePla__Mobil__3A81B327"
            ],
            "metadata": {
                "language": "sql",
                "azdata_cell_guid": "22f4e7b0-3530-4a1b-9d63-bd73cee8d3f5"
            },
            "outputs": [
                {
                    "output_type": "display_data",
                    "data": {
                        "text/html": "Commands completed successfully."
                    },
                    "metadata": {}
                },
                {
                    "output_type": "display_data",
                    "data": {
                        "text/html": "Total execution time: 00:00:00.016"
                    },
                    "metadata": {}
                }
            ],
            "execution_count": 7
        },
        {
            "cell_type": "code",
            "source": [
                "alter TABLE MobilePlan DROP COLUMN MobileOperatorId"
            ],
            "metadata": {
                "language": "sql",
                "azdata_cell_guid": "df5f3754-c93a-4d3c-8afd-1a95fc7cd26f"
            },
            "outputs": [
                {
                    "output_type": "display_data",
                    "data": {
                        "text/html": "Commands completed successfully."
                    },
                    "metadata": {}
                },
                {
                    "output_type": "display_data",
                    "data": {
                        "text/html": "Total execution time: 00:00:00.010"
                    },
                    "metadata": {}
                }
            ],
            "execution_count": 8
        },
        {
            "cell_type": "code",
            "source": [
                "alter TABLE MobilePlan ADD MobileOperatorId int not null REFERENCES MobileOperator(id) ON DELETE CASCADE"
            ],
            "metadata": {
                "language": "sql",
                "azdata_cell_guid": "6770d97f-1915-4030-943f-281c59f1ce43"
            },
            "outputs": [
                {
                    "output_type": "display_data",
                    "data": {
                        "text/html": "Commands completed successfully."
                    },
                    "metadata": {}
                },
                {
                    "output_type": "display_data",
                    "data": {
                        "text/html": "Total execution time: 00:00:00.010"
                    },
                    "metadata": {}
                }
            ],
            "execution_count": 9
        }
    ]
}