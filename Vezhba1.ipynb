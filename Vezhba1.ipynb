{
    "metadata": {
        "kernelspec": {
            "name": "SQL",
            "display_name": "SQL",
            "language": "sql"
        },
        "language_info": {
            "name": "sql",
            "version": ""
        }
    },
    "nbformat_minor": 2,
    "nbformat": 4,
    "cells": [
        {
            "cell_type": "markdown",
            "source": [
                "![No description available.](https://scontent.fskp4-2.fna.fbcdn.net/v/t1.15752-9/315212307_1282586235870433_4388977413011550320_n.png?_nc_cat=109&ccb=1-7&_nc_sid=ae9488&_nc_ohc=CXsEZ1UxqcwAX8lVy3N&tn=ZiQTDigTRoioCgkR&_nc_ht=scontent.fskp4-2.fna&oh=03_AdT0BW71M_XRNy0R9cD8FOgyakGodYOW08flZWpfnWqv1w&oe=63971051)"
            ],
            "metadata": {
                "azdata_cell_guid": "e198690b-2c8f-45d0-a976-cadfa0002615"
            },
            "attachments": {}
        },
        {
            "cell_type": "code",
            "source": [
                "create DATABASE Conferen-- Create a new database called 'DatabaseName'\n",
                "-- Connect to the 'master' database to run this snippet\n",
                "USE Conferen\n",
                "GO\n",
                "-- Create the new database if it does not exist already\n",
                "IF NOT EXISTS (\n",
                "    SELECT [name]\n",
                "        FROM sys.databases\n",
                "        WHERE [name] = N'DatabaseName'\n",
                ")\n",
                "CREATE DATABASE DatabaseName\n",
                "GO\n",
                ""
            ],
            "metadata": {
                "azdata_cell_guid": "0f95f75d-9ef6-4fdc-8fde-0435efbe8be0",
                "language": "sql",
                "tags": []
            },
            "outputs": [
                {
                    "output_type": "error",
                    "ename": "",
                    "evalue": "Msg 1801, Level 16, State 3, Line 1\nDatabase 'Conferen' already exists. Choose a different database name.",
                    "traceback": []
                },
                {
                    "output_type": "display_data",
                    "data": {
                        "text/html": "Commands completed successfully."
                    },
                    "metadata": {}
                },
                {
                    "output_type": "display_data",
                    "data": {
                        "text/html": "Total execution time: 00:00:00.113"
                    },
                    "metadata": {}
                }
            ],
            "execution_count": 1
        },
        {
            "cell_type": "code",
            "source": [
                "create TABLE Conference \n",
                "(\n",
                "    id int IDENTITY PRIMARY KEY,\n",
                "    conferenceName NVARCHAR(20) not null,\n",
                "    conferenceRegion NVARCHAR(20) not null,\n",
                ");"
            ],
            "metadata": {
                "azdata_cell_guid": "ecc96c4e-c6af-48f7-a649-3c54a702c441",
                "language": "sql",
                "tags": []
            },
            "outputs": [
                {
                    "output_type": "display_data",
                    "data": {
                        "text/html": "Commands completed successfully."
                    },
                    "metadata": {}
                },
                {
                    "output_type": "display_data",
                    "data": {
                        "text/html": "Total execution time: 00:00:00.016"
                    },
                    "metadata": {}
                }
            ],
            "execution_count": 2
        },
        {
            "cell_type": "code",
            "source": [
                "create TABLE ConferenceEvent\n",
                "(\n",
                "    id int IDENTITY PRIMARY KEY,\n",
                "    conferenceId int not null REFERENCES Conference(id),\n",
                "    dateFrom datetime not null DEFAULT GETUTCDATE(),\n",
                "    dateTo datetime null,\n",
                ");"
            ],
            "metadata": {
                "azdata_cell_guid": "9fad578a-0dce-4ad0-8224-f85bbbd4d353",
                "language": "sql",
                "tags": []
            },
            "outputs": [
                {
                    "output_type": "display_data",
                    "data": {
                        "text/html": "Commands completed successfully."
                    },
                    "metadata": {}
                },
                {
                    "output_type": "display_data",
                    "data": {
                        "text/html": "Total execution time: 00:00:00.013"
                    },
                    "metadata": {}
                }
            ],
            "execution_count": 3
        },
        {
            "cell_type": "markdown",
            "source": [
                "Relation with PhoneNumbers and Scientist??? ASK!!!!\n",
                "\n",
                "Answer:  Create a different table for mulivalued attributes and use FK. \n",
                "\n",
                "For composite, optimal way is to use prefix and insert them in the Entity as attributes without complicating and adding new tables."
            ],
            "metadata": {
                "azdata_cell_guid": "1186d594-c50f-4887-b974-275b2b2db557"
            },
            "attachments": {}
        },
        {
            "cell_type": "code",
            "source": [
                "create TABLE Scientist\n",
                "(\n",
                "    id int IDENTITY PRIMARY KEY,\n",
                "    scientistName NVARCHAR(20) not null,\n",
                "    scientistSurname NVARCHAR(20) not null,\n",
                "    scientistEmail NVARCHAR(20) null,  \n",
                ");"
            ],
            "metadata": {
                "azdata_cell_guid": "615d0b48-93b3-48fb-a557-02365e5b96c5",
                "language": "sql",
                "tags": []
            },
            "outputs": [
                {
                    "output_type": "display_data",
                    "data": {
                        "text/html": "Commands completed successfully."
                    },
                    "metadata": {}
                },
                {
                    "output_type": "display_data",
                    "data": {
                        "text/html": "Total execution time: 00:00:00.022"
                    },
                    "metadata": {}
                }
            ],
            "execution_count": 4
        },
        {
            "cell_type": "code",
            "source": [
                "create TABLE PhoneNumber(\n",
                "    id int IDENTITY PRIMARY KEY,\n",
                "    scientistId int not null REFERENCES Scientist(id),\n",
                "    phoneNumber NVARCHAR(20),\n",
                ");"
            ],
            "metadata": {
                "language": "sql",
                "azdata_cell_guid": "a4e9e4ca-6bdb-4365-9f85-ca1d3088128b",
                "tags": [
                    "hide_input"
                ]
            },
            "outputs": [],
            "execution_count": null
        },
        {
            "cell_type": "code",
            "source": [
                "create TABLE Institution \n",
                "(\n",
                "    id int IDENTITY PRIMARY KEY,\n",
                "    institutionName NVARCHAR(20) not null,\n",
                "    institutionCountry NVARCHAR(20) not null,\n",
                ");"
            ],
            "metadata": {
                "language": "sql",
                "azdata_cell_guid": "d3e2fead-3e17-466a-bf07-949a83a77aeb",
                "tags": [
                    "hide_input"
                ]
            },
            "outputs": [
                {
                    "output_type": "display_data",
                    "data": {
                        "text/html": "Commands completed successfully."
                    },
                    "metadata": {}
                },
                {
                    "output_type": "display_data",
                    "data": {
                        "text/html": "Total execution time: 00:00:00.044"
                    },
                    "metadata": {}
                }
            ],
            "execution_count": 5
        },
        {
            "cell_type": "code",
            "source": [
                "create TABLE Lab \n",
                "(\n",
                "    id int IDENTITY PRIMARY KEY,\n",
                "    labName NVARCHAR(20) not null,\n",
                "    labDesc NVARCHAR(max) null,\n",
                "    labPrice int not null,\n",
                "    idInstitution int not null REFERENCES Institution(id),\n",
                ");"
            ],
            "metadata": {
                "azdata_cell_guid": "e8c5bb8a-de34-4170-8dc1-95459389898d",
                "language": "sql",
                "tags": [
                    "hide_input"
                ]
            },
            "outputs": [
                {
                    "output_type": "display_data",
                    "data": {
                        "text/html": "Commands completed successfully."
                    },
                    "metadata": {}
                },
                {
                    "output_type": "display_data",
                    "data": {
                        "text/html": "Total execution time: 00:00:00.013"
                    },
                    "metadata": {}
                }
            ],
            "execution_count": 6
        },
        {
            "cell_type": "markdown",
            "source": [
                "Paper references other paper??? Create a table where 2 ids are kept, referencer id and referee id. \n",
                "\n",
                "CoAuthor??? Relation table is always the answer :)"
            ],
            "metadata": {
                "language": "sql",
                "azdata_cell_guid": "e2bfa458-39e5-45c3-91f3-e9e4908cce0f"
            },
            "attachments": {}
        },
        {
            "cell_type": "code",
            "source": [
                "create TABLE ResearchPaper \n",
                "(\n",
                "    id int IDENTITY PRIMARY KEY,\n",
                "    paperTitle NVARCHAR(20) not null,\n",
                "    paperSubject NVARCHAR(20) not null,\n",
                "    mainAuthor int not null REFERENCES Scientist(id),\n",
                "    conferenceEventId int not null REFERENCES ConferenceEvent(id),\n",
                ");"
            ],
            "metadata": {
                "language": "sql",
                "azdata_cell_guid": "7e75e2e1-ca71-42ea-b814-793e02740f7c",
                "tags": [
                    "hide_input"
                ]
            },
            "outputs": [
                {
                    "output_type": "error",
                    "evalue": "Execution failed due to an unexpected error: \n\tCannot connect to the database due to invalid OwnerUri (Parameter 'OwnerUri')",
                    "ename": "",
                    "traceback": []
                },
                {
                    "output_type": "display_data",
                    "data": {
                        "text/html": "Total execution time: 00:00:00"
                    },
                    "metadata": {}
                }
            ],
            "execution_count": 2
        },
        {
            "cell_type": "code",
            "source": [
                "use Conferen"
            ],
            "metadata": {
                "azdata_cell_guid": "0626f005-d60d-4d8c-877a-3325cb8507d5",
                "language": "sql"
            },
            "outputs": [
                {
                    "output_type": "error",
                    "evalue": "Execution failed due to an unexpected error: \n\tCannot connect to the database due to invalid OwnerUri (Parameter 'OwnerUri')",
                    "ename": "",
                    "traceback": []
                },
                {
                    "output_type": "display_data",
                    "data": {
                        "text/html": "Total execution time: 00:00:00"
                    },
                    "metadata": {}
                }
            ],
            "execution_count": 3
        },
        {
            "cell_type": "markdown",
            "source": [
                "Missing testing, happens, and works."
            ],
            "metadata": {
                "azdata_cell_guid": "87aedc50-44f8-43b6-bd76-253a77fb33f9"
            },
            "attachments": {}
        },
        {
            "cell_type": "markdown",
            "source": [
                "How to write composite attribute? Answered above.\n",
                "\n",
                "Optimal way to write Specialization or Generalization? and whats the difference between the two? Use parent entity id and create tables for the children."
            ],
            "metadata": {
                "azdata_cell_guid": "cc78568c-5d27-4607-83c5-ad1c0220c29a"
            },
            "attachments": {}
        },
        {
            "cell_type": "markdown",
            "source": [
                "Identity primary key -  database creates the keys - keeps track of order\n",
                "\n",
                "primary key - inserted by user"
            ],
            "metadata": {
                "azdata_cell_guid": "dca3728d-d4f6-47c5-aeb9-c01f36156d0e"
            },
            "attachments": {}
        },
        {
            "cell_type": "markdown",
            "source": [
                "nserting values with 'x' not double !!!"
            ],
            "metadata": {
                "azdata_cell_guid": "64671e26-296e-4fcc-bb28-425fd37a7dad"
            },
            "attachments": {}
        },
        {
            "cell_type": "code",
            "source": [
                "INSERT Scientist\n",
                "VALUES('Deki','Shteki','dm@gmail.com'),\n",
                "SELECT * Scientist"
            ],
            "metadata": {
                "azdata_cell_guid": "ebb37f7b-e00f-4c76-9bd3-7bbd9973b0d7",
                "language": "sql"
            },
            "outputs": [
                {
                    "output_type": "error",
                    "evalue": "Execution failed due to an unexpected error: \n\tCannot connect to the database due to invalid OwnerUri (Parameter 'OwnerUri')",
                    "ename": "",
                    "traceback": []
                },
                {
                    "output_type": "display_data",
                    "data": {
                        "text/html": "Total execution time: 00:00:00"
                    },
                    "metadata": {}
                }
            ],
            "execution_count": 1
        },
        {
            "cell_type": "markdown",
            "source": [
                ""
            ],
            "metadata": {
                "azdata_cell_guid": "df2badfc-8de9-47fe-860f-fd0a03af5681"
            }
        }
    ]
}