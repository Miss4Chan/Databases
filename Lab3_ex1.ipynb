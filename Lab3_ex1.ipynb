{
    "metadata": {
        "kernelspec": {
            "name": "SQL",
            "display_name": "SQL",
            "language": "sql"
        },
        "language_info": {
            "name": "sql",
            "version": ""
        }
    },
    "nbformat_minor": 2,
    "nbformat": 4,
    "cells": [
        {
            "cell_type": "code",
            "source": [
                "create DATABASE HotelManagement"
            ],
            "metadata": {
                "azdata_cell_guid": "198ff9d2-6930-4e33-916f-e85a1414b4b6",
                "language": "sql"
            },
            "outputs": [
                {
                    "output_type": "error",
                    "evalue": "Msg 1801, Level 16, State 3, Line 1\nDatabase 'HotelManagement' already exists. Choose a different database name.",
                    "ename": "",
                    "traceback": []
                },
                {
                    "output_type": "display_data",
                    "data": {
                        "text/html": "Total execution time: 00:00:00.007"
                    },
                    "metadata": {}
                }
            ],
            "execution_count": 4
        },
        {
            "cell_type": "code",
            "source": [
                "use HotelManagement "
            ],
            "metadata": {
                "language": "sql",
                "azdata_cell_guid": "b64bbd6c-8c01-4c2e-adb2-fdc3cdf47970"
            },
            "outputs": [
                {
                    "output_type": "display_data",
                    "data": {
                        "text/html": "Commands completed successfully."
                    },
                    "metadata": {}
                },
                {
                    "output_type": "display_data",
                    "data": {
                        "text/html": "Total execution time: 00:00:00.007"
                    },
                    "metadata": {}
                }
            ],
            "execution_count": 6
        },
        {
            "cell_type": "code",
            "source": [
                "create TABLE Hotel\n",
                "(\n",
                "    id int IDENTITY PRIMARY KEY,\n",
                "    HotelName NVARCHAR(30) not null,\n",
                "    HotelAddress NVARCHAR(30) not null,\n",
                "    HotelRating NVARCHAR(30) not null,\n",
                "    HotelCity NVARCHAR(30) not null,\n",
                "    HotelCountry NVARCHAR(30) not null,\n",
                ");"
            ],
            "metadata": {
                "language": "sql",
                "azdata_cell_guid": "61b6b826-d4a5-4497-ba01-4f93976ab4cd"
            },
            "outputs": [
                {
                    "output_type": "display_data",
                    "data": {
                        "text/html": "Commands completed successfully."
                    },
                    "metadata": {}
                },
                {
                    "output_type": "display_data",
                    "data": {
                        "text/html": "Total execution time: 00:00:00.061"
                    },
                    "metadata": {}
                }
            ],
            "execution_count": 3
        },
        {
            "cell_type": "code",
            "source": [
                "create TABLE Client \n",
                "(\n",
                "    id int IDENTITY PRIMARY KEY,\n",
                "    FirstName NVARCHAR(30) not null,\n",
                "    LastName NVARCHAR(30) not null,\n",
                "    ClientAddress NVARCHAR(30) not null,\n",
                "    ClientCountry NVARCHAR(30) not null,\n",
                ");"
            ],
            "metadata": {
                "language": "sql",
                "azdata_cell_guid": "c980a5e1-6b4a-4df1-93ad-e025a5d29053"
            },
            "outputs": [
                {
                    "output_type": "display_data",
                    "data": {
                        "text/html": "Commands completed successfully."
                    },
                    "metadata": {}
                },
                {
                    "output_type": "display_data",
                    "data": {
                        "text/html": "Total execution time: 00:00:00.020"
                    },
                    "metadata": {}
                }
            ],
            "execution_count": 4
        },
        {
            "cell_type": "code",
            "source": [
                "create TABLE RoomType\n",
                "(\n",
                "    id int IDENTITY PRIMARY KEY,\n",
                "    RoomTypeName NVARCHAR(30) not null,\n",
                "    NumberOfBeds int not null,\n",
                "    NumberOfPersons int not null,\n",
                ");"
            ],
            "metadata": {
                "language": "sql",
                "azdata_cell_guid": "2ee9ca24-908e-4755-9379-20f3f5880ab5"
            },
            "outputs": [
                {
                    "output_type": "display_data",
                    "data": {
                        "text/html": "Commands completed successfully."
                    },
                    "metadata": {}
                },
                {
                    "output_type": "display_data",
                    "data": {
                        "text/html": "Total execution time: 00:00:00.010"
                    },
                    "metadata": {}
                }
            ],
            "execution_count": 5
        },
        {
            "cell_type": "code",
            "source": [
                "create TABLE Room \n",
                "(\n",
                "    id int IDENTITY PRIMARY KEY,\n",
                "    RoomTypeId int not null REFERENCES RoomType(id),\n",
                "    HotelId int not null REFERENCES Hotel(id),\n",
                "    RoomFloor int not null,\n",
                ");"
            ],
            "metadata": {
                "language": "sql",
                "azdata_cell_guid": "f929f79a-7ef4-47c6-ae29-d161e2492b8d"
            },
            "outputs": [
                {
                    "output_type": "display_data",
                    "data": {
                        "text/html": "Commands completed successfully."
                    },
                    "metadata": {}
                },
                {
                    "output_type": "display_data",
                    "data": {
                        "text/html": "Total execution time: 00:00:00.014"
                    },
                    "metadata": {}
                }
            ],
            "execution_count": 6
        },
        {
            "cell_type": "code",
            "source": [
                "create TABLE Reservation \n",
                "(\n",
                "    id int IDENTITY PRIMARY KEY,\n",
                "    RoomTypeId int not null REFERENCES RoomType(id),\n",
                "    HotelId int not null REFERENCES Hotel(id),\n",
                "    ClientId int not null REFERENCES Client(id),\n",
                "    ReservationDate datetime not null DEFAULT GETUTCDATE(),\n",
                "    ArrivalDate datetime not null DEFAULT GETUTCDATE(),\n",
                "    DepartureDate datetime not null DEFAULT GETUTCDATE(),\n",
                ");"
            ],
            "metadata": {
                "language": "sql",
                "azdata_cell_guid": "b16fc532-2cf8-47ab-aef7-4389db669b5c"
            },
            "outputs": [
                {
                    "output_type": "display_data",
                    "data": {
                        "text/html": "Commands completed successfully."
                    },
                    "metadata": {}
                },
                {
                    "output_type": "display_data",
                    "data": {
                        "text/html": "Total execution time: 00:00:00.017"
                    },
                    "metadata": {}
                }
            ],
            "execution_count": 7
        },
        {
            "cell_type": "code",
            "source": [
                "alter TABLE Reservation Add NumberOfRooms int not null"
            ],
            "metadata": {
                "language": "sql",
                "azdata_cell_guid": "9f70470a-d88f-43b7-91d6-1d29f950e394"
            },
            "outputs": [
                {
                    "output_type": "display_data",
                    "data": {
                        "text/html": "Commands completed successfully."
                    },
                    "metadata": {}
                },
                {
                    "output_type": "display_data",
                    "data": {
                        "text/html": "Total execution time: 00:00:00.048"
                    },
                    "metadata": {}
                }
            ],
            "execution_count": 8
        },
        {
            "cell_type": "code",
            "source": [
                "alter TABLE Reservation Add NumberOfGuests int not null\n",
                "alter TABLE Reservation Add PaymentType NVARCHAR(30) not null"
            ],
            "metadata": {
                "language": "sql",
                "azdata_cell_guid": "90d69c2f-06d2-4a5e-9d26-cf532653da96"
            },
            "outputs": [
                {
                    "output_type": "display_data",
                    "data": {
                        "text/html": "Commands completed successfully."
                    },
                    "metadata": {}
                },
                {
                    "output_type": "display_data",
                    "data": {
                        "text/html": "Total execution time: 00:00:00.016"
                    },
                    "metadata": {}
                }
            ],
            "execution_count": 9
        },
        {
            "cell_type": "code",
            "source": [
                "alter TABLE Reservation DROP COLUMN PaymentType;"
            ],
            "metadata": {
                "language": "sql",
                "azdata_cell_guid": "c82e7364-99ae-4850-a8a6-ad11b23592dc"
            },
            "outputs": [
                {
                    "output_type": "display_data",
                    "data": {
                        "text/html": "Commands completed successfully."
                    },
                    "metadata": {}
                },
                {
                    "output_type": "display_data",
                    "data": {
                        "text/html": "Total execution time: 00:00:00.017"
                    },
                    "metadata": {}
                }
            ],
            "execution_count": 4
        },
        {
            "cell_type": "code",
            "source": [
                "create TABLE StatusOfReservation (\n",
                "    id int IDENTITY PRIMARY KEY,\n",
                "    ReservationStatus NVARCHAR(30) not null,\n",
                ");"
            ],
            "metadata": {
                "language": "sql",
                "azdata_cell_guid": "b9b917b7-bc37-416f-a4aa-a5d130e6b4e1"
            },
            "outputs": [
                {
                    "output_type": "display_data",
                    "data": {
                        "text/html": "Commands completed successfully."
                    },
                    "metadata": {}
                },
                {
                    "output_type": "display_data",
                    "data": {
                        "text/html": "Total execution time: 00:00:00.015"
                    },
                    "metadata": {}
                }
            ],
            "execution_count": 5
        },
        {
            "cell_type": "code",
            "source": [
                "create TABLE PaymentType (\n",
                "    id int IDENTITY PRIMARY KEY,\n",
                "    PaymentType NVARCHAR(30) not null,\n",
                ");"
            ],
            "metadata": {
                "language": "sql",
                "azdata_cell_guid": "bf7c9118-2b8b-4508-a936-716fa3ca4299"
            },
            "outputs": [
                {
                    "output_type": "display_data",
                    "data": {
                        "text/html": "Commands completed successfully."
                    },
                    "metadata": {}
                },
                {
                    "output_type": "display_data",
                    "data": {
                        "text/html": "Total execution time: 00:00:00.044"
                    },
                    "metadata": {}
                }
            ],
            "execution_count": 1
        },
        {
            "cell_type": "code",
            "source": [
                "create TABLE PriceOfRoom \n",
                "(\n",
                "    id int IDENTITY PRIMARY KEY,\n",
                "    PaymentTypeId int not null REFERENCES PaymentType(id),\n",
                ");"
            ],
            "metadata": {
                "language": "sql",
                "azdata_cell_guid": "dd7b359c-c093-4241-b1f9-390f297f35e2"
            },
            "outputs": [
                {
                    "output_type": "display_data",
                    "data": {
                        "text/html": "Commands completed successfully."
                    },
                    "metadata": {}
                },
                {
                    "output_type": "display_data",
                    "data": {
                        "text/html": "Total execution time: 00:00:00.018"
                    },
                    "metadata": {}
                }
            ],
            "execution_count": 2
        },
        {
            "cell_type": "code",
            "source": [
                "create TABLE Rating\n",
                "(\n",
                "    id int IDENTITY PRIMARY KEY,\n",
                "    Rating int not null,\n",
                "    ClientId int not null REFERENCES Client(id),\n",
                ");"
            ],
            "metadata": {
                "language": "sql",
                "azdata_cell_guid": "3c3b52c4-4a5c-4509-b439-b0dd81dba89e"
            },
            "outputs": [
                {
                    "output_type": "display_data",
                    "data": {
                        "text/html": "Commands completed successfully."
                    },
                    "metadata": {}
                },
                {
                    "output_type": "display_data",
                    "data": {
                        "text/html": "Total execution time: 00:00:00.025"
                    },
                    "metadata": {}
                }
            ],
            "execution_count": 7
        },
        {
            "cell_type": "code",
            "source": [
                "create TABLE Comment (\n",
                "    id int IDENTITY PRIMARY KEY,\n",
                "    ClientId int not null REFERENCES Client(id),\n",
                "    HotelId int not null REFERENCES Hotel(id),\n",
                "    CommentDate datetime not null DEFAULT GETUTCDATE(),\n",
                "    ContentOfComment NVARCHAR(30) not null,\n",
                ");"
            ],
            "metadata": {
                "language": "sql",
                "azdata_cell_guid": "6cef5aa8-3bbf-44a8-a0ad-323d13d38852"
            },
            "outputs": [
                {
                    "output_type": "display_data",
                    "data": {
                        "text/html": "Commands completed successfully."
                    },
                    "metadata": {}
                },
                {
                    "output_type": "display_data",
                    "data": {
                        "text/html": "Total execution time: 00:00:00.011"
                    },
                    "metadata": {}
                }
            ],
            "execution_count": 8
        },
        {
            "cell_type": "code",
            "source": [
                "alter TABLE Hotel DROP COLUMN HotelCity;"
            ],
            "metadata": {
                "language": "sql",
                "azdata_cell_guid": "eb8ebeed-5d32-4c08-a27b-d9c4a381c53e"
            },
            "outputs": [
                {
                    "output_type": "display_data",
                    "data": {
                        "text/html": "Commands completed successfully."
                    },
                    "metadata": {}
                },
                {
                    "output_type": "display_data",
                    "data": {
                        "text/html": "Total execution time: 00:00:00.007"
                    },
                    "metadata": {}
                }
            ],
            "execution_count": 9
        },
        {
            "cell_type": "code",
            "source": [
                "create TABLE Landmark\n",
                "(\n",
                "    id int IDENTITY PRIMARY KEY,\n",
                "    LandmarkName NVARCHAR(30) not null,\n",
                "    LandmarkDescription NVARCHAR(30) not null,\n",
                "    LandmarkAttractiveness int not null,\n",
                "    LandmarkOpeningHours NVARCHAR(20) not null,\n",
                ");"
            ],
            "metadata": {
                "language": "sql",
                "azdata_cell_guid": "0511780a-357a-464d-808b-14d70576d6af"
            },
            "outputs": [
                {
                    "output_type": "display_data",
                    "data": {
                        "text/html": "Commands completed successfully."
                    },
                    "metadata": {}
                },
                {
                    "output_type": "display_data",
                    "data": {
                        "text/html": "Total execution time: 00:00:00.030"
                    },
                    "metadata": {}
                }
            ],
            "execution_count": 10
        },
        {
            "cell_type": "code",
            "source": [
                "create TABLE City\n",
                "(\n",
                "    id int IDENTITY PRIMARY KEY,\n",
                "    LandmarkId int not null REFERENCES Landmark(id),\n",
                ");"
            ],
            "metadata": {
                "language": "sql",
                "azdata_cell_guid": "7a1ff4d1-cbd7-46c9-9cc4-da65e3e7a13f"
            },
            "outputs": [
                {
                    "output_type": "display_data",
                    "data": {
                        "text/html": "Commands completed successfully."
                    },
                    "metadata": {}
                },
                {
                    "output_type": "display_data",
                    "data": {
                        "text/html": "Total execution time: 00:00:00.012"
                    },
                    "metadata": {}
                }
            ],
            "execution_count": 11
        },
        {
            "cell_type": "code",
            "source": [
                "create TABLE DistanceBetweenLandmarks\n",
                "(\n",
                "    id int IDENTITY PRIMARY KEY,\n",
                "    LandmarkIdFirst int not null REFERENCES Landmark(id),\n",
                "    LandmarkIdSecond int not null REFERENCES Landmark(id),\n",
                "    Distance float not null,\n",
                ");"
            ],
            "metadata": {
                "language": "sql",
                "azdata_cell_guid": "ba264001-a852-4d65-ac7d-7cf38d1ae692"
            },
            "outputs": [
                {
                    "output_type": "display_data",
                    "data": {
                        "text/html": "Commands completed successfully."
                    },
                    "metadata": {}
                },
                {
                    "output_type": "display_data",
                    "data": {
                        "text/html": "Total execution time: 00:00:00.011"
                    },
                    "metadata": {}
                }
            ],
            "execution_count": 12
        },
        {
            "cell_type": "code",
            "source": [
                "create TABLE DistanceBetweenHotelAndLandmarks\n",
                "(\n",
                "    id int IDENTITY PRIMARY KEY,\n",
                "    LandmarkId int not null REFERENCES Landmark(id),\n",
                "    HotelId int not null REFERENCES Hotel(id),\n",
                "    Distance float not null,\n",
                ");"
            ],
            "metadata": {
                "language": "sql",
                "azdata_cell_guid": "907ab6de-15c0-470a-a4a2-66754d7e1155"
            },
            "outputs": [
                {
                    "output_type": "display_data",
                    "data": {
                        "text/html": "Commands completed successfully."
                    },
                    "metadata": {}
                },
                {
                    "output_type": "display_data",
                    "data": {
                        "text/html": "Total execution time: 00:00:00.013"
                    },
                    "metadata": {}
                }
            ],
            "execution_count": 13
        },
        {
            "cell_type": "code",
            "source": [
                "create TABLE VisitedLandmark\n",
                "(\n",
                "    id int IDENTITY PRIMARY KEY,\n",
                "    LandmarkId int not null REFERENCES Landmark(id),\n",
                "    ClientId int not null REFERENCES Client(id),\n",
                ");"
            ],
            "metadata": {
                "language": "sql",
                "azdata_cell_guid": "752dd057-4e62-4837-a7e5-b5338fb7d486"
            },
            "outputs": [
                {
                    "output_type": "display_data",
                    "data": {
                        "text/html": "Commands completed successfully."
                    },
                    "metadata": {}
                },
                {
                    "output_type": "display_data",
                    "data": {
                        "text/html": "Total execution time: 00:00:00.008"
                    },
                    "metadata": {}
                }
            ],
            "execution_count": 14
        }
    ]
}