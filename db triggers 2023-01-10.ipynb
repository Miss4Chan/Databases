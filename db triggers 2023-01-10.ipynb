{
    "metadata": {
        "kernelspec": {
            "name": "SQL",
            "display_name": "SQL",
            "language": "sql"
        },
        "language_info": {
            "name": "sql",
            "version": ""
        }
    },
    "nbformat_minor": 2,
    "nbformat": 4,
    "cells": [
        {
            "cell_type": "code",
            "source": [
                "SELECT TOP (10) *\n",
                "  FROM [WideWorldImporters].[Sales].[Invoices]\n",
                ";\n",
                "\n",
                "SELECT TOP (10) *\n",
                "  FROM [WideWorldImporters].[Sales].[InvoiceLines]\n",
                "  where invoiceId=1\n",
                ";\n",
                "\n",
                "\n",
                ""
            ],
            "metadata": {
                "azdata_cell_guid": "d3410134-8d15-49f2-9a90-ee93b68fe1e0",
                "language": "sql"
            },
            "outputs": [
                {
                    "output_type": "display_data",
                    "data": {
                        "text/html": "(10 rows affected)"
                    },
                    "metadata": {}
                },
                {
                    "output_type": "display_data",
                    "data": {
                        "text/html": "(1 row affected)"
                    },
                    "metadata": {}
                },
                {
                    "output_type": "display_data",
                    "data": {
                        "text/html": "Total execution time: 00:00:00.060"
                    },
                    "metadata": {}
                },
                {
                    "output_type": "execute_result",
                    "execution_count": 2,
                    "data": {
                        "application/vnd.dataresource+json": {
                            "schema": {
                                "fields": [
                                    {
                                        "name": "InvoiceID"
                                    },
                                    {
                                        "name": "CustomerID"
                                    },
                                    {
                                        "name": "BillToCustomerID"
                                    },
                                    {
                                        "name": "OrderID"
                                    },
                                    {
                                        "name": "DeliveryMethodID"
                                    },
                                    {
                                        "name": "ContactPersonID"
                                    },
                                    {
                                        "name": "AccountsPersonID"
                                    },
                                    {
                                        "name": "SalespersonPersonID"
                                    },
                                    {
                                        "name": "PackedByPersonID"
                                    },
                                    {
                                        "name": "InvoiceDate"
                                    },
                                    {
                                        "name": "CustomerPurchaseOrderNumber"
                                    },
                                    {
                                        "name": "IsCreditNote"
                                    },
                                    {
                                        "name": "CreditNoteReason"
                                    },
                                    {
                                        "name": "Comments"
                                    },
                                    {
                                        "name": "DeliveryInstructions"
                                    },
                                    {
                                        "name": "InternalComments"
                                    },
                                    {
                                        "name": "TotalDryItems"
                                    },
                                    {
                                        "name": "TotalChillerItems"
                                    },
                                    {
                                        "name": "DeliveryRun"
                                    },
                                    {
                                        "name": "RunPosition"
                                    },
                                    {
                                        "name": "ReturnedDeliveryData"
                                    },
                                    {
                                        "name": "ConfirmedDeliveryTime"
                                    },
                                    {
                                        "name": "ConfirmedReceivedBy"
                                    },
                                    {
                                        "name": "LastEditedBy"
                                    },
                                    {
                                        "name": "LastEditedWhen"
                                    }
                                ]
                            },
                            "data": [
                                {
                                    "0": "1",
                                    "1": "832",
                                    "2": "832",
                                    "3": "1",
                                    "4": "3",
                                    "5": "3032",
                                    "6": "3032",
                                    "7": "2",
                                    "8": "14",
                                    "9": "2013-01-01",
                                    "10": "12126",
                                    "11": "0",
                                    "12": "NULL",
                                    "13": "NULL",
                                    "14": "Suite 24, 1345 Jun Avenue",
                                    "15": "NULL",
                                    "16": "1",
                                    "17": "0",
                                    "18": "",
                                    "19": "",
                                    "20": "{\"Events\": [{ \"Event\":\"Ready for collection\",\"EventTime\":\"2013-01-01T12:00:00\",\"ConNote\":\"EAN-125-1051\"},{ \"Event\":\"DeliveryAttempt\",\"EventTime\":\"2013-01-02T07:05:00\",\"ConNote\":\"EAN-125-1051\",\"DriverID\":15,\"Latitude\":41.3617214,\"Longitude\":-81.4695602,\"Status\":\"Delivered\"}],\"DeliveredWhen\":\"2013-01-02T07:05:00\",\"ReceivedBy\":\"Aakriti Byrraju\"}",
                                    "21": "2013-01-02 07:05:00.0000000",
                                    "22": "Aakriti Byrraju",
                                    "23": "15",
                                    "24": "2013-01-02 07:00:00.0000000"
                                },
                                {
                                    "0": "2",
                                    "1": "803",
                                    "2": "803",
                                    "3": "2",
                                    "4": "3",
                                    "5": "3003",
                                    "6": "3003",
                                    "7": "8",
                                    "8": "14",
                                    "9": "2013-01-01",
                                    "10": "15342",
                                    "11": "0",
                                    "12": "NULL",
                                    "13": "NULL",
                                    "14": "Unit 7, 844 Magnusson Lane",
                                    "15": "NULL",
                                    "16": "2",
                                    "17": "0",
                                    "18": "",
                                    "19": "",
                                    "20": "{\"Events\": [{ \"Event\":\"Ready for collection\",\"EventTime\":\"2013-01-01T12:00:00\",\"ConNote\":\"EAN-125-1052\"},{ \"Event\":\"DeliveryAttempt\",\"EventTime\":\"2013-01-02T07:10:00\",\"ConNote\":\"EAN-125-1052\",\"DriverID\":15,\"Latitude\":40.8657308,\"Longitude\":-120.4602262,\"Status\":\"Delivered\"}],\"DeliveredWhen\":\"2013-01-02T07:10:00\",\"ReceivedBy\":\"Bala Dixit\"}",
                                    "21": "2013-01-02 07:10:00.0000000",
                                    "22": "Bala Dixit",
                                    "23": "15",
                                    "24": "2013-01-02 07:00:00.0000000"
                                },
                                {
                                    "0": "3",
                                    "1": "105",
                                    "2": "1",
                                    "3": "3",
                                    "4": "3",
                                    "5": "1209",
                                    "6": "1001",
                                    "7": "7",
                                    "8": "14",
                                    "9": "2013-01-01",
                                    "10": "12211",
                                    "11": "0",
                                    "12": "NULL",
                                    "13": "NULL",
                                    "14": "Unit 60, 1158 Hrastovsek Boulevard",
                                    "15": "NULL",
                                    "16": "1",
                                    "17": "0",
                                    "18": "",
                                    "19": "",
                                    "20": "{\"Events\": [{ \"Event\":\"Ready for collection\",\"EventTime\":\"2013-01-01T12:00:00\",\"ConNote\":\"EAN-125-1053\"},{ \"Event\":\"DeliveryAttempt\",\"EventTime\":\"2013-01-02T07:15:00\",\"ConNote\":\"EAN-125-1053\",\"DriverID\":15,\"Latitude\":33.4848451,\"Longitude\":-89.3606259,\"Status\":\"Delivered\"}],\"DeliveredWhen\":\"2013-01-02T07:15:00\",\"ReceivedBy\":\"Sung-Hwan Hwang\"}",
                                    "21": "2013-01-02 07:15:00.0000000",
                                    "22": "Sung-Hwan Hwang",
                                    "23": "15",
                                    "24": "2013-01-02 07:00:00.0000000"
                                },
                                {
                                    "0": "4",
                                    "1": "57",
                                    "2": "1",
                                    "3": "4",
                                    "4": "3",
                                    "5": "1113",
                                    "6": "1001",
                                    "7": "16",
                                    "8": "14",
                                    "9": "2013-01-01",
                                    "10": "17129",
                                    "11": "0",
                                    "12": "NULL",
                                    "13": "NULL",
                                    "14": "Unit 136, 1331 Dutta Crescent",
                                    "15": "NULL",
                                    "16": "3",
                                    "17": "0",
                                    "18": "",
                                    "19": "",
                                    "20": "{\"Events\": [{ \"Event\":\"Ready for collection\",\"EventTime\":\"2013-01-01T12:00:00\",\"ConNote\":\"EAN-125-1054\"},{ \"Event\":\"DeliveryAttempt\",\"EventTime\":\"2013-01-02T07:20:00\",\"ConNote\":\"EAN-125-1054\",\"DriverID\":15,\"Latitude\":41.0208896,\"Longitude\":-81.4359458,\"Status\":\"Delivered\"}],\"DeliveredWhen\":\"2013-01-02T07:20:00\",\"ReceivedBy\":\"Aile Mae\"}",
                                    "21": "2013-01-02 07:20:00.0000000",
                                    "22": "Aile Mae",
                                    "23": "15",
                                    "24": "2013-01-02 07:00:00.0000000"
                                },
                                {
                                    "0": "5",
                                    "1": "905",
                                    "2": "905",
                                    "3": "5",
                                    "4": "3",
                                    "5": "3105",
                                    "6": "3105",
                                    "7": "3",
                                    "8": "14",
                                    "9": "2013-01-01",
                                    "10": "10369",
                                    "11": "0",
                                    "12": "NULL",
                                    "13": "NULL",
                                    "14": "Shop 30, 1476 Poddar Lane",
                                    "15": "NULL",
                                    "16": "3",
                                    "17": "0",
                                    "18": "",
                                    "19": "",
                                    "20": "{\"Events\": [{ \"Event\":\"Ready for collection\",\"EventTime\":\"2013-01-01T12:00:00\",\"ConNote\":\"EAN-125-1055\"},{ \"Event\":\"DeliveryAttempt\",\"EventTime\":\"2013-01-02T07:25:00\",\"ConNote\":\"EAN-125-1055\",\"DriverID\":15,\"Latitude\":45.7849627,\"Longitude\":-93.5569028,\"Status\":\"Delivered\"}],\"DeliveredWhen\":\"2013-01-02T07:25:00\",\"ReceivedBy\":\"Sara Huiting\"}",
                                    "21": "2013-01-02 07:25:00.0000000",
                                    "22": "Sara Huiting",
                                    "23": "15",
                                    "24": "2013-01-02 07:00:00.0000000"
                                },
                                {
                                    "0": "6",
                                    "1": "976",
                                    "2": "976",
                                    "3": "6",
                                    "4": "3",
                                    "5": "3176",
                                    "6": "3176",
                                    "7": "13",
                                    "8": "14",
                                    "9": "2013-01-01",
                                    "10": "13383",
                                    "11": "0",
                                    "12": "NULL",
                                    "13": "NULL",
                                    "14": "Suite 6, 244 Lieu Crescent",
                                    "15": "NULL",
                                    "16": "3",
                                    "17": "0",
                                    "18": "",
                                    "19": "",
                                    "20": "{\"Events\": [{ \"Event\":\"Ready for collection\",\"EventTime\":\"2013-01-01T12:00:00\",\"ConNote\":\"EAN-125-1056\"},{ \"Event\":\"DeliveryAttempt\",\"EventTime\":\"2013-01-02T07:30:00\",\"ConNote\":\"EAN-125-1056\",\"DriverID\":15,\"Latitude\":31.1835648,\"Longitude\":-81.3498179,\"Status\":\"Delivered\"}],\"DeliveredWhen\":\"2013-01-02T07:30:00\",\"ReceivedBy\":\"Alinne Matos\"}",
                                    "21": "2013-01-02 07:30:00.0000000",
                                    "22": "Alinne Matos",
                                    "23": "15",
                                    "24": "2013-01-02 07:00:00.0000000"
                                },
                                {
                                    "0": "7",
                                    "1": "575",
                                    "2": "401",
                                    "3": "7",
                                    "4": "3",
                                    "5": "2349",
                                    "6": "2001",
                                    "7": "8",
                                    "8": "14",
                                    "9": "2013-01-01",
                                    "10": "17913",
                                    "11": "0",
                                    "12": "NULL",
                                    "13": "NULL",
                                    "14": "Shop 227, 178 Bhogireddy Boulevard",
                                    "15": "NULL",
                                    "16": "4",
                                    "17": "0",
                                    "18": "",
                                    "19": "",
                                    "20": "{\"Events\": [{ \"Event\":\"Ready for collection\",\"EventTime\":\"2013-01-01T12:00:00\",\"ConNote\":\"EAN-125-1057\"},{ \"Event\":\"DeliveryAttempt\",\"EventTime\":\"2013-01-02T07:35:00\",\"ConNote\":\"EAN-125-1057\",\"DriverID\":15,\"Latitude\":42.5422939,\"Longitude\":-76.6660589,\"Status\":\"Delivered\"}],\"DeliveredWhen\":\"2013-01-02T07:35:00\",\"ReceivedBy\":\"Dattaatraeya Tottempudi\"}",
                                    "21": "2013-01-02 07:35:00.0000000",
                                    "22": "Dattaatraeya Tottempudi",
                                    "23": "15",
                                    "24": "2013-01-02 07:00:00.0000000"
                                },
                                {
                                    "0": "8",
                                    "1": "964",
                                    "2": "964",
                                    "3": "8",
                                    "4": "3",
                                    "5": "3164",
                                    "6": "3164",
                                    "7": "7",
                                    "8": "14",
                                    "9": "2013-01-01",
                                    "10": "14518",
                                    "11": "0",
                                    "12": "NULL",
                                    "13": "NULL",
                                    "14": "Suite 24, 1300 Sonkar Road",
                                    "15": "NULL",
                                    "16": "3",
                                    "17": "0",
                                    "18": "",
                                    "19": "",
                                    "20": "{\"Events\": [{ \"Event\":\"Ready for collection\",\"EventTime\":\"2013-01-01T12:00:00\",\"ConNote\":\"EAN-125-1058\"},{ \"Event\":\"DeliveryAttempt\",\"EventTime\":\"2013-01-02T07:40:00\",\"ConNote\":\"EAN-125-1058\",\"DriverID\":15,\"Latitude\":28.4624986,\"Longitude\":-82.1948076,\"Status\":\"Delivered\"}],\"DeliveredWhen\":\"2013-01-02T07:40:00\",\"ReceivedBy\":\"Ingrida Zeltina\"}",
                                    "21": "2013-01-02 07:40:00.0000000",
                                    "22": "Ingrida Zeltina",
                                    "23": "15",
                                    "24": "2013-01-02 07:00:00.0000000"
                                },
                                {
                                    "0": "9",
                                    "1": "77",
                                    "2": "1",
                                    "3": "9",
                                    "4": "3",
                                    "5": "1153",
                                    "6": "1001",
                                    "7": "7",
                                    "8": "14",
                                    "9": "2013-01-01",
                                    "10": "17577",
                                    "11": "0",
                                    "12": "NULL",
                                    "13": "NULL",
                                    "14": "Unit 176, 1675 Ribeiro Street",
                                    "15": "NULL",
                                    "16": "2",
                                    "17": "0",
                                    "18": "",
                                    "19": "",
                                    "20": "{\"Events\": [{ \"Event\":\"Ready for collection\",\"EventTime\":\"2013-01-01T12:00:00\",\"ConNote\":\"EAN-125-1059\"},{ \"Event\":\"DeliveryAttempt\",\"EventTime\":\"2013-01-02T07:45:00\",\"ConNote\":\"EAN-125-1059\",\"DriverID\":15,\"Latitude\":30.9913064,\"Longitude\":-83.3726575,\"Status\":\"Delivered\"}],\"DeliveredWhen\":\"2013-01-02T07:45:00\",\"ReceivedBy\":\"Airi Vassiljev\"}",
                                    "21": "2013-01-02 07:45:00.0000000",
                                    "22": "Airi Vassiljev",
                                    "23": "15",
                                    "24": "2013-01-02 07:00:00.0000000"
                                },
                                {
                                    "0": "10",
                                    "1": "191",
                                    "2": "1",
                                    "3": "10",
                                    "4": "3",
                                    "5": "1381",
                                    "6": "1001",
                                    "7": "20",
                                    "8": "14",
                                    "9": "2013-01-01",
                                    "10": "18030",
                                    "11": "0",
                                    "12": "NULL",
                                    "13": "NULL",
                                    "14": "Suite 169, 946 Reddy Street",
                                    "15": "NULL",
                                    "16": "2",
                                    "17": "0",
                                    "18": "",
                                    "19": "",
                                    "20": "{\"Events\": [{ \"Event\":\"Ready for collection\",\"EventTime\":\"2013-01-01T12:00:00\",\"ConNote\":\"EAN-125-1060\"},{ \"Event\":\"DeliveryAttempt\",\"EventTime\":\"2013-01-02T07:50:00\",\"ConNote\":\"EAN-125-1060\",\"DriverID\":15,\"Latitude\":33.1865071,\"Longitude\":-84.2113095,\"Status\":\"Delivered\"}],\"DeliveredWhen\":\"2013-01-02T07:50:00\",\"ReceivedBy\":\"Ester Ahmadian\"}",
                                    "21": "2013-01-02 07:50:00.0000000",
                                    "22": "Ester Ahmadian",
                                    "23": "15",
                                    "24": "2013-01-02 07:00:00.0000000"
                                }
                            ]
                        },
                        "text/html": "<table><tr><th>InvoiceID</th><th>CustomerID</th><th>BillToCustomerID</th><th>OrderID</th><th>DeliveryMethodID</th><th>ContactPersonID</th><th>AccountsPersonID</th><th>SalespersonPersonID</th><th>PackedByPersonID</th><th>InvoiceDate</th><th>CustomerPurchaseOrderNumber</th><th>IsCreditNote</th><th>CreditNoteReason</th><th>Comments</th><th>DeliveryInstructions</th><th>InternalComments</th><th>TotalDryItems</th><th>TotalChillerItems</th><th>DeliveryRun</th><th>RunPosition</th><th>ReturnedDeliveryData</th><th>ConfirmedDeliveryTime</th><th>ConfirmedReceivedBy</th><th>LastEditedBy</th><th>LastEditedWhen</th></tr><tr><td>1</td><td>832</td><td>832</td><td>1</td><td>3</td><td>3032</td><td>3032</td><td>2</td><td>14</td><td>2013-01-01</td><td>12126</td><td>0</td><td>NULL</td><td>NULL</td><td>Suite 24, 1345 Jun Avenue</td><td>NULL</td><td>1</td><td>0</td><td></td><td></td><td>{&quot;Events&quot;: [{ &quot;Event&quot;:&quot;Ready for collection&quot;,&quot;EventTime&quot;:&quot;2013-01-01T12:00:00&quot;,&quot;ConNote&quot;:&quot;EAN-125-1051&quot;},{ &quot;Event&quot;:&quot;DeliveryAttempt&quot;,&quot;EventTime&quot;:&quot;2013-01-02T07:05:00&quot;,&quot;ConNote&quot;:&quot;EAN-125-1051&quot;,&quot;DriverID&quot;:15,&quot;Latitude&quot;:41.3617214,&quot;Longitude&quot;:-81.4695602,&quot;Status&quot;:&quot;Delivered&quot;}],&quot;DeliveredWhen&quot;:&quot;2013-01-02T07:05:00&quot;,&quot;ReceivedBy&quot;:&quot;Aakriti Byrraju&quot;}</td><td>2013-01-02 07:05:00.0000000</td><td>Aakriti Byrraju</td><td>15</td><td>2013-01-02 07:00:00.0000000</td></tr><tr><td>2</td><td>803</td><td>803</td><td>2</td><td>3</td><td>3003</td><td>3003</td><td>8</td><td>14</td><td>2013-01-01</td><td>15342</td><td>0</td><td>NULL</td><td>NULL</td><td>Unit 7, 844 Magnusson Lane</td><td>NULL</td><td>2</td><td>0</td><td></td><td></td><td>{&quot;Events&quot;: [{ &quot;Event&quot;:&quot;Ready for collection&quot;,&quot;EventTime&quot;:&quot;2013-01-01T12:00:00&quot;,&quot;ConNote&quot;:&quot;EAN-125-1052&quot;},{ &quot;Event&quot;:&quot;DeliveryAttempt&quot;,&quot;EventTime&quot;:&quot;2013-01-02T07:10:00&quot;,&quot;ConNote&quot;:&quot;EAN-125-1052&quot;,&quot;DriverID&quot;:15,&quot;Latitude&quot;:40.8657308,&quot;Longitude&quot;:-120.4602262,&quot;Status&quot;:&quot;Delivered&quot;}],&quot;DeliveredWhen&quot;:&quot;2013-01-02T07:10:00&quot;,&quot;ReceivedBy&quot;:&quot;Bala Dixit&quot;}</td><td>2013-01-02 07:10:00.0000000</td><td>Bala Dixit</td><td>15</td><td>2013-01-02 07:00:00.0000000</td></tr><tr><td>3</td><td>105</td><td>1</td><td>3</td><td>3</td><td>1209</td><td>1001</td><td>7</td><td>14</td><td>2013-01-01</td><td>12211</td><td>0</td><td>NULL</td><td>NULL</td><td>Unit 60, 1158 Hrastovsek Boulevard</td><td>NULL</td><td>1</td><td>0</td><td></td><td></td><td>{&quot;Events&quot;: [{ &quot;Event&quot;:&quot;Ready for collection&quot;,&quot;EventTime&quot;:&quot;2013-01-01T12:00:00&quot;,&quot;ConNote&quot;:&quot;EAN-125-1053&quot;},{ &quot;Event&quot;:&quot;DeliveryAttempt&quot;,&quot;EventTime&quot;:&quot;2013-01-02T07:15:00&quot;,&quot;ConNote&quot;:&quot;EAN-125-1053&quot;,&quot;DriverID&quot;:15,&quot;Latitude&quot;:33.4848451,&quot;Longitude&quot;:-89.3606259,&quot;Status&quot;:&quot;Delivered&quot;}],&quot;DeliveredWhen&quot;:&quot;2013-01-02T07:15:00&quot;,&quot;ReceivedBy&quot;:&quot;Sung-Hwan Hwang&quot;}</td><td>2013-01-02 07:15:00.0000000</td><td>Sung-Hwan Hwang</td><td>15</td><td>2013-01-02 07:00:00.0000000</td></tr><tr><td>4</td><td>57</td><td>1</td><td>4</td><td>3</td><td>1113</td><td>1001</td><td>16</td><td>14</td><td>2013-01-01</td><td>17129</td><td>0</td><td>NULL</td><td>NULL</td><td>Unit 136, 1331 Dutta Crescent</td><td>NULL</td><td>3</td><td>0</td><td></td><td></td><td>{&quot;Events&quot;: [{ &quot;Event&quot;:&quot;Ready for collection&quot;,&quot;EventTime&quot;:&quot;2013-01-01T12:00:00&quot;,&quot;ConNote&quot;:&quot;EAN-125-1054&quot;},{ &quot;Event&quot;:&quot;DeliveryAttempt&quot;,&quot;EventTime&quot;:&quot;2013-01-02T07:20:00&quot;,&quot;ConNote&quot;:&quot;EAN-125-1054&quot;,&quot;DriverID&quot;:15,&quot;Latitude&quot;:41.0208896,&quot;Longitude&quot;:-81.4359458,&quot;Status&quot;:&quot;Delivered&quot;}],&quot;DeliveredWhen&quot;:&quot;2013-01-02T07:20:00&quot;,&quot;ReceivedBy&quot;:&quot;Aile Mae&quot;}</td><td>2013-01-02 07:20:00.0000000</td><td>Aile Mae</td><td>15</td><td>2013-01-02 07:00:00.0000000</td></tr><tr><td>5</td><td>905</td><td>905</td><td>5</td><td>3</td><td>3105</td><td>3105</td><td>3</td><td>14</td><td>2013-01-01</td><td>10369</td><td>0</td><td>NULL</td><td>NULL</td><td>Shop 30, 1476 Poddar Lane</td><td>NULL</td><td>3</td><td>0</td><td></td><td></td><td>{&quot;Events&quot;: [{ &quot;Event&quot;:&quot;Ready for collection&quot;,&quot;EventTime&quot;:&quot;2013-01-01T12:00:00&quot;,&quot;ConNote&quot;:&quot;EAN-125-1055&quot;},{ &quot;Event&quot;:&quot;DeliveryAttempt&quot;,&quot;EventTime&quot;:&quot;2013-01-02T07:25:00&quot;,&quot;ConNote&quot;:&quot;EAN-125-1055&quot;,&quot;DriverID&quot;:15,&quot;Latitude&quot;:45.7849627,&quot;Longitude&quot;:-93.5569028,&quot;Status&quot;:&quot;Delivered&quot;}],&quot;DeliveredWhen&quot;:&quot;2013-01-02T07:25:00&quot;,&quot;ReceivedBy&quot;:&quot;Sara Huiting&quot;}</td><td>2013-01-02 07:25:00.0000000</td><td>Sara Huiting</td><td>15</td><td>2013-01-02 07:00:00.0000000</td></tr><tr><td>6</td><td>976</td><td>976</td><td>6</td><td>3</td><td>3176</td><td>3176</td><td>13</td><td>14</td><td>2013-01-01</td><td>13383</td><td>0</td><td>NULL</td><td>NULL</td><td>Suite 6, 244 Lieu Crescent</td><td>NULL</td><td>3</td><td>0</td><td></td><td></td><td>{&quot;Events&quot;: [{ &quot;Event&quot;:&quot;Ready for collection&quot;,&quot;EventTime&quot;:&quot;2013-01-01T12:00:00&quot;,&quot;ConNote&quot;:&quot;EAN-125-1056&quot;},{ &quot;Event&quot;:&quot;DeliveryAttempt&quot;,&quot;EventTime&quot;:&quot;2013-01-02T07:30:00&quot;,&quot;ConNote&quot;:&quot;EAN-125-1056&quot;,&quot;DriverID&quot;:15,&quot;Latitude&quot;:31.1835648,&quot;Longitude&quot;:-81.3498179,&quot;Status&quot;:&quot;Delivered&quot;}],&quot;DeliveredWhen&quot;:&quot;2013-01-02T07:30:00&quot;,&quot;ReceivedBy&quot;:&quot;Alinne Matos&quot;}</td><td>2013-01-02 07:30:00.0000000</td><td>Alinne Matos</td><td>15</td><td>2013-01-02 07:00:00.0000000</td></tr><tr><td>7</td><td>575</td><td>401</td><td>7</td><td>3</td><td>2349</td><td>2001</td><td>8</td><td>14</td><td>2013-01-01</td><td>17913</td><td>0</td><td>NULL</td><td>NULL</td><td>Shop 227, 178 Bhogireddy Boulevard</td><td>NULL</td><td>4</td><td>0</td><td></td><td></td><td>{&quot;Events&quot;: [{ &quot;Event&quot;:&quot;Ready for collection&quot;,&quot;EventTime&quot;:&quot;2013-01-01T12:00:00&quot;,&quot;ConNote&quot;:&quot;EAN-125-1057&quot;},{ &quot;Event&quot;:&quot;DeliveryAttempt&quot;,&quot;EventTime&quot;:&quot;2013-01-02T07:35:00&quot;,&quot;ConNote&quot;:&quot;EAN-125-1057&quot;,&quot;DriverID&quot;:15,&quot;Latitude&quot;:42.5422939,&quot;Longitude&quot;:-76.6660589,&quot;Status&quot;:&quot;Delivered&quot;}],&quot;DeliveredWhen&quot;:&quot;2013-01-02T07:35:00&quot;,&quot;ReceivedBy&quot;:&quot;Dattaatraeya Tottempudi&quot;}</td><td>2013-01-02 07:35:00.0000000</td><td>Dattaatraeya Tottempudi</td><td>15</td><td>2013-01-02 07:00:00.0000000</td></tr><tr><td>8</td><td>964</td><td>964</td><td>8</td><td>3</td><td>3164</td><td>3164</td><td>7</td><td>14</td><td>2013-01-01</td><td>14518</td><td>0</td><td>NULL</td><td>NULL</td><td>Suite 24, 1300 Sonkar Road</td><td>NULL</td><td>3</td><td>0</td><td></td><td></td><td>{&quot;Events&quot;: [{ &quot;Event&quot;:&quot;Ready for collection&quot;,&quot;EventTime&quot;:&quot;2013-01-01T12:00:00&quot;,&quot;ConNote&quot;:&quot;EAN-125-1058&quot;},{ &quot;Event&quot;:&quot;DeliveryAttempt&quot;,&quot;EventTime&quot;:&quot;2013-01-02T07:40:00&quot;,&quot;ConNote&quot;:&quot;EAN-125-1058&quot;,&quot;DriverID&quot;:15,&quot;Latitude&quot;:28.4624986,&quot;Longitude&quot;:-82.1948076,&quot;Status&quot;:&quot;Delivered&quot;}],&quot;DeliveredWhen&quot;:&quot;2013-01-02T07:40:00&quot;,&quot;ReceivedBy&quot;:&quot;Ingrida Zeltina&quot;}</td><td>2013-01-02 07:40:00.0000000</td><td>Ingrida Zeltina</td><td>15</td><td>2013-01-02 07:00:00.0000000</td></tr><tr><td>9</td><td>77</td><td>1</td><td>9</td><td>3</td><td>1153</td><td>1001</td><td>7</td><td>14</td><td>2013-01-01</td><td>17577</td><td>0</td><td>NULL</td><td>NULL</td><td>Unit 176, 1675 Ribeiro Street</td><td>NULL</td><td>2</td><td>0</td><td></td><td></td><td>{&quot;Events&quot;: [{ &quot;Event&quot;:&quot;Ready for collection&quot;,&quot;EventTime&quot;:&quot;2013-01-01T12:00:00&quot;,&quot;ConNote&quot;:&quot;EAN-125-1059&quot;},{ &quot;Event&quot;:&quot;DeliveryAttempt&quot;,&quot;EventTime&quot;:&quot;2013-01-02T07:45:00&quot;,&quot;ConNote&quot;:&quot;EAN-125-1059&quot;,&quot;DriverID&quot;:15,&quot;Latitude&quot;:30.9913064,&quot;Longitude&quot;:-83.3726575,&quot;Status&quot;:&quot;Delivered&quot;}],&quot;DeliveredWhen&quot;:&quot;2013-01-02T07:45:00&quot;,&quot;ReceivedBy&quot;:&quot;Airi Vassiljev&quot;}</td><td>2013-01-02 07:45:00.0000000</td><td>Airi Vassiljev</td><td>15</td><td>2013-01-02 07:00:00.0000000</td></tr><tr><td>10</td><td>191</td><td>1</td><td>10</td><td>3</td><td>1381</td><td>1001</td><td>20</td><td>14</td><td>2013-01-01</td><td>18030</td><td>0</td><td>NULL</td><td>NULL</td><td>Suite 169, 946 Reddy Street</td><td>NULL</td><td>2</td><td>0</td><td></td><td></td><td>{&quot;Events&quot;: [{ &quot;Event&quot;:&quot;Ready for collection&quot;,&quot;EventTime&quot;:&quot;2013-01-01T12:00:00&quot;,&quot;ConNote&quot;:&quot;EAN-125-1060&quot;},{ &quot;Event&quot;:&quot;DeliveryAttempt&quot;,&quot;EventTime&quot;:&quot;2013-01-02T07:50:00&quot;,&quot;ConNote&quot;:&quot;EAN-125-1060&quot;,&quot;DriverID&quot;:15,&quot;Latitude&quot;:33.1865071,&quot;Longitude&quot;:-84.2113095,&quot;Status&quot;:&quot;Delivered&quot;}],&quot;DeliveredWhen&quot;:&quot;2013-01-02T07:50:00&quot;,&quot;ReceivedBy&quot;:&quot;Ester Ahmadian&quot;}</td><td>2013-01-02 07:50:00.0000000</td><td>Ester Ahmadian</td><td>15</td><td>2013-01-02 07:00:00.0000000</td></tr></table>"
                    },
                    "metadata": {}
                },
                {
                    "output_type": "execute_result",
                    "execution_count": 2,
                    "data": {
                        "application/vnd.dataresource+json": {
                            "schema": {
                                "fields": [
                                    {
                                        "name": "InvoiceLineID"
                                    },
                                    {
                                        "name": "InvoiceID"
                                    },
                                    {
                                        "name": "StockItemID"
                                    },
                                    {
                                        "name": "Description"
                                    },
                                    {
                                        "name": "PackageTypeID"
                                    },
                                    {
                                        "name": "Quantity"
                                    },
                                    {
                                        "name": "UnitPrice"
                                    },
                                    {
                                        "name": "TaxRate"
                                    },
                                    {
                                        "name": "TaxAmount"
                                    },
                                    {
                                        "name": "LineProfit"
                                    },
                                    {
                                        "name": "ExtendedPrice"
                                    },
                                    {
                                        "name": "LastEditedBy"
                                    },
                                    {
                                        "name": "LastEditedWhen"
                                    }
                                ]
                            },
                            "data": [
                                {
                                    "0": "1",
                                    "1": "1",
                                    "2": "67",
                                    "3": "Ride on toy sedan car (Black) 1/12 scale",
                                    "4": "7",
                                    "5": "10",
                                    "6": "230.00",
                                    "7": "15.000",
                                    "8": "345.00",
                                    "9": "850.00",
                                    "10": "2645.00",
                                    "11": "7",
                                    "12": "2013-01-01 12:00:00.0000000"
                                }
                            ]
                        },
                        "text/html": "<table><tr><th>InvoiceLineID</th><th>InvoiceID</th><th>StockItemID</th><th>Description</th><th>PackageTypeID</th><th>Quantity</th><th>UnitPrice</th><th>TaxRate</th><th>TaxAmount</th><th>LineProfit</th><th>ExtendedPrice</th><th>LastEditedBy</th><th>LastEditedWhen</th></tr><tr><td>1</td><td>1</td><td>67</td><td>Ride on toy sedan car (Black) 1/12 scale</td><td>7</td><td>10</td><td>230.00</td><td>15.000</td><td>345.00</td><td>850.00</td><td>2645.00</td><td>7</td><td>2013-01-01 12:00:00.0000000</td></tr></table>"
                    },
                    "metadata": {}
                }
            ],
            "execution_count": 2
        },
        {
            "cell_type": "code",
            "source": [
                "\n",
                "-- whenever there is a change in InvoiceLines,\n",
                "-- update the LastEditedWhen in its corresponding Invoice\n",
                "use WideWorldImporters;\n",
                "\n",
                "create table Sales.tr_InvoiceLines_audit\n",
                "(\n",
                "    Id int identity primary key,\n",
                "    InvoiceLineId int null,\n",
                "    InvoiceId int null,\n",
                "    LastEditedWhen datetime null,\n",
                "    Comment varchar(10) null\n",
                ")\n",
                ";"
            ],
            "metadata": {
                "language": "sql",
                "azdata_cell_guid": "a0a8d81d-221c-4312-9fe8-09fa32188b5f"
            },
            "outputs": [
                {
                    "output_type": "display_data",
                    "data": {
                        "text/html": "Commands completed successfully."
                    },
                    "metadata": {}
                },
                {
                    "output_type": "display_data",
                    "data": {
                        "text/html": "Total execution time: 00:00:00.028"
                    },
                    "metadata": {}
                }
            ],
            "execution_count": 4
        },
        {
            "cell_type": "code",
            "source": [
                "IF OBJECT_ID ('Sales.tr_InvoiceLines_ins','TR') IS NOT NULL\n",
                "   DROP TRIGGER Sales.tr_InvoiceLines_ins;\n",
                "GO\n",
                "IF OBJECT_ID ('Sales.tr_InvoiceLines_del','TR') IS NOT NULL\n",
                "   DROP TRIGGER Sales.tr_InvoiceLines_del;\n",
                "GO\n",
                "\n",
                "CREATE TRIGGER Sales.tr_InvoiceLines_ins ON Sales.InvoiceLines  \n",
                "AFTER INSERT\n",
                "AS  \n",
                "BEGIN\n",
                "    IF (ROWCOUNT_BIG() = 0)\n",
                "    RETURN;\n",
                "    \n",
                "    update i\n",
                "    set LastEditedWhen=getutcdate()\n",
                "    from inserted il\n",
                "        join Sales.Invoices i on i.InvoiceId=il.InvoiceId;\n",
                "\n",
                "    insert Sales.tr_InvoiceLines_audit(\n",
                "        InvoiceLineId,\n",
                "        InvoiceId,\n",
                "        LastEditedWhen,\n",
                "        Comment)\n",
                "    select il.InvoiceLineId, il.InvoiceId, getutcdate() LastEditedWhen, 'insert'\n",
                "    from inserted il\n",
                "        join Sales.Invoices i on i.InvoiceId=il.InvoiceId;\n",
                "END\n",
                "GO\n",
                "\n",
                "CREATE TRIGGER Sales.tr_InvoiceLines_del ON Sales.InvoiceLines  \n",
                "AFTER DELETE, UPDATE\n",
                "AS  \n",
                "BEGIN\n",
                "    IF (ROWCOUNT_BIG() = 0)\n",
                "    RETURN;\n",
                "    \n",
                "    update i\n",
                "    set LastEditedWhen=getutcdate()\n",
                "    from deleted il\n",
                "        join Sales.Invoices i on i.InvoiceId=il.InvoiceId;\n",
                "\n",
                "    insert Sales.tr_InvoiceLines_audit(\n",
                "        InvoiceLineId,\n",
                "        InvoiceId,\n",
                "        LastEditedWhen,\n",
                "        Comment)\n",
                "    select il.InvoiceLineId, il.InvoiceId, getutcdate() LastEditedWhen, 'deleted'\n",
                "    from deleted il\n",
                "        join Sales.Invoices i on i.InvoiceId=il.InvoiceId;\n",
                "END"
            ],
            "metadata": {
                "azdata_cell_guid": "f2f091e4-05c6-4d11-a6b2-e0c110f28619",
                "language": "sql"
            },
            "outputs": [
                {
                    "output_type": "display_data",
                    "data": {
                        "text/html": "Commands completed successfully."
                    },
                    "metadata": {}
                },
                {
                    "output_type": "display_data",
                    "data": {
                        "text/html": "Commands completed successfully."
                    },
                    "metadata": {}
                },
                {
                    "output_type": "display_data",
                    "data": {
                        "text/html": "Commands completed successfully."
                    },
                    "metadata": {}
                },
                {
                    "output_type": "display_data",
                    "data": {
                        "text/html": "Commands completed successfully."
                    },
                    "metadata": {}
                },
                {
                    "output_type": "display_data",
                    "data": {
                        "text/html": "Total execution time: 00:00:00.033"
                    },
                    "metadata": {}
                }
            ],
            "execution_count": 33
        },
        {
            "cell_type": "code",
            "source": [
                "select * from Sales.tr_InvoiceLines_audit;\n",
                "\n",
                "select LastEditedWhen\n",
                "from Sales.Invoices\n",
                "where InvoiceId=1;\n",
                "\n",
                "\n",
                "select *\n",
                "from Sales.InvoiceLines\n",
                "where InvoiceId=1;"
            ],
            "metadata": {
                "azdata_cell_guid": "258bb63e-b200-43a6-968d-68df4cdad732",
                "language": "sql"
            },
            "outputs": [
                {
                    "output_type": "display_data",
                    "data": {
                        "text/html": "(0 rows affected)"
                    },
                    "metadata": {}
                },
                {
                    "output_type": "display_data",
                    "data": {
                        "text/html": "(1 row affected)"
                    },
                    "metadata": {}
                },
                {
                    "output_type": "display_data",
                    "data": {
                        "text/html": "(1 row affected)"
                    },
                    "metadata": {}
                },
                {
                    "output_type": "display_data",
                    "data": {
                        "text/html": "Total execution time: 00:00:00.029"
                    },
                    "metadata": {}
                },
                {
                    "output_type": "execute_result",
                    "execution_count": 16,
                    "data": {
                        "application/vnd.dataresource+json": {
                            "schema": {
                                "fields": [
                                    {
                                        "name": "Id"
                                    },
                                    {
                                        "name": "InvoiceLineId"
                                    },
                                    {
                                        "name": "InvoiceId"
                                    },
                                    {
                                        "name": "LastEditedWhen"
                                    },
                                    {
                                        "name": "Comment"
                                    }
                                ]
                            },
                            "data": []
                        },
                        "text/html": "<table><tr><th>Id</th><th>InvoiceLineId</th><th>InvoiceId</th><th>LastEditedWhen</th><th>Comment</th></tr></table>"
                    },
                    "metadata": {}
                },
                {
                    "output_type": "execute_result",
                    "execution_count": 16,
                    "data": {
                        "application/vnd.dataresource+json": {
                            "schema": {
                                "fields": [
                                    {
                                        "name": "LastEditedWhen"
                                    }
                                ]
                            },
                            "data": [
                                {
                                    "0": "2013-01-02 07:00:00.0000000"
                                }
                            ]
                        },
                        "text/html": "<table><tr><th>LastEditedWhen</th></tr><tr><td>2013-01-02 07:00:00.0000000</td></tr></table>"
                    },
                    "metadata": {}
                },
                {
                    "output_type": "execute_result",
                    "execution_count": 16,
                    "data": {
                        "application/vnd.dataresource+json": {
                            "schema": {
                                "fields": [
                                    {
                                        "name": "InvoiceLineID"
                                    },
                                    {
                                        "name": "InvoiceID"
                                    },
                                    {
                                        "name": "StockItemID"
                                    },
                                    {
                                        "name": "Description"
                                    },
                                    {
                                        "name": "PackageTypeID"
                                    },
                                    {
                                        "name": "Quantity"
                                    },
                                    {
                                        "name": "UnitPrice"
                                    },
                                    {
                                        "name": "TaxRate"
                                    },
                                    {
                                        "name": "TaxAmount"
                                    },
                                    {
                                        "name": "LineProfit"
                                    },
                                    {
                                        "name": "ExtendedPrice"
                                    },
                                    {
                                        "name": "LastEditedBy"
                                    },
                                    {
                                        "name": "LastEditedWhen"
                                    }
                                ]
                            },
                            "data": [
                                {
                                    "0": "1",
                                    "1": "1",
                                    "2": "67",
                                    "3": "Ride on toy sedan car (Black) 1/12 scale",
                                    "4": "7",
                                    "5": "10",
                                    "6": "230.00",
                                    "7": "15.000",
                                    "8": "345.00",
                                    "9": "850.00",
                                    "10": "2645.00",
                                    "11": "7",
                                    "12": "2013-01-01 12:00:00.0000000"
                                }
                            ]
                        },
                        "text/html": "<table><tr><th>InvoiceLineID</th><th>InvoiceID</th><th>StockItemID</th><th>Description</th><th>PackageTypeID</th><th>Quantity</th><th>UnitPrice</th><th>TaxRate</th><th>TaxAmount</th><th>LineProfit</th><th>ExtendedPrice</th><th>LastEditedBy</th><th>LastEditedWhen</th></tr><tr><td>1</td><td>1</td><td>67</td><td>Ride on toy sedan car (Black) 1/12 scale</td><td>7</td><td>10</td><td>230.00</td><td>15.000</td><td>345.00</td><td>850.00</td><td>2645.00</td><td>7</td><td>2013-01-01 12:00:00.0000000</td></tr></table>"
                    },
                    "metadata": {}
                }
            ],
            "execution_count": 16
        },
        {
            "cell_type": "code",
            "source": [
                "insert into Sales.InvoiceLines\n",
                "values ((select 1+max(InvoiceLineID) from Sales.InvoiceLines), 1, 68, 'bla', 7, 1, 200, 18, 36, 200, 200, 7, getutcdate()),\n",
                "    ((select 2+max(InvoiceLineID) from Sales.InvoiceLines), 2, 68, 'bla', 7, 1, 200, 18, 36, 200, 200, 7, getutcdate()),\n",
                "    ((select 3+max(InvoiceLineID) from Sales.InvoiceLines), 3, 68, 'bla', 7, 1, 200, 18, 36, 200, 200, 7, getutcdate());\n",
                ""
            ],
            "metadata": {
                "language": "sql",
                "azdata_cell_guid": "7fbe33d5-3d2b-44fe-9664-945f27da92c5"
            },
            "outputs": [
                {
                    "output_type": "display_data",
                    "data": {
                        "text/html": "(3 rows affected)"
                    },
                    "metadata": {}
                },
                {
                    "output_type": "display_data",
                    "data": {
                        "text/html": "(3 rows affected)"
                    },
                    "metadata": {}
                },
                {
                    "output_type": "display_data",
                    "data": {
                        "text/html": "(3 rows affected)"
                    },
                    "metadata": {}
                },
                {
                    "output_type": "display_data",
                    "data": {
                        "text/html": "Total execution time: 00:00:00.049"
                    },
                    "metadata": {}
                }
            ],
            "execution_count": 34
        },
        {
            "cell_type": "code",
            "source": [
                "update Sales.InvoiceLines\n",
                "set Description=Description+' '\n",
                "where InvoiceId=10;"
            ],
            "metadata": {
                "language": "sql",
                "azdata_cell_guid": "9e47e54e-9d69-4045-b4a2-725de308e3da"
            },
            "outputs": [
                {
                    "output_type": "display_data",
                    "data": {
                        "text/html": "(1 row affected)"
                    },
                    "metadata": {}
                },
                {
                    "output_type": "display_data",
                    "data": {
                        "text/html": "(2 rows affected)"
                    },
                    "metadata": {}
                },
                {
                    "output_type": "display_data",
                    "data": {
                        "text/html": "(2 rows affected)"
                    },
                    "metadata": {}
                },
                {
                    "output_type": "display_data",
                    "data": {
                        "text/html": "Total execution time: 00:00:00.031"
                    },
                    "metadata": {}
                }
            ],
            "execution_count": 35
        },
        {
            "cell_type": "code",
            "source": [
                "select top 10 LastEditedWhen, *\n",
                "from Sales.InvoiceLines\n",
                "order by INvoiceLineId desc;"
            ],
            "metadata": {
                "language": "sql",
                "azdata_cell_guid": "a5f46204-bfee-44b6-bb95-a373edb9e329",
                "tags": [
                    "hide_input"
                ]
            },
            "outputs": [
                {
                    "output_type": "display_data",
                    "data": {
                        "text/html": "(10 rows affected)"
                    },
                    "metadata": {}
                },
                {
                    "output_type": "display_data",
                    "data": {
                        "text/html": "Total execution time: 00:00:00.020"
                    },
                    "metadata": {}
                },
                {
                    "output_type": "execute_result",
                    "execution_count": 28,
                    "data": {
                        "application/vnd.dataresource+json": {
                            "schema": {
                                "fields": [
                                    {
                                        "name": "LastEditedWhen"
                                    },
                                    {
                                        "name": "InvoiceLineID"
                                    },
                                    {
                                        "name": "InvoiceID"
                                    },
                                    {
                                        "name": "StockItemID"
                                    },
                                    {
                                        "name": "Description"
                                    },
                                    {
                                        "name": "PackageTypeID"
                                    },
                                    {
                                        "name": "Quantity"
                                    },
                                    {
                                        "name": "UnitPrice"
                                    },
                                    {
                                        "name": "TaxRate"
                                    },
                                    {
                                        "name": "TaxAmount"
                                    },
                                    {
                                        "name": "LineProfit"
                                    },
                                    {
                                        "name": "ExtendedPrice"
                                    },
                                    {
                                        "name": "LastEditedBy"
                                    },
                                    {
                                        "name": "LastEditedWhen"
                                    }
                                ]
                            },
                            "data": [
                                {
                                    "0": "2023-01-10 10:09:15.9733333",
                                    "1": "228269",
                                    "2": "3",
                                    "3": "68",
                                    "4": "bla",
                                    "5": "7",
                                    "6": "1",
                                    "7": "200.00",
                                    "8": "18.000",
                                    "9": "36.00",
                                    "10": "200.00",
                                    "11": "200.00",
                                    "12": "7",
                                    "13": "2023-01-10 10:09:15.9733333"
                                },
                                {
                                    "0": "2023-01-10 10:09:15.9733333",
                                    "1": "228268",
                                    "2": "2",
                                    "3": "68",
                                    "4": "bla",
                                    "5": "7",
                                    "6": "1",
                                    "7": "200.00",
                                    "8": "18.000",
                                    "9": "36.00",
                                    "10": "200.00",
                                    "11": "200.00",
                                    "12": "7",
                                    "13": "2023-01-10 10:09:15.9733333"
                                },
                                {
                                    "0": "2023-01-10 10:09:15.9733333",
                                    "1": "228267",
                                    "2": "1",
                                    "3": "68",
                                    "4": "bla",
                                    "5": "7",
                                    "6": "1",
                                    "7": "200.00",
                                    "8": "18.000",
                                    "9": "36.00",
                                    "10": "200.00",
                                    "11": "200.00",
                                    "12": "7",
                                    "13": "2023-01-10 10:09:15.9733333"
                                },
                                {
                                    "0": "2023-01-10 10:07:15.7500000",
                                    "1": "228266",
                                    "2": "1",
                                    "3": "68",
                                    "4": "bla",
                                    "5": "7",
                                    "6": "1",
                                    "7": "200.00",
                                    "8": "18.000",
                                    "9": "36.00",
                                    "10": "200.00",
                                    "11": "200.00",
                                    "12": "7",
                                    "13": "2023-01-10 10:07:15.7500000"
                                },
                                {
                                    "0": "2016-05-31 12:00:00.0000000",
                                    "1": "228265",
                                    "2": "70510",
                                    "3": "130",
                                    "4": "Furry gorilla with big eyes slippers (Black) S",
                                    "5": "7",
                                    "6": "8",
                                    "7": "32.00",
                                    "8": "15.000",
                                    "9": "38.40",
                                    "10": "192.00",
                                    "11": "294.40",
                                    "12": "3",
                                    "13": "2016-05-31 12:00:00.0000000"
                                },
                                {
                                    "0": "2016-05-31 12:00:00.0000000",
                                    "1": "228264",
                                    "2": "70510",
                                    "3": "170",
                                    "4": "20 mm Anti static bubble wrap (Blue) 50m",
                                    "5": "7",
                                    "6": "40",
                                    "7": "102.00",
                                    "8": "15.000",
                                    "9": "612.00",
                                    "10": "1880.00",
                                    "11": "4692.00",
                                    "12": "3",
                                    "13": "2016-05-31 12:00:00.0000000"
                                },
                                {
                                    "0": "2016-05-31 12:00:00.0000000",
                                    "1": "228263",
                                    "2": "70510",
                                    "3": "102",
                                    "4": "Alien officer hoodie (Black) XL",
                                    "5": "7",
                                    "6": "9",
                                    "7": "35.00",
                                    "8": "15.000",
                                    "9": "47.25",
                                    "10": "162.00",
                                    "11": "362.25",
                                    "12": "3",
                                    "13": "2016-05-31 12:00:00.0000000"
                                },
                                {
                                    "0": "2016-05-31 12:00:00.0000000",
                                    "1": "228262",
                                    "2": "70510",
                                    "3": "2",
                                    "4": "USB rocket launcher (Gray)",
                                    "5": "7",
                                    "6": "1",
                                    "7": "25.00",
                                    "8": "15.000",
                                    "9": "3.75",
                                    "10": "15.50",
                                    "11": "28.75",
                                    "12": "3",
                                    "13": "2016-05-31 12:00:00.0000000"
                                },
                                {
                                    "0": "2016-05-31 12:00:00.0000000",
                                    "1": "228261",
                                    "2": "70510",
                                    "3": "59",
                                    "4": "RC toy sedan car with remote control (Red) 1/50 scale",
                                    "5": "7",
                                    "6": "6",
                                    "7": "25.00",
                                    "8": "15.000",
                                    "9": "22.50",
                                    "10": "75.00",
                                    "11": "172.50",
                                    "12": "3",
                                    "13": "2016-05-31 12:00:00.0000000"
                                },
                                {
                                    "0": "2016-05-31 12:00:00.0000000",
                                    "1": "228260",
                                    "2": "70509",
                                    "3": "86",
                                    "4": "\"The Gu\" red shirt XML tag t-shirt (White) 5XL",
                                    "5": "7",
                                    "6": "24",
                                    "7": "18.00",
                                    "8": "15.000",
                                    "9": "64.80",
                                    "10": "240.00",
                                    "11": "496.80",
                                    "12": "3",
                                    "13": "2016-05-31 12:00:00.0000000"
                                }
                            ]
                        },
                        "text/html": "<table><tr><th>LastEditedWhen</th><th>InvoiceLineID</th><th>InvoiceID</th><th>StockItemID</th><th>Description</th><th>PackageTypeID</th><th>Quantity</th><th>UnitPrice</th><th>TaxRate</th><th>TaxAmount</th><th>LineProfit</th><th>ExtendedPrice</th><th>LastEditedBy</th><th>LastEditedWhen</th></tr><tr><td>2023-01-10 10:09:15.9733333</td><td>228269</td><td>3</td><td>68</td><td>bla</td><td>7</td><td>1</td><td>200.00</td><td>18.000</td><td>36.00</td><td>200.00</td><td>200.00</td><td>7</td><td>2023-01-10 10:09:15.9733333</td></tr><tr><td>2023-01-10 10:09:15.9733333</td><td>228268</td><td>2</td><td>68</td><td>bla</td><td>7</td><td>1</td><td>200.00</td><td>18.000</td><td>36.00</td><td>200.00</td><td>200.00</td><td>7</td><td>2023-01-10 10:09:15.9733333</td></tr><tr><td>2023-01-10 10:09:15.9733333</td><td>228267</td><td>1</td><td>68</td><td>bla</td><td>7</td><td>1</td><td>200.00</td><td>18.000</td><td>36.00</td><td>200.00</td><td>200.00</td><td>7</td><td>2023-01-10 10:09:15.9733333</td></tr><tr><td>2023-01-10 10:07:15.7500000</td><td>228266</td><td>1</td><td>68</td><td>bla</td><td>7</td><td>1</td><td>200.00</td><td>18.000</td><td>36.00</td><td>200.00</td><td>200.00</td><td>7</td><td>2023-01-10 10:07:15.7500000</td></tr><tr><td>2016-05-31 12:00:00.0000000</td><td>228265</td><td>70510</td><td>130</td><td>Furry gorilla with big eyes slippers (Black) S</td><td>7</td><td>8</td><td>32.00</td><td>15.000</td><td>38.40</td><td>192.00</td><td>294.40</td><td>3</td><td>2016-05-31 12:00:00.0000000</td></tr><tr><td>2016-05-31 12:00:00.0000000</td><td>228264</td><td>70510</td><td>170</td><td>20 mm Anti static bubble wrap (Blue) 50m</td><td>7</td><td>40</td><td>102.00</td><td>15.000</td><td>612.00</td><td>1880.00</td><td>4692.00</td><td>3</td><td>2016-05-31 12:00:00.0000000</td></tr><tr><td>2016-05-31 12:00:00.0000000</td><td>228263</td><td>70510</td><td>102</td><td>Alien officer hoodie (Black) XL</td><td>7</td><td>9</td><td>35.00</td><td>15.000</td><td>47.25</td><td>162.00</td><td>362.25</td><td>3</td><td>2016-05-31 12:00:00.0000000</td></tr><tr><td>2016-05-31 12:00:00.0000000</td><td>228262</td><td>70510</td><td>2</td><td>USB rocket launcher (Gray)</td><td>7</td><td>1</td><td>25.00</td><td>15.000</td><td>3.75</td><td>15.50</td><td>28.75</td><td>3</td><td>2016-05-31 12:00:00.0000000</td></tr><tr><td>2016-05-31 12:00:00.0000000</td><td>228261</td><td>70510</td><td>59</td><td>RC toy sedan car with remote control (Red) 1/50 scale</td><td>7</td><td>6</td><td>25.00</td><td>15.000</td><td>22.50</td><td>75.00</td><td>172.50</td><td>3</td><td>2016-05-31 12:00:00.0000000</td></tr><tr><td>2016-05-31 12:00:00.0000000</td><td>228260</td><td>70509</td><td>86</td><td>&quot;The Gu&quot; red shirt XML tag t-shirt (White) 5XL</td><td>7</td><td>24</td><td>18.00</td><td>15.000</td><td>64.80</td><td>240.00</td><td>496.80</td><td>3</td><td>2016-05-31 12:00:00.0000000</td></tr></table>"
                    },
                    "metadata": {}
                }
            ],
            "execution_count": 28
        },
        {
            "cell_type": "code",
            "source": [
                "select * from Sales.tr_InvoiceLines_audit;\n",
                ""
            ],
            "metadata": {
                "language": "sql",
                "azdata_cell_guid": "666c1587-824d-42b8-97a6-8ced67bc4b91"
            },
            "outputs": [
                {
                    "output_type": "display_data",
                    "data": {
                        "text/html": "(9 rows affected)"
                    },
                    "metadata": {}
                },
                {
                    "output_type": "display_data",
                    "data": {
                        "text/html": "Total execution time: 00:00:00.017"
                    },
                    "metadata": {}
                },
                {
                    "output_type": "execute_result",
                    "execution_count": 36,
                    "data": {
                        "application/vnd.dataresource+json": {
                            "schema": {
                                "fields": [
                                    {
                                        "name": "Id"
                                    },
                                    {
                                        "name": "InvoiceLineId"
                                    },
                                    {
                                        "name": "InvoiceId"
                                    },
                                    {
                                        "name": "LastEditedWhen"
                                    },
                                    {
                                        "name": "Comment"
                                    }
                                ]
                            },
                            "data": [
                                {
                                    "0": "1",
                                    "1": "228266",
                                    "2": "1",
                                    "3": "2023-01-10 10:07:15.767",
                                    "4": "insert"
                                },
                                {
                                    "0": "2",
                                    "1": "228269",
                                    "2": "3",
                                    "3": "2023-01-10 10:09:15.990",
                                    "4": "insert"
                                },
                                {
                                    "0": "3",
                                    "1": "228268",
                                    "2": "2",
                                    "3": "2023-01-10 10:09:15.990",
                                    "4": "insert"
                                },
                                {
                                    "0": "4",
                                    "1": "228267",
                                    "2": "1",
                                    "3": "2023-01-10 10:09:15.990",
                                    "4": "insert"
                                },
                                {
                                    "0": "5",
                                    "1": "228272",
                                    "2": "3",
                                    "3": "2023-01-10 10:14:30.207",
                                    "4": "insert"
                                },
                                {
                                    "0": "6",
                                    "1": "228271",
                                    "2": "2",
                                    "3": "2023-01-10 10:14:30.207",
                                    "4": "insert"
                                },
                                {
                                    "0": "7",
                                    "1": "228270",
                                    "2": "1",
                                    "3": "2023-01-10 10:14:30.207",
                                    "4": "insert"
                                },
                                {
                                    "0": "8",
                                    "1": "24",
                                    "2": "10",
                                    "3": "2023-01-10 10:15:10.087",
                                    "4": "deleted"
                                },
                                {
                                    "0": "9",
                                    "1": "23",
                                    "2": "10",
                                    "3": "2023-01-10 10:15:10.087",
                                    "4": "deleted"
                                }
                            ]
                        },
                        "text/html": "<table><tr><th>Id</th><th>InvoiceLineId</th><th>InvoiceId</th><th>LastEditedWhen</th><th>Comment</th></tr><tr><td>1</td><td>228266</td><td>1</td><td>2023-01-10 10:07:15.767</td><td>insert</td></tr><tr><td>2</td><td>228269</td><td>3</td><td>2023-01-10 10:09:15.990</td><td>insert</td></tr><tr><td>3</td><td>228268</td><td>2</td><td>2023-01-10 10:09:15.990</td><td>insert</td></tr><tr><td>4</td><td>228267</td><td>1</td><td>2023-01-10 10:09:15.990</td><td>insert</td></tr><tr><td>5</td><td>228272</td><td>3</td><td>2023-01-10 10:14:30.207</td><td>insert</td></tr><tr><td>6</td><td>228271</td><td>2</td><td>2023-01-10 10:14:30.207</td><td>insert</td></tr><tr><td>7</td><td>228270</td><td>1</td><td>2023-01-10 10:14:30.207</td><td>insert</td></tr><tr><td>8</td><td>24</td><td>10</td><td>2023-01-10 10:15:10.087</td><td>deleted</td></tr><tr><td>9</td><td>23</td><td>10</td><td>2023-01-10 10:15:10.087</td><td>deleted</td></tr></table>"
                    },
                    "metadata": {}
                }
            ],
            "execution_count": 36
        },
        {
            "cell_type": "code",
            "source": [
                "use AdventureWorks2019;\n",
                "GO\n",
                "IF OBJECT_ID ('Purchasing.LowCredit','TR') IS NOT NULL\n",
                "   DROP TRIGGER Purchasing.LowCredit;\n",
                "GO\n",
                "-- This trigger prevents a row from being inserted in the Purchasing.PurchaseOrderHeader table\n",
                "-- when the credit rating of the specified vendor is set to 5 (below average).  \n",
                "\n",
                "\n",
                "CREATE TRIGGER Purchasing.LowCredit ON Purchasing.PurchaseOrderHeader  \n",
                "AFTER INSERT  \n",
                "AS  \n",
                "IF (ROWCOUNT_BIG() = 0)\n",
                "RETURN;\n",
                "IF EXISTS (SELECT 1  \n",
                "           FROM inserted AS i   \n",
                "           JOIN Purchasing.Vendor AS v   \n",
                "           ON v.BusinessEntityID = i.VendorID  \n",
                "           WHERE v.CreditRating = 5  \n",
                "          )  \n",
                "BEGIN  \n",
                "RAISERROR ('A vendor''s credit rating is too low to accept new purchase orders.', 16, 1);  \n",
                "ROLLBACK TRANSACTION;  \n",
                "RETURN   \n",
                "END;  \n",
                "GO  \n",
                "  \n",
                "-- This statement attempts to insert a row into the PurchaseOrderHeader table  \n",
                "-- for a vendor that has a below average credit rating.  \n",
                "-- The AFTER INSERT trigger is fired and the INSERT transaction is rolled back.  \n",
                "  \n",
                "INSERT INTO Purchasing.PurchaseOrderHeader (RevisionNumber, Status, EmployeeID,  \n",
                "VendorID, ShipMethodID, OrderDate, ShipDate, SubTotal, TaxAmt, Freight)  \n",
                "VALUES (  \n",
                "2  \n",
                ",3  \n",
                ",261  \n",
                ",1652  \n",
                ",4  \n",
                ",GETDATE()  \n",
                ",GETDATE()  \n",
                ",44594.55  \n",
                ",3567.564  \n",
                ",1114.8638 );  \n",
                "GO"
            ],
            "metadata": {
                "azdata_cell_guid": "b06103ae-0826-4eae-8c69-4c8aaa89f873",
                "language": "sql"
            },
            "outputs": [
                {
                    "output_type": "display_data",
                    "data": {
                        "text/html": "Commands completed successfully."
                    },
                    "metadata": {}
                },
                {
                    "output_type": "display_data",
                    "data": {
                        "text/html": "Commands completed successfully."
                    },
                    "metadata": {}
                },
                {
                    "output_type": "display_data",
                    "data": {
                        "text/html": "Commands completed successfully."
                    },
                    "metadata": {}
                },
                {
                    "output_type": "error",
                    "ename": "",
                    "evalue": "Msg 10347, Level 16, State 1, Procedure Employee, Line 1\nCommon Language Runtime(CLR) is not enabled on this instance.",
                    "traceback": []
                },
                {
                    "output_type": "error",
                    "ename": "",
                    "evalue": "Msg 474, Level 16, State 0, Line 32\nUnable to load the computed column definitions for table \"Employee\".",
                    "traceback": []
                },
                {
                    "output_type": "display_data",
                    "data": {
                        "text/html": "Total execution time: 00:00:00.045"
                    },
                    "metadata": {}
                }
            ],
            "execution_count": 1
        },
        {
            "cell_type": "code",
            "source": [
                "Use FinkiBank;\n",
                "\n",
                "\n",
                "alter table dbo.Account \n",
                "add\n",
                "    NumAccountDetails int null,\n",
                "    CurrentBalanceAuto decimal(18,2) null;"
            ],
            "metadata": {
                "azdata_cell_guid": "f1356413-eb83-461a-8d4e-4e5afb8b4824",
                "language": "sql"
            },
            "outputs": [
                {
                    "output_type": "display_data",
                    "data": {
                        "text/html": "Commands completed successfully."
                    },
                    "metadata": {}
                },
                {
                    "output_type": "display_data",
                    "data": {
                        "text/html": "Total execution time: 00:00:00.014"
                    },
                    "metadata": {}
                }
            ],
            "execution_count": 9
        },
        {
            "cell_type": "code",
            "source": [
                "select distinct PurposeCode, PurposeDescription from dbo.AccountDetails;\n",
                ""
            ],
            "metadata": {
                "azdata_cell_guid": "aed62a12-f481-40bd-b649-f9fcf714544c",
                "language": "sql"
            },
            "outputs": [
                {
                    "output_type": "display_data",
                    "data": {
                        "text/html": "(441 rows affected)"
                    },
                    "metadata": {}
                },
                {
                    "output_type": "display_data",
                    "data": {
                        "text/html": "Total execution time: 00:00:00.044"
                    },
                    "metadata": {}
                },
                {
                    "output_type": "execute_result",
                    "execution_count": 11,
                    "data": {
                        "application/vnd.dataresource+json": {
                            "schema": {
                                "fields": [
                                    {
                                        "name": "PurposeCode"
                                    },
                                    {
                                        "name": "PurposeDescription"
                                    },
                                    {
                                        "name": "Amount"
                                    }
                                ]
                            },
                            "data": [
                                {
                                    "0": "101",
                                    "1": "plata",
                                    "2": "40025.00"
                                },
                                {
                                    "0": "101",
                                    "1": "plata",
                                    "2": "40050.00"
                                },
                                {
                                    "0": "101",
                                    "1": "plata",
                                    "2": "40075.00"
                                },
                                {
                                    "0": "101",
                                    "1": "plata",
                                    "2": "40100.00"
                                },
                                {
                                    "0": "101",
                                    "1": "plata",
                                    "2": "40125.00"
                                },
                                {
                                    "0": "101",
                                    "1": "plata",
                                    "2": "40150.00"
                                },
                                {
                                    "0": "101",
                                    "1": "plata",
                                    "2": "40175.00"
                                },
                                {
                                    "0": "101",
                                    "1": "plata",
                                    "2": "40200.00"
                                },
                                {
                                    "0": "101",
                                    "1": "plata",
                                    "2": "40225.00"
                                },
                                {
                                    "0": "101",
                                    "1": "plata",
                                    "2": "40250.00"
                                },
                                {
                                    "0": "101",
                                    "1": "plata",
                                    "2": "40275.00"
                                },
                                {
                                    "0": "101",
                                    "1": "plata",
                                    "2": "40300.00"
                                },
                                {
                                    "0": "101",
                                    "1": "plata",
                                    "2": "40325.00"
                                },
                                {
                                    "0": "101",
                                    "1": "plata",
                                    "2": "40350.00"
                                },
                                {
                                    "0": "101",
                                    "1": "plata",
                                    "2": "40375.00"
                                },
                                {
                                    "0": "101",
                                    "1": "plata",
                                    "2": "40400.00"
                                },
                                {
                                    "0": "101",
                                    "1": "plata",
                                    "2": "40425.00"
                                },
                                {
                                    "0": "101",
                                    "1": "plata",
                                    "2": "40450.00"
                                },
                                {
                                    "0": "101",
                                    "1": "plata",
                                    "2": "40475.00"
                                },
                                {
                                    "0": "101",
                                    "1": "plata",
                                    "2": "40500.00"
                                },
                                {
                                    "0": "101",
                                    "1": "plata",
                                    "2": "40525.00"
                                },
                                {
                                    "0": "101",
                                    "1": "plata",
                                    "2": "40550.00"
                                },
                                {
                                    "0": "101",
                                    "1": "plata",
                                    "2": "40575.00"
                                },
                                {
                                    "0": "101",
                                    "1": "plata",
                                    "2": "40600.00"
                                },
                                {
                                    "0": "101",
                                    "1": "plata",
                                    "2": "40625.00"
                                },
                                {
                                    "0": "101",
                                    "1": "plata",
                                    "2": "40650.00"
                                },
                                {
                                    "0": "101",
                                    "1": "plata",
                                    "2": "40675.00"
                                },
                                {
                                    "0": "101",
                                    "1": "plata",
                                    "2": "40700.00"
                                },
                                {
                                    "0": "101",
                                    "1": "plata",
                                    "2": "40725.00"
                                },
                                {
                                    "0": "101",
                                    "1": "plata",
                                    "2": "40750.00"
                                },
                                {
                                    "0": "101",
                                    "1": "plata",
                                    "2": "40775.00"
                                },
                                {
                                    "0": "101",
                                    "1": "plata",
                                    "2": "40800.00"
                                },
                                {
                                    "0": "101",
                                    "1": "plata",
                                    "2": "40825.00"
                                },
                                {
                                    "0": "101",
                                    "1": "plata",
                                    "2": "40850.00"
                                },
                                {
                                    "0": "101",
                                    "1": "plata",
                                    "2": "40875.00"
                                },
                                {
                                    "0": "101",
                                    "1": "plata",
                                    "2": "40900.00"
                                },
                                {
                                    "0": "101",
                                    "1": "plata",
                                    "2": "40925.00"
                                },
                                {
                                    "0": "101",
                                    "1": "plata",
                                    "2": "40950.00"
                                },
                                {
                                    "0": "101",
                                    "1": "plata",
                                    "2": "40975.00"
                                },
                                {
                                    "0": "101",
                                    "1": "plata",
                                    "2": "41000.00"
                                },
                                {
                                    "0": "101",
                                    "1": "plata",
                                    "2": "41025.00"
                                },
                                {
                                    "0": "101",
                                    "1": "plata",
                                    "2": "41050.00"
                                },
                                {
                                    "0": "101",
                                    "1": "plata",
                                    "2": "41075.00"
                                },
                                {
                                    "0": "101",
                                    "1": "plata",
                                    "2": "41100.00"
                                },
                                {
                                    "0": "101",
                                    "1": "plata",
                                    "2": "41125.00"
                                },
                                {
                                    "0": "101",
                                    "1": "plata",
                                    "2": "41150.00"
                                },
                                {
                                    "0": "101",
                                    "1": "plata",
                                    "2": "41175.00"
                                },
                                {
                                    "0": "101",
                                    "1": "plata",
                                    "2": "41200.00"
                                },
                                {
                                    "0": "101",
                                    "1": "plata",
                                    "2": "41225.00"
                                },
                                {
                                    "0": "101",
                                    "1": "plata",
                                    "2": "41250.00"
                                },
                                {
                                    "0": "101",
                                    "1": "plata",
                                    "2": "41275.00"
                                },
                                {
                                    "0": "101",
                                    "1": "plata",
                                    "2": "41300.00"
                                },
                                {
                                    "0": "101",
                                    "1": "plata",
                                    "2": "41325.00"
                                },
                                {
                                    "0": "101",
                                    "1": "plata",
                                    "2": "41350.00"
                                },
                                {
                                    "0": "101",
                                    "1": "plata",
                                    "2": "41375.00"
                                },
                                {
                                    "0": "101",
                                    "1": "plata",
                                    "2": "41400.00"
                                },
                                {
                                    "0": "101",
                                    "1": "plata",
                                    "2": "41425.00"
                                },
                                {
                                    "0": "101",
                                    "1": "plata",
                                    "2": "41450.00"
                                },
                                {
                                    "0": "101",
                                    "1": "plata",
                                    "2": "41475.00"
                                },
                                {
                                    "0": "101",
                                    "1": "plata",
                                    "2": "41500.00"
                                },
                                {
                                    "0": "101",
                                    "1": "plata",
                                    "2": "41525.00"
                                },
                                {
                                    "0": "101",
                                    "1": "plata",
                                    "2": "41550.00"
                                },
                                {
                                    "0": "101",
                                    "1": "plata",
                                    "2": "41575.00"
                                },
                                {
                                    "0": "101",
                                    "1": "plata",
                                    "2": "41600.00"
                                },
                                {
                                    "0": "101",
                                    "1": "plata",
                                    "2": "41625.00"
                                },
                                {
                                    "0": "101",
                                    "1": "plata",
                                    "2": "41650.00"
                                },
                                {
                                    "0": "101",
                                    "1": "plata",
                                    "2": "41675.00"
                                },
                                {
                                    "0": "101",
                                    "1": "plata",
                                    "2": "41700.00"
                                },
                                {
                                    "0": "101",
                                    "1": "plata",
                                    "2": "41725.00"
                                },
                                {
                                    "0": "101",
                                    "1": "plata",
                                    "2": "41750.00"
                                },
                                {
                                    "0": "101",
                                    "1": "plata",
                                    "2": "41775.00"
                                },
                                {
                                    "0": "101",
                                    "1": "plata",
                                    "2": "41800.00"
                                },
                                {
                                    "0": "101",
                                    "1": "plata",
                                    "2": "41825.00"
                                },
                                {
                                    "0": "101",
                                    "1": "plata",
                                    "2": "41850.00"
                                },
                                {
                                    "0": "101",
                                    "1": "plata",
                                    "2": "41875.00"
                                },
                                {
                                    "0": "101",
                                    "1": "plata",
                                    "2": "41900.00"
                                },
                                {
                                    "0": "101",
                                    "1": "plata",
                                    "2": "41925.00"
                                },
                                {
                                    "0": "101",
                                    "1": "plata",
                                    "2": "41950.00"
                                },
                                {
                                    "0": "101",
                                    "1": "plata",
                                    "2": "41975.00"
                                },
                                {
                                    "0": "101",
                                    "1": "plata",
                                    "2": "42000.00"
                                },
                                {
                                    "0": "101",
                                    "1": "plata",
                                    "2": "42025.00"
                                },
                                {
                                    "0": "101",
                                    "1": "plata",
                                    "2": "42050.00"
                                },
                                {
                                    "0": "101",
                                    "1": "plata",
                                    "2": "42075.00"
                                },
                                {
                                    "0": "101",
                                    "1": "plata",
                                    "2": "42100.00"
                                },
                                {
                                    "0": "101",
                                    "1": "plata",
                                    "2": "42125.00"
                                },
                                {
                                    "0": "101",
                                    "1": "plata",
                                    "2": "42150.00"
                                },
                                {
                                    "0": "101",
                                    "1": "plata",
                                    "2": "42175.00"
                                },
                                {
                                    "0": "101",
                                    "1": "plata",
                                    "2": "42200.00"
                                },
                                {
                                    "0": "101",
                                    "1": "plata",
                                    "2": "42225.00"
                                },
                                {
                                    "0": "101",
                                    "1": "plata",
                                    "2": "42250.00"
                                },
                                {
                                    "0": "101",
                                    "1": "plata",
                                    "2": "42275.00"
                                },
                                {
                                    "0": "101",
                                    "1": "plata",
                                    "2": "42300.00"
                                },
                                {
                                    "0": "101",
                                    "1": "plata",
                                    "2": "42325.00"
                                },
                                {
                                    "0": "101",
                                    "1": "plata",
                                    "2": "42350.00"
                                },
                                {
                                    "0": "101",
                                    "1": "plata",
                                    "2": "42375.00"
                                },
                                {
                                    "0": "101",
                                    "1": "plata",
                                    "2": "42400.00"
                                },
                                {
                                    "0": "101",
                                    "1": "plata",
                                    "2": "42425.00"
                                },
                                {
                                    "0": "101",
                                    "1": "plata",
                                    "2": "42450.00"
                                },
                                {
                                    "0": "101",
                                    "1": "plata",
                                    "2": "42475.00"
                                },
                                {
                                    "0": "101",
                                    "1": "plata",
                                    "2": "42500.00"
                                },
                                {
                                    "0": "101",
                                    "1": "plata",
                                    "2": "42525.00"
                                },
                                {
                                    "0": "101",
                                    "1": "plata",
                                    "2": "42550.00"
                                },
                                {
                                    "0": "101",
                                    "1": "plata",
                                    "2": "42575.00"
                                },
                                {
                                    "0": "101",
                                    "1": "plata",
                                    "2": "42600.00"
                                },
                                {
                                    "0": "101",
                                    "1": "plata",
                                    "2": "42625.00"
                                },
                                {
                                    "0": "101",
                                    "1": "plata",
                                    "2": "42650.00"
                                },
                                {
                                    "0": "101",
                                    "1": "plata",
                                    "2": "42675.00"
                                },
                                {
                                    "0": "101",
                                    "1": "plata",
                                    "2": "42700.00"
                                },
                                {
                                    "0": "101",
                                    "1": "plata",
                                    "2": "42725.00"
                                },
                                {
                                    "0": "101",
                                    "1": "plata",
                                    "2": "42750.00"
                                },
                                {
                                    "0": "101",
                                    "1": "plata",
                                    "2": "42775.00"
                                },
                                {
                                    "0": "101",
                                    "1": "plata",
                                    "2": "42800.00"
                                },
                                {
                                    "0": "101",
                                    "1": "plata",
                                    "2": "42825.00"
                                },
                                {
                                    "0": "101",
                                    "1": "plata",
                                    "2": "42850.00"
                                },
                                {
                                    "0": "101",
                                    "1": "plata",
                                    "2": "42875.00"
                                },
                                {
                                    "0": "101",
                                    "1": "plata",
                                    "2": "42900.00"
                                },
                                {
                                    "0": "101",
                                    "1": "plata",
                                    "2": "42925.00"
                                },
                                {
                                    "0": "101",
                                    "1": "plata",
                                    "2": "42950.00"
                                },
                                {
                                    "0": "101",
                                    "1": "plata",
                                    "2": "42975.00"
                                },
                                {
                                    "0": "101",
                                    "1": "plata",
                                    "2": "43000.00"
                                },
                                {
                                    "0": "101",
                                    "1": "plata",
                                    "2": "43025.00"
                                },
                                {
                                    "0": "101",
                                    "1": "plata",
                                    "2": "43050.00"
                                },
                                {
                                    "0": "101",
                                    "1": "plata",
                                    "2": "43075.00"
                                },
                                {
                                    "0": "101",
                                    "1": "plata",
                                    "2": "43100.00"
                                },
                                {
                                    "0": "101",
                                    "1": "plata",
                                    "2": "43125.00"
                                },
                                {
                                    "0": "101",
                                    "1": "plata",
                                    "2": "43150.00"
                                },
                                {
                                    "0": "101",
                                    "1": "plata",
                                    "2": "43175.00"
                                },
                                {
                                    "0": "101",
                                    "1": "plata",
                                    "2": "43200.00"
                                },
                                {
                                    "0": "101",
                                    "1": "plata",
                                    "2": "43225.00"
                                },
                                {
                                    "0": "101",
                                    "1": "plata",
                                    "2": "43250.00"
                                },
                                {
                                    "0": "101",
                                    "1": "plata",
                                    "2": "43275.00"
                                },
                                {
                                    "0": "101",
                                    "1": "plata",
                                    "2": "43300.00"
                                },
                                {
                                    "0": "101",
                                    "1": "plata",
                                    "2": "43325.00"
                                },
                                {
                                    "0": "101",
                                    "1": "plata",
                                    "2": "43350.00"
                                },
                                {
                                    "0": "101",
                                    "1": "plata",
                                    "2": "43375.00"
                                },
                                {
                                    "0": "101",
                                    "1": "plata",
                                    "2": "43400.00"
                                },
                                {
                                    "0": "101",
                                    "1": "plata",
                                    "2": "43425.00"
                                },
                                {
                                    "0": "101",
                                    "1": "plata",
                                    "2": "43450.00"
                                },
                                {
                                    "0": "101",
                                    "1": "plata",
                                    "2": "43475.00"
                                },
                                {
                                    "0": "101",
                                    "1": "plata",
                                    "2": "43500.00"
                                },
                                {
                                    "0": "101",
                                    "1": "plata",
                                    "2": "43525.00"
                                },
                                {
                                    "0": "101",
                                    "1": "plata",
                                    "2": "43550.00"
                                },
                                {
                                    "0": "101",
                                    "1": "plata",
                                    "2": "43575.00"
                                },
                                {
                                    "0": "101",
                                    "1": "plata",
                                    "2": "43600.00"
                                },
                                {
                                    "0": "101",
                                    "1": "plata",
                                    "2": "43625.00"
                                },
                                {
                                    "0": "101",
                                    "1": "plata",
                                    "2": "43650.00"
                                },
                                {
                                    "0": "101",
                                    "1": "plata",
                                    "2": "43675.00"
                                },
                                {
                                    "0": "101",
                                    "1": "plata",
                                    "2": "43700.00"
                                },
                                {
                                    "0": "101",
                                    "1": "plata",
                                    "2": "43725.00"
                                },
                                {
                                    "0": "101",
                                    "1": "plata",
                                    "2": "43750.00"
                                },
                                {
                                    "0": "101",
                                    "1": "plata",
                                    "2": "43775.00"
                                },
                                {
                                    "0": "101",
                                    "1": "plata",
                                    "2": "43800.00"
                                },
                                {
                                    "0": "101",
                                    "1": "plata",
                                    "2": "43825.00"
                                },
                                {
                                    "0": "101",
                                    "1": "plata",
                                    "2": "43850.00"
                                },
                                {
                                    "0": "101",
                                    "1": "plata",
                                    "2": "43875.00"
                                },
                                {
                                    "0": "101",
                                    "1": "plata",
                                    "2": "43900.00"
                                },
                                {
                                    "0": "101",
                                    "1": "plata",
                                    "2": "43925.00"
                                },
                                {
                                    "0": "101",
                                    "1": "plata",
                                    "2": "43950.00"
                                },
                                {
                                    "0": "101",
                                    "1": "plata",
                                    "2": "43975.00"
                                },
                                {
                                    "0": "101",
                                    "1": "plata",
                                    "2": "44000.00"
                                },
                                {
                                    "0": "101",
                                    "1": "plata",
                                    "2": "44025.00"
                                },
                                {
                                    "0": "101",
                                    "1": "plata",
                                    "2": "44050.00"
                                },
                                {
                                    "0": "101",
                                    "1": "plata",
                                    "2": "44075.00"
                                },
                                {
                                    "0": "101",
                                    "1": "plata",
                                    "2": "44100.00"
                                },
                                {
                                    "0": "101",
                                    "1": "plata",
                                    "2": "44125.00"
                                },
                                {
                                    "0": "101",
                                    "1": "plata",
                                    "2": "44150.00"
                                },
                                {
                                    "0": "101",
                                    "1": "plata",
                                    "2": "44175.00"
                                },
                                {
                                    "0": "101",
                                    "1": "plata",
                                    "2": "44200.00"
                                },
                                {
                                    "0": "101",
                                    "1": "plata",
                                    "2": "44225.00"
                                },
                                {
                                    "0": "101",
                                    "1": "plata",
                                    "2": "44250.00"
                                },
                                {
                                    "0": "101",
                                    "1": "plata",
                                    "2": "44275.00"
                                },
                                {
                                    "0": "101",
                                    "1": "plata",
                                    "2": "44300.00"
                                },
                                {
                                    "0": "101",
                                    "1": "plata",
                                    "2": "44325.00"
                                },
                                {
                                    "0": "101",
                                    "1": "plata",
                                    "2": "44350.00"
                                },
                                {
                                    "0": "101",
                                    "1": "plata",
                                    "2": "44375.00"
                                },
                                {
                                    "0": "101",
                                    "1": "plata",
                                    "2": "44400.00"
                                },
                                {
                                    "0": "101",
                                    "1": "plata",
                                    "2": "44425.00"
                                },
                                {
                                    "0": "101",
                                    "1": "plata",
                                    "2": "44450.00"
                                },
                                {
                                    "0": "101",
                                    "1": "plata",
                                    "2": "44475.00"
                                },
                                {
                                    "0": "101",
                                    "1": "plata",
                                    "2": "44500.00"
                                },
                                {
                                    "0": "101",
                                    "1": "plata",
                                    "2": "44525.00"
                                },
                                {
                                    "0": "101",
                                    "1": "plata",
                                    "2": "44550.00"
                                },
                                {
                                    "0": "101",
                                    "1": "plata",
                                    "2": "44575.00"
                                },
                                {
                                    "0": "101",
                                    "1": "plata",
                                    "2": "44600.00"
                                },
                                {
                                    "0": "101",
                                    "1": "plata",
                                    "2": "44625.00"
                                },
                                {
                                    "0": "101",
                                    "1": "plata",
                                    "2": "44650.00"
                                },
                                {
                                    "0": "101",
                                    "1": "plata",
                                    "2": "44675.00"
                                },
                                {
                                    "0": "101",
                                    "1": "plata",
                                    "2": "44700.00"
                                },
                                {
                                    "0": "101",
                                    "1": "plata",
                                    "2": "44725.00"
                                },
                                {
                                    "0": "101",
                                    "1": "plata",
                                    "2": "44750.00"
                                },
                                {
                                    "0": "101",
                                    "1": "plata",
                                    "2": "44775.00"
                                },
                                {
                                    "0": "101",
                                    "1": "plata",
                                    "2": "44800.00"
                                },
                                {
                                    "0": "101",
                                    "1": "plata",
                                    "2": "44825.00"
                                },
                                {
                                    "0": "101",
                                    "1": "plata",
                                    "2": "44850.00"
                                },
                                {
                                    "0": "101",
                                    "1": "plata",
                                    "2": "44875.00"
                                },
                                {
                                    "0": "101",
                                    "1": "plata",
                                    "2": "44900.00"
                                },
                                {
                                    "0": "101",
                                    "1": "plata",
                                    "2": "44925.00"
                                },
                                {
                                    "0": "101",
                                    "1": "plata",
                                    "2": "44950.00"
                                },
                                {
                                    "0": "101",
                                    "1": "plata",
                                    "2": "44975.00"
                                },
                                {
                                    "0": "101",
                                    "1": "plata",
                                    "2": "45000.00"
                                },
                                {
                                    "0": "101",
                                    "1": "plata",
                                    "2": "45025.00"
                                },
                                {
                                    "0": "101",
                                    "1": "plata",
                                    "2": "45050.00"
                                },
                                {
                                    "0": "101",
                                    "1": "plata",
                                    "2": "45075.00"
                                },
                                {
                                    "0": "101",
                                    "1": "plata",
                                    "2": "45100.00"
                                },
                                {
                                    "0": "101",
                                    "1": "plata",
                                    "2": "45125.00"
                                },
                                {
                                    "0": "101",
                                    "1": "plata",
                                    "2": "45150.00"
                                },
                                {
                                    "0": "101",
                                    "1": "plata",
                                    "2": "45175.00"
                                },
                                {
                                    "0": "101",
                                    "1": "plata",
                                    "2": "45200.00"
                                },
                                {
                                    "0": "101",
                                    "1": "plata",
                                    "2": "45225.00"
                                },
                                {
                                    "0": "101",
                                    "1": "plata",
                                    "2": "45250.00"
                                },
                                {
                                    "0": "101",
                                    "1": "plata",
                                    "2": "45275.00"
                                },
                                {
                                    "0": "101",
                                    "1": "plata",
                                    "2": "45300.00"
                                },
                                {
                                    "0": "101",
                                    "1": "plata",
                                    "2": "45325.00"
                                },
                                {
                                    "0": "101",
                                    "1": "plata",
                                    "2": "45350.00"
                                },
                                {
                                    "0": "101",
                                    "1": "plata",
                                    "2": "45375.00"
                                },
                                {
                                    "0": "101",
                                    "1": "plata",
                                    "2": "45400.00"
                                },
                                {
                                    "0": "101",
                                    "1": "plata",
                                    "2": "45425.00"
                                },
                                {
                                    "0": "101",
                                    "1": "plata",
                                    "2": "45450.00"
                                },
                                {
                                    "0": "101",
                                    "1": "plata",
                                    "2": "45475.00"
                                },
                                {
                                    "0": "101",
                                    "1": "plata",
                                    "2": "45500.00"
                                },
                                {
                                    "0": "101",
                                    "1": "plata",
                                    "2": "45525.00"
                                },
                                {
                                    "0": "101",
                                    "1": "plata",
                                    "2": "45550.00"
                                },
                                {
                                    "0": "101",
                                    "1": "plata",
                                    "2": "45575.00"
                                },
                                {
                                    "0": "101",
                                    "1": "plata",
                                    "2": "45600.00"
                                },
                                {
                                    "0": "101",
                                    "1": "plata",
                                    "2": "45625.00"
                                },
                                {
                                    "0": "101",
                                    "1": "plata",
                                    "2": "45650.00"
                                },
                                {
                                    "0": "101",
                                    "1": "plata",
                                    "2": "45675.00"
                                },
                                {
                                    "0": "101",
                                    "1": "plata",
                                    "2": "45700.00"
                                },
                                {
                                    "0": "101",
                                    "1": "plata",
                                    "2": "45725.00"
                                },
                                {
                                    "0": "101",
                                    "1": "plata",
                                    "2": "45750.00"
                                },
                                {
                                    "0": "101",
                                    "1": "plata",
                                    "2": "45775.00"
                                },
                                {
                                    "0": "101",
                                    "1": "plata",
                                    "2": "45800.00"
                                },
                                {
                                    "0": "101",
                                    "1": "plata",
                                    "2": "45825.00"
                                },
                                {
                                    "0": "101",
                                    "1": "plata",
                                    "2": "45850.00"
                                },
                                {
                                    "0": "101",
                                    "1": "plata",
                                    "2": "45875.00"
                                },
                                {
                                    "0": "101",
                                    "1": "plata",
                                    "2": "45900.00"
                                },
                                {
                                    "0": "101",
                                    "1": "plata",
                                    "2": "45925.00"
                                },
                                {
                                    "0": "101",
                                    "1": "plata",
                                    "2": "45950.00"
                                },
                                {
                                    "0": "101",
                                    "1": "plata",
                                    "2": "45975.00"
                                },
                                {
                                    "0": "101",
                                    "1": "plata",
                                    "2": "46000.00"
                                },
                                {
                                    "0": "101",
                                    "1": "plata",
                                    "2": "46025.00"
                                },
                                {
                                    "0": "101",
                                    "1": "plata",
                                    "2": "46050.00"
                                },
                                {
                                    "0": "101",
                                    "1": "plata",
                                    "2": "46075.00"
                                },
                                {
                                    "0": "101",
                                    "1": "plata",
                                    "2": "46100.00"
                                },
                                {
                                    "0": "101",
                                    "1": "plata",
                                    "2": "46125.00"
                                },
                                {
                                    "0": "101",
                                    "1": "plata",
                                    "2": "46150.00"
                                },
                                {
                                    "0": "101",
                                    "1": "plata",
                                    "2": "46175.00"
                                },
                                {
                                    "0": "101",
                                    "1": "plata",
                                    "2": "46200.00"
                                },
                                {
                                    "0": "101",
                                    "1": "plata",
                                    "2": "46225.00"
                                },
                                {
                                    "0": "101",
                                    "1": "plata",
                                    "2": "46250.00"
                                },
                                {
                                    "0": "101",
                                    "1": "plata",
                                    "2": "46275.00"
                                },
                                {
                                    "0": "101",
                                    "1": "plata",
                                    "2": "46300.00"
                                },
                                {
                                    "0": "101",
                                    "1": "plata",
                                    "2": "46325.00"
                                },
                                {
                                    "0": "101",
                                    "1": "plata",
                                    "2": "46350.00"
                                },
                                {
                                    "0": "101",
                                    "1": "plata",
                                    "2": "46375.00"
                                },
                                {
                                    "0": "101",
                                    "1": "plata",
                                    "2": "46400.00"
                                },
                                {
                                    "0": "101",
                                    "1": "plata",
                                    "2": "46425.00"
                                },
                                {
                                    "0": "101",
                                    "1": "plata",
                                    "2": "46450.00"
                                },
                                {
                                    "0": "101",
                                    "1": "plata",
                                    "2": "46475.00"
                                },
                                {
                                    "0": "101",
                                    "1": "plata",
                                    "2": "46500.00"
                                },
                                {
                                    "0": "101",
                                    "1": "plata",
                                    "2": "46525.00"
                                },
                                {
                                    "0": "101",
                                    "1": "plata",
                                    "2": "46550.00"
                                },
                                {
                                    "0": "101",
                                    "1": "plata",
                                    "2": "46575.00"
                                },
                                {
                                    "0": "101",
                                    "1": "plata",
                                    "2": "46600.00"
                                },
                                {
                                    "0": "101",
                                    "1": "plata",
                                    "2": "46625.00"
                                },
                                {
                                    "0": "101",
                                    "1": "plata",
                                    "2": "46650.00"
                                },
                                {
                                    "0": "101",
                                    "1": "plata",
                                    "2": "46675.00"
                                },
                                {
                                    "0": "101",
                                    "1": "plata",
                                    "2": "46700.00"
                                },
                                {
                                    "0": "101",
                                    "1": "plata",
                                    "2": "46725.00"
                                },
                                {
                                    "0": "101",
                                    "1": "plata",
                                    "2": "46750.00"
                                },
                                {
                                    "0": "101",
                                    "1": "plata",
                                    "2": "46775.00"
                                },
                                {
                                    "0": "101",
                                    "1": "plata",
                                    "2": "46800.00"
                                },
                                {
                                    "0": "101",
                                    "1": "plata",
                                    "2": "46825.00"
                                },
                                {
                                    "0": "101",
                                    "1": "plata",
                                    "2": "46850.00"
                                },
                                {
                                    "0": "101",
                                    "1": "plata",
                                    "2": "46875.00"
                                },
                                {
                                    "0": "101",
                                    "1": "plata",
                                    "2": "46900.00"
                                },
                                {
                                    "0": "101",
                                    "1": "plata",
                                    "2": "46925.00"
                                },
                                {
                                    "0": "101",
                                    "1": "plata",
                                    "2": "46950.00"
                                },
                                {
                                    "0": "101",
                                    "1": "plata",
                                    "2": "46975.00"
                                },
                                {
                                    "0": "101",
                                    "1": "plata",
                                    "2": "47000.00"
                                },
                                {
                                    "0": "101",
                                    "1": "plata",
                                    "2": "47025.00"
                                },
                                {
                                    "0": "101",
                                    "1": "plata",
                                    "2": "47050.00"
                                },
                                {
                                    "0": "101",
                                    "1": "plata",
                                    "2": "47075.00"
                                },
                                {
                                    "0": "101",
                                    "1": "plata",
                                    "2": "47100.00"
                                },
                                {
                                    "0": "101",
                                    "1": "plata",
                                    "2": "47125.00"
                                },
                                {
                                    "0": "101",
                                    "1": "plata",
                                    "2": "47150.00"
                                },
                                {
                                    "0": "101",
                                    "1": "plata",
                                    "2": "47175.00"
                                },
                                {
                                    "0": "101",
                                    "1": "plata",
                                    "2": "47200.00"
                                },
                                {
                                    "0": "101",
                                    "1": "plata",
                                    "2": "47225.00"
                                },
                                {
                                    "0": "101",
                                    "1": "plata",
                                    "2": "47250.00"
                                },
                                {
                                    "0": "101",
                                    "1": "plata",
                                    "2": "47275.00"
                                },
                                {
                                    "0": "101",
                                    "1": "plata",
                                    "2": "47300.00"
                                },
                                {
                                    "0": "101",
                                    "1": "plata",
                                    "2": "47325.00"
                                },
                                {
                                    "0": "101",
                                    "1": "plata",
                                    "2": "47350.00"
                                },
                                {
                                    "0": "101",
                                    "1": "plata",
                                    "2": "47375.00"
                                },
                                {
                                    "0": "101",
                                    "1": "plata",
                                    "2": "47400.00"
                                },
                                {
                                    "0": "101",
                                    "1": "plata",
                                    "2": "47425.00"
                                },
                                {
                                    "0": "101",
                                    "1": "plata",
                                    "2": "47450.00"
                                },
                                {
                                    "0": "101",
                                    "1": "plata",
                                    "2": "47475.00"
                                },
                                {
                                    "0": "101",
                                    "1": "plata",
                                    "2": "47500.00"
                                },
                                {
                                    "0": "930",
                                    "1": "isplata",
                                    "2": "-1934.00"
                                },
                                {
                                    "0": "930",
                                    "1": "isplata",
                                    "2": "-1921.00"
                                },
                                {
                                    "0": "930",
                                    "1": "isplata",
                                    "2": "-1908.00"
                                },
                                {
                                    "0": "930",
                                    "1": "isplata",
                                    "2": "-1895.00"
                                },
                                {
                                    "0": "930",
                                    "1": "isplata",
                                    "2": "-1882.00"
                                },
                                {
                                    "0": "930",
                                    "1": "isplata",
                                    "2": "-1869.00"
                                },
                                {
                                    "0": "930",
                                    "1": "isplata",
                                    "2": "-1856.00"
                                },
                                {
                                    "0": "930",
                                    "1": "isplata",
                                    "2": "-1843.00"
                                },
                                {
                                    "0": "930",
                                    "1": "isplata",
                                    "2": "-1830.00"
                                },
                                {
                                    "0": "930",
                                    "1": "isplata",
                                    "2": "-1817.00"
                                },
                                {
                                    "0": "930",
                                    "1": "isplata",
                                    "2": "-1804.00"
                                },
                                {
                                    "0": "930",
                                    "1": "isplata",
                                    "2": "-1791.00"
                                },
                                {
                                    "0": "930",
                                    "1": "isplata",
                                    "2": "-1778.00"
                                },
                                {
                                    "0": "930",
                                    "1": "isplata",
                                    "2": "-1765.00"
                                },
                                {
                                    "0": "930",
                                    "1": "isplata",
                                    "2": "-1752.00"
                                },
                                {
                                    "0": "930",
                                    "1": "isplata",
                                    "2": "-1739.00"
                                },
                                {
                                    "0": "930",
                                    "1": "isplata",
                                    "2": "-1726.00"
                                },
                                {
                                    "0": "930",
                                    "1": "isplata",
                                    "2": "-1713.00"
                                },
                                {
                                    "0": "930",
                                    "1": "isplata",
                                    "2": "-1700.00"
                                },
                                {
                                    "0": "930",
                                    "1": "isplata",
                                    "2": "-1687.00"
                                },
                                {
                                    "0": "930",
                                    "1": "isplata",
                                    "2": "-1674.00"
                                },
                                {
                                    "0": "930",
                                    "1": "isplata",
                                    "2": "-1661.00"
                                },
                                {
                                    "0": "930",
                                    "1": "isplata",
                                    "2": "-1648.00"
                                },
                                {
                                    "0": "930",
                                    "1": "isplata",
                                    "2": "-1635.00"
                                },
                                {
                                    "0": "930",
                                    "1": "isplata",
                                    "2": "-1622.00"
                                },
                                {
                                    "0": "930",
                                    "1": "isplata",
                                    "2": "-1609.00"
                                },
                                {
                                    "0": "930",
                                    "1": "isplata",
                                    "2": "-1596.00"
                                },
                                {
                                    "0": "930",
                                    "1": "isplata",
                                    "2": "-1583.00"
                                },
                                {
                                    "0": "930",
                                    "1": "isplata",
                                    "2": "-1570.00"
                                },
                                {
                                    "0": "930",
                                    "1": "isplata",
                                    "2": "-1557.00"
                                },
                                {
                                    "0": "930",
                                    "1": "isplata",
                                    "2": "-1544.00"
                                },
                                {
                                    "0": "930",
                                    "1": "isplata",
                                    "2": "-1531.00"
                                },
                                {
                                    "0": "930",
                                    "1": "isplata",
                                    "2": "-1518.00"
                                },
                                {
                                    "0": "930",
                                    "1": "isplata",
                                    "2": "-1505.00"
                                },
                                {
                                    "0": "930",
                                    "1": "isplata",
                                    "2": "-1492.00"
                                },
                                {
                                    "0": "930",
                                    "1": "isplata",
                                    "2": "-1479.00"
                                },
                                {
                                    "0": "930",
                                    "1": "isplata",
                                    "2": "-1466.00"
                                },
                                {
                                    "0": "930",
                                    "1": "isplata",
                                    "2": "-1453.00"
                                },
                                {
                                    "0": "930",
                                    "1": "isplata",
                                    "2": "-1440.00"
                                },
                                {
                                    "0": "930",
                                    "1": "isplata",
                                    "2": "-1427.00"
                                },
                                {
                                    "0": "930",
                                    "1": "isplata",
                                    "2": "-1414.00"
                                },
                                {
                                    "0": "930",
                                    "1": "isplata",
                                    "2": "-1401.00"
                                },
                                {
                                    "0": "930",
                                    "1": "isplata",
                                    "2": "-1388.00"
                                },
                                {
                                    "0": "930",
                                    "1": "isplata",
                                    "2": "-1375.00"
                                },
                                {
                                    "0": "930",
                                    "1": "isplata",
                                    "2": "-1362.00"
                                },
                                {
                                    "0": "930",
                                    "1": "isplata",
                                    "2": "-1349.00"
                                },
                                {
                                    "0": "930",
                                    "1": "isplata",
                                    "2": "-1336.00"
                                },
                                {
                                    "0": "930",
                                    "1": "isplata",
                                    "2": "-1323.00"
                                },
                                {
                                    "0": "930",
                                    "1": "isplata",
                                    "2": "-1310.00"
                                },
                                {
                                    "0": "930",
                                    "1": "isplata",
                                    "2": "-1297.00"
                                },
                                {
                                    "0": "930",
                                    "1": "isplata",
                                    "2": "-1284.00"
                                },
                                {
                                    "0": "930",
                                    "1": "isplata",
                                    "2": "-1271.00"
                                },
                                {
                                    "0": "930",
                                    "1": "isplata",
                                    "2": "-1258.00"
                                },
                                {
                                    "0": "930",
                                    "1": "isplata",
                                    "2": "-1245.00"
                                },
                                {
                                    "0": "930",
                                    "1": "isplata",
                                    "2": "-1232.00"
                                },
                                {
                                    "0": "930",
                                    "1": "isplata",
                                    "2": "-1219.00"
                                },
                                {
                                    "0": "930",
                                    "1": "isplata",
                                    "2": "-1206.00"
                                },
                                {
                                    "0": "930",
                                    "1": "isplata",
                                    "2": "-1193.00"
                                },
                                {
                                    "0": "930",
                                    "1": "isplata",
                                    "2": "-1180.00"
                                },
                                {
                                    "0": "930",
                                    "1": "isplata",
                                    "2": "-1167.00"
                                },
                                {
                                    "0": "930",
                                    "1": "isplata",
                                    "2": "-1154.00"
                                },
                                {
                                    "0": "930",
                                    "1": "isplata",
                                    "2": "-1141.00"
                                },
                                {
                                    "0": "930",
                                    "1": "isplata",
                                    "2": "-1128.00"
                                },
                                {
                                    "0": "930",
                                    "1": "isplata",
                                    "2": "-1115.00"
                                },
                                {
                                    "0": "930",
                                    "1": "isplata",
                                    "2": "-1102.00"
                                },
                                {
                                    "0": "930",
                                    "1": "isplata",
                                    "2": "-1089.00"
                                },
                                {
                                    "0": "930",
                                    "1": "isplata",
                                    "2": "-1076.00"
                                },
                                {
                                    "0": "930",
                                    "1": "isplata",
                                    "2": "-1063.00"
                                },
                                {
                                    "0": "930",
                                    "1": "isplata",
                                    "2": "-1050.00"
                                },
                                {
                                    "0": "930",
                                    "1": "isplata",
                                    "2": "-1037.00"
                                },
                                {
                                    "0": "930",
                                    "1": "isplata",
                                    "2": "-1024.00"
                                },
                                {
                                    "0": "930",
                                    "1": "isplata",
                                    "2": "-1011.00"
                                },
                                {
                                    "0": "930",
                                    "1": "isplata",
                                    "2": "-998.00"
                                },
                                {
                                    "0": "930",
                                    "1": "isplata",
                                    "2": "-985.00"
                                },
                                {
                                    "0": "930",
                                    "1": "uplata na devizi",
                                    "2": "1025.00"
                                },
                                {
                                    "0": "930",
                                    "1": "uplata na devizi",
                                    "2": "1050.00"
                                },
                                {
                                    "0": "930",
                                    "1": "uplata na devizi",
                                    "2": "1075.00"
                                },
                                {
                                    "0": "930",
                                    "1": "uplata na devizi",
                                    "2": "1100.00"
                                },
                                {
                                    "0": "930",
                                    "1": "uplata na devizi",
                                    "2": "1125.00"
                                },
                                {
                                    "0": "930",
                                    "1": "uplata na devizi",
                                    "2": "1150.00"
                                },
                                {
                                    "0": "930",
                                    "1": "uplata na devizi",
                                    "2": "1175.00"
                                },
                                {
                                    "0": "930",
                                    "1": "uplata na devizi",
                                    "2": "1200.00"
                                },
                                {
                                    "0": "930",
                                    "1": "uplata na devizi",
                                    "2": "1225.00"
                                },
                                {
                                    "0": "930",
                                    "1": "uplata na devizi",
                                    "2": "1275.00"
                                },
                                {
                                    "0": "930",
                                    "1": "uplata na devizi",
                                    "2": "1300.00"
                                },
                                {
                                    "0": "930",
                                    "1": "uplata na devizi",
                                    "2": "1325.00"
                                },
                                {
                                    "0": "930",
                                    "1": "uplata na devizi",
                                    "2": "1350.00"
                                },
                                {
                                    "0": "930",
                                    "1": "uplata na devizi",
                                    "2": "1375.00"
                                },
                                {
                                    "0": "930",
                                    "1": "uplata na devizi",
                                    "2": "1400.00"
                                },
                                {
                                    "0": "930",
                                    "1": "uplata na devizi",
                                    "2": "1425.00"
                                },
                                {
                                    "0": "930",
                                    "1": "uplata na devizi",
                                    "2": "1450.00"
                                },
                                {
                                    "0": "930",
                                    "1": "uplata na devizi",
                                    "2": "1475.00"
                                },
                                {
                                    "0": "930",
                                    "1": "uplata na devizi",
                                    "2": "1525.00"
                                },
                                {
                                    "0": "930",
                                    "1": "uplata na devizi",
                                    "2": "1550.00"
                                },
                                {
                                    "0": "930",
                                    "1": "uplata na devizi",
                                    "2": "1575.00"
                                },
                                {
                                    "0": "930",
                                    "1": "uplata na devizi",
                                    "2": "1600.00"
                                },
                                {
                                    "0": "930",
                                    "1": "uplata na devizi",
                                    "2": "1625.00"
                                },
                                {
                                    "0": "930",
                                    "1": "uplata na devizi",
                                    "2": "1650.00"
                                },
                                {
                                    "0": "930",
                                    "1": "uplata na devizi",
                                    "2": "1675.00"
                                },
                                {
                                    "0": "930",
                                    "1": "uplata na devizi",
                                    "2": "1700.00"
                                },
                                {
                                    "0": "930",
                                    "1": "uplata na devizi",
                                    "2": "1725.00"
                                },
                                {
                                    "0": "930",
                                    "1": "uplata na devizi",
                                    "2": "1775.00"
                                },
                                {
                                    "0": "930",
                                    "1": "uplata na devizi",
                                    "2": "1800.00"
                                },
                                {
                                    "0": "930",
                                    "1": "uplata na devizi",
                                    "2": "1825.00"
                                },
                                {
                                    "0": "930",
                                    "1": "uplata na devizi",
                                    "2": "1850.00"
                                },
                                {
                                    "0": "930",
                                    "1": "uplata na devizi",
                                    "2": "1875.00"
                                },
                                {
                                    "0": "930",
                                    "1": "uplata na devizi",
                                    "2": "1900.00"
                                },
                                {
                                    "0": "930",
                                    "1": "uplata na devizi",
                                    "2": "1925.00"
                                },
                                {
                                    "0": "930",
                                    "1": "uplata na devizi",
                                    "2": "1950.00"
                                },
                                {
                                    "0": "930",
                                    "1": "uplata na devizi",
                                    "2": "1975.00"
                                },
                                {
                                    "0": "930",
                                    "1": "uplata na devizi",
                                    "2": "2025.00"
                                },
                                {
                                    "0": "930",
                                    "1": "uplata na devizi",
                                    "2": "2050.00"
                                },
                                {
                                    "0": "930",
                                    "1": "uplata na devizi",
                                    "2": "2075.00"
                                },
                                {
                                    "0": "930",
                                    "1": "uplata na devizi",
                                    "2": "2100.00"
                                },
                                {
                                    "0": "930",
                                    "1": "uplata na devizi",
                                    "2": "2125.00"
                                },
                                {
                                    "0": "930",
                                    "1": "uplata na devizi",
                                    "2": "2150.00"
                                },
                                {
                                    "0": "930",
                                    "1": "uplata na devizi",
                                    "2": "2175.00"
                                },
                                {
                                    "0": "930",
                                    "1": "uplata na devizi",
                                    "2": "2200.00"
                                },
                                {
                                    "0": "930",
                                    "1": "uplata na devizi",
                                    "2": "2225.00"
                                },
                                {
                                    "0": "930",
                                    "1": "uplata na devizi",
                                    "2": "2275.00"
                                },
                                {
                                    "0": "930",
                                    "1": "uplata na devizi",
                                    "2": "2300.00"
                                },
                                {
                                    "0": "930",
                                    "1": "uplata na devizi",
                                    "2": "2325.00"
                                },
                                {
                                    "0": "930",
                                    "1": "uplata na devizi",
                                    "2": "2350.00"
                                },
                                {
                                    "0": "930",
                                    "1": "uplata na devizi",
                                    "2": "2375.00"
                                },
                                {
                                    "0": "930",
                                    "1": "uplata na devizi",
                                    "2": "2400.00"
                                },
                                {
                                    "0": "930",
                                    "1": "uplata na devizi",
                                    "2": "2425.00"
                                },
                                {
                                    "0": "930",
                                    "1": "uplata na devizi",
                                    "2": "2450.00"
                                },
                                {
                                    "0": "930",
                                    "1": "uplata na devizi",
                                    "2": "2475.00"
                                },
                                {
                                    "0": "930",
                                    "1": "uplata na devizi",
                                    "2": "2525.00"
                                },
                                {
                                    "0": "930",
                                    "1": "uplata na devizi",
                                    "2": "2550.00"
                                },
                                {
                                    "0": "930",
                                    "1": "uplata na devizi",
                                    "2": "2575.00"
                                },
                                {
                                    "0": "930",
                                    "1": "uplata na devizi",
                                    "2": "2600.00"
                                },
                                {
                                    "0": "930",
                                    "1": "uplata na devizi",
                                    "2": "2625.00"
                                },
                                {
                                    "0": "930",
                                    "1": "uplata na devizi",
                                    "2": "2650.00"
                                },
                                {
                                    "0": "930",
                                    "1": "uplata na devizi",
                                    "2": "2675.00"
                                },
                                {
                                    "0": "930",
                                    "1": "uplata na devizi",
                                    "2": "2700.00"
                                },
                                {
                                    "0": "930",
                                    "1": "uplata na devizi",
                                    "2": "2725.00"
                                },
                                {
                                    "0": "930",
                                    "1": "uplata na devizi",
                                    "2": "2775.00"
                                },
                                {
                                    "0": "930",
                                    "1": "uplata na devizi",
                                    "2": "2800.00"
                                },
                                {
                                    "0": "930",
                                    "1": "uplata na devizi",
                                    "2": "2825.00"
                                },
                                {
                                    "0": "930",
                                    "1": "uplata na devizi",
                                    "2": "2850.00"
                                }
                            ]
                        },
                        "text/html": "<table><tr><th>PurposeCode</th><th>PurposeDescription</th><th>Amount</th></tr><tr><td>101</td><td>plata</td><td>40025.00</td></tr><tr><td>101</td><td>plata</td><td>40050.00</td></tr><tr><td>101</td><td>plata</td><td>40075.00</td></tr><tr><td>101</td><td>plata</td><td>40100.00</td></tr><tr><td>101</td><td>plata</td><td>40125.00</td></tr><tr><td>101</td><td>plata</td><td>40150.00</td></tr><tr><td>101</td><td>plata</td><td>40175.00</td></tr><tr><td>101</td><td>plata</td><td>40200.00</td></tr><tr><td>101</td><td>plata</td><td>40225.00</td></tr><tr><td>101</td><td>plata</td><td>40250.00</td></tr><tr><td>101</td><td>plata</td><td>40275.00</td></tr><tr><td>101</td><td>plata</td><td>40300.00</td></tr><tr><td>101</td><td>plata</td><td>40325.00</td></tr><tr><td>101</td><td>plata</td><td>40350.00</td></tr><tr><td>101</td><td>plata</td><td>40375.00</td></tr><tr><td>101</td><td>plata</td><td>40400.00</td></tr><tr><td>101</td><td>plata</td><td>40425.00</td></tr><tr><td>101</td><td>plata</td><td>40450.00</td></tr><tr><td>101</td><td>plata</td><td>40475.00</td></tr><tr><td>101</td><td>plata</td><td>40500.00</td></tr><tr><td>101</td><td>plata</td><td>40525.00</td></tr><tr><td>101</td><td>plata</td><td>40550.00</td></tr><tr><td>101</td><td>plata</td><td>40575.00</td></tr><tr><td>101</td><td>plata</td><td>40600.00</td></tr><tr><td>101</td><td>plata</td><td>40625.00</td></tr><tr><td>101</td><td>plata</td><td>40650.00</td></tr><tr><td>101</td><td>plata</td><td>40675.00</td></tr><tr><td>101</td><td>plata</td><td>40700.00</td></tr><tr><td>101</td><td>plata</td><td>40725.00</td></tr><tr><td>101</td><td>plata</td><td>40750.00</td></tr><tr><td>101</td><td>plata</td><td>40775.00</td></tr><tr><td>101</td><td>plata</td><td>40800.00</td></tr><tr><td>101</td><td>plata</td><td>40825.00</td></tr><tr><td>101</td><td>plata</td><td>40850.00</td></tr><tr><td>101</td><td>plata</td><td>40875.00</td></tr><tr><td>101</td><td>plata</td><td>40900.00</td></tr><tr><td>101</td><td>plata</td><td>40925.00</td></tr><tr><td>101</td><td>plata</td><td>40950.00</td></tr><tr><td>101</td><td>plata</td><td>40975.00</td></tr><tr><td>101</td><td>plata</td><td>41000.00</td></tr><tr><td>101</td><td>plata</td><td>41025.00</td></tr><tr><td>101</td><td>plata</td><td>41050.00</td></tr><tr><td>101</td><td>plata</td><td>41075.00</td></tr><tr><td>101</td><td>plata</td><td>41100.00</td></tr><tr><td>101</td><td>plata</td><td>41125.00</td></tr><tr><td>101</td><td>plata</td><td>41150.00</td></tr><tr><td>101</td><td>plata</td><td>41175.00</td></tr><tr><td>101</td><td>plata</td><td>41200.00</td></tr><tr><td>101</td><td>plata</td><td>41225.00</td></tr><tr><td>101</td><td>plata</td><td>41250.00</td></tr><tr><td>101</td><td>plata</td><td>41275.00</td></tr><tr><td>101</td><td>plata</td><td>41300.00</td></tr><tr><td>101</td><td>plata</td><td>41325.00</td></tr><tr><td>101</td><td>plata</td><td>41350.00</td></tr><tr><td>101</td><td>plata</td><td>41375.00</td></tr><tr><td>101</td><td>plata</td><td>41400.00</td></tr><tr><td>101</td><td>plata</td><td>41425.00</td></tr><tr><td>101</td><td>plata</td><td>41450.00</td></tr><tr><td>101</td><td>plata</td><td>41475.00</td></tr><tr><td>101</td><td>plata</td><td>41500.00</td></tr><tr><td>101</td><td>plata</td><td>41525.00</td></tr><tr><td>101</td><td>plata</td><td>41550.00</td></tr><tr><td>101</td><td>plata</td><td>41575.00</td></tr><tr><td>101</td><td>plata</td><td>41600.00</td></tr><tr><td>101</td><td>plata</td><td>41625.00</td></tr><tr><td>101</td><td>plata</td><td>41650.00</td></tr><tr><td>101</td><td>plata</td><td>41675.00</td></tr><tr><td>101</td><td>plata</td><td>41700.00</td></tr><tr><td>101</td><td>plata</td><td>41725.00</td></tr><tr><td>101</td><td>plata</td><td>41750.00</td></tr><tr><td>101</td><td>plata</td><td>41775.00</td></tr><tr><td>101</td><td>plata</td><td>41800.00</td></tr><tr><td>101</td><td>plata</td><td>41825.00</td></tr><tr><td>101</td><td>plata</td><td>41850.00</td></tr><tr><td>101</td><td>plata</td><td>41875.00</td></tr><tr><td>101</td><td>plata</td><td>41900.00</td></tr><tr><td>101</td><td>plata</td><td>41925.00</td></tr><tr><td>101</td><td>plata</td><td>41950.00</td></tr><tr><td>101</td><td>plata</td><td>41975.00</td></tr><tr><td>101</td><td>plata</td><td>42000.00</td></tr><tr><td>101</td><td>plata</td><td>42025.00</td></tr><tr><td>101</td><td>plata</td><td>42050.00</td></tr><tr><td>101</td><td>plata</td><td>42075.00</td></tr><tr><td>101</td><td>plata</td><td>42100.00</td></tr><tr><td>101</td><td>plata</td><td>42125.00</td></tr><tr><td>101</td><td>plata</td><td>42150.00</td></tr><tr><td>101</td><td>plata</td><td>42175.00</td></tr><tr><td>101</td><td>plata</td><td>42200.00</td></tr><tr><td>101</td><td>plata</td><td>42225.00</td></tr><tr><td>101</td><td>plata</td><td>42250.00</td></tr><tr><td>101</td><td>plata</td><td>42275.00</td></tr><tr><td>101</td><td>plata</td><td>42300.00</td></tr><tr><td>101</td><td>plata</td><td>42325.00</td></tr><tr><td>101</td><td>plata</td><td>42350.00</td></tr><tr><td>101</td><td>plata</td><td>42375.00</td></tr><tr><td>101</td><td>plata</td><td>42400.00</td></tr><tr><td>101</td><td>plata</td><td>42425.00</td></tr><tr><td>101</td><td>plata</td><td>42450.00</td></tr><tr><td>101</td><td>plata</td><td>42475.00</td></tr><tr><td>101</td><td>plata</td><td>42500.00</td></tr><tr><td>101</td><td>plata</td><td>42525.00</td></tr><tr><td>101</td><td>plata</td><td>42550.00</td></tr><tr><td>101</td><td>plata</td><td>42575.00</td></tr><tr><td>101</td><td>plata</td><td>42600.00</td></tr><tr><td>101</td><td>plata</td><td>42625.00</td></tr><tr><td>101</td><td>plata</td><td>42650.00</td></tr><tr><td>101</td><td>plata</td><td>42675.00</td></tr><tr><td>101</td><td>plata</td><td>42700.00</td></tr><tr><td>101</td><td>plata</td><td>42725.00</td></tr><tr><td>101</td><td>plata</td><td>42750.00</td></tr><tr><td>101</td><td>plata</td><td>42775.00</td></tr><tr><td>101</td><td>plata</td><td>42800.00</td></tr><tr><td>101</td><td>plata</td><td>42825.00</td></tr><tr><td>101</td><td>plata</td><td>42850.00</td></tr><tr><td>101</td><td>plata</td><td>42875.00</td></tr><tr><td>101</td><td>plata</td><td>42900.00</td></tr><tr><td>101</td><td>plata</td><td>42925.00</td></tr><tr><td>101</td><td>plata</td><td>42950.00</td></tr><tr><td>101</td><td>plata</td><td>42975.00</td></tr><tr><td>101</td><td>plata</td><td>43000.00</td></tr><tr><td>101</td><td>plata</td><td>43025.00</td></tr><tr><td>101</td><td>plata</td><td>43050.00</td></tr><tr><td>101</td><td>plata</td><td>43075.00</td></tr><tr><td>101</td><td>plata</td><td>43100.00</td></tr><tr><td>101</td><td>plata</td><td>43125.00</td></tr><tr><td>101</td><td>plata</td><td>43150.00</td></tr><tr><td>101</td><td>plata</td><td>43175.00</td></tr><tr><td>101</td><td>plata</td><td>43200.00</td></tr><tr><td>101</td><td>plata</td><td>43225.00</td></tr><tr><td>101</td><td>plata</td><td>43250.00</td></tr><tr><td>101</td><td>plata</td><td>43275.00</td></tr><tr><td>101</td><td>plata</td><td>43300.00</td></tr><tr><td>101</td><td>plata</td><td>43325.00</td></tr><tr><td>101</td><td>plata</td><td>43350.00</td></tr><tr><td>101</td><td>plata</td><td>43375.00</td></tr><tr><td>101</td><td>plata</td><td>43400.00</td></tr><tr><td>101</td><td>plata</td><td>43425.00</td></tr><tr><td>101</td><td>plata</td><td>43450.00</td></tr><tr><td>101</td><td>plata</td><td>43475.00</td></tr><tr><td>101</td><td>plata</td><td>43500.00</td></tr><tr><td>101</td><td>plata</td><td>43525.00</td></tr><tr><td>101</td><td>plata</td><td>43550.00</td></tr><tr><td>101</td><td>plata</td><td>43575.00</td></tr><tr><td>101</td><td>plata</td><td>43600.00</td></tr><tr><td>101</td><td>plata</td><td>43625.00</td></tr><tr><td>101</td><td>plata</td><td>43650.00</td></tr><tr><td>101</td><td>plata</td><td>43675.00</td></tr><tr><td>101</td><td>plata</td><td>43700.00</td></tr><tr><td>101</td><td>plata</td><td>43725.00</td></tr><tr><td>101</td><td>plata</td><td>43750.00</td></tr><tr><td>101</td><td>plata</td><td>43775.00</td></tr><tr><td>101</td><td>plata</td><td>43800.00</td></tr><tr><td>101</td><td>plata</td><td>43825.00</td></tr><tr><td>101</td><td>plata</td><td>43850.00</td></tr><tr><td>101</td><td>plata</td><td>43875.00</td></tr><tr><td>101</td><td>plata</td><td>43900.00</td></tr><tr><td>101</td><td>plata</td><td>43925.00</td></tr><tr><td>101</td><td>plata</td><td>43950.00</td></tr><tr><td>101</td><td>plata</td><td>43975.00</td></tr><tr><td>101</td><td>plata</td><td>44000.00</td></tr><tr><td>101</td><td>plata</td><td>44025.00</td></tr><tr><td>101</td><td>plata</td><td>44050.00</td></tr><tr><td>101</td><td>plata</td><td>44075.00</td></tr><tr><td>101</td><td>plata</td><td>44100.00</td></tr><tr><td>101</td><td>plata</td><td>44125.00</td></tr><tr><td>101</td><td>plata</td><td>44150.00</td></tr><tr><td>101</td><td>plata</td><td>44175.00</td></tr><tr><td>101</td><td>plata</td><td>44200.00</td></tr><tr><td>101</td><td>plata</td><td>44225.00</td></tr><tr><td>101</td><td>plata</td><td>44250.00</td></tr><tr><td>101</td><td>plata</td><td>44275.00</td></tr><tr><td>101</td><td>plata</td><td>44300.00</td></tr><tr><td>101</td><td>plata</td><td>44325.00</td></tr><tr><td>101</td><td>plata</td><td>44350.00</td></tr><tr><td>101</td><td>plata</td><td>44375.00</td></tr><tr><td>101</td><td>plata</td><td>44400.00</td></tr><tr><td>101</td><td>plata</td><td>44425.00</td></tr><tr><td>101</td><td>plata</td><td>44450.00</td></tr><tr><td>101</td><td>plata</td><td>44475.00</td></tr><tr><td>101</td><td>plata</td><td>44500.00</td></tr><tr><td>101</td><td>plata</td><td>44525.00</td></tr><tr><td>101</td><td>plata</td><td>44550.00</td></tr><tr><td>101</td><td>plata</td><td>44575.00</td></tr><tr><td>101</td><td>plata</td><td>44600.00</td></tr><tr><td>101</td><td>plata</td><td>44625.00</td></tr><tr><td>101</td><td>plata</td><td>44650.00</td></tr><tr><td>101</td><td>plata</td><td>44675.00</td></tr><tr><td>101</td><td>plata</td><td>44700.00</td></tr><tr><td>101</td><td>plata</td><td>44725.00</td></tr><tr><td>101</td><td>plata</td><td>44750.00</td></tr><tr><td>101</td><td>plata</td><td>44775.00</td></tr><tr><td>101</td><td>plata</td><td>44800.00</td></tr><tr><td>101</td><td>plata</td><td>44825.00</td></tr><tr><td>101</td><td>plata</td><td>44850.00</td></tr><tr><td>101</td><td>plata</td><td>44875.00</td></tr><tr><td>101</td><td>plata</td><td>44900.00</td></tr><tr><td>101</td><td>plata</td><td>44925.00</td></tr><tr><td>101</td><td>plata</td><td>44950.00</td></tr><tr><td>101</td><td>plata</td><td>44975.00</td></tr><tr><td>101</td><td>plata</td><td>45000.00</td></tr><tr><td>101</td><td>plata</td><td>45025.00</td></tr><tr><td>101</td><td>plata</td><td>45050.00</td></tr><tr><td>101</td><td>plata</td><td>45075.00</td></tr><tr><td>101</td><td>plata</td><td>45100.00</td></tr><tr><td>101</td><td>plata</td><td>45125.00</td></tr><tr><td>101</td><td>plata</td><td>45150.00</td></tr><tr><td>101</td><td>plata</td><td>45175.00</td></tr><tr><td>101</td><td>plata</td><td>45200.00</td></tr><tr><td>101</td><td>plata</td><td>45225.00</td></tr><tr><td>101</td><td>plata</td><td>45250.00</td></tr><tr><td>101</td><td>plata</td><td>45275.00</td></tr><tr><td>101</td><td>plata</td><td>45300.00</td></tr><tr><td>101</td><td>plata</td><td>45325.00</td></tr><tr><td>101</td><td>plata</td><td>45350.00</td></tr><tr><td>101</td><td>plata</td><td>45375.00</td></tr><tr><td>101</td><td>plata</td><td>45400.00</td></tr><tr><td>101</td><td>plata</td><td>45425.00</td></tr><tr><td>101</td><td>plata</td><td>45450.00</td></tr><tr><td>101</td><td>plata</td><td>45475.00</td></tr><tr><td>101</td><td>plata</td><td>45500.00</td></tr><tr><td>101</td><td>plata</td><td>45525.00</td></tr><tr><td>101</td><td>plata</td><td>45550.00</td></tr><tr><td>101</td><td>plata</td><td>45575.00</td></tr><tr><td>101</td><td>plata</td><td>45600.00</td></tr><tr><td>101</td><td>plata</td><td>45625.00</td></tr><tr><td>101</td><td>plata</td><td>45650.00</td></tr><tr><td>101</td><td>plata</td><td>45675.00</td></tr><tr><td>101</td><td>plata</td><td>45700.00</td></tr><tr><td>101</td><td>plata</td><td>45725.00</td></tr><tr><td>101</td><td>plata</td><td>45750.00</td></tr><tr><td>101</td><td>plata</td><td>45775.00</td></tr><tr><td>101</td><td>plata</td><td>45800.00</td></tr><tr><td>101</td><td>plata</td><td>45825.00</td></tr><tr><td>101</td><td>plata</td><td>45850.00</td></tr><tr><td>101</td><td>plata</td><td>45875.00</td></tr><tr><td>101</td><td>plata</td><td>45900.00</td></tr><tr><td>101</td><td>plata</td><td>45925.00</td></tr><tr><td>101</td><td>plata</td><td>45950.00</td></tr><tr><td>101</td><td>plata</td><td>45975.00</td></tr><tr><td>101</td><td>plata</td><td>46000.00</td></tr><tr><td>101</td><td>plata</td><td>46025.00</td></tr><tr><td>101</td><td>plata</td><td>46050.00</td></tr><tr><td>101</td><td>plata</td><td>46075.00</td></tr><tr><td>101</td><td>plata</td><td>46100.00</td></tr><tr><td>101</td><td>plata</td><td>46125.00</td></tr><tr><td>101</td><td>plata</td><td>46150.00</td></tr><tr><td>101</td><td>plata</td><td>46175.00</td></tr><tr><td>101</td><td>plata</td><td>46200.00</td></tr><tr><td>101</td><td>plata</td><td>46225.00</td></tr><tr><td>101</td><td>plata</td><td>46250.00</td></tr><tr><td>101</td><td>plata</td><td>46275.00</td></tr><tr><td>101</td><td>plata</td><td>46300.00</td></tr><tr><td>101</td><td>plata</td><td>46325.00</td></tr><tr><td>101</td><td>plata</td><td>46350.00</td></tr><tr><td>101</td><td>plata</td><td>46375.00</td></tr><tr><td>101</td><td>plata</td><td>46400.00</td></tr><tr><td>101</td><td>plata</td><td>46425.00</td></tr><tr><td>101</td><td>plata</td><td>46450.00</td></tr><tr><td>101</td><td>plata</td><td>46475.00</td></tr><tr><td>101</td><td>plata</td><td>46500.00</td></tr><tr><td>101</td><td>plata</td><td>46525.00</td></tr><tr><td>101</td><td>plata</td><td>46550.00</td></tr><tr><td>101</td><td>plata</td><td>46575.00</td></tr><tr><td>101</td><td>plata</td><td>46600.00</td></tr><tr><td>101</td><td>plata</td><td>46625.00</td></tr><tr><td>101</td><td>plata</td><td>46650.00</td></tr><tr><td>101</td><td>plata</td><td>46675.00</td></tr><tr><td>101</td><td>plata</td><td>46700.00</td></tr><tr><td>101</td><td>plata</td><td>46725.00</td></tr><tr><td>101</td><td>plata</td><td>46750.00</td></tr><tr><td>101</td><td>plata</td><td>46775.00</td></tr><tr><td>101</td><td>plata</td><td>46800.00</td></tr><tr><td>101</td><td>plata</td><td>46825.00</td></tr><tr><td>101</td><td>plata</td><td>46850.00</td></tr><tr><td>101</td><td>plata</td><td>46875.00</td></tr><tr><td>101</td><td>plata</td><td>46900.00</td></tr><tr><td>101</td><td>plata</td><td>46925.00</td></tr><tr><td>101</td><td>plata</td><td>46950.00</td></tr><tr><td>101</td><td>plata</td><td>46975.00</td></tr><tr><td>101</td><td>plata</td><td>47000.00</td></tr><tr><td>101</td><td>plata</td><td>47025.00</td></tr><tr><td>101</td><td>plata</td><td>47050.00</td></tr><tr><td>101</td><td>plata</td><td>47075.00</td></tr><tr><td>101</td><td>plata</td><td>47100.00</td></tr><tr><td>101</td><td>plata</td><td>47125.00</td></tr><tr><td>101</td><td>plata</td><td>47150.00</td></tr><tr><td>101</td><td>plata</td><td>47175.00</td></tr><tr><td>101</td><td>plata</td><td>47200.00</td></tr><tr><td>101</td><td>plata</td><td>47225.00</td></tr><tr><td>101</td><td>plata</td><td>47250.00</td></tr><tr><td>101</td><td>plata</td><td>47275.00</td></tr><tr><td>101</td><td>plata</td><td>47300.00</td></tr><tr><td>101</td><td>plata</td><td>47325.00</td></tr><tr><td>101</td><td>plata</td><td>47350.00</td></tr><tr><td>101</td><td>plata</td><td>47375.00</td></tr><tr><td>101</td><td>plata</td><td>47400.00</td></tr><tr><td>101</td><td>plata</td><td>47425.00</td></tr><tr><td>101</td><td>plata</td><td>47450.00</td></tr><tr><td>101</td><td>plata</td><td>47475.00</td></tr><tr><td>101</td><td>plata</td><td>47500.00</td></tr><tr><td>930</td><td>isplata</td><td>-1934.00</td></tr><tr><td>930</td><td>isplata</td><td>-1921.00</td></tr><tr><td>930</td><td>isplata</td><td>-1908.00</td></tr><tr><td>930</td><td>isplata</td><td>-1895.00</td></tr><tr><td>930</td><td>isplata</td><td>-1882.00</td></tr><tr><td>930</td><td>isplata</td><td>-1869.00</td></tr><tr><td>930</td><td>isplata</td><td>-1856.00</td></tr><tr><td>930</td><td>isplata</td><td>-1843.00</td></tr><tr><td>930</td><td>isplata</td><td>-1830.00</td></tr><tr><td>930</td><td>isplata</td><td>-1817.00</td></tr><tr><td>930</td><td>isplata</td><td>-1804.00</td></tr><tr><td>930</td><td>isplata</td><td>-1791.00</td></tr><tr><td>930</td><td>isplata</td><td>-1778.00</td></tr><tr><td>930</td><td>isplata</td><td>-1765.00</td></tr><tr><td>930</td><td>isplata</td><td>-1752.00</td></tr><tr><td>930</td><td>isplata</td><td>-1739.00</td></tr><tr><td>930</td><td>isplata</td><td>-1726.00</td></tr><tr><td>930</td><td>isplata</td><td>-1713.00</td></tr><tr><td>930</td><td>isplata</td><td>-1700.00</td></tr><tr><td>930</td><td>isplata</td><td>-1687.00</td></tr><tr><td>930</td><td>isplata</td><td>-1674.00</td></tr><tr><td>930</td><td>isplata</td><td>-1661.00</td></tr><tr><td>930</td><td>isplata</td><td>-1648.00</td></tr><tr><td>930</td><td>isplata</td><td>-1635.00</td></tr><tr><td>930</td><td>isplata</td><td>-1622.00</td></tr><tr><td>930</td><td>isplata</td><td>-1609.00</td></tr><tr><td>930</td><td>isplata</td><td>-1596.00</td></tr><tr><td>930</td><td>isplata</td><td>-1583.00</td></tr><tr><td>930</td><td>isplata</td><td>-1570.00</td></tr><tr><td>930</td><td>isplata</td><td>-1557.00</td></tr><tr><td>930</td><td>isplata</td><td>-1544.00</td></tr><tr><td>930</td><td>isplata</td><td>-1531.00</td></tr><tr><td>930</td><td>isplata</td><td>-1518.00</td></tr><tr><td>930</td><td>isplata</td><td>-1505.00</td></tr><tr><td>930</td><td>isplata</td><td>-1492.00</td></tr><tr><td>930</td><td>isplata</td><td>-1479.00</td></tr><tr><td>930</td><td>isplata</td><td>-1466.00</td></tr><tr><td>930</td><td>isplata</td><td>-1453.00</td></tr><tr><td>930</td><td>isplata</td><td>-1440.00</td></tr><tr><td>930</td><td>isplata</td><td>-1427.00</td></tr><tr><td>930</td><td>isplata</td><td>-1414.00</td></tr><tr><td>930</td><td>isplata</td><td>-1401.00</td></tr><tr><td>930</td><td>isplata</td><td>-1388.00</td></tr><tr><td>930</td><td>isplata</td><td>-1375.00</td></tr><tr><td>930</td><td>isplata</td><td>-1362.00</td></tr><tr><td>930</td><td>isplata</td><td>-1349.00</td></tr><tr><td>930</td><td>isplata</td><td>-1336.00</td></tr><tr><td>930</td><td>isplata</td><td>-1323.00</td></tr><tr><td>930</td><td>isplata</td><td>-1310.00</td></tr><tr><td>930</td><td>isplata</td><td>-1297.00</td></tr><tr><td>930</td><td>isplata</td><td>-1284.00</td></tr><tr><td>930</td><td>isplata</td><td>-1271.00</td></tr><tr><td>930</td><td>isplata</td><td>-1258.00</td></tr><tr><td>930</td><td>isplata</td><td>-1245.00</td></tr><tr><td>930</td><td>isplata</td><td>-1232.00</td></tr><tr><td>930</td><td>isplata</td><td>-1219.00</td></tr><tr><td>930</td><td>isplata</td><td>-1206.00</td></tr><tr><td>930</td><td>isplata</td><td>-1193.00</td></tr><tr><td>930</td><td>isplata</td><td>-1180.00</td></tr><tr><td>930</td><td>isplata</td><td>-1167.00</td></tr><tr><td>930</td><td>isplata</td><td>-1154.00</td></tr><tr><td>930</td><td>isplata</td><td>-1141.00</td></tr><tr><td>930</td><td>isplata</td><td>-1128.00</td></tr><tr><td>930</td><td>isplata</td><td>-1115.00</td></tr><tr><td>930</td><td>isplata</td><td>-1102.00</td></tr><tr><td>930</td><td>isplata</td><td>-1089.00</td></tr><tr><td>930</td><td>isplata</td><td>-1076.00</td></tr><tr><td>930</td><td>isplata</td><td>-1063.00</td></tr><tr><td>930</td><td>isplata</td><td>-1050.00</td></tr><tr><td>930</td><td>isplata</td><td>-1037.00</td></tr><tr><td>930</td><td>isplata</td><td>-1024.00</td></tr><tr><td>930</td><td>isplata</td><td>-1011.00</td></tr><tr><td>930</td><td>isplata</td><td>-998.00</td></tr><tr><td>930</td><td>isplata</td><td>-985.00</td></tr><tr><td>930</td><td>uplata na devizi</td><td>1025.00</td></tr><tr><td>930</td><td>uplata na devizi</td><td>1050.00</td></tr><tr><td>930</td><td>uplata na devizi</td><td>1075.00</td></tr><tr><td>930</td><td>uplata na devizi</td><td>1100.00</td></tr><tr><td>930</td><td>uplata na devizi</td><td>1125.00</td></tr><tr><td>930</td><td>uplata na devizi</td><td>1150.00</td></tr><tr><td>930</td><td>uplata na devizi</td><td>1175.00</td></tr><tr><td>930</td><td>uplata na devizi</td><td>1200.00</td></tr><tr><td>930</td><td>uplata na devizi</td><td>1225.00</td></tr><tr><td>930</td><td>uplata na devizi</td><td>1275.00</td></tr><tr><td>930</td><td>uplata na devizi</td><td>1300.00</td></tr><tr><td>930</td><td>uplata na devizi</td><td>1325.00</td></tr><tr><td>930</td><td>uplata na devizi</td><td>1350.00</td></tr><tr><td>930</td><td>uplata na devizi</td><td>1375.00</td></tr><tr><td>930</td><td>uplata na devizi</td><td>1400.00</td></tr><tr><td>930</td><td>uplata na devizi</td><td>1425.00</td></tr><tr><td>930</td><td>uplata na devizi</td><td>1450.00</td></tr><tr><td>930</td><td>uplata na devizi</td><td>1475.00</td></tr><tr><td>930</td><td>uplata na devizi</td><td>1525.00</td></tr><tr><td>930</td><td>uplata na devizi</td><td>1550.00</td></tr><tr><td>930</td><td>uplata na devizi</td><td>1575.00</td></tr><tr><td>930</td><td>uplata na devizi</td><td>1600.00</td></tr><tr><td>930</td><td>uplata na devizi</td><td>1625.00</td></tr><tr><td>930</td><td>uplata na devizi</td><td>1650.00</td></tr><tr><td>930</td><td>uplata na devizi</td><td>1675.00</td></tr><tr><td>930</td><td>uplata na devizi</td><td>1700.00</td></tr><tr><td>930</td><td>uplata na devizi</td><td>1725.00</td></tr><tr><td>930</td><td>uplata na devizi</td><td>1775.00</td></tr><tr><td>930</td><td>uplata na devizi</td><td>1800.00</td></tr><tr><td>930</td><td>uplata na devizi</td><td>1825.00</td></tr><tr><td>930</td><td>uplata na devizi</td><td>1850.00</td></tr><tr><td>930</td><td>uplata na devizi</td><td>1875.00</td></tr><tr><td>930</td><td>uplata na devizi</td><td>1900.00</td></tr><tr><td>930</td><td>uplata na devizi</td><td>1925.00</td></tr><tr><td>930</td><td>uplata na devizi</td><td>1950.00</td></tr><tr><td>930</td><td>uplata na devizi</td><td>1975.00</td></tr><tr><td>930</td><td>uplata na devizi</td><td>2025.00</td></tr><tr><td>930</td><td>uplata na devizi</td><td>2050.00</td></tr><tr><td>930</td><td>uplata na devizi</td><td>2075.00</td></tr><tr><td>930</td><td>uplata na devizi</td><td>2100.00</td></tr><tr><td>930</td><td>uplata na devizi</td><td>2125.00</td></tr><tr><td>930</td><td>uplata na devizi</td><td>2150.00</td></tr><tr><td>930</td><td>uplata na devizi</td><td>2175.00</td></tr><tr><td>930</td><td>uplata na devizi</td><td>2200.00</td></tr><tr><td>930</td><td>uplata na devizi</td><td>2225.00</td></tr><tr><td>930</td><td>uplata na devizi</td><td>2275.00</td></tr><tr><td>930</td><td>uplata na devizi</td><td>2300.00</td></tr><tr><td>930</td><td>uplata na devizi</td><td>2325.00</td></tr><tr><td>930</td><td>uplata na devizi</td><td>2350.00</td></tr><tr><td>930</td><td>uplata na devizi</td><td>2375.00</td></tr><tr><td>930</td><td>uplata na devizi</td><td>2400.00</td></tr><tr><td>930</td><td>uplata na devizi</td><td>2425.00</td></tr><tr><td>930</td><td>uplata na devizi</td><td>2450.00</td></tr><tr><td>930</td><td>uplata na devizi</td><td>2475.00</td></tr><tr><td>930</td><td>uplata na devizi</td><td>2525.00</td></tr><tr><td>930</td><td>uplata na devizi</td><td>2550.00</td></tr><tr><td>930</td><td>uplata na devizi</td><td>2575.00</td></tr><tr><td>930</td><td>uplata na devizi</td><td>2600.00</td></tr><tr><td>930</td><td>uplata na devizi</td><td>2625.00</td></tr><tr><td>930</td><td>uplata na devizi</td><td>2650.00</td></tr><tr><td>930</td><td>uplata na devizi</td><td>2675.00</td></tr><tr><td>930</td><td>uplata na devizi</td><td>2700.00</td></tr><tr><td>930</td><td>uplata na devizi</td><td>2725.00</td></tr><tr><td>930</td><td>uplata na devizi</td><td>2775.00</td></tr><tr><td>930</td><td>uplata na devizi</td><td>2800.00</td></tr><tr><td>930</td><td>uplata na devizi</td><td>2825.00</td></tr><tr><td>930</td><td>uplata na devizi</td><td>2850.00</td></tr></table>"
                    },
                    "metadata": {}
                }
            ],
            "execution_count": 11
        },
        {
            "cell_type": "code",
            "source": [
                ";with cte as (\n",
                "    select ad.AccountId,\n",
                "        count(*) NumAccountDetails,\n",
                "        sum(case when ad.PurposeCode=930 and PurposeDescription='isplata'\n",
                "            then -abs(Amount)\n",
                "            when ad.PurposeCode=101 then abs(Amount)\n",
                "            else Null end) TotalAmountAbs,\n",
                "        sum(Amount) TotalAmount\n",
                "    from dbo.AccountDetails ad\n",
                "    group by ad.AccountId\n",
                ")\n",
                "select *\n",
                "from cte\n",
                "where (TotalAmountAbs!=TotalAmount)\n",
                "    or (TotalAmountAbs is null and TotalAmount is not null);\n",
                "-- update a \n",
                "-- set a.NumAccountDetails=cte.NumAccountDetails\n",
                "-- from dbo.Account a \n",
                "--     join cte on a.Id=cte.AccountId;\n",
                "\n",
                "-- select top 10 * from dbo.Account;"
            ],
            "metadata": {
                "language": "sql",
                "azdata_cell_guid": "d08271cb-9887-40b7-a2e1-320acd2e1e23"
            },
            "outputs": [
                {
                    "output_type": "display_data",
                    "data": {
                        "text/html": "Warning: Null value is eliminated by an aggregate or other SET operation."
                    },
                    "metadata": {}
                },
                {
                    "output_type": "display_data",
                    "data": {
                        "text/html": "(27 rows affected)"
                    },
                    "metadata": {}
                },
                {
                    "output_type": "display_data",
                    "data": {
                        "text/html": "Total execution time: 00:00:00.021"
                    },
                    "metadata": {}
                },
                {
                    "output_type": "execute_result",
                    "execution_count": 17,
                    "data": {
                        "application/vnd.dataresource+json": {
                            "schema": {
                                "fields": [
                                    {
                                        "name": "AccountId"
                                    },
                                    {
                                        "name": "NumAccountDetails"
                                    },
                                    {
                                        "name": "TotalAmountAbs"
                                    },
                                    {
                                        "name": "TotalAmount"
                                    }
                                ]
                            },
                            "data": [
                                {
                                    "0": "401",
                                    "1": "8",
                                    "2": "NULL",
                                    "3": "15200.00"
                                },
                                {
                                    "0": "501",
                                    "1": "8",
                                    "2": "NULL",
                                    "3": "15200.00"
                                },
                                {
                                    "0": "407",
                                    "1": "7",
                                    "2": "NULL",
                                    "3": "13475.00"
                                },
                                {
                                    "0": "507",
                                    "1": "7",
                                    "2": "NULL",
                                    "3": "13475.00"
                                },
                                {
                                    "0": "301",
                                    "1": "8",
                                    "2": "NULL",
                                    "3": "15200.00"
                                },
                                {
                                    "0": "404",
                                    "1": "8",
                                    "2": "NULL",
                                    "3": "15800.00"
                                },
                                {
                                    "0": "504",
                                    "1": "8",
                                    "2": "NULL",
                                    "3": "15800.00"
                                },
                                {
                                    "0": "304",
                                    "1": "8",
                                    "2": "NULL",
                                    "3": "15800.00"
                                },
                                {
                                    "0": "307",
                                    "1": "7",
                                    "2": "NULL",
                                    "3": "13475.00"
                                },
                                {
                                    "0": "405",
                                    "1": "7",
                                    "2": "NULL",
                                    "3": "13125.00"
                                },
                                {
                                    "0": "505",
                                    "1": "7",
                                    "2": "NULL",
                                    "3": "13125.00"
                                },
                                {
                                    "0": "402",
                                    "1": "8",
                                    "2": "NULL",
                                    "3": "15400.00"
                                },
                                {
                                    "0": "502",
                                    "1": "8",
                                    "2": "NULL",
                                    "3": "15400.00"
                                },
                                {
                                    "0": "508",
                                    "1": "7",
                                    "2": "NULL",
                                    "3": "13650.00"
                                },
                                {
                                    "0": "305",
                                    "1": "7",
                                    "2": "NULL",
                                    "3": "13125.00"
                                },
                                {
                                    "0": "503",
                                    "1": "8",
                                    "2": "NULL",
                                    "3": "15600.00"
                                },
                                {
                                    "0": "408",
                                    "1": "7",
                                    "2": "NULL",
                                    "3": "13650.00"
                                },
                                {
                                    "0": "308",
                                    "1": "7",
                                    "2": "NULL",
                                    "3": "13650.00"
                                },
                                {
                                    "0": "302",
                                    "1": "8",
                                    "2": "NULL",
                                    "3": "15400.00"
                                },
                                {
                                    "0": "309",
                                    "1": "7",
                                    "2": "NULL",
                                    "3": "13825.00"
                                },
                                {
                                    "0": "403",
                                    "1": "8",
                                    "2": "NULL",
                                    "3": "15600.00"
                                },
                                {
                                    "0": "409",
                                    "1": "7",
                                    "2": "NULL",
                                    "3": "13825.00"
                                },
                                {
                                    "0": "509",
                                    "1": "7",
                                    "2": "NULL",
                                    "3": "13825.00"
                                },
                                {
                                    "0": "303",
                                    "1": "8",
                                    "2": "NULL",
                                    "3": "15600.00"
                                },
                                {
                                    "0": "306",
                                    "1": "7",
                                    "2": "NULL",
                                    "3": "13300.00"
                                },
                                {
                                    "0": "406",
                                    "1": "7",
                                    "2": "NULL",
                                    "3": "13300.00"
                                },
                                {
                                    "0": "506",
                                    "1": "7",
                                    "2": "NULL",
                                    "3": "13300.00"
                                }
                            ]
                        },
                        "text/html": "<table><tr><th>AccountId</th><th>NumAccountDetails</th><th>TotalAmountAbs</th><th>TotalAmount</th></tr><tr><td>401</td><td>8</td><td>NULL</td><td>15200.00</td></tr><tr><td>501</td><td>8</td><td>NULL</td><td>15200.00</td></tr><tr><td>407</td><td>7</td><td>NULL</td><td>13475.00</td></tr><tr><td>507</td><td>7</td><td>NULL</td><td>13475.00</td></tr><tr><td>301</td><td>8</td><td>NULL</td><td>15200.00</td></tr><tr><td>404</td><td>8</td><td>NULL</td><td>15800.00</td></tr><tr><td>504</td><td>8</td><td>NULL</td><td>15800.00</td></tr><tr><td>304</td><td>8</td><td>NULL</td><td>15800.00</td></tr><tr><td>307</td><td>7</td><td>NULL</td><td>13475.00</td></tr><tr><td>405</td><td>7</td><td>NULL</td><td>13125.00</td></tr><tr><td>505</td><td>7</td><td>NULL</td><td>13125.00</td></tr><tr><td>402</td><td>8</td><td>NULL</td><td>15400.00</td></tr><tr><td>502</td><td>8</td><td>NULL</td><td>15400.00</td></tr><tr><td>508</td><td>7</td><td>NULL</td><td>13650.00</td></tr><tr><td>305</td><td>7</td><td>NULL</td><td>13125.00</td></tr><tr><td>503</td><td>8</td><td>NULL</td><td>15600.00</td></tr><tr><td>408</td><td>7</td><td>NULL</td><td>13650.00</td></tr><tr><td>308</td><td>7</td><td>NULL</td><td>13650.00</td></tr><tr><td>302</td><td>8</td><td>NULL</td><td>15400.00</td></tr><tr><td>309</td><td>7</td><td>NULL</td><td>13825.00</td></tr><tr><td>403</td><td>8</td><td>NULL</td><td>15600.00</td></tr><tr><td>409</td><td>7</td><td>NULL</td><td>13825.00</td></tr><tr><td>509</td><td>7</td><td>NULL</td><td>13825.00</td></tr><tr><td>303</td><td>8</td><td>NULL</td><td>15600.00</td></tr><tr><td>306</td><td>7</td><td>NULL</td><td>13300.00</td></tr><tr><td>406</td><td>7</td><td>NULL</td><td>13300.00</td></tr><tr><td>506</td><td>7</td><td>NULL</td><td>13300.00</td></tr></table>"
                    },
                    "metadata": {}
                }
            ],
            "execution_count": 17
        },
        {
            "cell_type": "code",
            "source": [
                ";with cte as (\n",
                "    select ad.AccountId,\n",
                "        count(*) NumAccountDetails,\n",
                "        sum(case when ad.PurposeCode=930 and PurposeDescription='isplata'\n",
                "            then -abs(Amount)\n",
                "            when ad.PurposeCode=101 then abs(Amount)\n",
                "            else Null end) TotalAmountAbs,\n",
                "        sum(Amount) TotalAmount\n",
                "    from dbo.AccountDetails ad\n",
                "    group by ad.AccountId\n",
                ")\n",
                "update a \n",
                "set a.NumAccountDetails=cte.NumAccountDetails,\n",
                "    a.CurrentBalanceAuto=cte.TotalAmountAbs\n",
                "from dbo.Account a \n",
                "    join cte on a.Id=cte.AccountId;\n",
                "\n",
                "-- select top 10 * from dbo.Account;"
            ],
            "metadata": {
                "language": "sql",
                "azdata_cell_guid": "6b7b1541-3f2e-4ae8-9c67-e46c4e3d1515"
            },
            "outputs": [
                {
                    "output_type": "display_data",
                    "data": {
                        "text/html": "Warning: Null value is eliminated by an aggregate or other SET operation."
                    },
                    "metadata": {}
                },
                {
                    "output_type": "display_data",
                    "data": {
                        "text/html": "(327 rows affected)"
                    },
                    "metadata": {}
                },
                {
                    "output_type": "display_data",
                    "data": {
                        "text/html": "Total execution time: 00:00:00.029"
                    },
                    "metadata": {}
                }
            ],
            "execution_count": 18
        },
        {
            "cell_type": "code",
            "source": [
                "select *\n",
                "from dbo.AccountDetails ad \n",
                ""
            ],
            "metadata": {
                "azdata_cell_guid": "976ef730-8fe8-4b0a-a304-c1ef3af81b65",
                "language": "sql"
            },
            "outputs": [],
            "execution_count": null
        },
        {
            "cell_type": "code",
            "source": [
                "IF OBJECT_ID ('dbo.tr_AccountDetails_update','TR') IS NOT NULL\n",
                "   DROP TRIGGER dbo.tr_AccountDetails_update;\n",
                "GO\n",
                "\n",
                "\n",
                "CREATE TRIGGER dbo.tr_AccountDetails_update ON dbo.AccountDetails  \n",
                "AFTER UPDATE\n",
                "AS  \n",
                "BEGIN\n",
                "    IF (ROWCOUNT_BIG() = 0)\n",
                "    RETURN;\n",
                "    \n",
                "    ;with cte as (\n",
                "        select ad.AccountId,\n",
                "            count(*) NumAccountDetails,\n",
                "            sum(case when ad.PurposeCode=930 and ad.PurposeDescription='isplata'\n",
                "                then -abs(ad.Amount)\n",
                "                when ad.PurposeCode=101 then abs(ad.Amount)\n",
                "                else Null end) TotalAmountInserted,\n",
                "            sum(case when del.PurposeCode=930 and del.PurposeDescription='isplata'\n",
                "                then -abs(del.Amount)\n",
                "                when del.PurposeCode=101 then abs(del.Amount)\n",
                "                else Null end) TotalAmountDeleted\n",
                "            -- sum(Amount) TotalAmount\n",
                "        from inserted ad\n",
                "            join deleted del on ad.Id=del.Id\n",
                "        group by ad.AccountId\n",
                "    )\n",
                "    update a \n",
                "    set \n",
                "        a.CurrentBalanceAuto = a.CurrentBalanceAuto + \n",
                "                cte.TotalAmountInserted - cte.TotalAmountDeleted\n",
                "    from dbo.Account a \n",
                "        join cte on a.Id=cte.AccountId\n",
                "    where a.CurrentBalanceAuto != a.CurrentBalanceAuto + \n",
                "                cte.TotalAmountInserted - cte.TotalAmountDeleted\n",
                "END\n",
                "GO"
            ],
            "metadata": {
                "language": "sql",
                "azdata_cell_guid": "089069b1-192c-4bed-8b15-9d64e647232d"
            },
            "outputs": [],
            "execution_count": null
        }
    ]
}